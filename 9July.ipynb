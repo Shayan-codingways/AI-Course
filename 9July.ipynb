{
 "cells": [
  {
   "cell_type": "code",
   "execution_count": 6,
   "id": "f3e5f380-a2b0-4d07-ad49-571554bb20c8",
   "metadata": {},
   "outputs": [],
   "source": [
    "from tensorflow import keras\n",
    "from tensorflow.keras import saving"
   ]
  },
  {
   "cell_type": "code",
   "execution_count": 8,
   "id": "05411b34-5799-41df-99a8-885440ad3682",
   "metadata": {},
   "outputs": [],
   "source": [
    "saved_model = saving.load_model(\"handwritten_digit_classifier.keras\")"
   ]
  },
  {
   "cell_type": "code",
   "execution_count": 11,
   "id": "e727611f-d71b-4c95-8c19-a13f25e232dc",
   "metadata": {},
   "outputs": [],
   "source": [
    "from PIL import Image\n",
    "import numpy as np\n",
    "\n",
    "def prediction(image_path):    \n",
    "  image = Image.open(image_path).convert(\"L\")  # Convert to grayscale\n",
    "  image = image.resize((28, 28))  # Resize to match MNIST format\n",
    "  image_array = np.array(image).astype('float32') / 255  # Normalize\n",
    "  image_array = image_array.reshape((1, 784))  # Reshape for model input\n",
    "  prediction = saved_model.predict(image_array)\n",
    "  predicted_label = np.argmax(prediction)\n",
    "  print(f\"Predicted digit: {predicted_label}\")"
   ]
  },
  {
   "cell_type": "code",
   "execution_count": 12,
   "id": "f3b1ce55-c4bc-45b8-823f-ff0ce5f85f8e",
   "metadata": {},
   "outputs": [
    {
     "name": "stdout",
     "output_type": "stream",
     "text": [
      "\u001b[1m1/1\u001b[0m \u001b[32m━━━━━━━━━━━━━━━━━━━━\u001b[0m\u001b[37m\u001b[0m \u001b[1m0s\u001b[0m 55ms/step\n",
      "Predicted digit: 6\n"
     ]
    },
    {
     "name": "stderr",
     "output_type": "stream",
     "text": [
      "<>:1: SyntaxWarning: invalid escape sequence '\\S'\n",
      "<>:1: SyntaxWarning: invalid escape sequence '\\S'\n",
      "C:\\Users\\Nasir Hussain\\AppData\\Local\\Temp\\ipykernel_16212\\1552428986.py:1: SyntaxWarning: invalid escape sequence '\\S'\n",
      "  prediction(\"G:\\Saylani2025\\Saylani2024\\Batch8\\DataAnalysis\\ML\\DeepLearning\\six.png\")\n"
     ]
    }
   ],
   "source": [
    "prediction(\"G:\\Saylani2025\\Saylani2024\\Batch8\\DataAnalysis\\ML\\DeepLearning\\six.png\")"
   ]
  },
  {
   "cell_type": "code",
   "execution_count": 13,
   "id": "dd268ecb-f816-4e29-8d80-81d1ef19a533",
   "metadata": {},
   "outputs": [],
   "source": [
    "import os"
   ]
  },
  {
   "cell_type": "code",
   "execution_count": 18,
   "id": "969e62aa-d3b4-4554-bdac-9eb77a93627c",
   "metadata": {},
   "outputs": [
    {
     "data": {
      "text/plain": [
       "['G:/Saylani2025/Saylani2024/Batch8/DataAnalysis/ML/DeepLearning/eight.jpeg',\n",
       " 'G:/Saylani2025/Saylani2024/Batch8/DataAnalysis/ML/DeepLearning/eight_1.jpeg',\n",
       " 'G:/Saylani2025/Saylani2024/Batch8/DataAnalysis/ML/DeepLearning/nine.jpeg',\n",
       " 'G:/Saylani2025/Saylani2024/Batch8/DataAnalysis/ML/DeepLearning/seven.jpeg',\n",
       " 'G:/Saylani2025/Saylani2024/Batch8/DataAnalysis/ML/DeepLearning/three.jpeg',\n",
       " 'G:/Saylani2025/Saylani2024/Batch8/DataAnalysis/ML/DeepLearning/zero.jpeg']"
      ]
     },
     "execution_count": 18,
     "metadata": {},
     "output_type": "execute_result"
    }
   ],
   "source": [
    "images =[]\n",
    "for file in os.listdir():\n",
    "    if file[-4:]=='jpeg':\n",
    "        images.append(f\"G:/Saylani2025/Saylani2024/Batch8/DataAnalysis/ML/DeepLearning/{file}\")\n",
    "images"
   ]
  },
  {
   "cell_type": "code",
   "execution_count": 19,
   "id": "6ba1c305-4ad4-4336-b748-3e9bb66000bc",
   "metadata": {},
   "outputs": [
    {
     "name": "stdout",
     "output_type": "stream",
     "text": [
      "\u001b[1m1/1\u001b[0m \u001b[32m━━━━━━━━━━━━━━━━━━━━\u001b[0m\u001b[37m\u001b[0m \u001b[1m0s\u001b[0m 59ms/step\n",
      "Predicted digit: 3\n",
      "\u001b[1m1/1\u001b[0m \u001b[32m━━━━━━━━━━━━━━━━━━━━\u001b[0m\u001b[37m\u001b[0m \u001b[1m0s\u001b[0m 99ms/step\n",
      "Predicted digit: 9\n",
      "\u001b[1m1/1\u001b[0m \u001b[32m━━━━━━━━━━━━━━━━━━━━\u001b[0m\u001b[37m\u001b[0m \u001b[1m0s\u001b[0m 45ms/step\n",
      "Predicted digit: 9\n",
      "\u001b[1m1/1\u001b[0m \u001b[32m━━━━━━━━━━━━━━━━━━━━\u001b[0m\u001b[37m\u001b[0m \u001b[1m0s\u001b[0m 65ms/step\n",
      "Predicted digit: 2\n",
      "\u001b[1m1/1\u001b[0m \u001b[32m━━━━━━━━━━━━━━━━━━━━\u001b[0m\u001b[37m\u001b[0m \u001b[1m0s\u001b[0m 80ms/step\n",
      "Predicted digit: 3\n",
      "\u001b[1m1/1\u001b[0m \u001b[32m━━━━━━━━━━━━━━━━━━━━\u001b[0m\u001b[37m\u001b[0m \u001b[1m0s\u001b[0m 78ms/step\n",
      "Predicted digit: 0\n"
     ]
    }
   ],
   "source": [
    "for image in images:\n",
    "    prediction(image)"
   ]
  },
  {
   "cell_type": "code",
   "execution_count": null,
   "id": "1b910a29-33fd-4b7f-a321-17bb9522e9a6",
   "metadata": {},
   "outputs": [],
   "source": []
  }
 ],
 "metadata": {
  "kernelspec": {
   "display_name": "Python 3 (ipykernel)",
   "language": "python",
   "name": "python3"
  },
  "language_info": {
   "codemirror_mode": {
    "name": "ipython",
    "version": 3
   },
   "file_extension": ".py",
   "mimetype": "text/x-python",
   "name": "python",
   "nbconvert_exporter": "python",
   "pygments_lexer": "ipython3",
   "version": "3.12.3"
  }
 },
 "nbformat": 4,
 "nbformat_minor": 5
}
