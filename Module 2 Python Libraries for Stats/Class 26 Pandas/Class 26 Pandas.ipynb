{
 "cells": [
  {
   "cell_type": "code",
   "execution_count": 227,
   "id": "25e22756-8bf2-44f8-8afd-bbb849e07d53",
   "metadata": {},
   "outputs": [],
   "source": [
    "import numpy as np\n",
    "import pandas as pd\n",
    "import matplotlib.pyplot as plt\n",
    "import seaborn as sns"
   ]
  },
  {
   "cell_type": "code",
   "execution_count": 229,
   "id": "5cada403-5d58-4db5-8490-823939836217",
   "metadata": {},
   "outputs": [],
   "source": [
    "data = pd.read_csv(\"imdb-top-1000.csv\")"
   ]
  },
  {
   "cell_type": "code",
   "execution_count": 231,
   "id": "67f5b15b-36f4-4f1c-a98f-39c13f37b0ed",
   "metadata": {},
   "outputs": [
    {
     "data": {
      "text/plain": [
       "(1000, 10)"
      ]
     },
     "execution_count": 231,
     "metadata": {},
     "output_type": "execute_result"
    }
   ],
   "source": [
    "data.shape"
   ]
  },
  {
   "cell_type": "code",
   "execution_count": 233,
   "id": "f4ee7d73-8756-477b-814f-d26a3c14a111",
   "metadata": {},
   "outputs": [
    {
     "data": {
      "text/html": [
       "<div>\n",
       "<style scoped>\n",
       "    .dataframe tbody tr th:only-of-type {\n",
       "        vertical-align: middle;\n",
       "    }\n",
       "\n",
       "    .dataframe tbody tr th {\n",
       "        vertical-align: top;\n",
       "    }\n",
       "\n",
       "    .dataframe thead th {\n",
       "        text-align: right;\n",
       "    }\n",
       "</style>\n",
       "<table border=\"1\" class=\"dataframe\">\n",
       "  <thead>\n",
       "    <tr style=\"text-align: right;\">\n",
       "      <th></th>\n",
       "      <th>Series_Title</th>\n",
       "      <th>Released_Year</th>\n",
       "      <th>Runtime</th>\n",
       "      <th>Genre</th>\n",
       "      <th>IMDB_Rating</th>\n",
       "      <th>Director</th>\n",
       "      <th>Star1</th>\n",
       "      <th>No_of_Votes</th>\n",
       "      <th>Gross</th>\n",
       "      <th>Metascore</th>\n",
       "    </tr>\n",
       "  </thead>\n",
       "  <tbody>\n",
       "    <tr>\n",
       "      <th>0</th>\n",
       "      <td>The Shawshank Redemption</td>\n",
       "      <td>1994</td>\n",
       "      <td>142</td>\n",
       "      <td>Drama</td>\n",
       "      <td>9.3</td>\n",
       "      <td>Frank Darabont</td>\n",
       "      <td>Tim Robbins</td>\n",
       "      <td>2343110</td>\n",
       "      <td>28341469.0</td>\n",
       "      <td>80.0</td>\n",
       "    </tr>\n",
       "    <tr>\n",
       "      <th>1</th>\n",
       "      <td>The Godfather</td>\n",
       "      <td>1972</td>\n",
       "      <td>175</td>\n",
       "      <td>Crime</td>\n",
       "      <td>9.2</td>\n",
       "      <td>Francis Ford Coppola</td>\n",
       "      <td>Marlon Brando</td>\n",
       "      <td>1620367</td>\n",
       "      <td>134966411.0</td>\n",
       "      <td>100.0</td>\n",
       "    </tr>\n",
       "    <tr>\n",
       "      <th>2</th>\n",
       "      <td>The Dark Knight</td>\n",
       "      <td>2008</td>\n",
       "      <td>152</td>\n",
       "      <td>Action</td>\n",
       "      <td>9.0</td>\n",
       "      <td>Christopher Nolan</td>\n",
       "      <td>Christian Bale</td>\n",
       "      <td>2303232</td>\n",
       "      <td>534858444.0</td>\n",
       "      <td>84.0</td>\n",
       "    </tr>\n",
       "    <tr>\n",
       "      <th>3</th>\n",
       "      <td>The Godfather: Part II</td>\n",
       "      <td>1974</td>\n",
       "      <td>202</td>\n",
       "      <td>Crime</td>\n",
       "      <td>9.0</td>\n",
       "      <td>Francis Ford Coppola</td>\n",
       "      <td>Al Pacino</td>\n",
       "      <td>1129952</td>\n",
       "      <td>57300000.0</td>\n",
       "      <td>90.0</td>\n",
       "    </tr>\n",
       "    <tr>\n",
       "      <th>4</th>\n",
       "      <td>12 Angry Men</td>\n",
       "      <td>1957</td>\n",
       "      <td>96</td>\n",
       "      <td>Crime</td>\n",
       "      <td>9.0</td>\n",
       "      <td>Sidney Lumet</td>\n",
       "      <td>Henry Fonda</td>\n",
       "      <td>689845</td>\n",
       "      <td>4360000.0</td>\n",
       "      <td>96.0</td>\n",
       "    </tr>\n",
       "  </tbody>\n",
       "</table>\n",
       "</div>"
      ],
      "text/plain": [
       "               Series_Title Released_Year  Runtime   Genre  IMDB_Rating  \\\n",
       "0  The Shawshank Redemption          1994      142   Drama          9.3   \n",
       "1             The Godfather          1972      175   Crime          9.2   \n",
       "2           The Dark Knight          2008      152  Action          9.0   \n",
       "3    The Godfather: Part II          1974      202   Crime          9.0   \n",
       "4              12 Angry Men          1957       96   Crime          9.0   \n",
       "\n",
       "               Director           Star1  No_of_Votes        Gross  Metascore  \n",
       "0        Frank Darabont     Tim Robbins      2343110   28341469.0       80.0  \n",
       "1  Francis Ford Coppola   Marlon Brando      1620367  134966411.0      100.0  \n",
       "2     Christopher Nolan  Christian Bale      2303232  534858444.0       84.0  \n",
       "3  Francis Ford Coppola       Al Pacino      1129952   57300000.0       90.0  \n",
       "4          Sidney Lumet     Henry Fonda       689845    4360000.0       96.0  "
      ]
     },
     "execution_count": 233,
     "metadata": {},
     "output_type": "execute_result"
    }
   ],
   "source": [
    "data.head()"
   ]
  },
  {
   "cell_type": "code",
   "execution_count": 234,
   "id": "26443438-0e59-43be-bc86-918c41ece712",
   "metadata": {},
   "outputs": [
    {
     "name": "stdout",
     "output_type": "stream",
     "text": [
      "<class 'pandas.core.frame.DataFrame'>\n",
      "RangeIndex: 1000 entries, 0 to 999\n",
      "Data columns (total 10 columns):\n",
      " #   Column         Non-Null Count  Dtype  \n",
      "---  ------         --------------  -----  \n",
      " 0   Series_Title   1000 non-null   object \n",
      " 1   Released_Year  1000 non-null   object \n",
      " 2   Runtime        1000 non-null   int64  \n",
      " 3   Genre          1000 non-null   object \n",
      " 4   IMDB_Rating    1000 non-null   float64\n",
      " 5   Director       1000 non-null   object \n",
      " 6   Star1          1000 non-null   object \n",
      " 7   No_of_Votes    1000 non-null   int64  \n",
      " 8   Gross          1000 non-null   float64\n",
      " 9   Metascore      843 non-null    float64\n",
      "dtypes: float64(3), int64(2), object(5)\n",
      "memory usage: 78.3+ KB\n"
     ]
    }
   ],
   "source": [
    "data.info()"
   ]
  },
  {
   "cell_type": "code",
   "execution_count": 235,
   "id": "a1f676cc-19e1-4b4b-8191-524586cba5f6",
   "metadata": {},
   "outputs": [
    {
     "data": {
      "text/plain": [
       "0    The Shawshank Redemption\n",
       "1               The Godfather\n",
       "2             The Dark Knight\n",
       "3      The Godfather: Part II\n",
       "4                12 Angry Men\n",
       "Name: Series_Title, dtype: object"
      ]
     },
     "execution_count": 235,
     "metadata": {},
     "output_type": "execute_result"
    }
   ],
   "source": [
    "data.Series_Title.head()"
   ]
  },
  {
   "cell_type": "code",
   "execution_count": 236,
   "id": "8a0606a2-89f0-443d-8e83-411edac77f13",
   "metadata": {},
   "outputs": [
    {
     "data": {
      "text/plain": [
       "0      142\n",
       "1      175\n",
       "2      152\n",
       "3      202\n",
       "4       96\n",
       "      ... \n",
       "995    115\n",
       "996    201\n",
       "997    118\n",
       "998     97\n",
       "999     86\n",
       "Name: Runtime, Length: 1000, dtype: int64"
      ]
     },
     "execution_count": 236,
     "metadata": {},
     "output_type": "execute_result"
    }
   ],
   "source": [
    "data.Runtime"
   ]
  },
  {
   "cell_type": "markdown",
   "id": "c7f7bed9-140f-4203-b700-d682592c3134",
   "metadata": {},
   "source": [
    "# we observed Release_Year is a object rather than int or date so we need to handle it!"
   ]
  },
  {
   "cell_type": "code",
   "execution_count": 239,
   "id": "e45ef633-ed32-4fd0-a20e-045acf46df20",
   "metadata": {},
   "outputs": [
    {
     "data": {
      "text/plain": [
       "0      1994\n",
       "1      1972\n",
       "2      2008\n",
       "3      1974\n",
       "4      1957\n",
       "       ... \n",
       "995    1961\n",
       "996    1956\n",
       "997    1953\n",
       "998    1944\n",
       "999    1935\n",
       "Name: Released_Year, Length: 1000, dtype: object"
      ]
     },
     "execution_count": 239,
     "metadata": {},
     "output_type": "execute_result"
    }
   ],
   "source": [
    "data.Released_Year"
   ]
  },
  {
   "cell_type": "code",
   "execution_count": 243,
   "id": "52e29146-cb20-4739-96bb-e64f3a8cc7bb",
   "metadata": {},
   "outputs": [],
   "source": [
    "# we have this column's type object so there must be some value here that won't be number. \n",
    "# if there's nan in data then type would have been float"
   ]
  },
  {
   "cell_type": "code",
   "execution_count": 244,
   "id": "9e9e0946-e27d-45fd-ab68-b15fdae89efc",
   "metadata": {},
   "outputs": [
    {
     "data": {
      "text/plain": [
       "array(['1994', '1972', '2008', '1974', '1957', '2003', '1993', '2010',\n",
       "       '1999', '2001', '1966', '2002', '1990', '1980', '1975', '2020',\n",
       "       '2019', '2014', '1998', '1997', '1995', '1991', '1977', '1962',\n",
       "       '1954', '1946', '2011', '2006', '2000', '1988', '1985', '1968',\n",
       "       '1960', '1942', '1936', '1931', '2018', '2017', '2016', '2012',\n",
       "       '2009', '2007', '1984', '1981', '1979', '1971', '1963', '1964',\n",
       "       '1950', '1940', '2013', '2005', '2004', '1992', '1987', '1986',\n",
       "       '1983', '1976', '1973', '1965', '1959', '1958', '1952', '1948',\n",
       "       '1944', '1941', '1927', '1921', '2015', '1996', '1989', '1978',\n",
       "       '1961', '1955', '1953', '1925', '1924', '1982', '1967', '1951',\n",
       "       '1949', '1939', '1937', '1934', '1928', '1926', '1920', '1970',\n",
       "       '1969', '1956', '1947', '1945', '1930', '1938', '1935', '1933',\n",
       "       '1932', '1922', '1943', 'PG'], dtype=object)"
      ]
     },
     "execution_count": 244,
     "metadata": {},
     "output_type": "execute_result"
    }
   ],
   "source": [
    "data.Released_Year.unique()"
   ]
  },
  {
   "cell_type": "code",
   "execution_count": 245,
   "id": "4720c32e-63c1-41f6-888d-d83b0c893a00",
   "metadata": {},
   "outputs": [],
   "source": [
    "# ALl values are in string"
   ]
  },
  {
   "cell_type": "code",
   "execution_count": 247,
   "id": "1bcb550a-d96f-404d-a956-6a3ed544ead5",
   "metadata": {},
   "outputs": [
    {
     "ename": "ValueError",
     "evalue": "invalid literal for int() with base 10: 'PG'",
     "output_type": "error",
     "traceback": [
      "\u001b[1;31m---------------------------------------------------------------------------\u001b[0m",
      "\u001b[1;31mValueError\u001b[0m                                Traceback (most recent call last)",
      "Cell \u001b[1;32mIn[247], line 1\u001b[0m\n\u001b[1;32m----> 1\u001b[0m data\u001b[38;5;241m.\u001b[39mReleased_Year\u001b[38;5;241m.\u001b[39mastype(\u001b[38;5;124m'\u001b[39m\u001b[38;5;124mint\u001b[39m\u001b[38;5;124m'\u001b[39m)\n",
      "File \u001b[1;32m~\\anaconda3\\Lib\\site-packages\\pandas\\core\\generic.py:6643\u001b[0m, in \u001b[0;36mNDFrame.astype\u001b[1;34m(self, dtype, copy, errors)\u001b[0m\n\u001b[0;32m   6637\u001b[0m     results \u001b[38;5;241m=\u001b[39m [\n\u001b[0;32m   6638\u001b[0m         ser\u001b[38;5;241m.\u001b[39mastype(dtype, copy\u001b[38;5;241m=\u001b[39mcopy, errors\u001b[38;5;241m=\u001b[39merrors) \u001b[38;5;28;01mfor\u001b[39;00m _, ser \u001b[38;5;129;01min\u001b[39;00m \u001b[38;5;28mself\u001b[39m\u001b[38;5;241m.\u001b[39mitems()\n\u001b[0;32m   6639\u001b[0m     ]\n\u001b[0;32m   6641\u001b[0m \u001b[38;5;28;01melse\u001b[39;00m:\n\u001b[0;32m   6642\u001b[0m     \u001b[38;5;66;03m# else, only a single dtype is given\u001b[39;00m\n\u001b[1;32m-> 6643\u001b[0m     new_data \u001b[38;5;241m=\u001b[39m \u001b[38;5;28mself\u001b[39m\u001b[38;5;241m.\u001b[39m_mgr\u001b[38;5;241m.\u001b[39mastype(dtype\u001b[38;5;241m=\u001b[39mdtype, copy\u001b[38;5;241m=\u001b[39mcopy, errors\u001b[38;5;241m=\u001b[39merrors)\n\u001b[0;32m   6644\u001b[0m     res \u001b[38;5;241m=\u001b[39m \u001b[38;5;28mself\u001b[39m\u001b[38;5;241m.\u001b[39m_constructor_from_mgr(new_data, axes\u001b[38;5;241m=\u001b[39mnew_data\u001b[38;5;241m.\u001b[39maxes)\n\u001b[0;32m   6645\u001b[0m     \u001b[38;5;28;01mreturn\u001b[39;00m res\u001b[38;5;241m.\u001b[39m__finalize__(\u001b[38;5;28mself\u001b[39m, method\u001b[38;5;241m=\u001b[39m\u001b[38;5;124m\"\u001b[39m\u001b[38;5;124mastype\u001b[39m\u001b[38;5;124m\"\u001b[39m)\n",
      "File \u001b[1;32m~\\anaconda3\\Lib\\site-packages\\pandas\\core\\internals\\managers.py:430\u001b[0m, in \u001b[0;36mBaseBlockManager.astype\u001b[1;34m(self, dtype, copy, errors)\u001b[0m\n\u001b[0;32m    427\u001b[0m \u001b[38;5;28;01melif\u001b[39;00m using_copy_on_write():\n\u001b[0;32m    428\u001b[0m     copy \u001b[38;5;241m=\u001b[39m \u001b[38;5;28;01mFalse\u001b[39;00m\n\u001b[1;32m--> 430\u001b[0m \u001b[38;5;28;01mreturn\u001b[39;00m \u001b[38;5;28mself\u001b[39m\u001b[38;5;241m.\u001b[39mapply(\n\u001b[0;32m    431\u001b[0m     \u001b[38;5;124m\"\u001b[39m\u001b[38;5;124mastype\u001b[39m\u001b[38;5;124m\"\u001b[39m,\n\u001b[0;32m    432\u001b[0m     dtype\u001b[38;5;241m=\u001b[39mdtype,\n\u001b[0;32m    433\u001b[0m     copy\u001b[38;5;241m=\u001b[39mcopy,\n\u001b[0;32m    434\u001b[0m     errors\u001b[38;5;241m=\u001b[39merrors,\n\u001b[0;32m    435\u001b[0m     using_cow\u001b[38;5;241m=\u001b[39musing_copy_on_write(),\n\u001b[0;32m    436\u001b[0m )\n",
      "File \u001b[1;32m~\\anaconda3\\Lib\\site-packages\\pandas\\core\\internals\\managers.py:363\u001b[0m, in \u001b[0;36mBaseBlockManager.apply\u001b[1;34m(self, f, align_keys, **kwargs)\u001b[0m\n\u001b[0;32m    361\u001b[0m         applied \u001b[38;5;241m=\u001b[39m b\u001b[38;5;241m.\u001b[39mapply(f, \u001b[38;5;241m*\u001b[39m\u001b[38;5;241m*\u001b[39mkwargs)\n\u001b[0;32m    362\u001b[0m     \u001b[38;5;28;01melse\u001b[39;00m:\n\u001b[1;32m--> 363\u001b[0m         applied \u001b[38;5;241m=\u001b[39m \u001b[38;5;28mgetattr\u001b[39m(b, f)(\u001b[38;5;241m*\u001b[39m\u001b[38;5;241m*\u001b[39mkwargs)\n\u001b[0;32m    364\u001b[0m     result_blocks \u001b[38;5;241m=\u001b[39m extend_blocks(applied, result_blocks)\n\u001b[0;32m    366\u001b[0m out \u001b[38;5;241m=\u001b[39m \u001b[38;5;28mtype\u001b[39m(\u001b[38;5;28mself\u001b[39m)\u001b[38;5;241m.\u001b[39mfrom_blocks(result_blocks, \u001b[38;5;28mself\u001b[39m\u001b[38;5;241m.\u001b[39maxes)\n",
      "File \u001b[1;32m~\\anaconda3\\Lib\\site-packages\\pandas\\core\\internals\\blocks.py:758\u001b[0m, in \u001b[0;36mBlock.astype\u001b[1;34m(self, dtype, copy, errors, using_cow, squeeze)\u001b[0m\n\u001b[0;32m    755\u001b[0m         \u001b[38;5;28;01mraise\u001b[39;00m \u001b[38;5;167;01mValueError\u001b[39;00m(\u001b[38;5;124m\"\u001b[39m\u001b[38;5;124mCan not squeeze with more than one column.\u001b[39m\u001b[38;5;124m\"\u001b[39m)\n\u001b[0;32m    756\u001b[0m     values \u001b[38;5;241m=\u001b[39m values[\u001b[38;5;241m0\u001b[39m, :]  \u001b[38;5;66;03m# type: ignore[call-overload]\u001b[39;00m\n\u001b[1;32m--> 758\u001b[0m new_values \u001b[38;5;241m=\u001b[39m astype_array_safe(values, dtype, copy\u001b[38;5;241m=\u001b[39mcopy, errors\u001b[38;5;241m=\u001b[39merrors)\n\u001b[0;32m    760\u001b[0m new_values \u001b[38;5;241m=\u001b[39m maybe_coerce_values(new_values)\n\u001b[0;32m    762\u001b[0m refs \u001b[38;5;241m=\u001b[39m \u001b[38;5;28;01mNone\u001b[39;00m\n",
      "File \u001b[1;32m~\\anaconda3\\Lib\\site-packages\\pandas\\core\\dtypes\\astype.py:237\u001b[0m, in \u001b[0;36mastype_array_safe\u001b[1;34m(values, dtype, copy, errors)\u001b[0m\n\u001b[0;32m    234\u001b[0m     dtype \u001b[38;5;241m=\u001b[39m dtype\u001b[38;5;241m.\u001b[39mnumpy_dtype\n\u001b[0;32m    236\u001b[0m \u001b[38;5;28;01mtry\u001b[39;00m:\n\u001b[1;32m--> 237\u001b[0m     new_values \u001b[38;5;241m=\u001b[39m astype_array(values, dtype, copy\u001b[38;5;241m=\u001b[39mcopy)\n\u001b[0;32m    238\u001b[0m \u001b[38;5;28;01mexcept\u001b[39;00m (\u001b[38;5;167;01mValueError\u001b[39;00m, \u001b[38;5;167;01mTypeError\u001b[39;00m):\n\u001b[0;32m    239\u001b[0m     \u001b[38;5;66;03m# e.g. _astype_nansafe can fail on object-dtype of strings\u001b[39;00m\n\u001b[0;32m    240\u001b[0m     \u001b[38;5;66;03m#  trying to convert to float\u001b[39;00m\n\u001b[0;32m    241\u001b[0m     \u001b[38;5;28;01mif\u001b[39;00m errors \u001b[38;5;241m==\u001b[39m \u001b[38;5;124m\"\u001b[39m\u001b[38;5;124mignore\u001b[39m\u001b[38;5;124m\"\u001b[39m:\n",
      "File \u001b[1;32m~\\anaconda3\\Lib\\site-packages\\pandas\\core\\dtypes\\astype.py:182\u001b[0m, in \u001b[0;36mastype_array\u001b[1;34m(values, dtype, copy)\u001b[0m\n\u001b[0;32m    179\u001b[0m     values \u001b[38;5;241m=\u001b[39m values\u001b[38;5;241m.\u001b[39mastype(dtype, copy\u001b[38;5;241m=\u001b[39mcopy)\n\u001b[0;32m    181\u001b[0m \u001b[38;5;28;01melse\u001b[39;00m:\n\u001b[1;32m--> 182\u001b[0m     values \u001b[38;5;241m=\u001b[39m _astype_nansafe(values, dtype, copy\u001b[38;5;241m=\u001b[39mcopy)\n\u001b[0;32m    184\u001b[0m \u001b[38;5;66;03m# in pandas we don't store numpy str dtypes, so convert to object\u001b[39;00m\n\u001b[0;32m    185\u001b[0m \u001b[38;5;28;01mif\u001b[39;00m \u001b[38;5;28misinstance\u001b[39m(dtype, np\u001b[38;5;241m.\u001b[39mdtype) \u001b[38;5;129;01mand\u001b[39;00m \u001b[38;5;28missubclass\u001b[39m(values\u001b[38;5;241m.\u001b[39mdtype\u001b[38;5;241m.\u001b[39mtype, \u001b[38;5;28mstr\u001b[39m):\n",
      "File \u001b[1;32m~\\anaconda3\\Lib\\site-packages\\pandas\\core\\dtypes\\astype.py:133\u001b[0m, in \u001b[0;36m_astype_nansafe\u001b[1;34m(arr, dtype, copy, skipna)\u001b[0m\n\u001b[0;32m    129\u001b[0m     \u001b[38;5;28;01mraise\u001b[39;00m \u001b[38;5;167;01mValueError\u001b[39;00m(msg)\n\u001b[0;32m    131\u001b[0m \u001b[38;5;28;01mif\u001b[39;00m copy \u001b[38;5;129;01mor\u001b[39;00m arr\u001b[38;5;241m.\u001b[39mdtype \u001b[38;5;241m==\u001b[39m \u001b[38;5;28mobject\u001b[39m \u001b[38;5;129;01mor\u001b[39;00m dtype \u001b[38;5;241m==\u001b[39m \u001b[38;5;28mobject\u001b[39m:\n\u001b[0;32m    132\u001b[0m     \u001b[38;5;66;03m# Explicit copy, or required since NumPy can't view from / to object.\u001b[39;00m\n\u001b[1;32m--> 133\u001b[0m     \u001b[38;5;28;01mreturn\u001b[39;00m arr\u001b[38;5;241m.\u001b[39mastype(dtype, copy\u001b[38;5;241m=\u001b[39m\u001b[38;5;28;01mTrue\u001b[39;00m)\n\u001b[0;32m    135\u001b[0m \u001b[38;5;28;01mreturn\u001b[39;00m arr\u001b[38;5;241m.\u001b[39mastype(dtype, copy\u001b[38;5;241m=\u001b[39mcopy)\n",
      "\u001b[1;31mValueError\u001b[0m: invalid literal for int() with base 10: 'PG'"
     ]
    }
   ],
   "source": [
    "data.Released_Year.astype('int')\n",
    "# will give value error due PG"
   ]
  },
  {
   "cell_type": "code",
   "execution_count": null,
   "id": "85bd3bca-89fd-4acc-a367-81c6e60eaf7a",
   "metadata": {},
   "outputs": [],
   "source": [
    "int(\"3423\")"
   ]
  },
  {
   "cell_type": "code",
   "execution_count": null,
   "id": "1476f333-1607-4e1f-862a-2584fa4cbaf1",
   "metadata": {},
   "outputs": [],
   "source": [
    "int(\"23n\")"
   ]
  },
  {
   "cell_type": "code",
   "execution_count": null,
   "id": "cedfbac4-a571-4721-9a13-de4df40ca70f",
   "metadata": {},
   "outputs": [],
   "source": [
    "data.Released_Year.value_counts()"
   ]
  },
  {
   "cell_type": "code",
   "execution_count": 250,
   "id": "85a63df4-cc4f-4433-bed4-75a149cf52e6",
   "metadata": {},
   "outputs": [],
   "source": [
    "# PG comes only once"
   ]
  },
  {
   "cell_type": "code",
   "execution_count": 251,
   "id": "a43bb45c-e5b1-42b6-a57d-a39beab90b14",
   "metadata": {},
   "outputs": [
    {
     "data": {
      "text/html": [
       "<div>\n",
       "<style scoped>\n",
       "    .dataframe tbody tr th:only-of-type {\n",
       "        vertical-align: middle;\n",
       "    }\n",
       "\n",
       "    .dataframe tbody tr th {\n",
       "        vertical-align: top;\n",
       "    }\n",
       "\n",
       "    .dataframe thead th {\n",
       "        text-align: right;\n",
       "    }\n",
       "</style>\n",
       "<table border=\"1\" class=\"dataframe\">\n",
       "  <thead>\n",
       "    <tr style=\"text-align: right;\">\n",
       "      <th></th>\n",
       "      <th>Series_Title</th>\n",
       "      <th>Released_Year</th>\n",
       "      <th>Runtime</th>\n",
       "      <th>Genre</th>\n",
       "      <th>IMDB_Rating</th>\n",
       "      <th>Director</th>\n",
       "      <th>Star1</th>\n",
       "      <th>No_of_Votes</th>\n",
       "      <th>Gross</th>\n",
       "      <th>Metascore</th>\n",
       "    </tr>\n",
       "  </thead>\n",
       "  <tbody>\n",
       "    <tr>\n",
       "      <th>966</th>\n",
       "      <td>Apollo 13</td>\n",
       "      <td>PG</td>\n",
       "      <td>140</td>\n",
       "      <td>Adventure</td>\n",
       "      <td>7.6</td>\n",
       "      <td>Ron Howard</td>\n",
       "      <td>Tom Hanks</td>\n",
       "      <td>269197</td>\n",
       "      <td>173837933.0</td>\n",
       "      <td>77.0</td>\n",
       "    </tr>\n",
       "  </tbody>\n",
       "</table>\n",
       "</div>"
      ],
      "text/plain": [
       "    Series_Title Released_Year  Runtime      Genre  IMDB_Rating    Director  \\\n",
       "966    Apollo 13            PG      140  Adventure          7.6  Ron Howard   \n",
       "\n",
       "         Star1  No_of_Votes        Gross  Metascore  \n",
       "966  Tom Hanks       269197  173837933.0       77.0  "
      ]
     },
     "execution_count": 251,
     "metadata": {},
     "output_type": "execute_result"
    }
   ],
   "source": [
    "data[data.Released_Year == 'PG']"
   ]
  },
  {
   "cell_type": "code",
   "execution_count": 256,
   "id": "98ab27c4-d5f1-4535-8504-a80dcb70ef10",
   "metadata": {},
   "outputs": [
    {
     "data": {
      "text/html": [
       "<div>\n",
       "<style scoped>\n",
       "    .dataframe tbody tr th:only-of-type {\n",
       "        vertical-align: middle;\n",
       "    }\n",
       "\n",
       "    .dataframe tbody tr th {\n",
       "        vertical-align: top;\n",
       "    }\n",
       "\n",
       "    .dataframe thead th {\n",
       "        text-align: right;\n",
       "    }\n",
       "</style>\n",
       "<table border=\"1\" class=\"dataframe\">\n",
       "  <thead>\n",
       "    <tr style=\"text-align: right;\">\n",
       "      <th></th>\n",
       "      <th>Series_Title</th>\n",
       "      <th>Released_Year</th>\n",
       "      <th>Runtime</th>\n",
       "      <th>Genre</th>\n",
       "      <th>IMDB_Rating</th>\n",
       "      <th>Director</th>\n",
       "      <th>Star1</th>\n",
       "      <th>No_of_Votes</th>\n",
       "      <th>Gross</th>\n",
       "      <th>Metascore</th>\n",
       "    </tr>\n",
       "  </thead>\n",
       "  <tbody>\n",
       "    <tr>\n",
       "      <th>966</th>\n",
       "      <td>Apollo 13</td>\n",
       "      <td>PG</td>\n",
       "      <td>140</td>\n",
       "      <td>Adventure</td>\n",
       "      <td>7.6</td>\n",
       "      <td>Ron Howard</td>\n",
       "      <td>Tom Hanks</td>\n",
       "      <td>269197</td>\n",
       "      <td>173837933.0</td>\n",
       "      <td>77.0</td>\n",
       "    </tr>\n",
       "  </tbody>\n",
       "</table>\n",
       "</div>"
      ],
      "text/plain": [
       "    Series_Title Released_Year  Runtime      Genre  IMDB_Rating    Director  \\\n",
       "966    Apollo 13            PG      140  Adventure          7.6  Ron Howard   \n",
       "\n",
       "         Star1  No_of_Votes        Gross  Metascore  \n",
       "966  Tom Hanks       269197  173837933.0       77.0  "
      ]
     },
     "execution_count": 256,
     "metadata": {},
     "output_type": "execute_result"
    }
   ],
   "source": [
    "data[data['Released_Year'] == 'PG']"
   ]
  },
  {
   "cell_type": "code",
   "execution_count": 257,
   "id": "54ac54c2-7fe4-43d8-bd75-4cbe21d51198",
   "metadata": {},
   "outputs": [
    {
     "data": {
      "text/html": [
       "<div>\n",
       "<style scoped>\n",
       "    .dataframe tbody tr th:only-of-type {\n",
       "        vertical-align: middle;\n",
       "    }\n",
       "\n",
       "    .dataframe tbody tr th {\n",
       "        vertical-align: top;\n",
       "    }\n",
       "\n",
       "    .dataframe thead th {\n",
       "        text-align: right;\n",
       "    }\n",
       "</style>\n",
       "<table border=\"1\" class=\"dataframe\">\n",
       "  <thead>\n",
       "    <tr style=\"text-align: right;\">\n",
       "      <th></th>\n",
       "      <th>Series_Title</th>\n",
       "      <th>Released_Year</th>\n",
       "      <th>Runtime</th>\n",
       "      <th>Genre</th>\n",
       "      <th>IMDB_Rating</th>\n",
       "      <th>Director</th>\n",
       "      <th>Star1</th>\n",
       "      <th>No_of_Votes</th>\n",
       "      <th>Gross</th>\n",
       "      <th>Metascore</th>\n",
       "    </tr>\n",
       "  </thead>\n",
       "  <tbody>\n",
       "    <tr>\n",
       "      <th>966</th>\n",
       "      <td>Apollo 13</td>\n",
       "      <td>PG</td>\n",
       "      <td>140</td>\n",
       "      <td>Adventure</td>\n",
       "      <td>7.6</td>\n",
       "      <td>Ron Howard</td>\n",
       "      <td>Tom Hanks</td>\n",
       "      <td>269197</td>\n",
       "      <td>173837933.0</td>\n",
       "      <td>77.0</td>\n",
       "    </tr>\n",
       "  </tbody>\n",
       "</table>\n",
       "</div>"
      ],
      "text/plain": [
       "    Series_Title Released_Year  Runtime      Genre  IMDB_Rating    Director  \\\n",
       "966    Apollo 13            PG      140  Adventure          7.6  Ron Howard   \n",
       "\n",
       "         Star1  No_of_Votes        Gross  Metascore  \n",
       "966  Tom Hanks       269197  173837933.0       77.0  "
      ]
     },
     "execution_count": 257,
     "metadata": {},
     "output_type": "execute_result"
    }
   ],
   "source": [
    "data.loc[966:966]"
   ]
  },
  {
   "cell_type": "code",
   "execution_count": 258,
   "id": "2e855eaa-4cc0-4d96-b064-06e776039b67",
   "metadata": {},
   "outputs": [
    {
     "data": {
      "text/html": [
       "<div>\n",
       "<style scoped>\n",
       "    .dataframe tbody tr th:only-of-type {\n",
       "        vertical-align: middle;\n",
       "    }\n",
       "\n",
       "    .dataframe tbody tr th {\n",
       "        vertical-align: top;\n",
       "    }\n",
       "\n",
       "    .dataframe thead th {\n",
       "        text-align: right;\n",
       "    }\n",
       "</style>\n",
       "<table border=\"1\" class=\"dataframe\">\n",
       "  <thead>\n",
       "    <tr style=\"text-align: right;\">\n",
       "      <th></th>\n",
       "      <th>Series_Title</th>\n",
       "      <th>Released_Year</th>\n",
       "      <th>Runtime</th>\n",
       "      <th>Genre</th>\n",
       "      <th>IMDB_Rating</th>\n",
       "      <th>Director</th>\n",
       "      <th>Star1</th>\n",
       "      <th>No_of_Votes</th>\n",
       "      <th>Gross</th>\n",
       "      <th>Metascore</th>\n",
       "    </tr>\n",
       "  </thead>\n",
       "  <tbody>\n",
       "    <tr>\n",
       "      <th>966</th>\n",
       "      <td>Apollo 13</td>\n",
       "      <td>PG</td>\n",
       "      <td>140</td>\n",
       "      <td>Adventure</td>\n",
       "      <td>7.6</td>\n",
       "      <td>Ron Howard</td>\n",
       "      <td>Tom Hanks</td>\n",
       "      <td>269197</td>\n",
       "      <td>173837933.0</td>\n",
       "      <td>77.0</td>\n",
       "    </tr>\n",
       "  </tbody>\n",
       "</table>\n",
       "</div>"
      ],
      "text/plain": [
       "    Series_Title Released_Year  Runtime      Genre  IMDB_Rating    Director  \\\n",
       "966    Apollo 13            PG      140  Adventure          7.6  Ron Howard   \n",
       "\n",
       "         Star1  No_of_Votes        Gross  Metascore  \n",
       "966  Tom Hanks       269197  173837933.0       77.0  "
      ]
     },
     "execution_count": 258,
     "metadata": {},
     "output_type": "execute_result"
    }
   ],
   "source": [
    "data.iloc[966:967] # will go till 966 bcz working on integer locations "
   ]
  },
  {
   "cell_type": "code",
   "execution_count": 259,
   "id": "12915598-da16-411e-b20d-28477e0380d1",
   "metadata": {},
   "outputs": [
    {
     "data": {
      "text/plain": [
       "966    PG\n",
       "Name: Released_Year, dtype: object"
      ]
     },
     "execution_count": 259,
     "metadata": {},
     "output_type": "execute_result"
    }
   ],
   "source": [
    "data.loc[966:966, 'Released_Year'] "
   ]
  },
  {
   "cell_type": "code",
   "execution_count": 260,
   "id": "de6af34f-f86e-46bc-b08e-5d73dd8f45e8",
   "metadata": {},
   "outputs": [
    {
     "data": {
      "text/html": [
       "<div>\n",
       "<style scoped>\n",
       "    .dataframe tbody tr th:only-of-type {\n",
       "        vertical-align: middle;\n",
       "    }\n",
       "\n",
       "    .dataframe tbody tr th {\n",
       "        vertical-align: top;\n",
       "    }\n",
       "\n",
       "    .dataframe thead th {\n",
       "        text-align: right;\n",
       "    }\n",
       "</style>\n",
       "<table border=\"1\" class=\"dataframe\">\n",
       "  <thead>\n",
       "    <tr style=\"text-align: right;\">\n",
       "      <th></th>\n",
       "      <th>Released_Year</th>\n",
       "    </tr>\n",
       "  </thead>\n",
       "  <tbody>\n",
       "    <tr>\n",
       "      <th>966</th>\n",
       "      <td>PG</td>\n",
       "    </tr>\n",
       "  </tbody>\n",
       "</table>\n",
       "</div>"
      ],
      "text/plain": [
       "    Released_Year\n",
       "966            PG"
      ]
     },
     "execution_count": 260,
     "metadata": {},
     "output_type": "execute_result"
    }
   ],
   "source": [
    "data.iloc[966:967, 1:2] "
   ]
  },
  {
   "cell_type": "code",
   "execution_count": 261,
   "id": "b4324158-11b9-4660-8cf1-38f9af798394",
   "metadata": {},
   "outputs": [
    {
     "data": {
      "text/plain": [
       "0    2014\n",
       "Name: Released_Year, dtype: object"
      ]
     },
     "execution_count": 261,
     "metadata": {},
     "output_type": "execute_result"
    }
   ],
   "source": [
    "data.Released_Year.mode()"
   ]
  },
  {
   "cell_type": "code",
   "execution_count": 262,
   "id": "612e0c7c-4df0-48c3-b8d3-9b7e7b592a6f",
   "metadata": {},
   "outputs": [],
   "source": [
    "data.iloc[966:967, 1:2] = data.Released_Year.mode()[0] # after running no output so permenant change in data\n",
    "# in case of bi mode or more modes, select 0th index"
   ]
  },
  {
   "cell_type": "code",
   "execution_count": 263,
   "id": "2411b055-6b27-4368-a730-738a13a11823",
   "metadata": {},
   "outputs": [
    {
     "data": {
      "text/html": [
       "<div>\n",
       "<style scoped>\n",
       "    .dataframe tbody tr th:only-of-type {\n",
       "        vertical-align: middle;\n",
       "    }\n",
       "\n",
       "    .dataframe tbody tr th {\n",
       "        vertical-align: top;\n",
       "    }\n",
       "\n",
       "    .dataframe thead th {\n",
       "        text-align: right;\n",
       "    }\n",
       "</style>\n",
       "<table border=\"1\" class=\"dataframe\">\n",
       "  <thead>\n",
       "    <tr style=\"text-align: right;\">\n",
       "      <th></th>\n",
       "      <th>Series_Title</th>\n",
       "      <th>Released_Year</th>\n",
       "      <th>Runtime</th>\n",
       "      <th>Genre</th>\n",
       "      <th>IMDB_Rating</th>\n",
       "      <th>Director</th>\n",
       "      <th>Star1</th>\n",
       "      <th>No_of_Votes</th>\n",
       "      <th>Gross</th>\n",
       "      <th>Metascore</th>\n",
       "    </tr>\n",
       "  </thead>\n",
       "  <tbody>\n",
       "  </tbody>\n",
       "</table>\n",
       "</div>"
      ],
      "text/plain": [
       "Empty DataFrame\n",
       "Columns: [Series_Title, Released_Year, Runtime, Genre, IMDB_Rating, Director, Star1, No_of_Votes, Gross, Metascore]\n",
       "Index: []"
      ]
     },
     "execution_count": 263,
     "metadata": {},
     "output_type": "execute_result"
    }
   ],
   "source": [
    "data[data['Released_Year'] == 'PG']"
   ]
  },
  {
   "cell_type": "code",
   "execution_count": 264,
   "id": "961fcd50-5274-4304-ae3d-a1145dd5164b",
   "metadata": {},
   "outputs": [
    {
     "data": {
      "text/plain": [
       "array(['1994', '1972', '2008', '1974', '1957', '2003', '1993', '2010',\n",
       "       '1999', '2001', '1966', '2002', '1990', '1980', '1975', '2020',\n",
       "       '2019', '2014', '1998', '1997', '1995', '1991', '1977', '1962',\n",
       "       '1954', '1946', '2011', '2006', '2000', '1988', '1985', '1968',\n",
       "       '1960', '1942', '1936', '1931', '2018', '2017', '2016', '2012',\n",
       "       '2009', '2007', '1984', '1981', '1979', '1971', '1963', '1964',\n",
       "       '1950', '1940', '2013', '2005', '2004', '1992', '1987', '1986',\n",
       "       '1983', '1976', '1973', '1965', '1959', '1958', '1952', '1948',\n",
       "       '1944', '1941', '1927', '1921', '2015', '1996', '1989', '1978',\n",
       "       '1961', '1955', '1953', '1925', '1924', '1982', '1967', '1951',\n",
       "       '1949', '1939', '1937', '1934', '1928', '1926', '1920', '1970',\n",
       "       '1969', '1956', '1947', '1945', '1930', '1938', '1935', '1933',\n",
       "       '1932', '1922', '1943'], dtype=object)"
      ]
     },
     "execution_count": 264,
     "metadata": {},
     "output_type": "execute_result"
    }
   ],
   "source": [
    "data.Released_Year.unique()"
   ]
  },
  {
   "cell_type": "code",
   "execution_count": 265,
   "id": "403e89fc-4dbc-4d6f-a4d9-c13280a55b42",
   "metadata": {},
   "outputs": [
    {
     "data": {
      "text/plain": [
       "0      1994\n",
       "1      1972\n",
       "2      2008\n",
       "3      1974\n",
       "4      1957\n",
       "       ... \n",
       "995    1961\n",
       "996    1956\n",
       "997    1953\n",
       "998    1944\n",
       "999    1935\n",
       "Name: Released_Year, Length: 1000, dtype: int32"
      ]
     },
     "execution_count": 265,
     "metadata": {},
     "output_type": "execute_result"
    }
   ],
   "source": [
    "data.Released_Year.astype(int)  # shows result means not updated in our data"
   ]
  },
  {
   "cell_type": "code",
   "execution_count": 266,
   "id": "640e3e45-1b33-4cae-8133-e5a59e199f53",
   "metadata": {},
   "outputs": [],
   "source": [
    "data[\"Released_Year\"] = data.Released_Year.astype(int)"
   ]
  },
  {
   "cell_type": "markdown",
   "id": "3e72694e-7900-47b8-a21d-dcc0e75d9d82",
   "metadata": {},
   "source": [
    "## Loc and iloc"
   ]
  },
  {
   "cell_type": "markdown",
   "id": "2c9ffee6-6031-43f0-8e55-248624a60689",
   "metadata": {},
   "source": [
    "### .loc[] → Label-Based Indexing\n",
    "Uses labels (index names or column names) to select data.\n",
    "Works with explicit row and column names.\n",
    "Includes both start and end indices when slicing."
   ]
  },
  {
   "cell_type": "code",
   "execution_count": 271,
   "id": "45586d7e-964d-4be4-b290-4476ddbb3fb5",
   "metadata": {},
   "outputs": [
    {
     "name": "stdout",
     "output_type": "stream",
     "text": [
      "Name    Alice\n",
      "Age        25\n",
      "Name: A, dtype: object\n",
      "      Name  Age\n",
      "A    Alice   25\n",
      "C  Charlie   35\n",
      "25\n",
      "    Name  Age\n",
      "A  Alice   25\n",
      "B    Bob   30\n"
     ]
    }
   ],
   "source": [
    "import pandas as pd\n",
    "\n",
    "df = pd.DataFrame({\n",
    "    'Name': ['Alice', 'Bob', 'Charlie'],\n",
    "    'Age': [25, 30, 35]\n",
    "}, index=['A', 'B', 'C'])\n",
    "\n",
    "# Selecting a single row using index label\n",
    "print(df.loc['A'])  \n",
    "\n",
    "# Selecting multiple rows\n",
    "print(df.loc[['A', 'C']])  \n",
    "\n",
    "# Selecting rows and specific columns\n",
    "print(df.loc['A', 'Age'])  # Returns Age of 'A'\n",
    "print(df.loc[['A', 'B'], ['Name', 'Age']])  # Returns a subset\n"
   ]
  },
  {
   "cell_type": "markdown",
   "id": "6fa86a91-e058-4f5d-8719-10ccea46f639",
   "metadata": {},
   "source": [
    "### .iloc[] → Integer-Based Indexing\n",
    "Uses integer positions (like Python lists).\n",
    "Works with implicit row and column positions.\n",
    "Excludes the last index when slicing (like Python lists).\n",
    "Example:"
   ]
  },
  {
   "cell_type": "code",
   "execution_count": 278,
   "id": "93031299-50e4-46d8-80d9-04bc5e58b46b",
   "metadata": {},
   "outputs": [
    {
     "name": "stdout",
     "output_type": "stream",
     "text": [
      "Name    Alice\n",
      "Age        25\n",
      "Name: A, dtype: object\n",
      "      Name  Age\n",
      "A    Alice   25\n",
      "C  Charlie   35\n",
      "25\n",
      "A    25\n",
      "B    30\n",
      "C    35\n",
      "Name: Age, dtype: int64\n",
      "    Name  Age\n",
      "A  Alice   25\n",
      "B    Bob   30\n"
     ]
    }
   ],
   "source": [
    "# Selecting a single row by index position\n",
    "print(df.iloc[0])  \n",
    "\n",
    "# Selecting multiple rows\n",
    "print(df.iloc[[0, 2]])  \n",
    "\n",
    "# Selecting rows and specific columns by position\n",
    "print(df.iloc[0, 1])  # Returns Age at first row\n",
    "print(df.iloc[:, 1])  # Returns entire \"Age\" column\n",
    "print(df.iloc[0:2, 0:2])  # Returns first two rows, both columns\n"
   ]
  },
  {
   "cell_type": "code",
   "execution_count": null,
   "id": "9ed41166-09a1-41d2-9f31-0120ea15e6bc",
   "metadata": {},
   "outputs": [],
   "source": []
  },
  {
   "cell_type": "code",
   "execution_count": 280,
   "id": "e4581c11-d81f-42ab-938f-d8d1f7857f72",
   "metadata": {},
   "outputs": [
    {
     "data": {
      "text/html": [
       "<div>\n",
       "<style scoped>\n",
       "    .dataframe tbody tr th:only-of-type {\n",
       "        vertical-align: middle;\n",
       "    }\n",
       "\n",
       "    .dataframe tbody tr th {\n",
       "        vertical-align: top;\n",
       "    }\n",
       "\n",
       "    .dataframe thead th {\n",
       "        text-align: right;\n",
       "    }\n",
       "</style>\n",
       "<table border=\"1\" class=\"dataframe\">\n",
       "  <thead>\n",
       "    <tr style=\"text-align: right;\">\n",
       "      <th></th>\n",
       "      <th>Series_Title</th>\n",
       "      <th>Released_Year</th>\n",
       "      <th>Runtime</th>\n",
       "      <th>Genre</th>\n",
       "      <th>IMDB_Rating</th>\n",
       "      <th>Director</th>\n",
       "      <th>Star1</th>\n",
       "      <th>No_of_Votes</th>\n",
       "      <th>Gross</th>\n",
       "      <th>Metascore</th>\n",
       "    </tr>\n",
       "  </thead>\n",
       "  <tbody>\n",
       "    <tr>\n",
       "      <th>0</th>\n",
       "      <td>The Shawshank Redemption</td>\n",
       "      <td>1994</td>\n",
       "      <td>142</td>\n",
       "      <td>Drama</td>\n",
       "      <td>9.3</td>\n",
       "      <td>Frank Darabont</td>\n",
       "      <td>Tim Robbins</td>\n",
       "      <td>2343110</td>\n",
       "      <td>28341469.0</td>\n",
       "      <td>80.0</td>\n",
       "    </tr>\n",
       "    <tr>\n",
       "      <th>1</th>\n",
       "      <td>The Godfather</td>\n",
       "      <td>1972</td>\n",
       "      <td>175</td>\n",
       "      <td>Crime</td>\n",
       "      <td>9.2</td>\n",
       "      <td>Francis Ford Coppola</td>\n",
       "      <td>Marlon Brando</td>\n",
       "      <td>1620367</td>\n",
       "      <td>134966411.0</td>\n",
       "      <td>100.0</td>\n",
       "    </tr>\n",
       "    <tr>\n",
       "      <th>2</th>\n",
       "      <td>The Dark Knight</td>\n",
       "      <td>2008</td>\n",
       "      <td>152</td>\n",
       "      <td>Action</td>\n",
       "      <td>9.0</td>\n",
       "      <td>Christopher Nolan</td>\n",
       "      <td>Christian Bale</td>\n",
       "      <td>2303232</td>\n",
       "      <td>534858444.0</td>\n",
       "      <td>84.0</td>\n",
       "    </tr>\n",
       "    <tr>\n",
       "      <th>3</th>\n",
       "      <td>The Godfather: Part II</td>\n",
       "      <td>1974</td>\n",
       "      <td>202</td>\n",
       "      <td>Crime</td>\n",
       "      <td>9.0</td>\n",
       "      <td>Francis Ford Coppola</td>\n",
       "      <td>Al Pacino</td>\n",
       "      <td>1129952</td>\n",
       "      <td>57300000.0</td>\n",
       "      <td>90.0</td>\n",
       "    </tr>\n",
       "    <tr>\n",
       "      <th>4</th>\n",
       "      <td>12 Angry Men</td>\n",
       "      <td>1957</td>\n",
       "      <td>96</td>\n",
       "      <td>Crime</td>\n",
       "      <td>9.0</td>\n",
       "      <td>Sidney Lumet</td>\n",
       "      <td>Henry Fonda</td>\n",
       "      <td>689845</td>\n",
       "      <td>4360000.0</td>\n",
       "      <td>96.0</td>\n",
       "    </tr>\n",
       "    <tr>\n",
       "      <th>...</th>\n",
       "      <td>...</td>\n",
       "      <td>...</td>\n",
       "      <td>...</td>\n",
       "      <td>...</td>\n",
       "      <td>...</td>\n",
       "      <td>...</td>\n",
       "      <td>...</td>\n",
       "      <td>...</td>\n",
       "      <td>...</td>\n",
       "      <td>...</td>\n",
       "    </tr>\n",
       "    <tr>\n",
       "      <th>995</th>\n",
       "      <td>Breakfast at Tiffany's</td>\n",
       "      <td>1961</td>\n",
       "      <td>115</td>\n",
       "      <td>Comedy</td>\n",
       "      <td>7.6</td>\n",
       "      <td>Blake Edwards</td>\n",
       "      <td>Audrey Hepburn</td>\n",
       "      <td>166544</td>\n",
       "      <td>679874270.0</td>\n",
       "      <td>76.0</td>\n",
       "    </tr>\n",
       "    <tr>\n",
       "      <th>996</th>\n",
       "      <td>Giant</td>\n",
       "      <td>1956</td>\n",
       "      <td>201</td>\n",
       "      <td>Drama</td>\n",
       "      <td>7.6</td>\n",
       "      <td>George Stevens</td>\n",
       "      <td>Elizabeth Taylor</td>\n",
       "      <td>34075</td>\n",
       "      <td>195217415.0</td>\n",
       "      <td>84.0</td>\n",
       "    </tr>\n",
       "    <tr>\n",
       "      <th>997</th>\n",
       "      <td>From Here to Eternity</td>\n",
       "      <td>1953</td>\n",
       "      <td>118</td>\n",
       "      <td>Drama</td>\n",
       "      <td>7.6</td>\n",
       "      <td>Fred Zinnemann</td>\n",
       "      <td>Burt Lancaster</td>\n",
       "      <td>43374</td>\n",
       "      <td>30500000.0</td>\n",
       "      <td>85.0</td>\n",
       "    </tr>\n",
       "    <tr>\n",
       "      <th>998</th>\n",
       "      <td>Lifeboat</td>\n",
       "      <td>1944</td>\n",
       "      <td>97</td>\n",
       "      <td>Drama</td>\n",
       "      <td>7.6</td>\n",
       "      <td>Alfred Hitchcock</td>\n",
       "      <td>Tallulah Bankhead</td>\n",
       "      <td>26471</td>\n",
       "      <td>852142728.0</td>\n",
       "      <td>78.0</td>\n",
       "    </tr>\n",
       "    <tr>\n",
       "      <th>999</th>\n",
       "      <td>The 39 Steps</td>\n",
       "      <td>1935</td>\n",
       "      <td>86</td>\n",
       "      <td>Crime</td>\n",
       "      <td>7.6</td>\n",
       "      <td>Alfred Hitchcock</td>\n",
       "      <td>Robert Donat</td>\n",
       "      <td>51853</td>\n",
       "      <td>302787539.0</td>\n",
       "      <td>93.0</td>\n",
       "    </tr>\n",
       "  </tbody>\n",
       "</table>\n",
       "<p>1000 rows × 10 columns</p>\n",
       "</div>"
      ],
      "text/plain": [
       "                 Series_Title  Released_Year  Runtime   Genre  IMDB_Rating  \\\n",
       "0    The Shawshank Redemption           1994      142   Drama          9.3   \n",
       "1               The Godfather           1972      175   Crime          9.2   \n",
       "2             The Dark Knight           2008      152  Action          9.0   \n",
       "3      The Godfather: Part II           1974      202   Crime          9.0   \n",
       "4                12 Angry Men           1957       96   Crime          9.0   \n",
       "..                        ...            ...      ...     ...          ...   \n",
       "995    Breakfast at Tiffany's           1961      115  Comedy          7.6   \n",
       "996                     Giant           1956      201   Drama          7.6   \n",
       "997     From Here to Eternity           1953      118   Drama          7.6   \n",
       "998                  Lifeboat           1944       97   Drama          7.6   \n",
       "999              The 39 Steps           1935       86   Crime          7.6   \n",
       "\n",
       "                 Director              Star1  No_of_Votes        Gross  \\\n",
       "0          Frank Darabont        Tim Robbins      2343110   28341469.0   \n",
       "1    Francis Ford Coppola      Marlon Brando      1620367  134966411.0   \n",
       "2       Christopher Nolan     Christian Bale      2303232  534858444.0   \n",
       "3    Francis Ford Coppola          Al Pacino      1129952   57300000.0   \n",
       "4            Sidney Lumet        Henry Fonda       689845    4360000.0   \n",
       "..                    ...                ...          ...          ...   \n",
       "995         Blake Edwards     Audrey Hepburn       166544  679874270.0   \n",
       "996        George Stevens   Elizabeth Taylor        34075  195217415.0   \n",
       "997        Fred Zinnemann     Burt Lancaster        43374   30500000.0   \n",
       "998      Alfred Hitchcock  Tallulah Bankhead        26471  852142728.0   \n",
       "999      Alfred Hitchcock       Robert Donat        51853  302787539.0   \n",
       "\n",
       "     Metascore  \n",
       "0         80.0  \n",
       "1        100.0  \n",
       "2         84.0  \n",
       "3         90.0  \n",
       "4         96.0  \n",
       "..         ...  \n",
       "995       76.0  \n",
       "996       84.0  \n",
       "997       85.0  \n",
       "998       78.0  \n",
       "999       93.0  \n",
       "\n",
       "[1000 rows x 10 columns]"
      ]
     },
     "execution_count": 280,
     "metadata": {},
     "output_type": "execute_result"
    }
   ],
   "source": [
    "data"
   ]
  },
  {
   "cell_type": "markdown",
   "id": "15326e7a-0c49-4e2d-bf88-e6061f1f194b",
   "metadata": {},
   "source": [
    "## Select all record of the movies in 1974"
   ]
  },
  {
   "cell_type": "code",
   "execution_count": 286,
   "id": "477eaa4f-4fed-4e4b-9dc7-da905e8fb701",
   "metadata": {},
   "outputs": [
    {
     "data": {
      "text/html": [
       "<div>\n",
       "<style scoped>\n",
       "    .dataframe tbody tr th:only-of-type {\n",
       "        vertical-align: middle;\n",
       "    }\n",
       "\n",
       "    .dataframe tbody tr th {\n",
       "        vertical-align: top;\n",
       "    }\n",
       "\n",
       "    .dataframe thead th {\n",
       "        text-align: right;\n",
       "    }\n",
       "</style>\n",
       "<table border=\"1\" class=\"dataframe\">\n",
       "  <thead>\n",
       "    <tr style=\"text-align: right;\">\n",
       "      <th></th>\n",
       "      <th>Series_Title</th>\n",
       "      <th>Released_Year</th>\n",
       "      <th>Runtime</th>\n",
       "      <th>Genre</th>\n",
       "      <th>IMDB_Rating</th>\n",
       "      <th>Director</th>\n",
       "      <th>Star1</th>\n",
       "      <th>No_of_Votes</th>\n",
       "      <th>Gross</th>\n",
       "      <th>Metascore</th>\n",
       "    </tr>\n",
       "  </thead>\n",
       "  <tbody>\n",
       "    <tr>\n",
       "      <th>3</th>\n",
       "      <td>The Godfather: Part II</td>\n",
       "      <td>1974</td>\n",
       "      <td>202</td>\n",
       "      <td>Crime</td>\n",
       "      <td>9.0</td>\n",
       "      <td>Francis Ford Coppola</td>\n",
       "      <td>Al Pacino</td>\n",
       "      <td>1129952</td>\n",
       "      <td>57300000.0</td>\n",
       "      <td>90.0</td>\n",
       "    </tr>\n",
       "    <tr>\n",
       "      <th>283</th>\n",
       "      <td>Chinatown</td>\n",
       "      <td>1974</td>\n",
       "      <td>130</td>\n",
       "      <td>Drama</td>\n",
       "      <td>8.1</td>\n",
       "      <td>Roman Polanski</td>\n",
       "      <td>Jack Nicholson</td>\n",
       "      <td>294230</td>\n",
       "      <td>29000000.0</td>\n",
       "      <td>92.0</td>\n",
       "    </tr>\n",
       "    <tr>\n",
       "      <th>417</th>\n",
       "      <td>Young Frankenstein</td>\n",
       "      <td>1974</td>\n",
       "      <td>106</td>\n",
       "      <td>Comedy</td>\n",
       "      <td>8.0</td>\n",
       "      <td>Mel Brooks</td>\n",
       "      <td>Gene Wilder</td>\n",
       "      <td>143359</td>\n",
       "      <td>86300000.0</td>\n",
       "      <td>80.0</td>\n",
       "    </tr>\n",
       "    <tr>\n",
       "      <th>693</th>\n",
       "      <td>The Conversation</td>\n",
       "      <td>1974</td>\n",
       "      <td>113</td>\n",
       "      <td>Drama</td>\n",
       "      <td>7.8</td>\n",
       "      <td>Francis Ford Coppola</td>\n",
       "      <td>Gene Hackman</td>\n",
       "      <td>98611</td>\n",
       "      <td>4420000.0</td>\n",
       "      <td>85.0</td>\n",
       "    </tr>\n",
       "    <tr>\n",
       "      <th>847</th>\n",
       "      <td>The Taking of Pelham One Two Three</td>\n",
       "      <td>1974</td>\n",
       "      <td>104</td>\n",
       "      <td>Action</td>\n",
       "      <td>7.7</td>\n",
       "      <td>Joseph Sargent</td>\n",
       "      <td>Walter Matthau</td>\n",
       "      <td>26729</td>\n",
       "      <td>660264543.0</td>\n",
       "      <td>68.0</td>\n",
       "    </tr>\n",
       "    <tr>\n",
       "      <th>848</th>\n",
       "      <td>Blazing Saddles</td>\n",
       "      <td>1974</td>\n",
       "      <td>93</td>\n",
       "      <td>Comedy</td>\n",
       "      <td>7.7</td>\n",
       "      <td>Mel Brooks</td>\n",
       "      <td>Cleavon Little</td>\n",
       "      <td>125993</td>\n",
       "      <td>119500000.0</td>\n",
       "      <td>73.0</td>\n",
       "    </tr>\n",
       "  </tbody>\n",
       "</table>\n",
       "</div>"
      ],
      "text/plain": [
       "                           Series_Title  Released_Year  Runtime   Genre  \\\n",
       "3                The Godfather: Part II           1974      202   Crime   \n",
       "283                           Chinatown           1974      130   Drama   \n",
       "417                  Young Frankenstein           1974      106  Comedy   \n",
       "693                    The Conversation           1974      113   Drama   \n",
       "847  The Taking of Pelham One Two Three           1974      104  Action   \n",
       "848                     Blazing Saddles           1974       93  Comedy   \n",
       "\n",
       "     IMDB_Rating              Director           Star1  No_of_Votes  \\\n",
       "3            9.0  Francis Ford Coppola       Al Pacino      1129952   \n",
       "283          8.1        Roman Polanski  Jack Nicholson       294230   \n",
       "417          8.0            Mel Brooks     Gene Wilder       143359   \n",
       "693          7.8  Francis Ford Coppola    Gene Hackman        98611   \n",
       "847          7.7        Joseph Sargent  Walter Matthau        26729   \n",
       "848          7.7            Mel Brooks  Cleavon Little       125993   \n",
       "\n",
       "           Gross  Metascore  \n",
       "3     57300000.0       90.0  \n",
       "283   29000000.0       92.0  \n",
       "417   86300000.0       80.0  \n",
       "693    4420000.0       85.0  \n",
       "847  660264543.0       68.0  \n",
       "848  119500000.0       73.0  "
      ]
     },
     "execution_count": 286,
     "metadata": {},
     "output_type": "execute_result"
    }
   ],
   "source": [
    "data[data[\"Released_Year\"]==1974]"
   ]
  },
  {
   "cell_type": "markdown",
   "id": "185e07bf-92c5-4ee8-bbbf-708e08544288",
   "metadata": {},
   "source": [
    "## Select all action movies in 1974"
   ]
  },
  {
   "cell_type": "code",
   "execution_count": 289,
   "id": "b16e0fb1-2963-4a3b-add1-a51ce836d90e",
   "metadata": {},
   "outputs": [
    {
     "data": {
      "text/html": [
       "<div>\n",
       "<style scoped>\n",
       "    .dataframe tbody tr th:only-of-type {\n",
       "        vertical-align: middle;\n",
       "    }\n",
       "\n",
       "    .dataframe tbody tr th {\n",
       "        vertical-align: top;\n",
       "    }\n",
       "\n",
       "    .dataframe thead th {\n",
       "        text-align: right;\n",
       "    }\n",
       "</style>\n",
       "<table border=\"1\" class=\"dataframe\">\n",
       "  <thead>\n",
       "    <tr style=\"text-align: right;\">\n",
       "      <th></th>\n",
       "      <th>Series_Title</th>\n",
       "      <th>Released_Year</th>\n",
       "      <th>Runtime</th>\n",
       "      <th>Genre</th>\n",
       "      <th>IMDB_Rating</th>\n",
       "      <th>Director</th>\n",
       "      <th>Star1</th>\n",
       "      <th>No_of_Votes</th>\n",
       "      <th>Gross</th>\n",
       "      <th>Metascore</th>\n",
       "    </tr>\n",
       "  </thead>\n",
       "  <tbody>\n",
       "    <tr>\n",
       "      <th>847</th>\n",
       "      <td>The Taking of Pelham One Two Three</td>\n",
       "      <td>1974</td>\n",
       "      <td>104</td>\n",
       "      <td>Action</td>\n",
       "      <td>7.7</td>\n",
       "      <td>Joseph Sargent</td>\n",
       "      <td>Walter Matthau</td>\n",
       "      <td>26729</td>\n",
       "      <td>660264543.0</td>\n",
       "      <td>68.0</td>\n",
       "    </tr>\n",
       "  </tbody>\n",
       "</table>\n",
       "</div>"
      ],
      "text/plain": [
       "                           Series_Title  Released_Year  Runtime   Genre  \\\n",
       "847  The Taking of Pelham One Two Three           1974      104  Action   \n",
       "\n",
       "     IMDB_Rating        Director           Star1  No_of_Votes        Gross  \\\n",
       "847          7.7  Joseph Sargent  Walter Matthau        26729  660264543.0   \n",
       "\n",
       "     Metascore  \n",
       "847       68.0  "
      ]
     },
     "execution_count": 289,
     "metadata": {},
     "output_type": "execute_result"
    }
   ],
   "source": [
    "data[(data.Released_Year == 1974) & (data.Genre == \"Action\")]"
   ]
  },
  {
   "cell_type": "markdown",
   "id": "31995bce-3e0a-4627-bee6-a8ea77b0d37f",
   "metadata": {},
   "source": [
    "## Movies by Alfred Hitchcock "
   ]
  },
  {
   "cell_type": "code",
   "execution_count": 293,
   "id": "0f1e4d23-844d-47a1-a790-dc37353a151c",
   "metadata": {},
   "outputs": [
    {
     "data": {
      "text/html": [
       "<div>\n",
       "<style scoped>\n",
       "    .dataframe tbody tr th:only-of-type {\n",
       "        vertical-align: middle;\n",
       "    }\n",
       "\n",
       "    .dataframe tbody tr th {\n",
       "        vertical-align: top;\n",
       "    }\n",
       "\n",
       "    .dataframe thead th {\n",
       "        text-align: right;\n",
       "    }\n",
       "</style>\n",
       "<table border=\"1\" class=\"dataframe\">\n",
       "  <thead>\n",
       "    <tr style=\"text-align: right;\">\n",
       "      <th></th>\n",
       "      <th>Series_Title</th>\n",
       "      <th>Released_Year</th>\n",
       "      <th>Runtime</th>\n",
       "      <th>Genre</th>\n",
       "      <th>IMDB_Rating</th>\n",
       "      <th>Director</th>\n",
       "      <th>Star1</th>\n",
       "      <th>No_of_Votes</th>\n",
       "      <th>Gross</th>\n",
       "      <th>Metascore</th>\n",
       "    </tr>\n",
       "  </thead>\n",
       "  <tbody>\n",
       "    <tr>\n",
       "      <th>49</th>\n",
       "      <td>Psycho</td>\n",
       "      <td>1960</td>\n",
       "      <td>109</td>\n",
       "      <td>Horror</td>\n",
       "      <td>8.5</td>\n",
       "      <td>Alfred Hitchcock</td>\n",
       "      <td>Anthony Perkins</td>\n",
       "      <td>604211</td>\n",
       "      <td>32000000.0</td>\n",
       "      <td>97.0</td>\n",
       "    </tr>\n",
       "    <tr>\n",
       "      <th>81</th>\n",
       "      <td>Rear Window</td>\n",
       "      <td>1954</td>\n",
       "      <td>112</td>\n",
       "      <td>Mystery</td>\n",
       "      <td>8.4</td>\n",
       "      <td>Alfred Hitchcock</td>\n",
       "      <td>James Stewart</td>\n",
       "      <td>444074</td>\n",
       "      <td>36764313.0</td>\n",
       "      <td>100.0</td>\n",
       "    </tr>\n",
       "    <tr>\n",
       "      <th>118</th>\n",
       "      <td>North by Northwest</td>\n",
       "      <td>1959</td>\n",
       "      <td>136</td>\n",
       "      <td>Adventure</td>\n",
       "      <td>8.3</td>\n",
       "      <td>Alfred Hitchcock</td>\n",
       "      <td>Cary Grant</td>\n",
       "      <td>299198</td>\n",
       "      <td>13275000.0</td>\n",
       "      <td>98.0</td>\n",
       "    </tr>\n",
       "    <tr>\n",
       "      <th>119</th>\n",
       "      <td>Vertigo</td>\n",
       "      <td>1958</td>\n",
       "      <td>128</td>\n",
       "      <td>Mystery</td>\n",
       "      <td>8.3</td>\n",
       "      <td>Alfred Hitchcock</td>\n",
       "      <td>James Stewart</td>\n",
       "      <td>364368</td>\n",
       "      <td>3200000.0</td>\n",
       "      <td>100.0</td>\n",
       "    </tr>\n",
       "    <tr>\n",
       "      <th>187</th>\n",
       "      <td>Dial M for Murder</td>\n",
       "      <td>1954</td>\n",
       "      <td>105</td>\n",
       "      <td>Crime</td>\n",
       "      <td>8.2</td>\n",
       "      <td>Alfred Hitchcock</td>\n",
       "      <td>Ray Milland</td>\n",
       "      <td>158335</td>\n",
       "      <td>12562.0</td>\n",
       "      <td>75.0</td>\n",
       "    </tr>\n",
       "    <tr>\n",
       "      <th>312</th>\n",
       "      <td>Rebecca</td>\n",
       "      <td>1940</td>\n",
       "      <td>130</td>\n",
       "      <td>Drama</td>\n",
       "      <td>8.1</td>\n",
       "      <td>Alfred Hitchcock</td>\n",
       "      <td>Laurence Olivier</td>\n",
       "      <td>123942</td>\n",
       "      <td>4360000.0</td>\n",
       "      <td>86.0</td>\n",
       "    </tr>\n",
       "    <tr>\n",
       "      <th>450</th>\n",
       "      <td>Rope</td>\n",
       "      <td>1948</td>\n",
       "      <td>80</td>\n",
       "      <td>Crime</td>\n",
       "      <td>8.0</td>\n",
       "      <td>Alfred Hitchcock</td>\n",
       "      <td>James Stewart</td>\n",
       "      <td>129783</td>\n",
       "      <td>466149116.0</td>\n",
       "      <td>73.0</td>\n",
       "    </tr>\n",
       "    <tr>\n",
       "      <th>556</th>\n",
       "      <td>Strangers on a Train</td>\n",
       "      <td>1951</td>\n",
       "      <td>101</td>\n",
       "      <td>Crime</td>\n",
       "      <td>7.9</td>\n",
       "      <td>Alfred Hitchcock</td>\n",
       "      <td>Farley Granger</td>\n",
       "      <td>123341</td>\n",
       "      <td>7630000.0</td>\n",
       "      <td>88.0</td>\n",
       "    </tr>\n",
       "    <tr>\n",
       "      <th>559</th>\n",
       "      <td>Notorious</td>\n",
       "      <td>1946</td>\n",
       "      <td>102</td>\n",
       "      <td>Drama</td>\n",
       "      <td>7.9</td>\n",
       "      <td>Alfred Hitchcock</td>\n",
       "      <td>Cary Grant</td>\n",
       "      <td>92306</td>\n",
       "      <td>10464000.0</td>\n",
       "      <td>100.0</td>\n",
       "    </tr>\n",
       "    <tr>\n",
       "      <th>712</th>\n",
       "      <td>Shadow of a Doubt</td>\n",
       "      <td>1943</td>\n",
       "      <td>108</td>\n",
       "      <td>Film-Noir</td>\n",
       "      <td>7.8</td>\n",
       "      <td>Alfred Hitchcock</td>\n",
       "      <td>Teresa Wright</td>\n",
       "      <td>59556</td>\n",
       "      <td>123353292.0</td>\n",
       "      <td>94.0</td>\n",
       "    </tr>\n",
       "    <tr>\n",
       "      <th>714</th>\n",
       "      <td>The Lady Vanishes</td>\n",
       "      <td>1938</td>\n",
       "      <td>96</td>\n",
       "      <td>Mystery</td>\n",
       "      <td>7.8</td>\n",
       "      <td>Alfred Hitchcock</td>\n",
       "      <td>Margaret Lockwood</td>\n",
       "      <td>47400</td>\n",
       "      <td>474203697.0</td>\n",
       "      <td>98.0</td>\n",
       "    </tr>\n",
       "    <tr>\n",
       "      <th>862</th>\n",
       "      <td>The Birds</td>\n",
       "      <td>1963</td>\n",
       "      <td>119</td>\n",
       "      <td>Drama</td>\n",
       "      <td>7.7</td>\n",
       "      <td>Alfred Hitchcock</td>\n",
       "      <td>Rod Taylor</td>\n",
       "      <td>171739</td>\n",
       "      <td>11403529.0</td>\n",
       "      <td>90.0</td>\n",
       "    </tr>\n",
       "    <tr>\n",
       "      <th>998</th>\n",
       "      <td>Lifeboat</td>\n",
       "      <td>1944</td>\n",
       "      <td>97</td>\n",
       "      <td>Drama</td>\n",
       "      <td>7.6</td>\n",
       "      <td>Alfred Hitchcock</td>\n",
       "      <td>Tallulah Bankhead</td>\n",
       "      <td>26471</td>\n",
       "      <td>852142728.0</td>\n",
       "      <td>78.0</td>\n",
       "    </tr>\n",
       "    <tr>\n",
       "      <th>999</th>\n",
       "      <td>The 39 Steps</td>\n",
       "      <td>1935</td>\n",
       "      <td>86</td>\n",
       "      <td>Crime</td>\n",
       "      <td>7.6</td>\n",
       "      <td>Alfred Hitchcock</td>\n",
       "      <td>Robert Donat</td>\n",
       "      <td>51853</td>\n",
       "      <td>302787539.0</td>\n",
       "      <td>93.0</td>\n",
       "    </tr>\n",
       "  </tbody>\n",
       "</table>\n",
       "</div>"
      ],
      "text/plain": [
       "             Series_Title  Released_Year  Runtime      Genre  IMDB_Rating  \\\n",
       "49                 Psycho           1960      109     Horror          8.5   \n",
       "81            Rear Window           1954      112    Mystery          8.4   \n",
       "118    North by Northwest           1959      136  Adventure          8.3   \n",
       "119               Vertigo           1958      128    Mystery          8.3   \n",
       "187     Dial M for Murder           1954      105      Crime          8.2   \n",
       "312               Rebecca           1940      130      Drama          8.1   \n",
       "450                  Rope           1948       80      Crime          8.0   \n",
       "556  Strangers on a Train           1951      101      Crime          7.9   \n",
       "559             Notorious           1946      102      Drama          7.9   \n",
       "712     Shadow of a Doubt           1943      108  Film-Noir          7.8   \n",
       "714     The Lady Vanishes           1938       96    Mystery          7.8   \n",
       "862             The Birds           1963      119      Drama          7.7   \n",
       "998              Lifeboat           1944       97      Drama          7.6   \n",
       "999          The 39 Steps           1935       86      Crime          7.6   \n",
       "\n",
       "             Director              Star1  No_of_Votes        Gross  Metascore  \n",
       "49   Alfred Hitchcock    Anthony Perkins       604211   32000000.0       97.0  \n",
       "81   Alfred Hitchcock      James Stewart       444074   36764313.0      100.0  \n",
       "118  Alfred Hitchcock         Cary Grant       299198   13275000.0       98.0  \n",
       "119  Alfred Hitchcock      James Stewart       364368    3200000.0      100.0  \n",
       "187  Alfred Hitchcock        Ray Milland       158335      12562.0       75.0  \n",
       "312  Alfred Hitchcock   Laurence Olivier       123942    4360000.0       86.0  \n",
       "450  Alfred Hitchcock      James Stewart       129783  466149116.0       73.0  \n",
       "556  Alfred Hitchcock     Farley Granger       123341    7630000.0       88.0  \n",
       "559  Alfred Hitchcock         Cary Grant        92306   10464000.0      100.0  \n",
       "712  Alfred Hitchcock      Teresa Wright        59556  123353292.0       94.0  \n",
       "714  Alfred Hitchcock  Margaret Lockwood        47400  474203697.0       98.0  \n",
       "862  Alfred Hitchcock         Rod Taylor       171739   11403529.0       90.0  \n",
       "998  Alfred Hitchcock  Tallulah Bankhead        26471  852142728.0       78.0  \n",
       "999  Alfred Hitchcock       Robert Donat        51853  302787539.0       93.0  "
      ]
     },
     "execution_count": 293,
     "metadata": {},
     "output_type": "execute_result"
    }
   ],
   "source": [
    "data[data[\"Director\"] == \"Alfred Hitchcock\"]"
   ]
  },
  {
   "cell_type": "markdown",
   "id": "b14a55c9-3c6e-446f-aa4c-812f1c4d3f19",
   "metadata": {},
   "source": [
    "## Movies by Alfred Hitchcock with rating more than 8"
   ]
  },
  {
   "cell_type": "code",
   "execution_count": 296,
   "id": "0389ca1b-e4e1-420e-9f94-73482e960230",
   "metadata": {},
   "outputs": [
    {
     "data": {
      "text/html": [
       "<div>\n",
       "<style scoped>\n",
       "    .dataframe tbody tr th:only-of-type {\n",
       "        vertical-align: middle;\n",
       "    }\n",
       "\n",
       "    .dataframe tbody tr th {\n",
       "        vertical-align: top;\n",
       "    }\n",
       "\n",
       "    .dataframe thead th {\n",
       "        text-align: right;\n",
       "    }\n",
       "</style>\n",
       "<table border=\"1\" class=\"dataframe\">\n",
       "  <thead>\n",
       "    <tr style=\"text-align: right;\">\n",
       "      <th></th>\n",
       "      <th>Series_Title</th>\n",
       "      <th>Released_Year</th>\n",
       "      <th>Runtime</th>\n",
       "      <th>Genre</th>\n",
       "      <th>IMDB_Rating</th>\n",
       "      <th>Director</th>\n",
       "      <th>Star1</th>\n",
       "      <th>No_of_Votes</th>\n",
       "      <th>Gross</th>\n",
       "      <th>Metascore</th>\n",
       "    </tr>\n",
       "  </thead>\n",
       "  <tbody>\n",
       "    <tr>\n",
       "      <th>49</th>\n",
       "      <td>Psycho</td>\n",
       "      <td>1960</td>\n",
       "      <td>109</td>\n",
       "      <td>Horror</td>\n",
       "      <td>8.5</td>\n",
       "      <td>Alfred Hitchcock</td>\n",
       "      <td>Anthony Perkins</td>\n",
       "      <td>604211</td>\n",
       "      <td>32000000.0</td>\n",
       "      <td>97.0</td>\n",
       "    </tr>\n",
       "    <tr>\n",
       "      <th>81</th>\n",
       "      <td>Rear Window</td>\n",
       "      <td>1954</td>\n",
       "      <td>112</td>\n",
       "      <td>Mystery</td>\n",
       "      <td>8.4</td>\n",
       "      <td>Alfred Hitchcock</td>\n",
       "      <td>James Stewart</td>\n",
       "      <td>444074</td>\n",
       "      <td>36764313.0</td>\n",
       "      <td>100.0</td>\n",
       "    </tr>\n",
       "    <tr>\n",
       "      <th>118</th>\n",
       "      <td>North by Northwest</td>\n",
       "      <td>1959</td>\n",
       "      <td>136</td>\n",
       "      <td>Adventure</td>\n",
       "      <td>8.3</td>\n",
       "      <td>Alfred Hitchcock</td>\n",
       "      <td>Cary Grant</td>\n",
       "      <td>299198</td>\n",
       "      <td>13275000.0</td>\n",
       "      <td>98.0</td>\n",
       "    </tr>\n",
       "    <tr>\n",
       "      <th>119</th>\n",
       "      <td>Vertigo</td>\n",
       "      <td>1958</td>\n",
       "      <td>128</td>\n",
       "      <td>Mystery</td>\n",
       "      <td>8.3</td>\n",
       "      <td>Alfred Hitchcock</td>\n",
       "      <td>James Stewart</td>\n",
       "      <td>364368</td>\n",
       "      <td>3200000.0</td>\n",
       "      <td>100.0</td>\n",
       "    </tr>\n",
       "    <tr>\n",
       "      <th>187</th>\n",
       "      <td>Dial M for Murder</td>\n",
       "      <td>1954</td>\n",
       "      <td>105</td>\n",
       "      <td>Crime</td>\n",
       "      <td>8.2</td>\n",
       "      <td>Alfred Hitchcock</td>\n",
       "      <td>Ray Milland</td>\n",
       "      <td>158335</td>\n",
       "      <td>12562.0</td>\n",
       "      <td>75.0</td>\n",
       "    </tr>\n",
       "    <tr>\n",
       "      <th>312</th>\n",
       "      <td>Rebecca</td>\n",
       "      <td>1940</td>\n",
       "      <td>130</td>\n",
       "      <td>Drama</td>\n",
       "      <td>8.1</td>\n",
       "      <td>Alfred Hitchcock</td>\n",
       "      <td>Laurence Olivier</td>\n",
       "      <td>123942</td>\n",
       "      <td>4360000.0</td>\n",
       "      <td>86.0</td>\n",
       "    </tr>\n",
       "    <tr>\n",
       "      <th>450</th>\n",
       "      <td>Rope</td>\n",
       "      <td>1948</td>\n",
       "      <td>80</td>\n",
       "      <td>Crime</td>\n",
       "      <td>8.0</td>\n",
       "      <td>Alfred Hitchcock</td>\n",
       "      <td>James Stewart</td>\n",
       "      <td>129783</td>\n",
       "      <td>466149116.0</td>\n",
       "      <td>73.0</td>\n",
       "    </tr>\n",
       "  </tbody>\n",
       "</table>\n",
       "</div>"
      ],
      "text/plain": [
       "           Series_Title  Released_Year  Runtime      Genre  IMDB_Rating  \\\n",
       "49               Psycho           1960      109     Horror          8.5   \n",
       "81          Rear Window           1954      112    Mystery          8.4   \n",
       "118  North by Northwest           1959      136  Adventure          8.3   \n",
       "119             Vertigo           1958      128    Mystery          8.3   \n",
       "187   Dial M for Murder           1954      105      Crime          8.2   \n",
       "312             Rebecca           1940      130      Drama          8.1   \n",
       "450                Rope           1948       80      Crime          8.0   \n",
       "\n",
       "             Director             Star1  No_of_Votes        Gross  Metascore  \n",
       "49   Alfred Hitchcock   Anthony Perkins       604211   32000000.0       97.0  \n",
       "81   Alfred Hitchcock     James Stewart       444074   36764313.0      100.0  \n",
       "118  Alfred Hitchcock        Cary Grant       299198   13275000.0       98.0  \n",
       "119  Alfred Hitchcock     James Stewart       364368    3200000.0      100.0  \n",
       "187  Alfred Hitchcock       Ray Milland       158335      12562.0       75.0  \n",
       "312  Alfred Hitchcock  Laurence Olivier       123942    4360000.0       86.0  \n",
       "450  Alfred Hitchcock     James Stewart       129783  466149116.0       73.0  "
      ]
     },
     "execution_count": 296,
     "metadata": {},
     "output_type": "execute_result"
    }
   ],
   "source": [
    "data[(data[\"Director\"] == \"Alfred Hitchcock\") & (data[\"IMDB_Rating\"] >= 8)]"
   ]
  },
  {
   "cell_type": "code",
   "execution_count": 297,
   "id": "c02e0f70-9611-43de-ab32-af27273b9190",
   "metadata": {},
   "outputs": [
    {
     "data": {
      "text/plain": [
       "2343110"
      ]
     },
     "execution_count": 297,
     "metadata": {},
     "output_type": "execute_result"
    }
   ],
   "source": [
    "data.No_of_Votes.max()"
   ]
  },
  {
   "cell_type": "code",
   "execution_count": 298,
   "id": "997fede6-ad5c-4526-8b12-ec0956b6a39d",
   "metadata": {},
   "outputs": [
    {
     "data": {
      "text/html": [
       "<div>\n",
       "<style scoped>\n",
       "    .dataframe tbody tr th:only-of-type {\n",
       "        vertical-align: middle;\n",
       "    }\n",
       "\n",
       "    .dataframe tbody tr th {\n",
       "        vertical-align: top;\n",
       "    }\n",
       "\n",
       "    .dataframe thead th {\n",
       "        text-align: right;\n",
       "    }\n",
       "</style>\n",
       "<table border=\"1\" class=\"dataframe\">\n",
       "  <thead>\n",
       "    <tr style=\"text-align: right;\">\n",
       "      <th></th>\n",
       "      <th>Series_Title</th>\n",
       "      <th>Released_Year</th>\n",
       "      <th>Runtime</th>\n",
       "      <th>Genre</th>\n",
       "      <th>IMDB_Rating</th>\n",
       "      <th>Director</th>\n",
       "      <th>Star1</th>\n",
       "      <th>No_of_Votes</th>\n",
       "      <th>Gross</th>\n",
       "      <th>Metascore</th>\n",
       "    </tr>\n",
       "  </thead>\n",
       "  <tbody>\n",
       "    <tr>\n",
       "      <th>0</th>\n",
       "      <td>The Shawshank Redemption</td>\n",
       "      <td>1994</td>\n",
       "      <td>142</td>\n",
       "      <td>Drama</td>\n",
       "      <td>9.3</td>\n",
       "      <td>Frank Darabont</td>\n",
       "      <td>Tim Robbins</td>\n",
       "      <td>2343110</td>\n",
       "      <td>28341469.0</td>\n",
       "      <td>80.0</td>\n",
       "    </tr>\n",
       "  </tbody>\n",
       "</table>\n",
       "</div>"
      ],
      "text/plain": [
       "               Series_Title  Released_Year  Runtime  Genre  IMDB_Rating  \\\n",
       "0  The Shawshank Redemption           1994      142  Drama          9.3   \n",
       "\n",
       "         Director        Star1  No_of_Votes       Gross  Metascore  \n",
       "0  Frank Darabont  Tim Robbins      2343110  28341469.0       80.0  "
      ]
     },
     "execution_count": 298,
     "metadata": {},
     "output_type": "execute_result"
    }
   ],
   "source": [
    "data[data.No_of_Votes==data.No_of_Votes.max()]"
   ]
  },
  {
   "cell_type": "code",
   "execution_count": 300,
   "id": "4487fe96-ebba-4a53-bb01-70a2737b18fe",
   "metadata": {},
   "outputs": [
    {
     "data": {
      "text/plain": [
       "0    The Shawshank Redemption\n",
       "Name: Series_Title, dtype: object"
      ]
     },
     "execution_count": 300,
     "metadata": {},
     "output_type": "execute_result"
    }
   ],
   "source": [
    "data[data.No_of_Votes==data.No_of_Votes.max()][\"Series_Title\"]  # extracts series from the result"
   ]
  },
  {
   "cell_type": "code",
   "execution_count": 301,
   "id": "532f06bb-863e-498c-b940-82b75acc2f06",
   "metadata": {},
   "outputs": [
    {
     "data": {
      "text/plain": [
       "'The Shawshank Redemption'"
      ]
     },
     "execution_count": 301,
     "metadata": {},
     "output_type": "execute_result"
    }
   ],
   "source": [
    "data[data.No_of_Votes==data.No_of_Votes.max()][\"Series_Title\"][0]  # doesn't want series just string"
   ]
  },
  {
   "cell_type": "markdown",
   "id": "77ebd07f-b141-4097-8c09-04c41b92c057",
   "metadata": {},
   "source": [
    "## Average Rating of Crime Movies"
   ]
  },
  {
   "cell_type": "code",
   "execution_count": 304,
   "id": "ac26a84d-137d-45d5-a58a-2a776e98a9d6",
   "metadata": {},
   "outputs": [
    {
     "data": {
      "text/html": [
       "<div>\n",
       "<style scoped>\n",
       "    .dataframe tbody tr th:only-of-type {\n",
       "        vertical-align: middle;\n",
       "    }\n",
       "\n",
       "    .dataframe tbody tr th {\n",
       "        vertical-align: top;\n",
       "    }\n",
       "\n",
       "    .dataframe thead th {\n",
       "        text-align: right;\n",
       "    }\n",
       "</style>\n",
       "<table border=\"1\" class=\"dataframe\">\n",
       "  <thead>\n",
       "    <tr style=\"text-align: right;\">\n",
       "      <th></th>\n",
       "      <th>Series_Title</th>\n",
       "      <th>Released_Year</th>\n",
       "      <th>Runtime</th>\n",
       "      <th>Genre</th>\n",
       "      <th>IMDB_Rating</th>\n",
       "      <th>Director</th>\n",
       "      <th>Star1</th>\n",
       "      <th>No_of_Votes</th>\n",
       "      <th>Gross</th>\n",
       "      <th>Metascore</th>\n",
       "    </tr>\n",
       "  </thead>\n",
       "  <tbody>\n",
       "    <tr>\n",
       "      <th>1</th>\n",
       "      <td>The Godfather</td>\n",
       "      <td>1972</td>\n",
       "      <td>175</td>\n",
       "      <td>Crime</td>\n",
       "      <td>9.2</td>\n",
       "      <td>Francis Ford Coppola</td>\n",
       "      <td>Marlon Brando</td>\n",
       "      <td>1620367</td>\n",
       "      <td>134966411.0</td>\n",
       "      <td>100.0</td>\n",
       "    </tr>\n",
       "    <tr>\n",
       "      <th>3</th>\n",
       "      <td>The Godfather: Part II</td>\n",
       "      <td>1974</td>\n",
       "      <td>202</td>\n",
       "      <td>Crime</td>\n",
       "      <td>9.0</td>\n",
       "      <td>Francis Ford Coppola</td>\n",
       "      <td>Al Pacino</td>\n",
       "      <td>1129952</td>\n",
       "      <td>57300000.0</td>\n",
       "      <td>90.0</td>\n",
       "    </tr>\n",
       "    <tr>\n",
       "      <th>4</th>\n",
       "      <td>12 Angry Men</td>\n",
       "      <td>1957</td>\n",
       "      <td>96</td>\n",
       "      <td>Crime</td>\n",
       "      <td>9.0</td>\n",
       "      <td>Sidney Lumet</td>\n",
       "      <td>Henry Fonda</td>\n",
       "      <td>689845</td>\n",
       "      <td>4360000.0</td>\n",
       "      <td>96.0</td>\n",
       "    </tr>\n",
       "    <tr>\n",
       "      <th>6</th>\n",
       "      <td>Pulp Fiction</td>\n",
       "      <td>1994</td>\n",
       "      <td>154</td>\n",
       "      <td>Crime</td>\n",
       "      <td>8.9</td>\n",
       "      <td>Quentin Tarantino</td>\n",
       "      <td>John Travolta</td>\n",
       "      <td>1826188</td>\n",
       "      <td>107928762.0</td>\n",
       "      <td>94.0</td>\n",
       "    </tr>\n",
       "    <tr>\n",
       "      <th>22</th>\n",
       "      <td>Cidade de Deus</td>\n",
       "      <td>2002</td>\n",
       "      <td>130</td>\n",
       "      <td>Crime</td>\n",
       "      <td>8.6</td>\n",
       "      <td>Fernando Meirelles</td>\n",
       "      <td>Kátia Lund</td>\n",
       "      <td>699256</td>\n",
       "      <td>7563397.0</td>\n",
       "      <td>79.0</td>\n",
       "    </tr>\n",
       "    <tr>\n",
       "      <th>...</th>\n",
       "      <td>...</td>\n",
       "      <td>...</td>\n",
       "      <td>...</td>\n",
       "      <td>...</td>\n",
       "      <td>...</td>\n",
       "      <td>...</td>\n",
       "      <td>...</td>\n",
       "      <td>...</td>\n",
       "      <td>...</td>\n",
       "      <td>...</td>\n",
       "    </tr>\n",
       "    <tr>\n",
       "      <th>958</th>\n",
       "      <td>Funny Games</td>\n",
       "      <td>1997</td>\n",
       "      <td>108</td>\n",
       "      <td>Crime</td>\n",
       "      <td>7.6</td>\n",
       "      <td>Michael Haneke</td>\n",
       "      <td>Susanne Lothar</td>\n",
       "      <td>65058</td>\n",
       "      <td>217345863.0</td>\n",
       "      <td>69.0</td>\n",
       "    </tr>\n",
       "    <tr>\n",
       "      <th>960</th>\n",
       "      <td>Sleepers</td>\n",
       "      <td>1996</td>\n",
       "      <td>147</td>\n",
       "      <td>Crime</td>\n",
       "      <td>7.6</td>\n",
       "      <td>Barry Levinson</td>\n",
       "      <td>Robert De Niro</td>\n",
       "      <td>186734</td>\n",
       "      <td>49100000.0</td>\n",
       "      <td>49.0</td>\n",
       "    </tr>\n",
       "    <tr>\n",
       "      <th>974</th>\n",
       "      <td>The Godfather: Part III</td>\n",
       "      <td>1990</td>\n",
       "      <td>162</td>\n",
       "      <td>Crime</td>\n",
       "      <td>7.6</td>\n",
       "      <td>Francis Ford Coppola</td>\n",
       "      <td>Al Pacino</td>\n",
       "      <td>359809</td>\n",
       "      <td>66666062.0</td>\n",
       "      <td>60.0</td>\n",
       "    </tr>\n",
       "    <tr>\n",
       "      <th>980</th>\n",
       "      <td>Blood Simple</td>\n",
       "      <td>1984</td>\n",
       "      <td>99</td>\n",
       "      <td>Crime</td>\n",
       "      <td>7.6</td>\n",
       "      <td>Joel Coen</td>\n",
       "      <td>Ethan Coen</td>\n",
       "      <td>87745</td>\n",
       "      <td>2150000.0</td>\n",
       "      <td>82.0</td>\n",
       "    </tr>\n",
       "    <tr>\n",
       "      <th>999</th>\n",
       "      <td>The 39 Steps</td>\n",
       "      <td>1935</td>\n",
       "      <td>86</td>\n",
       "      <td>Crime</td>\n",
       "      <td>7.6</td>\n",
       "      <td>Alfred Hitchcock</td>\n",
       "      <td>Robert Donat</td>\n",
       "      <td>51853</td>\n",
       "      <td>302787539.0</td>\n",
       "      <td>93.0</td>\n",
       "    </tr>\n",
       "  </tbody>\n",
       "</table>\n",
       "<p>107 rows × 10 columns</p>\n",
       "</div>"
      ],
      "text/plain": [
       "                Series_Title  Released_Year  Runtime  Genre  IMDB_Rating  \\\n",
       "1              The Godfather           1972      175  Crime          9.2   \n",
       "3     The Godfather: Part II           1974      202  Crime          9.0   \n",
       "4               12 Angry Men           1957       96  Crime          9.0   \n",
       "6               Pulp Fiction           1994      154  Crime          8.9   \n",
       "22            Cidade de Deus           2002      130  Crime          8.6   \n",
       "..                       ...            ...      ...    ...          ...   \n",
       "958              Funny Games           1997      108  Crime          7.6   \n",
       "960                 Sleepers           1996      147  Crime          7.6   \n",
       "974  The Godfather: Part III           1990      162  Crime          7.6   \n",
       "980             Blood Simple           1984       99  Crime          7.6   \n",
       "999             The 39 Steps           1935       86  Crime          7.6   \n",
       "\n",
       "                 Director           Star1  No_of_Votes        Gross  Metascore  \n",
       "1    Francis Ford Coppola   Marlon Brando      1620367  134966411.0      100.0  \n",
       "3    Francis Ford Coppola       Al Pacino      1129952   57300000.0       90.0  \n",
       "4            Sidney Lumet     Henry Fonda       689845    4360000.0       96.0  \n",
       "6       Quentin Tarantino   John Travolta      1826188  107928762.0       94.0  \n",
       "22     Fernando Meirelles      Kátia Lund       699256    7563397.0       79.0  \n",
       "..                    ...             ...          ...          ...        ...  \n",
       "958        Michael Haneke  Susanne Lothar        65058  217345863.0       69.0  \n",
       "960        Barry Levinson  Robert De Niro       186734   49100000.0       49.0  \n",
       "974  Francis Ford Coppola       Al Pacino       359809   66666062.0       60.0  \n",
       "980             Joel Coen      Ethan Coen        87745    2150000.0       82.0  \n",
       "999      Alfred Hitchcock    Robert Donat        51853  302787539.0       93.0  \n",
       "\n",
       "[107 rows x 10 columns]"
      ]
     },
     "execution_count": 304,
     "metadata": {},
     "output_type": "execute_result"
    }
   ],
   "source": [
    "data[data[\"Genre\"] == \"Crime\"]"
   ]
  },
  {
   "cell_type": "code",
   "execution_count": 305,
   "id": "329cb685-6cf2-4cf5-92d3-48667d6cb1dd",
   "metadata": {},
   "outputs": [
    {
     "data": {
      "text/plain": [
       "1      9.2\n",
       "3      9.0\n",
       "4      9.0\n",
       "6      8.9\n",
       "22     8.6\n",
       "      ... \n",
       "958    7.6\n",
       "960    7.6\n",
       "974    7.6\n",
       "980    7.6\n",
       "999    7.6\n",
       "Name: IMDB_Rating, Length: 107, dtype: float64"
      ]
     },
     "execution_count": 305,
     "metadata": {},
     "output_type": "execute_result"
    }
   ],
   "source": [
    "data[data[\"Genre\"] == \"Crime\"][\"IMDB_Rating\"] # got series"
   ]
  },
  {
   "cell_type": "code",
   "execution_count": 306,
   "id": "9f754213-9dc7-414d-b147-6c63f970453d",
   "metadata": {},
   "outputs": [
    {
     "data": {
      "text/plain": [
       "8.016822429906542"
      ]
     },
     "execution_count": 306,
     "metadata": {},
     "output_type": "execute_result"
    }
   ],
   "source": [
    "data[data[\"Genre\"] == \"Crime\"][\"IMDB_Rating\"].mean()"
   ]
  },
  {
   "cell_type": "code",
   "execution_count": 312,
   "id": "4142601e-f848-4784-93e5-a258d709989a",
   "metadata": {},
   "outputs": [
    {
     "data": {
      "text/html": [
       "<div>\n",
       "<style scoped>\n",
       "    .dataframe tbody tr th:only-of-type {\n",
       "        vertical-align: middle;\n",
       "    }\n",
       "\n",
       "    .dataframe tbody tr th {\n",
       "        vertical-align: top;\n",
       "    }\n",
       "\n",
       "    .dataframe thead th {\n",
       "        text-align: right;\n",
       "    }\n",
       "</style>\n",
       "<table border=\"1\" class=\"dataframe\">\n",
       "  <thead>\n",
       "    <tr style=\"text-align: right;\">\n",
       "      <th></th>\n",
       "      <th>Series_Title</th>\n",
       "      <th>Released_Year</th>\n",
       "      <th>Runtime</th>\n",
       "      <th>Genre</th>\n",
       "      <th>IMDB_Rating</th>\n",
       "      <th>Director</th>\n",
       "      <th>Star1</th>\n",
       "      <th>No_of_Votes</th>\n",
       "      <th>Gross</th>\n",
       "      <th>Metascore</th>\n",
       "    </tr>\n",
       "  </thead>\n",
       "  <tbody>\n",
       "    <tr>\n",
       "      <th>1</th>\n",
       "      <td>The Godfather</td>\n",
       "      <td>1972</td>\n",
       "      <td>175</td>\n",
       "      <td>Crime</td>\n",
       "      <td>9.2</td>\n",
       "      <td>Francis Ford Coppola</td>\n",
       "      <td>Marlon Brando</td>\n",
       "      <td>1620367</td>\n",
       "      <td>134966411.0</td>\n",
       "      <td>100.0</td>\n",
       "    </tr>\n",
       "    <tr>\n",
       "      <th>2</th>\n",
       "      <td>The Dark Knight</td>\n",
       "      <td>2008</td>\n",
       "      <td>152</td>\n",
       "      <td>Action</td>\n",
       "      <td>9.0</td>\n",
       "      <td>Christopher Nolan</td>\n",
       "      <td>Christian Bale</td>\n",
       "      <td>2303232</td>\n",
       "      <td>534858444.0</td>\n",
       "      <td>84.0</td>\n",
       "    </tr>\n",
       "    <tr>\n",
       "      <th>3</th>\n",
       "      <td>The Godfather: Part II</td>\n",
       "      <td>1974</td>\n",
       "      <td>202</td>\n",
       "      <td>Crime</td>\n",
       "      <td>9.0</td>\n",
       "      <td>Francis Ford Coppola</td>\n",
       "      <td>Al Pacino</td>\n",
       "      <td>1129952</td>\n",
       "      <td>57300000.0</td>\n",
       "      <td>90.0</td>\n",
       "    </tr>\n",
       "    <tr>\n",
       "      <th>4</th>\n",
       "      <td>12 Angry Men</td>\n",
       "      <td>1957</td>\n",
       "      <td>96</td>\n",
       "      <td>Crime</td>\n",
       "      <td>9.0</td>\n",
       "      <td>Sidney Lumet</td>\n",
       "      <td>Henry Fonda</td>\n",
       "      <td>689845</td>\n",
       "      <td>4360000.0</td>\n",
       "      <td>96.0</td>\n",
       "    </tr>\n",
       "    <tr>\n",
       "      <th>5</th>\n",
       "      <td>The Lord of the Rings: The Return of the King</td>\n",
       "      <td>2003</td>\n",
       "      <td>201</td>\n",
       "      <td>Action</td>\n",
       "      <td>8.9</td>\n",
       "      <td>Peter Jackson</td>\n",
       "      <td>Elijah Wood</td>\n",
       "      <td>1642758</td>\n",
       "      <td>377845905.0</td>\n",
       "      <td>94.0</td>\n",
       "    </tr>\n",
       "    <tr>\n",
       "      <th>...</th>\n",
       "      <td>...</td>\n",
       "      <td>...</td>\n",
       "      <td>...</td>\n",
       "      <td>...</td>\n",
       "      <td>...</td>\n",
       "      <td>...</td>\n",
       "      <td>...</td>\n",
       "      <td>...</td>\n",
       "      <td>...</td>\n",
       "      <td>...</td>\n",
       "    </tr>\n",
       "    <tr>\n",
       "      <th>980</th>\n",
       "      <td>Blood Simple</td>\n",
       "      <td>1984</td>\n",
       "      <td>99</td>\n",
       "      <td>Crime</td>\n",
       "      <td>7.6</td>\n",
       "      <td>Joel Coen</td>\n",
       "      <td>Ethan Coen</td>\n",
       "      <td>87745</td>\n",
       "      <td>2150000.0</td>\n",
       "      <td>82.0</td>\n",
       "    </tr>\n",
       "    <tr>\n",
       "      <th>982</th>\n",
       "      <td>Mad Max 2</td>\n",
       "      <td>1981</td>\n",
       "      <td>96</td>\n",
       "      <td>Action</td>\n",
       "      <td>7.6</td>\n",
       "      <td>George Miller</td>\n",
       "      <td>Mel Gibson</td>\n",
       "      <td>166588</td>\n",
       "      <td>12465371.0</td>\n",
       "      <td>77.0</td>\n",
       "    </tr>\n",
       "    <tr>\n",
       "      <th>983</th>\n",
       "      <td>The Warriors</td>\n",
       "      <td>1979</td>\n",
       "      <td>92</td>\n",
       "      <td>Action</td>\n",
       "      <td>7.6</td>\n",
       "      <td>Walter Hill</td>\n",
       "      <td>Michael Beck</td>\n",
       "      <td>93878</td>\n",
       "      <td>22490039.0</td>\n",
       "      <td>65.0</td>\n",
       "    </tr>\n",
       "    <tr>\n",
       "      <th>985</th>\n",
       "      <td>Escape from Alcatraz</td>\n",
       "      <td>1979</td>\n",
       "      <td>112</td>\n",
       "      <td>Action</td>\n",
       "      <td>7.6</td>\n",
       "      <td>Don Siegel</td>\n",
       "      <td>Clint Eastwood</td>\n",
       "      <td>121731</td>\n",
       "      <td>43000000.0</td>\n",
       "      <td>76.0</td>\n",
       "    </tr>\n",
       "    <tr>\n",
       "      <th>999</th>\n",
       "      <td>The 39 Steps</td>\n",
       "      <td>1935</td>\n",
       "      <td>86</td>\n",
       "      <td>Crime</td>\n",
       "      <td>7.6</td>\n",
       "      <td>Alfred Hitchcock</td>\n",
       "      <td>Robert Donat</td>\n",
       "      <td>51853</td>\n",
       "      <td>302787539.0</td>\n",
       "      <td>93.0</td>\n",
       "    </tr>\n",
       "  </tbody>\n",
       "</table>\n",
       "<p>279 rows × 10 columns</p>\n",
       "</div>"
      ],
      "text/plain": [
       "                                      Series_Title  Released_Year  Runtime  \\\n",
       "1                                    The Godfather           1972      175   \n",
       "2                                  The Dark Knight           2008      152   \n",
       "3                           The Godfather: Part II           1974      202   \n",
       "4                                     12 Angry Men           1957       96   \n",
       "5    The Lord of the Rings: The Return of the King           2003      201   \n",
       "..                                             ...            ...      ...   \n",
       "980                                   Blood Simple           1984       99   \n",
       "982                                      Mad Max 2           1981       96   \n",
       "983                                   The Warriors           1979       92   \n",
       "985                           Escape from Alcatraz           1979      112   \n",
       "999                                   The 39 Steps           1935       86   \n",
       "\n",
       "      Genre  IMDB_Rating              Director           Star1  No_of_Votes  \\\n",
       "1     Crime          9.2  Francis Ford Coppola   Marlon Brando      1620367   \n",
       "2    Action          9.0     Christopher Nolan  Christian Bale      2303232   \n",
       "3     Crime          9.0  Francis Ford Coppola       Al Pacino      1129952   \n",
       "4     Crime          9.0          Sidney Lumet     Henry Fonda       689845   \n",
       "5    Action          8.9         Peter Jackson     Elijah Wood      1642758   \n",
       "..      ...          ...                   ...             ...          ...   \n",
       "980   Crime          7.6             Joel Coen      Ethan Coen        87745   \n",
       "982  Action          7.6         George Miller      Mel Gibson       166588   \n",
       "983  Action          7.6           Walter Hill    Michael Beck        93878   \n",
       "985  Action          7.6            Don Siegel  Clint Eastwood       121731   \n",
       "999   Crime          7.6      Alfred Hitchcock    Robert Donat        51853   \n",
       "\n",
       "           Gross  Metascore  \n",
       "1    134966411.0      100.0  \n",
       "2    534858444.0       84.0  \n",
       "3     57300000.0       90.0  \n",
       "4      4360000.0       96.0  \n",
       "5    377845905.0       94.0  \n",
       "..           ...        ...  \n",
       "980    2150000.0       82.0  \n",
       "982   12465371.0       77.0  \n",
       "983   22490039.0       65.0  \n",
       "985   43000000.0       76.0  \n",
       "999  302787539.0       93.0  \n",
       "\n",
       "[279 rows x 10 columns]"
      ]
     },
     "execution_count": 312,
     "metadata": {},
     "output_type": "execute_result"
    }
   ],
   "source": [
    "data[(data[\"Genre\"] == \"Crime\") | (data[\"Genre\"] == \"Action\")] # got series"
   ]
  },
  {
   "cell_type": "code",
   "execution_count": 313,
   "id": "78cb5360-1202-4f11-b802-2c21013fa50a",
   "metadata": {},
   "outputs": [
    {
     "data": {
      "text/plain": [
       "7.975268817204302"
      ]
     },
     "execution_count": 313,
     "metadata": {},
     "output_type": "execute_result"
    }
   ],
   "source": [
    "data[(data[\"Genre\"] == \"Crime\") | (data[\"Genre\"] == \"Action\")].IMDB_Rating.mean()"
   ]
  },
  {
   "cell_type": "code",
   "execution_count": 314,
   "id": "1d68cd8b-a6ab-4dfd-b5dc-6838b8c0f4cd",
   "metadata": {},
   "outputs": [
    {
     "data": {
      "text/plain": [
       "1305.0"
      ]
     },
     "execution_count": 314,
     "metadata": {},
     "output_type": "execute_result"
    }
   ],
   "source": [
    "data.Gross.min()"
   ]
  },
  {
   "cell_type": "code",
   "execution_count": 315,
   "id": "311bbb43-7b41-434c-b52b-694e24e0d021",
   "metadata": {},
   "outputs": [
    {
     "data": {
      "text/plain": [
       "630    Anders Thomas Jensen\n",
       "Name: Director, dtype: object"
      ]
     },
     "execution_count": 315,
     "metadata": {},
     "output_type": "execute_result"
    }
   ],
   "source": [
    "data[data.Gross == data.Gross.min()][\"Director\"]  # series"
   ]
  },
  {
   "cell_type": "code",
   "execution_count": 316,
   "id": "4188b6a4-1213-4bc8-8034-963a419c70c5",
   "metadata": {},
   "outputs": [
    {
     "data": {
      "text/plain": [
       "'Anders Thomas Jensen'"
      ]
     },
     "execution_count": 316,
     "metadata": {},
     "output_type": "execute_result"
    }
   ],
   "source": [
    "data[data.Gross == data.Gross.min()][\"Director\"][630] # not ideal"
   ]
  },
  {
   "cell_type": "code",
   "execution_count": 317,
   "id": "6990813f-0c64-4cce-b312-f7c89a2fc699",
   "metadata": {},
   "outputs": [
    {
     "data": {
      "text/plain": [
       "array(['Anders Thomas Jensen'], dtype=object)"
      ]
     },
     "execution_count": 317,
     "metadata": {},
     "output_type": "execute_result"
    }
   ],
   "source": [
    "data[data.Gross == data.Gross.min()][\"Director\"].values  # series.values  -->  gives array"
   ]
  },
  {
   "cell_type": "code",
   "execution_count": 321,
   "id": "ac21cc6f-b3bd-4346-8d6c-2a86c6368e74",
   "metadata": {},
   "outputs": [
    {
     "data": {
      "text/plain": [
       "'Anders Thomas Jensen'"
      ]
     },
     "execution_count": 321,
     "metadata": {},
     "output_type": "execute_result"
    }
   ],
   "source": [
    "data[data.Gross == data.Gross.min()][\"Director\"].values[0] "
   ]
  },
  {
   "cell_type": "markdown",
   "id": "9f25b568-c236-45ec-bc4e-40d17c1f12f6",
   "metadata": {},
   "source": [
    "# Plotting"
   ]
  },
  {
   "cell_type": "code",
   "execution_count": 323,
   "id": "4f766526-26f8-4877-898b-b1734cea55d4",
   "metadata": {},
   "outputs": [
    {
     "data": {
      "text/plain": [
       "Genre\n",
       "Drama        289\n",
       "Action       172\n",
       "Comedy       155\n",
       "Crime        107\n",
       "Biography     88\n",
       "Animation     82\n",
       "Adventure     72\n",
       "Mystery       12\n",
       "Horror        11\n",
       "Western        4\n",
       "Film-Noir      3\n",
       "Fantasy        2\n",
       "Family         2\n",
       "Thriller       1\n",
       "Name: count, dtype: int64"
      ]
     },
     "execution_count": 323,
     "metadata": {},
     "output_type": "execute_result"
    }
   ],
   "source": [
    "data.Genre.value_counts() "
   ]
  },
  {
   "cell_type": "markdown",
   "id": "723dab51-bfe3-4e08-8043-abc9d353a3dd",
   "metadata": {},
   "source": [
    "# Why is it a Series?\n",
    "A pandas Series is a one-dimensional labeled array, where:\n",
    "The index (left side) contains labels (e.g., genre names: \"Drama\", \"Action\", etc.).\n",
    "The values (right side) are the corresponding counts.\n",
    "The last line (Name: count, dtype: int64) suggests that it has a name (count) and contains integer values."
   ]
  },
  {
   "cell_type": "code",
   "execution_count": 325,
   "id": "bd6cb38e-8291-49bd-9af4-ad675b8f8707",
   "metadata": {},
   "outputs": [
    {
     "data": {
      "text/plain": [
       "<BarContainer object of 14 artists>"
      ]
     },
     "execution_count": 325,
     "metadata": {},
     "output_type": "execute_result"
    },
    {
     "data": {
      "image/png": "[encoded data removed]",
      "text/plain": [
       "<Figure size 1600x600 with 1 Axes>"
      ]
     },
     "metadata": {},
     "output_type": "display_data"
    }
   ],
   "source": [
    "plt.figure(figsize = (16,6))\n",
    "plt.bar(x=data.Genre.value_counts().index, height = data.Genre.value_counts().values)"
   ]
  },
  {
   "cell_type": "code",
   "execution_count": 336,
   "id": "df78aee9-d886-4d5c-8764-0bd4debfa835",
   "metadata": {},
   "outputs": [
    {
     "data": {
      "text/html": [
       "<div>\n",
       "<style scoped>\n",
       "    .dataframe tbody tr th:only-of-type {\n",
       "        vertical-align: middle;\n",
       "    }\n",
       "\n",
       "    .dataframe tbody tr th {\n",
       "        vertical-align: top;\n",
       "    }\n",
       "\n",
       "    .dataframe thead th {\n",
       "        text-align: right;\n",
       "    }\n",
       "</style>\n",
       "<table border=\"1\" class=\"dataframe\">\n",
       "  <thead>\n",
       "    <tr style=\"text-align: right;\">\n",
       "      <th></th>\n",
       "      <th>Series_Title</th>\n",
       "      <th>Released_Year</th>\n",
       "      <th>Runtime</th>\n",
       "      <th>Genre</th>\n",
       "      <th>IMDB_Rating</th>\n",
       "      <th>Director</th>\n",
       "      <th>Star1</th>\n",
       "      <th>No_of_Votes</th>\n",
       "      <th>Gross</th>\n",
       "      <th>Metascore</th>\n",
       "    </tr>\n",
       "  </thead>\n",
       "  <tbody>\n",
       "    <tr>\n",
       "      <th>2</th>\n",
       "      <td>The Dark Knight</td>\n",
       "      <td>2008</td>\n",
       "      <td>152</td>\n",
       "      <td>Action</td>\n",
       "      <td>9.0</td>\n",
       "      <td>Christopher Nolan</td>\n",
       "      <td>Christian Bale</td>\n",
       "      <td>2303232</td>\n",
       "      <td>534858444.0</td>\n",
       "      <td>84.0</td>\n",
       "    </tr>\n",
       "    <tr>\n",
       "      <th>5</th>\n",
       "      <td>The Lord of the Rings: The Return of the King</td>\n",
       "      <td>2003</td>\n",
       "      <td>201</td>\n",
       "      <td>Action</td>\n",
       "      <td>8.9</td>\n",
       "      <td>Peter Jackson</td>\n",
       "      <td>Elijah Wood</td>\n",
       "      <td>1642758</td>\n",
       "      <td>377845905.0</td>\n",
       "      <td>94.0</td>\n",
       "    </tr>\n",
       "    <tr>\n",
       "      <th>8</th>\n",
       "      <td>Inception</td>\n",
       "      <td>2010</td>\n",
       "      <td>148</td>\n",
       "      <td>Action</td>\n",
       "      <td>8.8</td>\n",
       "      <td>Christopher Nolan</td>\n",
       "      <td>Leonardo DiCaprio</td>\n",
       "      <td>2067042</td>\n",
       "      <td>292576195.0</td>\n",
       "      <td>74.0</td>\n",
       "    </tr>\n",
       "    <tr>\n",
       "      <th>10</th>\n",
       "      <td>The Lord of the Rings: The Fellowship of the Ring</td>\n",
       "      <td>2001</td>\n",
       "      <td>178</td>\n",
       "      <td>Action</td>\n",
       "      <td>8.8</td>\n",
       "      <td>Peter Jackson</td>\n",
       "      <td>Elijah Wood</td>\n",
       "      <td>1661481</td>\n",
       "      <td>315544750.0</td>\n",
       "      <td>92.0</td>\n",
       "    </tr>\n",
       "    <tr>\n",
       "      <th>13</th>\n",
       "      <td>The Lord of the Rings: The Two Towers</td>\n",
       "      <td>2002</td>\n",
       "      <td>179</td>\n",
       "      <td>Action</td>\n",
       "      <td>8.7</td>\n",
       "      <td>Peter Jackson</td>\n",
       "      <td>Elijah Wood</td>\n",
       "      <td>1485555</td>\n",
       "      <td>342551365.0</td>\n",
       "      <td>87.0</td>\n",
       "    </tr>\n",
       "    <tr>\n",
       "      <th>...</th>\n",
       "      <td>...</td>\n",
       "      <td>...</td>\n",
       "      <td>...</td>\n",
       "      <td>...</td>\n",
       "      <td>...</td>\n",
       "      <td>...</td>\n",
       "      <td>...</td>\n",
       "      <td>...</td>\n",
       "      <td>...</td>\n",
       "      <td>...</td>\n",
       "    </tr>\n",
       "    <tr>\n",
       "      <th>968</th>\n",
       "      <td>Falling Down</td>\n",
       "      <td>1993</td>\n",
       "      <td>113</td>\n",
       "      <td>Action</td>\n",
       "      <td>7.6</td>\n",
       "      <td>Joel Schumacher</td>\n",
       "      <td>Michael Douglas</td>\n",
       "      <td>171640</td>\n",
       "      <td>40903593.0</td>\n",
       "      <td>56.0</td>\n",
       "    </tr>\n",
       "    <tr>\n",
       "      <th>979</th>\n",
       "      <td>Lethal Weapon</td>\n",
       "      <td>1987</td>\n",
       "      <td>109</td>\n",
       "      <td>Action</td>\n",
       "      <td>7.6</td>\n",
       "      <td>Richard Donner</td>\n",
       "      <td>Mel Gibson</td>\n",
       "      <td>236894</td>\n",
       "      <td>65207127.0</td>\n",
       "      <td>68.0</td>\n",
       "    </tr>\n",
       "    <tr>\n",
       "      <th>982</th>\n",
       "      <td>Mad Max 2</td>\n",
       "      <td>1981</td>\n",
       "      <td>96</td>\n",
       "      <td>Action</td>\n",
       "      <td>7.6</td>\n",
       "      <td>George Miller</td>\n",
       "      <td>Mel Gibson</td>\n",
       "      <td>166588</td>\n",
       "      <td>12465371.0</td>\n",
       "      <td>77.0</td>\n",
       "    </tr>\n",
       "    <tr>\n",
       "      <th>983</th>\n",
       "      <td>The Warriors</td>\n",
       "      <td>1979</td>\n",
       "      <td>92</td>\n",
       "      <td>Action</td>\n",
       "      <td>7.6</td>\n",
       "      <td>Walter Hill</td>\n",
       "      <td>Michael Beck</td>\n",
       "      <td>93878</td>\n",
       "      <td>22490039.0</td>\n",
       "      <td>65.0</td>\n",
       "    </tr>\n",
       "    <tr>\n",
       "      <th>985</th>\n",
       "      <td>Escape from Alcatraz</td>\n",
       "      <td>1979</td>\n",
       "      <td>112</td>\n",
       "      <td>Action</td>\n",
       "      <td>7.6</td>\n",
       "      <td>Don Siegel</td>\n",
       "      <td>Clint Eastwood</td>\n",
       "      <td>121731</td>\n",
       "      <td>43000000.0</td>\n",
       "      <td>76.0</td>\n",
       "    </tr>\n",
       "  </tbody>\n",
       "</table>\n",
       "<p>172 rows × 10 columns</p>\n",
       "</div>"
      ],
      "text/plain": [
       "                                          Series_Title  Released_Year  \\\n",
       "2                                      The Dark Knight           2008   \n",
       "5        The Lord of the Rings: The Return of the King           2003   \n",
       "8                                            Inception           2010   \n",
       "10   The Lord of the Rings: The Fellowship of the Ring           2001   \n",
       "13               The Lord of the Rings: The Two Towers           2002   \n",
       "..                                                 ...            ...   \n",
       "968                                       Falling Down           1993   \n",
       "979                                      Lethal Weapon           1987   \n",
       "982                                          Mad Max 2           1981   \n",
       "983                                       The Warriors           1979   \n",
       "985                               Escape from Alcatraz           1979   \n",
       "\n",
       "     Runtime   Genre  IMDB_Rating           Director              Star1  \\\n",
       "2        152  Action          9.0  Christopher Nolan     Christian Bale   \n",
       "5        201  Action          8.9      Peter Jackson        Elijah Wood   \n",
       "8        148  Action          8.8  Christopher Nolan  Leonardo DiCaprio   \n",
       "10       178  Action          8.8      Peter Jackson        Elijah Wood   \n",
       "13       179  Action          8.7      Peter Jackson        Elijah Wood   \n",
       "..       ...     ...          ...                ...                ...   \n",
       "968      113  Action          7.6    Joel Schumacher    Michael Douglas   \n",
       "979      109  Action          7.6     Richard Donner         Mel Gibson   \n",
       "982       96  Action          7.6      George Miller         Mel Gibson   \n",
       "983       92  Action          7.6        Walter Hill       Michael Beck   \n",
       "985      112  Action          7.6         Don Siegel     Clint Eastwood   \n",
       "\n",
       "     No_of_Votes        Gross  Metascore  \n",
       "2        2303232  534858444.0       84.0  \n",
       "5        1642758  377845905.0       94.0  \n",
       "8        2067042  292576195.0       74.0  \n",
       "10       1661481  315544750.0       92.0  \n",
       "13       1485555  342551365.0       87.0  \n",
       "..           ...          ...        ...  \n",
       "968       171640   40903593.0       56.0  \n",
       "979       236894   65207127.0       68.0  \n",
       "982       166588   12465371.0       77.0  \n",
       "983        93878   22490039.0       65.0  \n",
       "985       121731   43000000.0       76.0  \n",
       "\n",
       "[172 rows x 10 columns]"
      ]
     },
     "execution_count": 336,
     "metadata": {},
     "output_type": "execute_result"
    }
   ],
   "source": [
    "data[data.Genre == \"Action\"]"
   ]
  },
  {
   "cell_type": "code",
   "execution_count": 338,
   "id": "c797872a-b2da-42f8-bff9-05f3fcc527df",
   "metadata": {},
   "outputs": [
    {
     "data": {
      "text/plain": [
       "2      534858444.0\n",
       "5      377845905.0\n",
       "8      292576195.0\n",
       "10     315544750.0\n",
       "13     342551365.0\n",
       "          ...     \n",
       "968     40903593.0\n",
       "979     65207127.0\n",
       "982     12465371.0\n",
       "983     22490039.0\n",
       "985     43000000.0\n",
       "Name: Gross, Length: 172, dtype: float64"
      ]
     },
     "execution_count": 338,
     "metadata": {},
     "output_type": "execute_result"
    }
   ],
   "source": [
    "data[data.Genre == \"Action\"].Gross"
   ]
  },
  {
   "cell_type": "code",
   "execution_count": 340,
   "id": "9123cdc6-fbc9-4585-bbe8-3878aea8b099",
   "metadata": {},
   "outputs": [
    {
     "data": {
      "text/plain": [
       "189722449.5"
      ]
     },
     "execution_count": 340,
     "metadata": {},
     "output_type": "execute_result"
    }
   ],
   "source": [
    "data[data.Genre == \"Action\"].Gross.mean()"
   ]
  },
  {
   "cell_type": "code",
   "execution_count": 346,
   "id": "f391a60e-0a18-4348-97d7-5654d4aa798d",
   "metadata": {},
   "outputs": [
    {
     "name": "stderr",
     "output_type": "stream",
     "text": [
      "C:\\Users\\Tesla Laptops\\AppData\\Local\\Temp\\ipykernel_9456\\2849588260.py:1: FutureWarning: The provided callable <built-in function min> is currently using SeriesGroupBy.min. In a future version of pandas, the provided callable will be used directly. To keep current behavior pass the string \"min\" instead.\n",
      "  data.groupby('Genre')['Gross'].aggregate([min,max])\n",
      "C:\\Users\\Tesla Laptops\\AppData\\Local\\Temp\\ipykernel_9456\\2849588260.py:1: FutureWarning: The provided callable <built-in function max> is currently using SeriesGroupBy.max. In a future version of pandas, the provided callable will be used directly. To keep current behavior pass the string \"max\" instead.\n",
      "  data.groupby('Genre')['Gross'].aggregate([min,max])\n"
     ]
    },
    {
     "data": {
      "text/html": [
       "<div>\n",
       "<style scoped>\n",
       "    .dataframe tbody tr th:only-of-type {\n",
       "        vertical-align: middle;\n",
       "    }\n",
       "\n",
       "    .dataframe tbody tr th {\n",
       "        vertical-align: top;\n",
       "    }\n",
       "\n",
       "    .dataframe thead th {\n",
       "        text-align: right;\n",
       "    }\n",
       "</style>\n",
       "<table border=\"1\" class=\"dataframe\">\n",
       "  <thead>\n",
       "    <tr style=\"text-align: right;\">\n",
       "      <th></th>\n",
       "      <th>min</th>\n",
       "      <th>max</th>\n",
       "    </tr>\n",
       "    <tr>\n",
       "      <th>Genre</th>\n",
       "      <th></th>\n",
       "      <th></th>\n",
       "    </tr>\n",
       "  </thead>\n",
       "  <tbody>\n",
       "    <tr>\n",
       "      <th>Action</th>\n",
       "      <td>3296.0</td>\n",
       "      <td>936662225.0</td>\n",
       "    </tr>\n",
       "    <tr>\n",
       "      <th>Adventure</th>\n",
       "      <td>61001.0</td>\n",
       "      <td>874211619.0</td>\n",
       "    </tr>\n",
       "    <tr>\n",
       "      <th>Animation</th>\n",
       "      <td>128985.0</td>\n",
       "      <td>873839108.0</td>\n",
       "    </tr>\n",
       "    <tr>\n",
       "      <th>Biography</th>\n",
       "      <td>21877.0</td>\n",
       "      <td>753585104.0</td>\n",
       "    </tr>\n",
       "    <tr>\n",
       "      <th>Comedy</th>\n",
       "      <td>1305.0</td>\n",
       "      <td>886752933.0</td>\n",
       "    </tr>\n",
       "    <tr>\n",
       "      <th>Crime</th>\n",
       "      <td>6013.0</td>\n",
       "      <td>790482117.0</td>\n",
       "    </tr>\n",
       "    <tr>\n",
       "      <th>Drama</th>\n",
       "      <td>3600.0</td>\n",
       "      <td>924558264.0</td>\n",
       "    </tr>\n",
       "    <tr>\n",
       "      <th>Family</th>\n",
       "      <td>4000000.0</td>\n",
       "      <td>435110554.0</td>\n",
       "    </tr>\n",
       "    <tr>\n",
       "      <th>Fantasy</th>\n",
       "      <td>337574718.0</td>\n",
       "      <td>445151978.0</td>\n",
       "    </tr>\n",
       "    <tr>\n",
       "      <th>Film-Noir</th>\n",
       "      <td>449191.0</td>\n",
       "      <td>123353292.0</td>\n",
       "    </tr>\n",
       "    <tr>\n",
       "      <th>Horror</th>\n",
       "      <td>89029.0</td>\n",
       "      <td>298791505.0</td>\n",
       "    </tr>\n",
       "    <tr>\n",
       "      <th>Mystery</th>\n",
       "      <td>1035953.0</td>\n",
       "      <td>474203697.0</td>\n",
       "    </tr>\n",
       "    <tr>\n",
       "      <th>Thriller</th>\n",
       "      <td>17550741.0</td>\n",
       "      <td>17550741.0</td>\n",
       "    </tr>\n",
       "    <tr>\n",
       "      <th>Western</th>\n",
       "      <td>5321508.0</td>\n",
       "      <td>31800000.0</td>\n",
       "    </tr>\n",
       "  </tbody>\n",
       "</table>\n",
       "</div>"
      ],
      "text/plain": [
       "                   min          max\n",
       "Genre                              \n",
       "Action          3296.0  936662225.0\n",
       "Adventure      61001.0  874211619.0\n",
       "Animation     128985.0  873839108.0\n",
       "Biography      21877.0  753585104.0\n",
       "Comedy          1305.0  886752933.0\n",
       "Crime           6013.0  790482117.0\n",
       "Drama           3600.0  924558264.0\n",
       "Family       4000000.0  435110554.0\n",
       "Fantasy    337574718.0  445151978.0\n",
       "Film-Noir     449191.0  123353292.0\n",
       "Horror         89029.0  298791505.0\n",
       "Mystery      1035953.0  474203697.0\n",
       "Thriller    17550741.0   17550741.0\n",
       "Western      5321508.0   31800000.0"
      ]
     },
     "execution_count": 346,
     "metadata": {},
     "output_type": "execute_result"
    }
   ],
   "source": [
    "data.groupby('Genre')['Gross'].aggregate([min,max])"
   ]
  },
  {
   "cell_type": "code",
   "execution_count": null,
   "id": "c8e26f57-106f-4fd2-ae80-8bd8aad01e23",
   "metadata": {},
   "outputs": [],
   "source": []
  }
 ],
 "metadata": {
  "kernelspec": {
   "display_name": "Python 3 (ipykernel)",
   "language": "python",
   "name": "python3"
  },
  "language_info": {
   "codemirror_mode": {
    "name": "ipython",
    "version": 3
   },
   "file_extension": ".py",
   "mimetype": "text/x-python",
   "name": "python",
   "nbconvert_exporter": "python",
   "pygments_lexer": "ipython3",
   "version": "3.12.7"
  }
 },
 "nbformat": 4,
 "nbformat_minor": 5
}
