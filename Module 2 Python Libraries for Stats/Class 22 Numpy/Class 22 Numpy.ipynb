{
 "cells": [
  {
   "cell_type": "code",
   "execution_count": 1,
   "id": "cc8ae64a-599a-4c72-9754-04ec69ba6954",
   "metadata": {},
   "outputs": [],
   "source": [
    "import numpy as np"
   ]
  },
  {
   "cell_type": "code",
   "execution_count": 3,
   "id": "3ab0b8de-91fc-4c88-b34d-ec9ce9a11261",
   "metadata": {},
   "outputs": [],
   "source": [
    "a = np.zeros((4,4))\n",
    "b = np.ones((4,4))"
   ]
  },
  {
   "cell_type": "code",
   "execution_count": 5,
   "id": "ae182298-7660-4f61-b538-e5e9d8e3b97e",
   "metadata": {},
   "outputs": [
    {
     "data": {
      "text/plain": [
       "array([[0., 0., 0., 0.],\n",
       "       [0., 0., 0., 0.],\n",
       "       [0., 0., 0., 0.],\n",
       "       [0., 0., 0., 0.]])"
      ]
     },
     "execution_count": 5,
     "metadata": {},
     "output_type": "execute_result"
    }
   ],
   "source": [
    "a"
   ]
  },
  {
   "cell_type": "code",
   "execution_count": 7,
   "id": "0a37b1bb-fe13-4e4e-a885-73647b008da2",
   "metadata": {},
   "outputs": [
    {
     "data": {
      "text/plain": [
       "array([[1., 1., 1., 1.],\n",
       "       [1., 1., 1., 1.],\n",
       "       [1., 1., 1., 1.],\n",
       "       [1., 1., 1., 1.]])"
      ]
     },
     "execution_count": 7,
     "metadata": {},
     "output_type": "execute_result"
    }
   ],
   "source": [
    "b"
   ]
  },
  {
   "cell_type": "code",
   "execution_count": 9,
   "id": "cefd3823-98b9-4306-b556-ef5502002521",
   "metadata": {},
   "outputs": [
    {
     "data": {
      "text/plain": [
       "array([[0., 0., 0., 0., 1., 1., 1., 1.],\n",
       "       [0., 0., 0., 0., 1., 1., 1., 1.],\n",
       "       [0., 0., 0., 0., 1., 1., 1., 1.],\n",
       "       [0., 0., 0., 0., 1., 1., 1., 1.]])"
      ]
     },
     "execution_count": 9,
     "metadata": {},
     "output_type": "execute_result"
    }
   ],
   "source": [
    "np.hstack((a,b))"
   ]
  },
  {
   "cell_type": "code",
   "execution_count": 11,
   "id": "56a248d3-4866-4685-b660-3125adb15ef2",
   "metadata": {},
   "outputs": [
    {
     "data": {
      "text/plain": [
       "array([[0., 0., 0., 0.],\n",
       "       [0., 0., 0., 0.],\n",
       "       [0., 0., 0., 0.],\n",
       "       [0., 0., 0., 0.],\n",
       "       [1., 1., 1., 1.],\n",
       "       [1., 1., 1., 1.],\n",
       "       [1., 1., 1., 1.],\n",
       "       [1., 1., 1., 1.]])"
      ]
     },
     "execution_count": 11,
     "metadata": {},
     "output_type": "execute_result"
    }
   ],
   "source": [
    "np.vstack((a,b))"
   ]
  },
  {
   "cell_type": "code",
   "execution_count": 13,
   "id": "764f23ac-93fb-4874-8d2f-2ab8bb48b573",
   "metadata": {},
   "outputs": [],
   "source": [
    "c = np.zeros((3,3))"
   ]
  },
  {
   "cell_type": "code",
   "execution_count": 15,
   "id": "43ae6231-8fe6-4d3f-a91f-501a4b396532",
   "metadata": {},
   "outputs": [
    {
     "data": {
      "text/plain": [
       "array([[0., 0., 0.],\n",
       "       [0., 0., 0.],\n",
       "       [0., 0., 0.]])"
      ]
     },
     "execution_count": 15,
     "metadata": {},
     "output_type": "execute_result"
    }
   ],
   "source": [
    "c"
   ]
  },
  {
   "cell_type": "code",
   "execution_count": 19,
   "id": "9600d94c-376a-4994-929d-d07ada692b8b",
   "metadata": {},
   "outputs": [
    {
     "ename": "ValueError",
     "evalue": "all the input array dimensions except for the concatenation axis must match exactly, but along dimension 0, the array at index 0 has size 4 and the array at index 1 has size 3",
     "output_type": "error",
     "traceback": [
      "\u001b[1;31m---------------------------------------------------------------------------\u001b[0m",
      "\u001b[1;31mValueError\u001b[0m                                Traceback (most recent call last)",
      "Cell \u001b[1;32mIn[19], line 1\u001b[0m\n\u001b[1;32m----> 1\u001b[0m np\u001b[38;5;241m.\u001b[39mhstack((a,c))\n",
      "File \u001b[1;32m~\\anaconda3\\Lib\\site-packages\\numpy\\core\\shape_base.py:359\u001b[0m, in \u001b[0;36mhstack\u001b[1;34m(tup, dtype, casting)\u001b[0m\n\u001b[0;32m    357\u001b[0m     \u001b[38;5;28;01mreturn\u001b[39;00m _nx\u001b[38;5;241m.\u001b[39mconcatenate(arrs, \u001b[38;5;241m0\u001b[39m, dtype\u001b[38;5;241m=\u001b[39mdtype, casting\u001b[38;5;241m=\u001b[39mcasting)\n\u001b[0;32m    358\u001b[0m \u001b[38;5;28;01melse\u001b[39;00m:\n\u001b[1;32m--> 359\u001b[0m     \u001b[38;5;28;01mreturn\u001b[39;00m _nx\u001b[38;5;241m.\u001b[39mconcatenate(arrs, \u001b[38;5;241m1\u001b[39m, dtype\u001b[38;5;241m=\u001b[39mdtype, casting\u001b[38;5;241m=\u001b[39mcasting)\n",
      "\u001b[1;31mValueError\u001b[0m: all the input array dimensions except for the concatenation axis must match exactly, but along dimension 0, the array at index 0 has size 4 and the array at index 1 has size 3"
     ]
    }
   ],
   "source": [
    "np.hstack((a,c))"
   ]
  },
  {
   "cell_type": "raw",
   "id": "292501ce-9606-4cc1-836a-d0148328236b",
   "metadata": {},
   "source": [
    "The arrays must have the same shape along all axes except"
   ]
  },
  {
   "cell_type": "code",
   "execution_count": 21,
   "id": "a10d3fbe-c97d-4970-8359-50853b67d6b5",
   "metadata": {},
   "outputs": [],
   "source": [
    "a = np.arange(16).reshape(4,4)\n",
    "b = np.arange(16,32).reshape(4,4)"
   ]
  },
  {
   "cell_type": "code",
   "execution_count": 23,
   "id": "8571b319-1bdf-4aa0-888e-07ed32cdaff2",
   "metadata": {},
   "outputs": [
    {
     "data": {
      "text/plain": [
       "array([[ 0,  1,  2,  3],\n",
       "       [ 4,  5,  6,  7],\n",
       "       [ 8,  9, 10, 11],\n",
       "       [12, 13, 14, 15]])"
      ]
     },
     "execution_count": 23,
     "metadata": {},
     "output_type": "execute_result"
    }
   ],
   "source": [
    "a"
   ]
  },
  {
   "cell_type": "code",
   "execution_count": 27,
   "id": "858cd828-dd29-478f-9ea7-9c9dfbe3d756",
   "metadata": {},
   "outputs": [
    {
     "data": {
      "text/plain": [
       "array([[16, 17, 18, 19],\n",
       "       [20, 21, 22, 23],\n",
       "       [24, 25, 26, 27],\n",
       "       [28, 29, 30, 31]])"
      ]
     },
     "execution_count": 27,
     "metadata": {},
     "output_type": "execute_result"
    }
   ],
   "source": [
    "b"
   ]
  },
  {
   "cell_type": "code",
   "execution_count": 29,
   "id": "e5b6a9df-3b3a-4af8-90ff-c6ccc4e8d268",
   "metadata": {},
   "outputs": [
    {
     "data": {
      "text/plain": [
       "array([[[ 0, 16],\n",
       "        [ 1, 17],\n",
       "        [ 2, 18],\n",
       "        [ 3, 19]],\n",
       "\n",
       "       [[ 4, 20],\n",
       "        [ 5, 21],\n",
       "        [ 6, 22],\n",
       "        [ 7, 23]],\n",
       "\n",
       "       [[ 8, 24],\n",
       "        [ 9, 25],\n",
       "        [10, 26],\n",
       "        [11, 27]],\n",
       "\n",
       "       [[12, 28],\n",
       "        [13, 29],\n",
       "        [14, 30],\n",
       "        [15, 31]]])"
      ]
     },
     "execution_count": 29,
     "metadata": {},
     "output_type": "execute_result"
    }
   ],
   "source": [
    "np.dstack((a,b))\n",
    "\n",
    "#numpy.dstack\n",
    "'''Stacks arrays along the third axis (axis 2).\n",
    "For 1D arrays, it stacks them to create a 2D array with depth.\n",
    "For 2D arrays, it stacks them to create a 3D array.'''"
   ]
  },
  {
   "cell_type": "code",
   "execution_count": 35,
   "id": "04409de7-b7a7-4e0e-9711-c939e86c880e",
   "metadata": {},
   "outputs": [
    {
     "name": "stdout",
     "output_type": "stream",
     "text": [
      "[[[1 4]\n",
      "  [2 5]\n",
      "  [3 6]]]\n"
     ]
    }
   ],
   "source": [
    "\n",
    "c = np.array([1, 2, 3])\n",
    "d = np.array([4, 5, 6])\n",
    "\n",
    "result = np.dstack((c, d))\n",
    "print(result)\n",
    "# Output:\n",
    "# [[[1 4]\n",
    "#   [2 5]\n",
    "#   [3 6]]]\n"
   ]
  },
  {
   "cell_type": "code",
   "execution_count": 39,
   "id": "f1f6ddb8-4276-4419-a344-7d03bfeb762f",
   "metadata": {},
   "outputs": [
    {
     "name": "stdout",
     "output_type": "stream",
     "text": [
      "[[[1 2 5 6]\n",
      "  [3 4 7 8]]]\n"
     ]
    }
   ],
   "source": [
    "e = np.array([[[1, 2],\n",
    "               [3, 4]]])\n",
    "\n",
    "f = np.array([[[5, 6],\n",
    "               [7, 8]]])\n",
    "\n",
    "result = np.dstack((e, f))\n",
    "print(result)\n",
    "# Output:\n",
    "# [[[ 1  2  5  6]\n",
    "#   [ 3  4  7  8]]]\n"
   ]
  },
  {
   "cell_type": "markdown",
   "id": "5e808386-d9ca-415b-a68c-06e0a5081b7e",
   "metadata": {},
   "source": [
    "Let me clarify `numpy.dstack` with a simple, step-by-step explanation and visualization.\n",
    "\n",
    "---\n",
    "\n",
    "### **What is `numpy.dstack`?**\n",
    "- `dstack` stacks arrays **along the third axis (depth axis)**.\n",
    "- Think of it as \"depth stacking\" where elements of input arrays are layered like pages in a book.\n",
    "\n",
    "---\n",
    "\n",
    "### **Key Points**\n",
    "1. **For 1D arrays**: It creates a 2D array with depth 2.\n",
    "2. **For 2D arrays**: It creates a 3D array by adding a new depth dimension.\n",
    "3. **For 3D arrays**: It stacks along the third axis.\n",
    "\n",
    "---\n",
    "\n",
    "### **Examples**\n",
    "\n",
    "#### **1. Stacking 1D Arrays**\n",
    "```python\n",
    "import numpy as np\n",
    "\n",
    "a = np.array([1, 2, 3])  # Shape: (3,)\n",
    "b = np.array([4, 5, 6])  # Shape: (3,)\n",
    "\n",
    "result = np.dstack((a, b))\n",
    "print(result)\n",
    "```\n",
    "\n",
    "**Output**:\n",
    "```plaintext\n",
    "[[[1 4]\n",
    "  [2 5]\n",
    "  [3 6]]]\n",
    "```\n",
    "\n",
    "**Explanation**:\n",
    "- `a` and `b` are 1D arrays with 3 elements each.\n",
    "- After stacking:\n",
    "  - A new dimension (depth) is added.\n",
    "  - Each element of `a` and `b` is paired along the depth axis:\n",
    "    ```\n",
    "    [\n",
    "        [ [1, 4], [2, 5], [3, 6] ]\n",
    "    ]\n",
    "    ```\n",
    "- The result is a **3D array** with shape `(1, 3, 2)`:\n",
    "  - `1`: 1 \"row\" (new axis added by `dstack`).\n",
    "  - `3`: 3 elements in each row.\n",
    "  - `2`: Depth created by combining `a` and `b`.\n",
    "\n",
    "---\n",
    "\n",
    "#### **2. Stacking 2D Arrays**\n",
    "```python\n",
    "a = np.array([[1, 2, 3],\n",
    "              [4, 5, 6]])  # Shape: (2, 3)\n",
    "\n",
    "b = np.array([[7, 8, 9],\n",
    "              [10, 11, 12]])  # Shape: (2, 3)\n",
    "\n",
    "result = np.dstack((a, b))\n",
    "print(result)\n",
    "```\n",
    "\n",
    "**Output**:\n",
    "```plaintext\n",
    "[[[ 1  7]\n",
    "  [ 2  8]\n",
    "  [ 3  9]]\n",
    "\n",
    " [[ 4 10]\n",
    "  [ 5 11]\n",
    "  [ 6 12]]]\n",
    "```\n",
    "\n",
    "**Explanation**:\n",
    "- `a` and `b` are 2D arrays with the same shape `(2, 3)`.\n",
    "- After stacking:\n",
    "  - Each element in `a` is paired with the corresponding element in `b` along the depth axis.\n",
    "    ```\n",
    "    [\n",
    "        [ [1, 7], [2, 8], [3, 9] ],\n",
    "        [ [4, 10], [5, 11], [6, 12] ]\n",
    "    ]\n",
    "    ```\n",
    "- The result is a **3D array** with shape `(2, 3, 2)`:\n",
    "  - `2`: Number of rows.\n",
    "  - `3`: Number of columns.\n",
    "  - `2`: Depth (number of arrays stacked).\n",
    "\n",
    "---\n",
    "\n",
    "#### **3. Stacking 3D Arrays**\n",
    "```python\n",
    "a = np.array([[[1, 2],\n",
    "               [3, 4]]])  # Shape: (1, 2, 2)\n",
    "\n",
    "b = np.array([[[5, 6],\n",
    "               [7, 8]]])  # Shape: (1, 2, 2)\n",
    "\n",
    "result = np.dstack((a, b))\n",
    "print(result)\n",
    "```\n",
    "\n",
    "**Output**:\n",
    "```plaintext\n",
    "[[[ 1  2  5  6]\n",
    "  [ 3  4  7  8]]]\n",
    "```\n",
    "\n",
    "**Explanation**:\n",
    "- `a` and `b` are 3D arrays with the same shape `(1, 2, 2)`.\n",
    "- After stacking:\n",
    "  - Their depth dimensions are combined, resulting in a deeper array:\n",
    "    ```\n",
    "    [\n",
    "        [\n",
    "            [1, 2, 5, 6],\n",
    "            [3, 4, 7, 8]\n",
    "        ]\n",
    "    ]\n",
    "    ```\n",
    "- The result is a **3D array** with shape `(1, 2, 4)`:\n",
    "  - `1`: Number of pages (unchanged).\n",
    "  - `2`: Number of rows.\n",
    "  - `4`: Depth (2 original + 2 stacked).\n",
    "\n",
    "---\n",
    "\n",
    "### **Visualizing Dimensions**\n",
    "\n",
    "#### Before `dstack`:\n",
    "- `a`:  \n",
    "  ```\n",
    "  [[1, 2, 3],\n",
    "   [4, 5, 6]]\n",
    "  ```\n",
    "\n",
    "- `b`:  \n",
    "  ```\n",
    "  [[7, 8, 9],\n",
    "   [10, 11, 12]]\n",
    "  ```\n",
    "\n",
    "#### After `dstack`:\n",
    "Depth layer 1 (from `a`):\n",
    "```\n",
    "[[1, 2, 3],\n",
    " [4, 5, 6]]\n",
    "```\n",
    "\n",
    "Depth layer 2 (from `b`):\n",
    "```\n",
    "[[7, 8, 9],\n",
    " [10, 11, 12]]\n",
    "```\n",
    "\n",
    "Combined:\n",
    "```\n",
    "[[[ 1, 7],\n",
    "  [ 2, 8],\n",
    "  [ 3, 9]],\n",
    " [[ 4, 10],\n",
    "  [ 5, 11],\n",
    "  [ 6, 12]]]\n",
    "```\n",
    "\n",
    "---\n",
    "\n",
    "### **Key Takeaway**\n",
    "- `dstack` adds depth to the arrays.\n",
    "- Use it when you need to work with an additional \"layer\" of data (e.g., for image processing or pairing corresponding elements).\n",
    "\n",
    "Let me know if you need further clarification or use cases!"
   ]
  },
  {
   "cell_type": "code",
   "execution_count": 42,
   "id": "9742d5a3-8c30-48d7-9057-43ef631e53fa",
   "metadata": {},
   "outputs": [
    {
     "data": {
      "text/plain": [
       "array([[ 0,  1,  2,  3, 16, 17, 18, 19],\n",
       "       [ 4,  5,  6,  7, 20, 21, 22, 23],\n",
       "       [ 8,  9, 10, 11, 24, 25, 26, 27],\n",
       "       [12, 13, 14, 15, 28, 29, 30, 31]])"
      ]
     },
     "execution_count": 42,
     "metadata": {},
     "output_type": "execute_result"
    }
   ],
   "source": [
    "np.concatenate((a, b), axis = 1)"
   ]
  },
  {
   "cell_type": "code",
   "execution_count": 44,
   "id": "cce27e58-7c14-4c2c-a79e-da419b969cdc",
   "metadata": {},
   "outputs": [
    {
     "data": {
      "text/plain": [
       "array([[ 0,  1,  2,  3],\n",
       "       [ 4,  5,  6,  7],\n",
       "       [ 8,  9, 10, 11],\n",
       "       [12, 13, 14, 15],\n",
       "       [16, 17, 18, 19],\n",
       "       [20, 21, 22, 23],\n",
       "       [24, 25, 26, 27],\n",
       "       [28, 29, 30, 31]])"
      ]
     },
     "execution_count": 44,
     "metadata": {},
     "output_type": "execute_result"
    }
   ],
   "source": [
    "np.concatenate((a, b), axis = 0)"
   ]
  },
  {
   "cell_type": "code",
   "execution_count": 46,
   "id": "eef40fe1-7cf9-4f61-acda-dc4a02fc1dd1",
   "metadata": {},
   "outputs": [
    {
     "data": {
      "text/plain": [
       "array([[ 0,  1,  2,  3, 16, 17, 18, 19],\n",
       "       [ 4,  5,  6,  7, 20, 21, 22, 23],\n",
       "       [ 8,  9, 10, 11, 24, 25, 26, 27],\n",
       "       [12, 13, 14, 15, 28, 29, 30, 31]])"
      ]
     },
     "execution_count": 46,
     "metadata": {},
     "output_type": "execute_result"
    }
   ],
   "source": [
    "np.column_stack((a,b))"
   ]
  },
  {
   "cell_type": "code",
   "execution_count": 48,
   "id": "abd2649e-6463-4f50-b83d-5b27c95291f4",
   "metadata": {},
   "outputs": [
    {
     "data": {
      "text/plain": [
       "array([[ 0,  1,  2,  3],\n",
       "       [ 4,  5,  6,  7],\n",
       "       [ 8,  9, 10, 11],\n",
       "       [12, 13, 14, 15],\n",
       "       [16, 17, 18, 19],\n",
       "       [20, 21, 22, 23],\n",
       "       [24, 25, 26, 27],\n",
       "       [28, 29, 30, 31]])"
      ]
     },
     "execution_count": 48,
     "metadata": {},
     "output_type": "execute_result"
    }
   ],
   "source": [
    "np.row_stack((a,b))"
   ]
  },
  {
   "cell_type": "markdown",
   "id": "39883e43-00ab-4b12-815f-91829eead131",
   "metadata": {},
   "source": [
    "### hstack == column_stack == axis=1\n",
    "### vstack == row_stack    == axis=0"
   ]
  },
  {
   "cell_type": "markdown",
   "id": "99aade2d-98c2-4684-a9d3-3f361eb6a17c",
   "metadata": {},
   "source": [
    "# Splitting Arrays"
   ]
  },
  {
   "cell_type": "code",
   "execution_count": 52,
   "id": "c8a214f4-28a6-4644-8542-812d527fd13d",
   "metadata": {},
   "outputs": [
    {
     "data": {
      "text/plain": [
       "array([[ 0,  1,  2,  3],\n",
       "       [ 4,  5,  6,  7],\n",
       "       [ 8,  9, 10, 11],\n",
       "       [12, 13, 14, 15]])"
      ]
     },
     "execution_count": 52,
     "metadata": {},
     "output_type": "execute_result"
    }
   ],
   "source": [
    "a"
   ]
  },
  {
   "cell_type": "code",
   "execution_count": 54,
   "id": "d58a5cc5-2e33-4f32-82cc-ac89b888aeb2",
   "metadata": {},
   "outputs": [
    {
     "data": {
      "text/plain": [
       "[array([[ 0,  1],\n",
       "        [ 4,  5],\n",
       "        [ 8,  9],\n",
       "        [12, 13]]),\n",
       " array([[ 2,  3],\n",
       "        [ 6,  7],\n",
       "        [10, 11],\n",
       "        [14, 15]])]"
      ]
     },
     "execution_count": 54,
     "metadata": {},
     "output_type": "execute_result"
    }
   ],
   "source": [
    "np.hsplit(a,2)"
   ]
  },
  {
   "cell_type": "code",
   "execution_count": 56,
   "id": "6d1c3921-cb85-4155-bac5-0d9cf3a15dc2",
   "metadata": {},
   "outputs": [
    {
     "data": {
      "text/plain": [
       "[array([[0, 1, 2, 3],\n",
       "        [4, 5, 6, 7]]),\n",
       " array([[ 8,  9, 10, 11],\n",
       "        [12, 13, 14, 15]])]"
      ]
     },
     "execution_count": 56,
     "metadata": {},
     "output_type": "execute_result"
    }
   ],
   "source": [
    "np.vsplit(a,2)"
   ]
  },
  {
   "cell_type": "code",
   "execution_count": 58,
   "id": "2bdf628f-220a-40b3-a6dd-7a1183b58530",
   "metadata": {},
   "outputs": [
    {
     "ename": "ValueError",
     "evalue": "array split does not result in an equal division",
     "output_type": "error",
     "traceback": [
      "\u001b[1;31m---------------------------------------------------------------------------\u001b[0m",
      "\u001b[1;31mValueError\u001b[0m                                Traceback (most recent call last)",
      "Cell \u001b[1;32mIn[58], line 1\u001b[0m\n\u001b[1;32m----> 1\u001b[0m np\u001b[38;5;241m.\u001b[39mhsplit(a,\u001b[38;5;241m3\u001b[39m)\n",
      "File \u001b[1;32m~\\anaconda3\\Lib\\site-packages\\numpy\\lib\\shape_base.py:938\u001b[0m, in \u001b[0;36mhsplit\u001b[1;34m(ary, indices_or_sections)\u001b[0m\n\u001b[0;32m    936\u001b[0m     \u001b[38;5;28;01mraise\u001b[39;00m \u001b[38;5;167;01mValueError\u001b[39;00m(\u001b[38;5;124m'\u001b[39m\u001b[38;5;124mhsplit only works on arrays of 1 or more dimensions\u001b[39m\u001b[38;5;124m'\u001b[39m)\n\u001b[0;32m    937\u001b[0m \u001b[38;5;28;01mif\u001b[39;00m ary\u001b[38;5;241m.\u001b[39mndim \u001b[38;5;241m>\u001b[39m \u001b[38;5;241m1\u001b[39m:\n\u001b[1;32m--> 938\u001b[0m     \u001b[38;5;28;01mreturn\u001b[39;00m split(ary, indices_or_sections, \u001b[38;5;241m1\u001b[39m)\n\u001b[0;32m    939\u001b[0m \u001b[38;5;28;01melse\u001b[39;00m:\n\u001b[0;32m    940\u001b[0m     \u001b[38;5;28;01mreturn\u001b[39;00m split(ary, indices_or_sections, \u001b[38;5;241m0\u001b[39m)\n",
      "File \u001b[1;32m~\\anaconda3\\Lib\\site-packages\\numpy\\lib\\shape_base.py:864\u001b[0m, in \u001b[0;36msplit\u001b[1;34m(ary, indices_or_sections, axis)\u001b[0m\n\u001b[0;32m    862\u001b[0m     N \u001b[38;5;241m=\u001b[39m ary\u001b[38;5;241m.\u001b[39mshape[axis]\n\u001b[0;32m    863\u001b[0m     \u001b[38;5;28;01mif\u001b[39;00m N \u001b[38;5;241m%\u001b[39m sections:\n\u001b[1;32m--> 864\u001b[0m         \u001b[38;5;28;01mraise\u001b[39;00m \u001b[38;5;167;01mValueError\u001b[39;00m(\n\u001b[0;32m    865\u001b[0m             \u001b[38;5;124m'\u001b[39m\u001b[38;5;124marray split does not result in an equal division\u001b[39m\u001b[38;5;124m'\u001b[39m) \u001b[38;5;28;01mfrom\u001b[39;00m \u001b[38;5;28;01mNone\u001b[39;00m\n\u001b[0;32m    866\u001b[0m \u001b[38;5;28;01mreturn\u001b[39;00m array_split(ary, indices_or_sections, axis)\n",
      "\u001b[1;31mValueError\u001b[0m: array split does not result in an equal division"
     ]
    }
   ],
   "source": [
    "np.hsplit(a,3)"
   ]
  },
  {
   "cell_type": "code",
   "execution_count": 60,
   "id": "e508d0fd-f40b-484c-80a3-599324aca9f3",
   "metadata": {},
   "outputs": [
    {
     "data": {
      "text/plain": [
       "[array([[ 0],\n",
       "        [ 4],\n",
       "        [ 8],\n",
       "        [12]]),\n",
       " array([[ 1],\n",
       "        [ 5],\n",
       "        [ 9],\n",
       "        [13]]),\n",
       " array([[ 2],\n",
       "        [ 6],\n",
       "        [10],\n",
       "        [14]]),\n",
       " array([[ 3],\n",
       "        [ 7],\n",
       "        [11],\n",
       "        [15]])]"
      ]
     },
     "execution_count": 60,
     "metadata": {},
     "output_type": "execute_result"
    }
   ],
   "source": [
    "np.hsplit(a,4)"
   ]
  },
  {
   "cell_type": "code",
   "execution_count": 62,
   "id": "3213d967-e7cc-4816-9eef-68c8bed5814d",
   "metadata": {},
   "outputs": [
    {
     "data": {
      "text/plain": [
       "[array([[ 0,  1],\n",
       "        [ 4,  5],\n",
       "        [ 8,  9],\n",
       "        [12, 13]]),\n",
       " array([[ 2,  3],\n",
       "        [ 6,  7],\n",
       "        [10, 11],\n",
       "        [14, 15]])]"
      ]
     },
     "execution_count": 62,
     "metadata": {},
     "output_type": "execute_result"
    }
   ],
   "source": [
    "np.split(a, 2, axis = 1)  # basically column split"
   ]
  },
  {
   "cell_type": "code",
   "execution_count": 64,
   "id": "d47fcc3f-b4ee-4c48-80c4-76eefa9d11e1",
   "metadata": {},
   "outputs": [
    {
     "data": {
      "text/plain": [
       "[array([[0, 1, 2, 3],\n",
       "        [4, 5, 6, 7]]),\n",
       " array([[ 8,  9, 10, 11],\n",
       "        [12, 13, 14, 15]])]"
      ]
     },
     "execution_count": 64,
     "metadata": {},
     "output_type": "execute_result"
    }
   ],
   "source": [
    "np.split(a, 2, axis = 0)   # basically row split "
   ]
  },
  {
   "cell_type": "markdown",
   "id": "a52166af-d955-4a6b-907a-88b6a4ab206b",
   "metadata": {},
   "source": [
    "### Understanding Axes in NumPy\n",
    "- Axis 0: Refers to rows (the \"vertical\" direction).\n",
    "Operations along axis 0 act across rows.\n",
    "- Axis 1: Refers to columns (the \"horizontal\" direction).\n",
    "Operations along axis 1 act across columns."
   ]
  },
  {
   "cell_type": "markdown",
   "id": "f49f74a7-72d2-4663-a564-c11ef9cc0fd5",
   "metadata": {},
   "source": [
    "# Numerical Methods of Numpy Arrays\n"
   ]
  },
  {
   "cell_type": "code",
   "execution_count": 69,
   "id": "8235c0bb-b017-47e8-913e-9e7ae98c1f51",
   "metadata": {},
   "outputs": [
    {
     "name": "stdout",
     "output_type": "stream",
     "text": [
      "[[34 56 23]\n",
      " [ 2 76  8]\n",
      " [ 8  7  0]]\n"
     ]
    }
   ],
   "source": [
    "m = np.array([[34,56,23],[2,76,8],[8,7,0]])\n",
    "print (m)"
   ]
  },
  {
   "cell_type": "code",
   "execution_count": null,
   "id": "6d541e99-40fb-49cb-a68c-904e7d789904",
   "metadata": {},
   "outputs": [],
   "source": []
  }
 ],
 "metadata": {
  "kernelspec": {
   "display_name": "Python 3 (ipykernel)",
   "language": "python",
   "name": "python3"
  },
  "language_info": {
   "codemirror_mode": {
    "name": "ipython",
    "version": 3
   },
   "file_extension": ".py",
   "mimetype": "text/x-python",
   "name": "python",
   "nbconvert_exporter": "python",
   "pygments_lexer": "ipython3",
   "version": "3.12.7"
  }
 },
 "nbformat": 4,
 "nbformat_minor": 5
}
