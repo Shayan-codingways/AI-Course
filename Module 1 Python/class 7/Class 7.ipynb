{
 "cells": [
  {
   "cell_type": "markdown",
   "id": "319adf08-4208-44d6-8920-ccf56d99c685",
   "metadata": {},
   "source": [
    "# Nested ifs"
   ]
  },
  {
   "cell_type": "code",
   "execution_count": 19,
   "id": "0a2912aa-a4a9-4c65-a6bb-c0565d664076",
   "metadata": {},
   "outputs": [
    {
     "name": "stdin",
     "output_type": "stream",
     "text": [
      "Do you have a class today?  yes\n",
      "Do you have a id_card?  no\n",
      "Is your attendance complete?  no\n",
      "Assignment done?  no\n"
     ]
    },
    {
     "name": "stdout",
     "output_type": "stream",
     "text": [
      "You can't attend class today!\n"
     ]
    }
   ],
   "source": [
    "class_days = input (\"Do you have a class today? \" )\n",
    "id_card=input (\"Do you have a id_card? \" )\n",
    "assignment = input (\"Assignment done? \" )\n",
    "\n",
    "if class_days == 'yes' :s\n",
    "     if id_card == \"yes\":\n",
    "        if assignment == \"yes\":\n",
    "            print(\"Attend!\")\n",
    "        else : \n",
    "            print (\"You can't attend class\")      \n",
    "     else: \n",
    "        print(\"You can't attend class today!\")\n",
    "else:\n",
    "    print(\"You can't attend class!\")"
   ]
  },
  {
   "cell_type": "markdown",
   "id": "2f2e8c22-ea83-48bd-bb61-b763912457a2",
   "metadata": {},
   "source": [
    "# some questions"
   ]
  },
  {
   "cell_type": "markdown",
   "id": "480d4dc3-6e3a-4d07-a87a-43bce734b5f8",
   "metadata": {},
   "source": [
    "1. Write a program that accepts a list from user and print the alternate element of list."
   ]
  },
  {
   "cell_type": "code",
   "execution_count": 7,
   "id": "a0d36e1c-c968-462b-b567-2992dc387ea5",
   "metadata": {},
   "outputs": [
    {
     "name": "stdin",
     "output_type": "stream",
     "text": [
      "Enter memebrs of list 3,4,555,4,,4,4,5\n"
     ]
    },
    {
     "name": "stdout",
     "output_type": "stream",
     "text": [
      "['3', '555', '', '4']\n"
     ]
    }
   ],
   "source": [
    "lst = input(\"Enter membrs of list\").split(\",\")\n",
    "\n",
    "print(lst[::2]) # slice with step of 2"
   ]
  },
  {
   "cell_type": "code",
   "execution_count": 9,
   "id": "ac6efae4-ee7a-4408-80a4-df2c0a7d64c1",
   "metadata": {},
   "outputs": [
    {
     "data": {
      "text/plain": [
       "['h', 'll', 'o']"
      ]
     },
     "execution_count": 9,
     "metadata": {},
     "output_type": "execute_result"
    }
   ],
   "source": [
    "\"helleo\".split('e')"
   ]
  },
  {
   "cell_type": "code",
   "execution_count": 11,
   "id": "fa45b8e8-ea5f-4a09-9d1e-15127af25c7e",
   "metadata": {},
   "outputs": [
    {
     "data": {
      "text/plain": [
       "['3', '4', '555', '4', '', '4', '4', '5']"
      ]
     },
     "execution_count": 11,
     "metadata": {},
     "output_type": "execute_result"
    }
   ],
   "source": [
    "lst"
   ]
  },
  {
   "cell_type": "code",
   "execution_count": 13,
   "id": "c4888398-3bd1-4ea6-aeab-c20725f49395",
   "metadata": {},
   "outputs": [
    {
     "data": {
      "text/plain": [
       "'3,4,555,4,,4,4,5'"
      ]
     },
     "execution_count": 13,
     "metadata": {},
     "output_type": "execute_result"
    }
   ],
   "source": [
    "\",\".join(lst)"
   ]
  },
  {
   "cell_type": "code",
   "execution_count": 15,
   "id": "7d7e31de-05e7-4cac-9c77-f511625b8151",
   "metadata": {},
   "outputs": [
    {
     "data": {
      "text/plain": [
       "'1*2*3*4*5*6*6'"
      ]
     },
     "execution_count": 15,
     "metadata": {},
     "output_type": "execute_result"
    }
   ],
   "source": [
    "\"*\".join([\"1\",\"2\",\"3\",\"4\",\"5\",\"6\",\"6\"])"
   ]
  },
  {
   "cell_type": "code",
   "execution_count": 17,
   "id": "cf1d07eb-a03f-42e8-b02d-48b99ed8e902",
   "metadata": {},
   "outputs": [
    {
     "data": {
      "text/plain": [
       "['1', '2', '3', '4', '5', '6', '6']"
      ]
     },
     "execution_count": 17,
     "metadata": {},
     "output_type": "execute_result"
    }
   ],
   "source": [
    "'1*2*3*4*5*6*6'.split(\"*\")"
   ]
  },
  {
   "cell_type": "code",
   "execution_count": 19,
   "id": "c66b2e9f-e110-4a0d-bf50-049c456648fc",
   "metadata": {},
   "outputs": [],
   "source": [
    "mamueasyshop =  {\"charger\":500,\"datacable\":250, \"backcover\":300,\n",
    "            \"handsfree\":800,\"protector\":200,\"sim\":500, \"powerbank\":1000,\n",
    "            \"usb\":500, \"battery\":1500,\"mouse\":300,\"keyboard\":750}"
   ]
  },
  {
   "cell_type": "code",
   "execution_count": null,
   "id": "16489249-1aa1-483a-b44c-df023b7c8d57",
   "metadata": {},
   "outputs": [],
   "source": [
    "item_name = input(\"Baji kia chahye? \")\n",
    "if item_name in mamueasyshop:\n",
    "    quantity = int(input(f\"How many {item_name}\"))\n",
    "    total = quantity * mamueasyshop['item_name']\n",
    "    print(f\"\")\n",
    "else:\n",
    "    print(\"Sorry Baji\")"
   ]
  },
  {
   "cell_type": "code",
   "execution_count": null,
   "id": "3e5c21b4-d969-46bc-b0a9-f398931bc2e9",
   "metadata": {},
   "outputs": [],
   "source": []
  }
 ],
 "metadata": {
  "kernelspec": {
   "display_name": "Python 3 (ipykernel)",
   "language": "python",
   "name": "python3"
  },
  "language_info": {
   "codemirror_mode": {
    "name": "ipython",
    "version": 3
   },
   "file_extension": ".py",
   "mimetype": "text/x-python",
   "name": "python",
   "nbconvert_exporter": "python",
   "pygments_lexer": "ipython3",
   "version": "3.12.7"
  }
 },
 "nbformat": 4,
 "nbformat_minor": 5
}
