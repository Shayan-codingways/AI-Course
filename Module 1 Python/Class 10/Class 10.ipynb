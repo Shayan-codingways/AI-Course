{
 "cells": [
  {
   "cell_type": "markdown",
   "id": "787df6a2-06a3-4a4e-b8f4-5887820b158c",
   "metadata": {},
   "source": [
    "# More on Functions !"
   ]
  },
  {
   "cell_type": "markdown",
   "id": "0ed1f024-0258-4171-adaf-00dde27ea032",
   "metadata": {},
   "source": [
    "# printing withing a function is due debugging and our own ease but return need"
   ]
  },
  {
   "cell_type": "code",
   "execution_count": 3,
   "id": "607c4e89-ffe6-4512-b997-024a9a5ab84c",
   "metadata": {},
   "outputs": [],
   "source": [
    "name = \"test\"   # globbl\n",
    "def profile_builder(name, age, qualification, income, **other_info):\n",
    "    profile = {} # local varaible\n",
    "    profile['name'] = name\n",
    "    profile['age'] = age\n",
    "    profile['qualification'] = qualification\n",
    "    profile['income'] = income\n",
    "    # profile['city'] = other_info['city']\n",
    "    profile.update(other_info)\n",
    "    return profile"
   ]
  },
  {
   "cell_type": "code",
   "execution_count": 5,
   "id": "75648a8a-daab-4ccc-9f92-ea0f964359f5",
   "metadata": {},
   "outputs": [
    {
     "data": {
      "text/plain": [
       "{'name': 'arish',\n",
       " 'age': 24,\n",
       " 'qualification': 'Graduate',\n",
       " 'income': 40000,\n",
       " 'city': 'karachi',\n",
       " 'height': '5.8\"',\n",
       " 'complexion': 'Fair',\n",
       " 'profession': 'datascientsit'}"
      ]
     },
     "execution_count": 5,
     "metadata": {},
     "output_type": "execute_result"
    }
   ],
   "source": [
    "profile_builder('arish',24,'Graduate', 40000, city='karachi', height='5.8\"', complexion='Fair', profession='datascientsit')"
   ]
  },
  {
   "cell_type": "code",
   "execution_count": 7,
   "id": "432cee67-4034-4127-aefe-8ce6bea365af",
   "metadata": {},
   "outputs": [
    {
     "ename": "NameError",
     "evalue": "name 'profile' is not defined",
     "output_type": "error",
     "traceback": [
      "\u001b[1;31m---------------------------------------------------------------------------\u001b[0m",
      "\u001b[1;31mNameError\u001b[0m                                 Traceback (most recent call last)",
      "Cell \u001b[1;32mIn[7], line 1\u001b[0m\n\u001b[1;32m----> 1\u001b[0m \u001b[38;5;28mprint\u001b[39m(profile)\n",
      "\u001b[1;31mNameError\u001b[0m: name 'profile' is not defined"
     ]
    }
   ],
   "source": [
    "print(profile)  # it was a local variable within function scope"
   ]
  },
  {
   "cell_type": "code",
   "execution_count": 13,
   "id": "a0d7c028-d353-4d33-af66-5a5afe05fffe",
   "metadata": {},
   "outputs": [],
   "source": [
    "def add(a,b):\n",
    "    print(a+b)"
   ]
  },
  {
   "cell_type": "code",
   "execution_count": 17,
   "id": "9620b8ec-3fd5-43e0-b544-f641cade52ae",
   "metadata": {},
   "outputs": [
    {
     "name": "stdout",
     "output_type": "stream",
     "text": [
      "30\n"
     ]
    },
    {
     "ename": "TypeError",
     "evalue": "unsupported operand type(s) for +: 'NoneType' and 'int'",
     "output_type": "error",
     "traceback": [
      "\u001b[1;31m---------------------------------------------------------------------------\u001b[0m",
      "\u001b[1;31mTypeError\u001b[0m                                 Traceback (most recent call last)",
      "Cell \u001b[1;32mIn[17], line 1\u001b[0m\n\u001b[1;32m----> 1\u001b[0m add(\u001b[38;5;241m10\u001b[39m,\u001b[38;5;241m20\u001b[39m) \u001b[38;5;241m+\u001b[39m \u001b[38;5;241m10\u001b[39m\n",
      "\u001b[1;31mTypeError\u001b[0m: unsupported operand type(s) for +: 'NoneType' and 'int'"
     ]
    }
   ],
   "source": [
    "add(10,20) + 10 "
   ]
  },
  {
   "cell_type": "code",
   "execution_count": 46,
   "id": "7f22331a-9584-4a41-bd7c-d077e980c8bc",
   "metadata": {},
   "outputs": [],
   "source": [
    "# function without return gives none.\n",
    "def add(a,b):\n",
    "    a+b"
   ]
  },
  {
   "cell_type": "code",
   "execution_count": 48,
   "id": "38526ca8-c015-4e5a-8ab3-a29c65bf2134",
   "metadata": {},
   "outputs": [
    {
     "name": "stdout",
     "output_type": "stream",
     "text": [
      "None\n"
     ]
    }
   ],
   "source": [
    "print(add(4,5))  # value wasn't returned"
   ]
  },
  {
   "cell_type": "code",
   "execution_count": 54,
   "id": "2b7796a5-b3c2-4544-b8de-2f066c5cf6c3",
   "metadata": {},
   "outputs": [
    {
     "name": "stdout",
     "output_type": "stream",
     "text": [
      "None\n"
     ]
    }
   ],
   "source": [
    "c=add(3,4)\n",
    "print(c)\n"
   ]
  },
  {
   "cell_type": "code",
   "execution_count": 27,
   "id": "76008863-2398-4fb9-a5af-2006a009c076",
   "metadata": {},
   "outputs": [],
   "source": [
    "def add(a,b):\n",
    "    return a+b"
   ]
  },
  {
   "cell_type": "code",
   "execution_count": 29,
   "id": "95d8b9b9-3f3f-4857-aa9f-b44c8749f5ab",
   "metadata": {},
   "outputs": [
    {
     "name": "stdout",
     "output_type": "stream",
     "text": [
      "5\n"
     ]
    }
   ],
   "source": [
    "print(add(2,3))"
   ]
  },
  {
   "cell_type": "code",
   "execution_count": 35,
   "id": "3a279374-c290-47c4-bbb5-33cf1cae3034",
   "metadata": {},
   "outputs": [],
   "source": [
    "c=add(3,4)"
   ]
  },
  {
   "cell_type": "code",
   "execution_count": 37,
   "id": "7365b40f-3900-4d64-b3b4-dcd093f5e9cd",
   "metadata": {},
   "outputs": [
    {
     "data": {
      "text/plain": [
       "7"
      ]
     },
     "execution_count": 37,
     "metadata": {},
     "output_type": "execute_result"
    }
   ],
   "source": [
    "c\n"
   ]
  },
  {
   "cell_type": "code",
   "execution_count": null,
   "id": "c5ab36f0-0350-4c1e-8ec7-aebd1235e2be",
   "metadata": {},
   "outputs": [],
   "source": [
    "def add(a,b):\n",
    "    return a+b, \"Pakistan Zindabad\""
   ]
  },
  {
   "cell_type": "code",
   "execution_count": 39,
   "id": "32077808-98e2-45fc-836f-9f543eefaeb1",
   "metadata": {},
   "outputs": [
    {
     "data": {
      "text/plain": [
       "9"
      ]
     },
     "execution_count": 39,
     "metadata": {},
     "output_type": "execute_result"
    }
   ],
   "source": [
    "add(4,5)"
   ]
  },
  {
   "cell_type": "markdown",
   "id": "0ac4ad30-ecee-4c50-9df9-8389d29986c3",
   "metadata": {},
   "source": [
    "## salesman: commmsionCalc\n",
    "## taxCalc\n",
    "## Payment"
   ]
  },
  {
   "cell_type": "code",
   "execution_count": 41,
   "id": "27a88ebe-ec99-4047-89fb-98037df59731",
   "metadata": {},
   "outputs": [],
   "source": [
    "def TaxCalc(income):\n",
    "    if income>=50000:\n",
    "        return income*0.10\n",
    "    elif income>=40000:\n",
    "        return income*0.05\n",
    "    elif income>=30000:\n",
    "        return income*0.03\n",
    "    else:\n",
    "        return income*0\n",
    "        "
   ]
  },
  {
   "cell_type": "code",
   "execution_count": 44,
   "id": "13af35b4-e7e8-40ae-a032-f9fc9549c7ae",
   "metadata": {},
   "outputs": [],
   "source": [
    "def CommisionCalc(units):\n",
    "    if units >=500:\n",
    "        return 10000\n",
    "    elif units>=250:\n",
    "        return 5000\n",
    "    elif units>=100:\n",
    "        return 2000\n",
    "    else:\n",
    "        return 1000"
   ]
  },
  {
   "cell_type": "code",
   "execution_count": 56,
   "id": "d8be2a39-9e0f-4cc2-8d1f-edcf545618f8",
   "metadata": {},
   "outputs": [],
   "source": [
    "def SalaryCalculator(basic, units_sales):\n",
    "    comision = CommisionCalc(units_sales)\n",
    "    total = basic+comision\n",
    "    tax = TaxCalc(total)\n",
    "    net  = total - tax\n",
    "    return net"
   ]
  },
  {
   "cell_type": "code",
   "execution_count": 58,
   "id": "ff54760f-272c-4cfa-92f2-c97088d05ef5",
   "metadata": {},
   "outputs": [
    {
     "data": {
      "text/plain": [
       "46800.0"
      ]
     },
     "execution_count": 58,
     "metadata": {},
     "output_type": "execute_result"
    }
   ],
   "source": [
    "SalaryCalculator(50000, 120)"
   ]
  },
  {
   "cell_type": "code",
   "execution_count": 66,
   "id": "ab88cc78-118f-4417-84d1-5f9fd1d1d58c",
   "metadata": {},
   "outputs": [],
   "source": [
    "## Sum of List"
   ]
  },
  {
   "cell_type": "code",
   "execution_count": 3,
   "id": "ad03b425-d3e0-486d-a940-a01f2559b777",
   "metadata": {},
   "outputs": [],
   "source": [
    "def sum_list(lst):\n",
    "    s = 0\n",
    "    for a in lst:\n",
    "        s+=a\n",
    "    return s   "
   ]
  },
  {
   "cell_type": "code",
   "execution_count": 5,
   "id": "14a5fa7b-3776-4fa8-981a-416e323eb951",
   "metadata": {},
   "outputs": [
    {
     "data": {
      "text/plain": [
       "55"
      ]
     },
     "execution_count": 5,
     "metadata": {},
     "output_type": "execute_result"
    }
   ],
   "source": [
    "sum_list([9,8,7,6,5,4,3,2,1,10])"
   ]
  },
  {
   "cell_type": "code",
   "execution_count": null,
   "id": "3719f0c1-9a77-486c-8871-d334d225decb",
   "metadata": {},
   "outputs": [],
   "source": [
    "# max number finder"
   ]
  },
  {
   "cell_type": "code",
   "execution_count": 7,
   "id": "0e306fa7-5fd7-4b33-993f-0cbb2ee95480",
   "metadata": {},
   "outputs": [],
   "source": [
    "def max_list(lst):\n",
    "    max_num = lst[0]\n",
    "    for n in lst:\n",
    "        if n > max_num:\n",
    "            max_num = n\n",
    "    return max_num"
   ]
  },
  {
   "cell_type": "code",
   "execution_count": 9,
   "id": "0c3dc678-d42c-4ae8-a304-e6c2e4e9c146",
   "metadata": {},
   "outputs": [
    {
     "data": {
      "text/plain": [
       "145"
      ]
     },
     "execution_count": 9,
     "metadata": {},
     "output_type": "execute_result"
    }
   ],
   "source": [
    "max_list([12,34,34,23,145,65,78,90,34,2])"
   ]
  },
  {
   "cell_type": "markdown",
   "id": "b30d9f5c-ac58-43eb-9282-dc8a8f53e86c",
   "metadata": {},
   "source": [
    "### Question:\n",
    "With a given integral number n, write a program to generate a dictionary that contains (i, i*i) such that is an integral number between 1 and n (both included). and then the program should print the dictionary.\n",
    "Suppose the following input is supplied to the program:\n",
    "8\n",
    "Then, the output should be:\n",
    "{1: 1, 2: 4, 3: 9, 4: 16, 5: 25, 6: 36, 7: 49, 8: 64}"
   ]
  },
  {
   "cell_type": "code",
   "execution_count": 14,
   "id": "3f8ab893-6c47-4131-89db-d29de3d9968a",
   "metadata": {},
   "outputs": [],
   "source": [
    "def square_dic(n):\n",
    "    sq = {}\n",
    "    for a in range(1,n+1):\n",
    "        square = a**2\n",
    "        sq[a] = square\n",
    "    return sq  "
   ]
  },
  {
   "cell_type": "code",
   "execution_count": 16,
   "id": "538e130c-2bff-4a8b-a2e7-86d62ffdc255",
   "metadata": {},
   "outputs": [
    {
     "data": {
      "text/plain": [
       "{1: 1, 2: 4, 3: 9, 4: 16, 5: 25, 6: 36, 7: 49, 8: 64, 9: 81, 10: 100}"
      ]
     },
     "execution_count": 16,
     "metadata": {},
     "output_type": "execute_result"
    }
   ],
   "source": [
    "square_dic(10)"
   ]
  },
  {
   "cell_type": "markdown",
   "id": "1932aec8-5551-464d-a760-97067a8cf16c",
   "metadata": {},
   "source": [
    "## Question:\n",
    "Write a program which accepts a sequence of comma separated 4 digit binary numbers \n",
    "as its input and then check whether they are divisible by 5 or not. \n",
    "The numbers that are divisible by 5 are to be printed in a comma separated sequence.\n",
    "Example:\n",
    "0100,0011,1010,1001\n",
    "Then the output should be:\n",
    "1010\n"
   ]
  },
  {
   "cell_type": "code",
   "execution_count": null,
   "id": "bb4f6b92-23f3-432d-8caa-620b46a29a82",
   "metadata": {},
   "outputs": [],
   "source": []
  }
 ],
 "metadata": {
  "kernelspec": {
   "display_name": "Python 3 (ipykernel)",
   "language": "python",
   "name": "python3"
  },
  "language_info": {
   "codemirror_mode": {
    "name": "ipython",
    "version": 3
   },
   "file_extension": ".py",
   "mimetype": "text/x-python",
   "name": "python",
   "nbconvert_exporter": "python",
   "pygments_lexer": "ipython3",
   "version": "3.12.7"
  }
 },
 "nbformat": 4,
 "nbformat_minor": 5
}
