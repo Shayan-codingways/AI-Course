{
 "cells": [
  {
   "cell_type": "code",
   "execution_count": 5,
   "id": "3e98d548-4ef4-4613-bedb-f0d05c21c9dd",
   "metadata": {},
   "outputs": [],
   "source": [
    "a,b=5,6"
   ]
  },
  {
   "cell_type": "code",
   "execution_count": 7,
   "id": "b462aaf8-4256-42b4-9f8d-75dc86f5403e",
   "metadata": {},
   "outputs": [
    {
     "data": {
      "text/plain": [
       "5"
      ]
     },
     "execution_count": 7,
     "metadata": {},
     "output_type": "execute_result"
    }
   ],
   "source": [
    "a\n"
   ]
  },
  {
   "cell_type": "code",
   "execution_count": 9,
   "id": "56a0c4dd-bc2a-4c38-a962-a9656b627425",
   "metadata": {},
   "outputs": [
    {
     "data": {
      "text/plain": [
       "6"
      ]
     },
     "execution_count": 9,
     "metadata": {},
     "output_type": "execute_result"
    }
   ],
   "source": [
    "b"
   ]
  },
  {
   "cell_type": "markdown",
   "id": "bdc4cccd-a67f-4763-ba40-fd1aebb36dfc",
   "metadata": {},
   "source": [
    "# List in List"
   ]
  },
  {
   "cell_type": "code",
   "execution_count": 48,
   "id": "7e64bdb9-a2f5-44a6-80fc-a5117b2516d6",
   "metadata": {},
   "outputs": [
    {
     "data": {
      "text/plain": [
       "[2, 3, 4, 5, [11, 12, 13, 14], 7, 8]"
      ]
     },
     "execution_count": 48,
     "metadata": {},
     "output_type": "execute_result"
    }
   ],
   "source": [
    "numbers  = [2,3,4,5, [11,12,13,14], 7,8]\n",
    "numbers"
   ]
  },
  {
   "cell_type": "code",
   "execution_count": 51,
   "id": "9ad69a09-490b-4968-bb69-90797ebfab35",
   "metadata": {},
   "outputs": [
    {
     "data": {
      "text/plain": [
       "7"
      ]
     },
     "execution_count": 51,
     "metadata": {},
     "output_type": "execute_result"
    }
   ],
   "source": [
    "len(numbers)\n"
   ]
  },
  {
   "cell_type": "code",
   "execution_count": 53,
   "id": "7806d9d1-4a4a-4ec8-9af7-871296586d19",
   "metadata": {},
   "outputs": [
    {
     "data": {
      "text/plain": [
       "[11, 12, 13, 14]"
      ]
     },
     "execution_count": 53,
     "metadata": {},
     "output_type": "execute_result"
    }
   ],
   "source": [
    "numbers[4]"
   ]
  },
  {
   "cell_type": "code",
   "execution_count": 55,
   "id": "722150d6-8d24-4631-8ebf-95f8a4a9c987",
   "metadata": {},
   "outputs": [
    {
     "data": {
      "text/plain": [
       "13"
      ]
     },
     "execution_count": 55,
     "metadata": {},
     "output_type": "execute_result"
    }
   ],
   "source": [
    "numbers[4][2]"
   ]
  },
  {
   "cell_type": "code",
   "execution_count": 61,
   "id": "6b46935c-d9c2-4110-b491-ef0d08cf1ea5",
   "metadata": {},
   "outputs": [
    {
     "data": {
      "text/plain": [
       "[2, 3, 4, 5, [11, 12, 13, 14], 7, 8, 'Pakistan']"
      ]
     },
     "execution_count": 61,
     "metadata": {},
     "output_type": "execute_result"
    }
   ],
   "source": [
    "numbers.append('Pakistan')\n",
    "numbers"
   ]
  },
  {
   "cell_type": "code",
   "execution_count": 63,
   "id": "a9b1831c-b1e8-421d-ab7b-2dce5500eca9",
   "metadata": {},
   "outputs": [
    {
     "data": {
      "text/plain": [
       "'n'"
      ]
     },
     "execution_count": 63,
     "metadata": {},
     "output_type": "execute_result"
    }
   ],
   "source": [
    "numbers[-1][-1]"
   ]
  },
  {
   "cell_type": "code",
   "execution_count": 65,
   "id": "5797c632-ce53-48da-86d7-8e13edefee32",
   "metadata": {},
   "outputs": [
    {
     "data": {
      "text/plain": [
       "'t'"
      ]
     },
     "execution_count": 65,
     "metadata": {},
     "output_type": "execute_result"
    }
   ],
   "source": [
    "numbers[-1][-3]"
   ]
  },
  {
   "cell_type": "code",
   "execution_count": 67,
   "id": "069ac3ee-b8d3-4cdb-9e5e-2508184c9c7c",
   "metadata": {},
   "outputs": [
    {
     "data": {
      "text/plain": [
       "'kist'"
      ]
     },
     "execution_count": 67,
     "metadata": {},
     "output_type": "execute_result"
    }
   ],
   "source": [
    "numbers[-1][2:6]"
   ]
  },
  {
   "cell_type": "code",
   "execution_count": 69,
   "id": "88a8c609-c871-4622-8798-a8f497d73ba1",
   "metadata": {},
   "outputs": [
    {
     "data": {
      "text/plain": [
       "[2, 3, 4, 5, [11, 12, 13, 14], 7, 800, 'Pakistan']"
      ]
     },
     "execution_count": 69,
     "metadata": {},
     "output_type": "execute_result"
    }
   ],
   "source": [
    "numbers[-2] = 800\n",
    "numbers"
   ]
  },
  {
   "cell_type": "code",
   "execution_count": 73,
   "id": "f245ebb9-23ea-4386-820c-639a59762044",
   "metadata": {},
   "outputs": [
    {
     "data": {
      "text/plain": [
       "'atsi'"
      ]
     },
     "execution_count": 73,
     "metadata": {},
     "output_type": "execute_result"
    }
   ],
   "source": [
    "numbers[-1][6:2:-1] # in reverse\n"
   ]
  },
  {
   "cell_type": "markdown",
   "id": "627005d9-82cd-44bf-99a5-5bb33bc7d914",
   "metadata": {},
   "source": [
    "# Tuple\n",
    "- ()\n",
    "- immutable\n",
    "- iterable\n",
    "- index"
   ]
  },
  {
   "cell_type": "code",
   "execution_count": 12,
   "id": "b27f57e9-525f-478b-a5f1-004091cbbc76",
   "metadata": {},
   "outputs": [],
   "source": [
    "atuple= (11,12,33,4,44,5,4)"
   ]
  },
  {
   "cell_type": "code",
   "execution_count": 16,
   "id": "9dbc7f70-5a96-4a28-805d-afaacbdea233",
   "metadata": {},
   "outputs": [
    {
     "name": "stdout",
     "output_type": "stream",
     "text": [
      "<class 'tuple'>\n"
     ]
    }
   ],
   "source": [
    "print(type(atuple))"
   ]
  },
  {
   "cell_type": "code",
   "execution_count": 18,
   "id": "a4db9473-1fbb-4cc2-88fa-bb8866544415",
   "metadata": {},
   "outputs": [
    {
     "data": {
      "text/plain": [
       "7"
      ]
     },
     "execution_count": 18,
     "metadata": {},
     "output_type": "execute_result"
    }
   ],
   "source": [
    "len(atuple)"
   ]
  },
  {
   "cell_type": "code",
   "execution_count": 20,
   "id": "610008e9-75fc-47e1-a5d7-2ea57a383703",
   "metadata": {},
   "outputs": [
    {
     "data": {
      "text/plain": [
       "5"
      ]
     },
     "execution_count": 20,
     "metadata": {},
     "output_type": "execute_result"
    }
   ],
   "source": [
    "atuple[5]"
   ]
  },
  {
   "cell_type": "code",
   "execution_count": 22,
   "id": "bd0d024f-598e-4469-9fe5-1fa93da60869",
   "metadata": {},
   "outputs": [
    {
     "ename": "TypeError",
     "evalue": "'tuple' object does not support item assignment",
     "output_type": "error",
     "traceback": [
      "\u001b[1;31m---------------------------------------------------------------------------\u001b[0m",
      "\u001b[1;31mTypeError\u001b[0m                                 Traceback (most recent call last)",
      "Cell \u001b[1;32mIn[22], line 1\u001b[0m\n\u001b[1;32m----> 1\u001b[0m atuple[\u001b[38;5;241m3\u001b[39m]\u001b[38;5;241m=\u001b[39m\u001b[38;5;241m3\u001b[39m\n",
      "\u001b[1;31mTypeError\u001b[0m: 'tuple' object does not support item assignment"
     ]
    }
   ],
   "source": [
    "atuple[3]=3  # immutable"
   ]
  },
  {
   "cell_type": "code",
   "execution_count": 24,
   "id": "c1e91c4a-b742-49f5-96a1-57a265a291d6",
   "metadata": {},
   "outputs": [],
   "source": [
    "del atuple # can't be deleted"
   ]
  },
  {
   "cell_type": "code",
   "execution_count": 26,
   "id": "6d1dbd6e-c97a-4ba5-8f88-e4104b527071",
   "metadata": {},
   "outputs": [],
   "source": [
    "#tuple is faster than list"
   ]
  },
  {
   "cell_type": "code",
   "execution_count": 43,
   "id": "1554b407-ffbd-4249-926c-91e13e26628d",
   "metadata": {},
   "outputs": [],
   "source": [
    "a=(12) # integer\n",
    "b=(12,) # int"
   ]
  },
  {
   "cell_type": "code",
   "execution_count": 45,
   "id": "42bba2fa-10e6-47c6-89c2-ef85c9e6958a",
   "metadata": {},
   "outputs": [
    {
     "name": "stdout",
     "output_type": "stream",
     "text": [
      "<class 'int'>\n",
      "<class 'tuple'>\n"
     ]
    }
   ],
   "source": [
    "print(type(a))\n",
    "print(type(b))"
   ]
  },
  {
   "cell_type": "markdown",
   "id": "a6471bcb-4611-46f8-a58c-a46f2dbb0269",
   "metadata": {},
   "source": [
    "# Set\n",
    "- {}\n",
    "- unique"
   ]
  },
  {
   "cell_type": "code",
   "execution_count": 31,
   "id": "33d7edc8-9b5d-4043-9d30-5972d3ae6c46",
   "metadata": {},
   "outputs": [
    {
     "data": {
      "text/plain": [
       "{1, 2, 3, 4}"
      ]
     },
     "execution_count": 31,
     "metadata": {},
     "output_type": "execute_result"
    }
   ],
   "source": [
    "aset={1,2,3,4,4}\n",
    "aset"
   ]
  },
  {
   "cell_type": "code",
   "execution_count": 35,
   "id": "95ff0043-6b72-4f54-8d96-7cb851d8774e",
   "metadata": {},
   "outputs": [
    {
     "name": "stdout",
     "output_type": "stream",
     "text": [
      "<class 'dict'>\n"
     ]
    }
   ],
   "source": [
    "aset={} # empty is dictionary\n",
    "print(type(aset))"
   ]
  },
  {
   "cell_type": "code",
   "execution_count": 37,
   "id": "0d9c9289-f3a1-42fe-b7c2-ea678d39d623",
   "metadata": {},
   "outputs": [],
   "source": [
    "bset= {1,2,3,44,56,8,8,9,0} # 9 elements"
   ]
  },
  {
   "cell_type": "code",
   "execution_count": 39,
   "id": "8df95838-878c-4a25-ae86-5bc5c2a2a116",
   "metadata": {},
   "outputs": [
    {
     "data": {
      "text/plain": [
       "8"
      ]
     },
     "execution_count": 39,
     "metadata": {},
     "output_type": "execute_result"
    }
   ],
   "source": [
    "len(bset)"
   ]
  },
  {
   "cell_type": "markdown",
   "id": "5be4d5cb-3f66-4973-abcd-32d6d8412b24",
   "metadata": {},
   "source": [
    "# Conditionals statements \n",
    "- if\n",
    "- elif\n",
    "- nested if's\n",
    "- if statement else"
   ]
  },
  {
   "cell_type": "code",
   "execution_count": 79,
   "id": "2aa09346-f0cd-4e2a-89b2-e25c2bae4910",
   "metadata": {},
   "outputs": [
    {
     "name": "stdin",
     "output_type": "stream",
     "text": [
      "Enter your age:  34\n"
     ]
    },
    {
     "name": "stdout",
     "output_type": "stream",
     "text": [
      "shskkdkdjdj\n",
      "sjdjjdk\n"
     ]
    }
   ],
   "source": [
    "age=int(input(\"Enter your age: \" ))\n",
    "\n",
    "# : is used for making a block! and is indented!\n",
    "if age < 18 :    \n",
    "    print(\"abhi chote ho\")\n",
    "    print(\"vote nhi dal sakte\")\n",
    "else :\n",
    "    print(\"shskkdkdjdj\")\n",
    "    print(\"sjdjjdk\")"
   ]
  },
  {
   "cell_type": "code",
   "execution_count": 97,
   "id": "5ca5a9b7-463d-4edf-9b01-8a23df8eb566",
   "metadata": {},
   "outputs": [
    {
     "name": "stdin",
     "output_type": "stream",
     "text": [
      "Enter your marks in python test 45\n"
     ]
    },
    {
     "name": "stdout",
     "output_type": "stream",
     "text": [
      "Pass\n"
     ]
    }
   ],
   "source": [
    "numbers=int(input(\"Enter your marks in python test\"))\n",
    "if numbers>=25:\n",
    "    print(\"Pass\")\n",
    "else : \n",
    "    print(\"Fail\")"
   ]
  },
  {
   "cell_type": "code",
   "execution_count": 93,
   "id": "e4242e79-35aa-4354-8494-9ee5d970b612",
   "metadata": {},
   "outputs": [
    {
     "name": "stdin",
     "output_type": "stream",
     "text": [
      "Enter a number:  6\n"
     ]
    },
    {
     "name": "stdout",
     "output_type": "stream",
     "text": [
      "Even\n"
     ]
    }
   ],
   "source": [
    "num=int(input(\"Enter a number: \"))\n",
    "if (num%2==0):\n",
    "    print(\"Even\")\n",
    "else : \n",
    "    print(\"odd\")"
   ]
  },
  {
   "cell_type": "code",
   "execution_count": 115,
   "id": "79c865b6-374a-4a7c-b9d7-b7f909a44ae4",
   "metadata": {},
   "outputs": [
    {
     "name": "stdin",
     "output_type": "stream",
     "text": [
      "Enter name:  bilal\n"
     ]
    },
    {
     "name": "stdout",
     "output_type": "stream",
     "text": [
      "You are Welcome!\n"
     ]
    }
   ],
   "source": [
    "friends_lst = [\"Ali\",\"Bilal\",\"Wajahat\",\"Shani\",\"Sohaib\" , \"Asim\"]\n",
    "\n",
    "name = input(\"Enter name: \").capitalize()\n",
    "\n",
    "if name in  friends_lst:\n",
    "    print(\"You are Welcome!\")\n",
    "else:\n",
    "    print(\"Please Wait, your name is missing\")\n"
   ]
  },
  {
   "cell_type": "code",
   "execution_count": 111,
   "id": "c15715fe-5890-4b73-b53e-25ab1a9976de",
   "metadata": {},
   "outputs": [
    {
     "data": {
      "text/plain": [
       "'BILAL'"
      ]
     },
     "execution_count": 111,
     "metadata": {},
     "output_type": "execute_result"
    }
   ],
   "source": [
    "\"bilal\".upper()"
   ]
  },
  {
   "cell_type": "code",
   "execution_count": 123,
   "id": "a0047be0-2edf-4c2f-bb75-b1fbe645686b",
   "metadata": {},
   "outputs": [
    {
     "name": "stdin",
     "output_type": "stream",
     "text": [
      "Tamator kia hisab hai?  256\n"
     ]
    },
    {
     "name": "stdout",
     "output_type": "stream",
     "text": [
      "1 kg\n"
     ]
    }
   ],
   "source": [
    "tomato_price = int(input(\"Tamator kia hisab hai? \"))\n",
    "\n",
    "if tomato_price>=500: \n",
    "    print(\"Rehne Do\")\n",
    "elif tomato_price >= 300 :\n",
    "    print(\"1/2kg deden\")\n",
    "elif tomato_price >= 200 :\n",
    "    print(\"3/4kg deden\")\n",
    "else :\n",
    "    print(\"1 kg\")\n",
    "\n",
    "# where statement gets true, that block runs and exits. "
   ]
  },
  {
   "cell_type": "code",
   "execution_count": 127,
   "id": "27ca7195-ca16-4652-862d-0e385cf2dfa5",
   "metadata": {},
   "outputs": [
    {
     "name": "stdin",
     "output_type": "stream",
     "text": [
      "Tamator kia hisab hai?  56\n"
     ]
    },
    {
     "name": "stdout",
     "output_type": "stream",
     "text": [
      "1/2 kg\n"
     ]
    }
   ],
   "source": [
    "# taken in reverse so the 1st condition will be true always so the 1st condition will run. \n",
    "# rectify by making interval, or changing sequence, or changing order.\n",
    "\n",
    "tomato_price = int(input(\"Tamator kia hisab hai? \"))\n",
    "\n",
    "if tomato_price<=500: \n",
    "    print(\"1/2 kg\")\n",
    "elif tomato_price <= 300 :\n",
    "    print(\"1kg deden\")\n",
    "elif tomato_price <= 200 :\n",
    "    print(\"2kg deden\")\n",
    "elif tomato_price <= 100 :\n",
    "    print(\"3kg deden\")\n",
    "else :\n",
    "    print(\"4 kg\")\n"
   ]
  },
  {
   "cell_type": "code",
   "execution_count": 173,
   "id": "b3fba3b1-a07b-4912-8596-efdaa2481202",
   "metadata": {},
   "outputs": [
    {
     "name": "stdout",
     "output_type": "stream",
     "text": [
      "300\n"
     ]
    },
    {
     "name": "stdin",
     "output_type": "stream",
     "text": [
      "Marks in subject 1 of of 100:  50\n",
      "Marks in subject 2 of of 100:  50\n",
      "Marks in subject 3 of of 100:  50\n"
     ]
    },
    {
     "name": "stdout",
     "output_type": "stream",
     "text": [
      "0.5\n",
      "D\n"
     ]
    }
   ],
   "source": [
    "marks=[20,34,34]\n",
    "total_marks = len(marks) * 100\n",
    "print(total_marks)\n",
    "\n",
    "i=0\n",
    "for i in range(3):\n",
    "    marks[i]= float(input(f\"Marks in subject {i+1} of of 100: \"))\n",
    "\n",
    "\n",
    "sum=0\n",
    "for i in range(3):\n",
    "    sum=sum+marks[i]\n",
    "\n",
    "percent = sum/total_marks\n",
    "print(percent)\n",
    "\n",
    "if(percent >= 0.90):\n",
    "    print(\"A*\")\n",
    "elif (percent > 0.80):\n",
    "    print(\"B\")\n",
    "elif (percent > 0.70):\n",
    "    print(\"C\")\n",
    "else:\n",
    "    print(\"D\")"
   ]
  },
  {
   "cell_type": "code",
   "execution_count": 175,
   "id": "b70b82df-c29c-45a6-993b-6124a011af9c",
   "metadata": {},
   "outputs": [
    {
     "data": {
      "text/plain": [
       "0.5"
      ]
     },
     "execution_count": 175,
     "metadata": {},
     "output_type": "execute_result"
    }
   ],
   "source": [
    "round(percent,3)"
   ]
  },
  {
   "cell_type": "code",
   "execution_count": null,
   "id": "86af5cc6-f929-4988-921c-b912b703f34d",
   "metadata": {},
   "outputs": [],
   "source": []
  }
 ],
 "metadata": {
  "kernelspec": {
   "display_name": "Python 3 (ipykernel)",
   "language": "python",
   "name": "python3"
  },
  "language_info": {
   "codemirror_mode": {
    "name": "ipython",
    "version": 3
   },
   "file_extension": ".py",
   "mimetype": "text/x-python",
   "name": "python",
   "nbconvert_exporter": "python",
   "pygments_lexer": "ipython3",
   "version": "3.12.7"
  }
 },
 "nbformat": 4,
 "nbformat_minor": 5
}
