{
 "cells": [
  {
   "cell_type": "markdown",
   "id": "390adaca-98ee-4d9d-8b17-098fd422b050",
   "metadata": {},
   "source": [
    "## Class 1"
   ]
  },
  {
   "cell_type": "code",
   "execution_count": 41,
   "id": "72eb3e80-d46e-4557-a175-8870cde9c6c3",
   "metadata": {},
   "outputs": [
    {
     "name": "stdout",
     "output_type": "stream",
     "text": [
      "46\n"
     ]
    }
   ],
   "source": [
    "class Number:\n",
    "    def sum(self):\n",
    "        return self.a + self.b\n",
    "    \n",
    "num=Number()\n",
    "num.a=12\n",
    "num.b=34\n",
    "s=num.sum()\n",
    "\n",
    "print(s)"
   ]
  },
  {
   "cell_type": "markdown",
   "id": "c2a24841-e4e2-413a-aeee-ca6301edca97",
   "metadata": {},
   "source": [
    "## Class 2"
   ]
  },
  {
   "cell_type": "code",
   "execution_count": 43,
   "id": "42923648-76be-45b4-a307-5e8cfff1aa60",
   "metadata": {},
   "outputs": [
    {
     "name": "stdout",
     "output_type": "stream",
     "text": [
      "name is Harry\n",
      "name is Shalimar express\n",
      "name is Harry\n",
      "name is Shalimar express\n"
     ]
    }
   ],
   "source": [
    "# class formed (form formed for railway reservation)\n",
    "'''Application form'''\n",
    "class RailwayForm:\n",
    "    \n",
    "    # class attribute\n",
    "    formType=\"RailwayForm\"\n",
    "    \n",
    "    # method\n",
    "    def printData(self):\n",
    "        print(f\"name is {self.name}\")\n",
    "        print(f\"name is {self.train}\")\n",
    "\n",
    "# making object \n",
    "harrysApplication = RailwayForm()  # harry initialing empty form\n",
    "\n",
    "# --> harrysapplication will go to self *self = harrysapplication*\n",
    "\n",
    "'''data filling'''\n",
    "# self.name, self.train \n",
    "harrysApplication.name=\"Harry\"\n",
    "harrysApplication.train='Shalimar express'\n",
    "\n",
    "# method called\n",
    "harrysApplication.printData()  # ==  RailwayForm.printData(harrysApplication)\n",
    "RailwayForm.printData(harrysApplication) "
   ]
  },
  {
   "cell_type": "markdown",
   "id": "6ab23128-486e-4d75-992d-e6f8caa8e56a",
   "metadata": {},
   "source": [
    "## Class Attributes"
   ]
  },
  {
   "cell_type": "code",
   "execution_count": 48,
   "id": "4c468094-9ac5-4828-b1ea-ad994d646889",
   "metadata": {},
   "outputs": [
    {
     "name": "stdout",
     "output_type": "stream",
     "text": [
      "Google\n",
      "Google\n",
      "youtube\n",
      "youtube\n"
     ]
    }
   ],
   "source": [
    "'''class attributess --> are changeable''' \n",
    "\n",
    "\n",
    "'''Form'''\n",
    "class Employee:\n",
    "    \n",
    "    '''class attribute'''\n",
    "    company = 'Google'  # hardcore(specific to each class)\n",
    "\n",
    "\n",
    "# object instantiation\n",
    "harry = Employee()\n",
    "rajni = Employee()\n",
    "\n",
    "print(harry.company)\n",
    "print(rajni.company)\n",
    "\n",
    "# changing class's company\n",
    "Employee.company=\"youtube\"\n",
    "\n",
    "print(harry.company)\n",
    "print(rajni.company)"
   ]
  },
  {
   "cell_type": "markdown",
   "id": "3dbd0e18-a0d4-48fc-862c-ac7d4cb2d4ef",
   "metadata": {},
   "source": [
    "## Instance attributes"
   ]
  },
  {
   "cell_type": "code",
   "execution_count": 51,
   "id": "244cc362-d734-43df-a74d-600f68709fc8",
   "metadata": {},
   "outputs": [
    {
     "name": "stdout",
     "output_type": "stream",
     "text": [
      "300\n",
      "400\n"
     ]
    }
   ],
   "source": [
    "class Employee:\n",
    "    \n",
    "    '''class attribute'''\n",
    "    company='Google'  # hardcore(specific to each class)\n",
    "    salary= 100\n",
    "\n",
    "# object instantiation\n",
    "harry=Employee()\n",
    "rajni=Employee()\n",
    "\n",
    "harry.salary=300\n",
    "rajni.salary=400\n",
    "\n",
    "print(harry.salary)\n",
    "print(rajni.salary)"
   ]
  },
  {
   "cell_type": "markdown",
   "id": "fa88c7fa-f1a8-4f3f-9af9-615382635457",
   "metadata": {},
   "source": [
    "## Self "
   ]
  },
  {
   "cell_type": "code",
   "execution_count": 62,
   "id": "e6ce0da5-b434-4cc8-b42b-dc7dc7412ea0",
   "metadata": {},
   "outputs": [
    {
     "name": "stdout",
     "output_type": "stream",
     "text": [
      "salary is 100k\n",
      "salary is 100k\n"
     ]
    },
    {
     "data": {
      "text/plain": [
       "'both \\nharry.getsalary() \\nEmployee.getsalary(harry)  \\nare equivalent.\\n\\nwhen we say upper one we have it convert it to lower one behind scenes. argument given\\nis harry which corresponds to the self we take for a function\\n\\nif we dont\\'t take self then ide will show error \"no positional argument for Employee.get salary\\nwhile it takes one on call\"\\n\\n'"
      ]
     },
     "execution_count": 62,
     "metadata": {},
     "output_type": "execute_result"
    }
   ],
   "source": [
    "'''self'''\n",
    "\n",
    "class Employee:\n",
    "    company='google'\n",
    "\n",
    "    def getsalary(self):\n",
    "        print('salary is 100k')\n",
    "\n",
    "harry=Employee()\n",
    "\n",
    "harry.getsalary()\n",
    "Employee.getsalary(harry)\n",
    "\n",
    "'''both \n",
    "harry.getsalary() \n",
    "Employee.getsalary(harry)  \n",
    "are equivalent.\n",
    "\n",
    "when we say upper one we have it convert it to lower one behind scenes. argument given\n",
    "is harry which corresponds to the self we take for a function\n",
    "\n",
    "if we dont't take self then ide will show error \"no positional argument for Employee.get salary\n",
    "while it takes one on call\"\n",
    "\n",
    "'''"
   ]
  },
  {
   "cell_type": "markdown",
   "id": "fead0d37-234f-4ef5-a85a-971453c49888",
   "metadata": {},
   "source": [
    "## Static Method"
   ]
  },
  {
   "cell_type": "code",
   "execution_count": 60,
   "id": "1173e7a0-b74e-4fde-88fd-86fc605fabfc",
   "metadata": {},
   "outputs": [
    {
     "name": "stdout",
     "output_type": "stream",
     "text": [
      "Good afternoon\n",
      "Good afternoon\n",
      "salary for this employye working in google is 10000\n",
      "Thanks \n",
      "salary for this employye working in google is 10000\n",
      "Thanks \n"
     ]
    }
   ],
   "source": [
    "'''static method'''\n",
    "\n",
    "class Employee:\n",
    "    company='google'\n",
    "\n",
    "    def getsalary(self,signature):\n",
    "        print(f'salary for this employye working in {self.company} is {self.salary}\\n{signature} ')  \n",
    "\n",
    "    '''static concept(without self)'''\n",
    "    \n",
    "    def greet(self):\n",
    "        print('Good afternoon')\n",
    "\n",
    "    # here we need no self unlike the upper getsalary function so we can use static method.\n",
    "\n",
    "    @staticmethod\n",
    "    def greets():\n",
    "        print('Good afternoon')\n",
    "   \n",
    "\n",
    "   \n",
    "harry = Employee()\n",
    "\n",
    "\n",
    "harry.greet() # coverison to Employee.greet(harry)\n",
    "harry.greets() # coversion to Employee.greets()\n",
    "\n",
    "harry.salary=10000\n",
    "\n",
    "harry.getsalary(\"Thanks\")  # == Employee.getsalary(harry,thanks) (harry) pased to function\n",
    "Employee.getsalary(harry,'Thanks')"
   ]
  },
  {
   "cell_type": "markdown",
   "id": "46ac8fa8-03d3-40b1-852f-1824b2e01ad3",
   "metadata": {},
   "source": [
    "## Some Class "
   ]
  },
  {
   "cell_type": "code",
   "execution_count": 27,
   "id": "1d852b53-e4db-4bcc-bbdf-3b4a4a56884e",
   "metadata": {},
   "outputs": [],
   "source": [
    "class Bank_Account_Openning():\n",
    "   def  __init__ (self, Name, Father_Name, CNIC, Income, religion = \"Islam\"):\n",
    "     self.Name = Name\n",
    "     self.Father_Name = Father_Name\n",
    "     self.CNIC = CNIC\n",
    "     self.income = Income\n",
    "     self.religion = religion\n",
    "       \n",
    "     self.weight = 0\n",
    "\n",
    "   def get_name(self):\n",
    "      return self.Name\n",
    "\n",
    "   def set_name(self, new_name):\n",
    "      self.Name = new_name"
   ]
  },
  {
   "cell_type": "code",
   "execution_count": 29,
   "id": "40bfd9e6-e318-42ec-bf6e-568ff5615d56",
   "metadata": {},
   "outputs": [],
   "source": [
    "A1 = Bank_Account_Openning(\"Zafir\",\"Ahmed\",\"42301_00000_0\",25000)"
   ]
  },
  {
   "cell_type": "code",
   "execution_count": 31,
   "id": "a98e68bc-19f8-47f8-b7ca-c342e28bcec0",
   "metadata": {},
   "outputs": [
    {
     "data": {
      "text/plain": [
       "'Zafir'"
      ]
     },
     "execution_count": 31,
     "metadata": {},
     "output_type": "execute_result"
    }
   ],
   "source": [
    "A1.Name"
   ]
  },
  {
   "cell_type": "code",
   "execution_count": 33,
   "id": "a62bdc1b-a977-45e6-919f-9f69170b720d",
   "metadata": {},
   "outputs": [],
   "source": [
    "A1.income = 123456789"
   ]
  },
  {
   "cell_type": "code",
   "execution_count": 35,
   "id": "c8308786-6692-401d-8a91-ce2c424de85f",
   "metadata": {},
   "outputs": [],
   "source": [
    "A1.religion = \"Non Muslim\""
   ]
  },
  {
   "cell_type": "code",
   "execution_count": 37,
   "id": "2d05e273-b050-47fe-bf53-96ce130ea3b2",
   "metadata": {},
   "outputs": [
    {
     "data": {
      "text/plain": [
       "0"
      ]
     },
     "execution_count": 37,
     "metadata": {},
     "output_type": "execute_result"
    }
   ],
   "source": [
    "A1.weight"
   ]
  },
  {
   "cell_type": "code",
   "execution_count": 39,
   "id": "433d511a-4ed0-4b26-a605-5cf715fd5b72",
   "metadata": {},
   "outputs": [
    {
     "data": {
      "text/plain": [
       "'Zafir'"
      ]
     },
     "execution_count": 39,
     "metadata": {},
     "output_type": "execute_result"
    }
   ],
   "source": [
    "A1.get_name()"
   ]
  },
  {
   "cell_type": "markdown",
   "id": "006ce1db-3799-4918-a1a1-45ff606aa95f",
   "metadata": {},
   "source": [
    "# Class"
   ]
  },
  {
   "cell_type": "code",
   "execution_count": 69,
   "id": "1994bcd0-a71f-409f-994f-e6339dda6938",
   "metadata": {},
   "outputs": [],
   "source": [
    "class Bank_Account_Openning():\n",
    "    \n",
    "   def  __init__ (self,Name,Father_Name,CNIC,Income,religion = \"Islam\"):\n",
    "     self.__Name = Name\n",
    "     self.__Father_Name = Father_Name\n",
    "     self.__CNIC = CNIC\n",
    "     self.__income = Income\n",
    "     # self.religion = religion\n",
    "     self.__religion = \"Islam\"\n",
    "     self.__weight = 0\n",
    "\n",
    "   def get_name(self):\n",
    "      return self.__Name\n",
    "   \n",
    "   def set_name(self,new_name):\n",
    "      available_names = ['Nasir', 'Atif', 'Asad']\n",
    "      \n",
    "      if new_name in available_names:\n",
    "          self.__Name = new_name\n",
    "      else:\n",
    "         return f\"{new_name} is not available\""
   ]
  },
  {
   "cell_type": "code",
   "execution_count": 71,
   "id": "f4439fe5-1962-4c81-a680-062367eea4c3",
   "metadata": {},
   "outputs": [],
   "source": [
    "A1 = Bank_Account_Openning('NASIR','Asad',12345,1234)"
   ]
  },
  {
   "cell_type": "code",
   "execution_count": 73,
   "id": "55ff1fa8-b451-4e94-bd32-ec453ea411b0",
   "metadata": {},
   "outputs": [
    {
     "data": {
      "text/plain": [
       "'Furqan is not available'"
      ]
     },
     "execution_count": 73,
     "metadata": {},
     "output_type": "execute_result"
    }
   ],
   "source": [
    "A1.set_name(\"Furqan\")"
   ]
  },
  {
   "cell_type": "code",
   "execution_count": 75,
   "id": "9bc8bde5-3bff-441d-9541-3d8d1a695fce",
   "metadata": {},
   "outputs": [
    {
     "data": {
      "text/plain": [
       "'NASIR'"
      ]
     },
     "execution_count": 75,
     "metadata": {},
     "output_type": "execute_result"
    }
   ],
   "source": [
    "A1.get_name()"
   ]
  },
  {
   "cell_type": "code",
   "execution_count": 85,
   "id": "371b40d9-46ab-4b16-999d-b19333e4f251",
   "metadata": {},
   "outputs": [],
   "source": [
    "A1.set_name('Atif')"
   ]
  },
  {
   "cell_type": "code",
   "execution_count": 87,
   "id": "53491fd5-888a-4396-a312-9c27d836f5fe",
   "metadata": {},
   "outputs": [
    {
     "data": {
      "text/plain": [
       "'Atif'"
      ]
     },
     "execution_count": 87,
     "metadata": {},
     "output_type": "execute_result"
    }
   ],
   "source": [
    "A1.get_name()"
   ]
  },
  {
   "cell_type": "markdown",
   "id": "7d673a77-ef3c-4ecd-906a-bb14ec61008b",
   "metadata": {},
   "source": [
    "# Inheritance\n",
    "- When a class inherits the properties and behaviors of another class.\n",
    "- The class that inherits : child CLass / SUb CLass\n",
    "- The class inherited: Parent / Super"
   ]
  },
  {
   "cell_type": "code",
   "execution_count": 1,
   "id": "7c82541b-4518-4a73-9db8-2f9b0327a326",
   "metadata": {},
   "outputs": [],
   "source": [
    "## Eg 1"
   ]
  },
  {
   "cell_type": "code",
   "execution_count": 3,
   "id": "8cff89d6-99b2-42a4-90c6-eafacc8f4b25",
   "metadata": {},
   "outputs": [
    {
     "name": "stdout",
     "output_type": "stream",
     "text": [
      "This is an employee.\n",
      "This is an employee.\n",
      "\n",
      "\n",
      "This is an employee.\n",
      "google\n"
     ]
    }
   ],
   "source": [
    "'''Parent class'''\n",
    "class Employee():\n",
    "\n",
    "    '''Class attribute'''\n",
    "    company=\"google\"\n",
    "    \n",
    "    '''Class method'''\n",
    "    def showDetails(self):\n",
    "        print(\"This is an employee.\")\n",
    "\n",
    "\n",
    "''' derived/child class'''\n",
    "class Programmer(Employee):\n",
    "\n",
    "    language='Python'\n",
    "    \n",
    "    def getLanguage(self):\n",
    "        print(f\"The language is {self.language}\")  \n",
    "\n",
    "\n",
    "e = Employee()\n",
    "e.showDetails()  # equivalent to -->\n",
    "Employee.showDetails(e)\n",
    "\n",
    "print('\\n')\n",
    "\n",
    "''' child class has access(inherited) to all parent methods and attributes '''\n",
    "p = Programmer()\n",
    "p.showDetails() \n",
    "print(p.company)"
   ]
  },
  {
   "cell_type": "code",
   "execution_count": 5,
   "id": "43040fc1-1f35-4964-b5b7-5d81569e253e",
   "metadata": {},
   "outputs": [],
   "source": [
    "## Same methods in both classes."
   ]
  },
  {
   "cell_type": "code",
   "execution_count": 9,
   "id": "63b8999c-24c0-4f47-b9c5-4d3f5d837d6f",
   "metadata": {},
   "outputs": [
    {
     "name": "stdout",
     "output_type": "stream",
     "text": [
      "This is an employee.\n",
      "This is an employee.\n",
      "\n",
      "\n",
      "This is a programmer\n",
      "youtube\n"
     ]
    }
   ],
   "source": [
    "''' Parent class '''\n",
    "class Employee:\n",
    "    company=\"google\"\n",
    "\n",
    "    def showDetails(self):\n",
    "        print(\"This is an employee.\")\n",
    "\n",
    "\n",
    "''' derived/child class'''\n",
    "class Programmer(Employee):\n",
    "    language='Python'\n",
    "    \n",
    "    def getLanguage(self):\n",
    "        print(f\"The language is {self.language}\") \n",
    "\n",
    "    ####################################################################\n",
    "\n",
    "    company='youtube'\n",
    "\n",
    "    '''same function as above class (overwritten of the parent class)'''\n",
    "    def showDetails(self):\n",
    "        print(\"This is a programmer\")\n",
    "\n",
    "\n",
    "# both classes use their own function now\n",
    "\n",
    "e=Employee()\n",
    "e.showDetails()  # equivalent to -->\n",
    "Employee.showDetails(e)\n",
    "\n",
    "print('\\n')\n",
    "\n",
    "''' child class has access(inherited) to all parent methods and attributes '''\n",
    "p = Programmer()\n",
    "p.showDetails() \n",
    "\n",
    "print(p.company) # overwritten from parent class"
   ]
  },
  {
   "cell_type": "code",
   "execution_count": 90,
   "id": "26279326-c22c-430c-aa09-da99c56a5d3c",
   "metadata": {},
   "outputs": [],
   "source": [
    "class Car():\n",
    "    \n",
    "    def __init__(self, make, model, year, cc):\n",
    "        self.make = make\n",
    "        self.model = model\n",
    "        self.year = year\n",
    "        self.ccc = cc\n",
    "    \n",
    "    def start_car(self):\n",
    "        print(\"hnnnnnnhnnnn\")\n",
    "    \n",
    "    def fill_tank(self):\n",
    "        print(\"Car tank is being filled\") "
   ]
  },
  {
   "cell_type": "code",
   "execution_count": 92,
   "id": "28bba1a3-a594-44f4-9351-d6f15685b533",
   "metadata": {},
   "outputs": [],
   "source": [
    "class Honda(Car):\n",
    "    \n",
    "    def __init__(self, make, model, year, cc,color,seats,price):\n",
    "        super().__init__(make,model,year,cc)\n",
    "        self.color = color\n",
    "        self.seats = seats\n",
    "        self.price = price\n",
    "    \n",
    "    def ac_on(self):\n",
    "        print(\"AC is on\")\n",
    "    \n",
    "    def music(self):\n",
    "        print(\"Music playing in car\")    "
   ]
  },
  {
   "cell_type": "code",
   "execution_count": 94,
   "id": "d03ad803-f44f-44da-a1fe-90cb557c10cc",
   "metadata": {},
   "outputs": [],
   "source": [
    "h1 = Honda('Honda',\"CIVIC\",2025,1600,'Black',6,\"10M\")"
   ]
  },
  {
   "cell_type": "code",
   "execution_count": 96,
   "id": "ee10fb01-97d1-49ca-80f8-5abd8e194793",
   "metadata": {},
   "outputs": [
    {
     "name": "stdout",
     "output_type": "stream",
     "text": [
      "hnnnnnnhnnnn\n"
     ]
    }
   ],
   "source": [
    "h1.start_car()"
   ]
  },
  {
   "cell_type": "code",
   "execution_count": 98,
   "id": "1ba01bfb-d827-4708-9114-3df7ed7dd0d4",
   "metadata": {},
   "outputs": [
    {
     "name": "stdout",
     "output_type": "stream",
     "text": [
      "Music playing in car\n"
     ]
    }
   ],
   "source": [
    "h1.music()"
   ]
  },
  {
   "cell_type": "markdown",
   "id": "b3e8e947-c73d-47c9-97d7-cda322273149",
   "metadata": {},
   "source": [
    "In the provided code, `super()` is used to call the constructor of the parent class `Car` from within the child class `Honda`. Here's a breakdown of what it does:\n",
    "\n",
    "### What `super().__init__(...)` Does:\n",
    "1. **Calls the Parent Class Constructor**:  \n",
    "   - `super()` provides a reference to the parent class (`Car` in this case). \n",
    "   - `super().__init__(make, model, year, cc)` invokes the `__init__` method of the parent class to initialize attributes defined there.\n",
    "\n",
    "2. **Avoids Code Duplication**:  \n",
    "   By using `super()`, you avoid rewriting the initialization logic for `make`, `model`, `year`, and `cc` in the `Honda` class. Instead, you let the parent class handle it.\n",
    "\n",
    "3. **Ensures Proper Initialization**:  \n",
    "   It ensures that the `Car` class attributes are correctly initialized before adding additional attributes specific to `Honda`.\n",
    "\n",
    "### Example Explanation:\n",
    "Assume the parent `Car` class is defined as follows:\n",
    "\n",
    "```python\n",
    "class Car:\n",
    "    def __init__(self, make, model, year, cc):\n",
    "        self.make = make\n",
    "        self.model = model\n",
    "        self.year = year\n",
    "        self.cc = cc\n",
    "```\n",
    "\n",
    "When you create an object of the `Honda` class, such as:\n",
    "\n",
    "```python\n",
    "honda_civic = Honda('Honda', 'Civic', 2020, 1800, 'Red', 5, 25000)\n",
    "```\n",
    "\n",
    "- `super().__init__(make, model, year, cc)` initializes the attributes `make`, `model`, `year`, and `cc` in the parent `Car` class.\n",
    "- Afterward, the `Honda` class initializes its own additional attributes (`color`, `seats`, `price`).\n",
    "\n",
    "### Without `super()`\n",
    "If `super()` wasn't used, you'd need to manually initialize the parent class attributes within the `Honda` class, like this:\n",
    "\n",
    "```python\n",
    "class Honda(Car):\n",
    "    def __init__(self, make, model, year, cc, color, seats, price):\n",
    "        self.make = make\n",
    "        self.model = model\n",
    "        self.year = year\n",
    "        self.cc = cc\n",
    "        self.color = color\n",
    "        self.seats = seats\n",
    "        self.price = price\n",
    "```\n",
    "\n",
    "This approach duplicates code, is prone to errors, and breaks if the parent class changes. Using `super()` keeps the implementation cleaner and more maintainable."
   ]
  },
  {
   "cell_type": "markdown",
   "id": "1c790416-8415-45da-87cb-e8dbdb85ac67",
   "metadata": {},
   "source": [
    "# Single Inheritance"
   ]
  },
  {
   "cell_type": "code",
   "execution_count": 15,
   "id": "b4df2d60-b4d8-42e1-951a-9fbcbcb62cf2",
   "metadata": {},
   "outputs": [
    {
     "name": "stdout",
     "output_type": "stream",
     "text": [
      "This is an employee.\n",
      "This is an employee.\n",
      "This is an employee.\n",
      "google\n"
     ]
    }
   ],
   "source": [
    "'''Single inheritance'''\n",
    "\n",
    "\n",
    "# Parent class\n",
    "class Employee:\n",
    "    company=\"google\"\n",
    "\n",
    "    def showDetails(self):\n",
    "        print(\"This is an employee.\")\n",
    "\n",
    "\n",
    "# derived/child class\n",
    "class Programmer(Employee):\n",
    "    language='Python'\n",
    "    \n",
    "    def getLanguage(self):\n",
    "        print(f\"The language is {self.language}\")  \n",
    "\n",
    "\n",
    "e=Employee()\n",
    "\n",
    "e.showDetails()  # equivalent to -->\n",
    "Employee.showDetails(e)\n",
    "\n",
    "\n",
    "''' child class has access(inherited) to all parent methods and attributes '''\n",
    "p=Programmer()\n",
    "p.showDetails() \n",
    "print(p.company)"
   ]
  },
  {
   "cell_type": "markdown",
   "id": "be613746-4aaa-4f49-ae5a-a7d2f5bcc895",
   "metadata": {},
   "source": [
    "# Multiple Inheritance"
   ]
  },
  {
   "cell_type": "code",
   "execution_count": 22,
   "id": "81211001-79e7-4194-81d5-299c8711427b",
   "metadata": {},
   "outputs": [
    {
     "name": "stdout",
     "output_type": "stream",
     "text": [
      "0\n",
      "1\n",
      "2\n",
      "VIsa\n"
     ]
    }
   ],
   "source": [
    "\"MULTIPLE INHERITANCE --> 2 parents 1 child\"\n",
    "\n",
    "# parent(base classes)\n",
    "class Employee:\n",
    "    company=\"VIsa\"\n",
    "    ecode=120\n",
    "\n",
    "class Freelancer:\n",
    "    company=\"Fiverr\"\n",
    "    level=0\n",
    "\n",
    "    def upgradeLevel(self):\n",
    "        self.level=self.level+1\n",
    "\n",
    "# chile(derivfed classes)\n",
    "class Programmer(Employee,Freelancer):\n",
    "    def __init__(self, name):\n",
    "        self.name=name\n",
    "\n",
    "\n",
    "p=Programmer(\"Shayan\")\n",
    "print(p.level)\n",
    "\n",
    "p.upgradeLevel()\n",
    "print(p.level)\n",
    "\n",
    "p.upgradeLevel()\n",
    "print(p.level)\n",
    "\n",
    "# ****important**** #\n",
    "'''prints visa {class Programmer(Employee,Freelancer)} employee written 1st'''\n",
    "print(p.company)"
   ]
  },
  {
   "cell_type": "markdown",
   "id": "f8f36382-3806-4b5a-b72e-af9c6eaaf170",
   "metadata": {},
   "source": [
    "# MultiLevel Inheritance"
   ]
  },
  {
   "cell_type": "code",
   "execution_count": 25,
   "id": "04b86b51-5f97-43c2-be3f-cad3a2b6c379",
   "metadata": {},
   "outputs": [
    {
     "name": "stdout",
     "output_type": "stream",
     "text": [
      "intake oxygen\n",
      "i am breathing\n",
      "i am breathing\n"
     ]
    }
   ],
   "source": [
    "# parent class {grandparent}\n",
    "class Person:\n",
    "    country=\"Pakistan\"\n",
    "    city=\"Karachi\"\n",
    "\n",
    "    def breath(self):\n",
    "        print(\"intake oxygen\")\n",
    "\n",
    "# child class of employee [parent]\n",
    "class Employee(Person):\n",
    "    company=\"Honda\"\n",
    "\n",
    "    def getsalary(self):\n",
    "        print(f\"Salary is {self.salary}\")\n",
    "\n",
    "    def breath(self):\n",
    "        print(\"i am breathing\")\n",
    "\n",
    "\n",
    "# child's child {son}\n",
    "class Programmer(Employee):\n",
    "    company=\"fiverr\"\n",
    "   \n",
    "    def getsalary(self):\n",
    "        print(\"No salary to programmers\")\n",
    "\n",
    "\n",
    "'''objects'''\n",
    "p=Person()\n",
    "e=Employee()\n",
    "pr=Programmer()\n",
    "\n",
    "\n",
    "'''methods running'''\n",
    "p.breath() # uses itselfs\n",
    "e.breath() # uses itselfs\n",
    "pr.breath() # inherits from employee (takes nearest parent's methods)"
   ]
  },
  {
   "cell_type": "markdown",
   "id": "295c7cf0-c185-496a-ba52-d0377faf215f",
   "metadata": {},
   "source": [
    "# Super Methods"
   ]
  },
  {
   "cell_type": "code",
   "execution_count": 28,
   "id": "32aeadd1-4ea9-4a14-a55d-5c957fce4b35",
   "metadata": {},
   "outputs": [
    {
     "name": "stdout",
     "output_type": "stream",
     "text": [
      "intake oxygen\n",
      "i am breathing\n",
      "\n",
      "\n",
      "intake oxygen\n",
      "i am breathing\n",
      "i am breatheeeeeeeeeeeeeeeee\n"
     ]
    }
   ],
   "source": [
    "'''super method is used to access the methods of super class in derived class for multi level inheritance'''\"mULTI LEVEL INHERITANCE\"\n",
    "\n",
    "# super class is parent class\n",
    "# a class has its own method but also runs its predecessor's method as well.\n",
    "\n",
    "# parent class\n",
    "class Person:\n",
    "    country=\"Pakistan\"\n",
    "    city=\"Karachi\"\n",
    "\n",
    "    def breath(self):\n",
    "        print(\"intake oxygen\")\n",
    "\n",
    "# child class of employee\n",
    "class Employee(Person):\n",
    "    company=\"Honda\"\n",
    "\n",
    "    def getsalary(self):\n",
    "        print(f\"Salary is {self.salary}\")\n",
    "\n",
    "    def breath(self):\n",
    "        super().breath()\n",
    "        print(\"i am breathing\")\n",
    "\n",
    "\n",
    "# child's child\n",
    "class Programmer(Employee):\n",
    "    company=\"fiverr\"\n",
    "   \n",
    "    def getsalary(self):\n",
    "        print(\"No salary to programmers\")\n",
    "\n",
    "    #super method\n",
    "    def breath(self):\n",
    "        super().breath()\n",
    "        print(\"i am breatheeeeeeeeeeeeeeeee\")\n",
    "\n",
    "\n",
    "'''objects'''\n",
    "p=Person()\n",
    "e=Employee()\n",
    "pr=Programmer()\n",
    "\n",
    "\n",
    "'''methods running'''\n",
    "e.breath() # runs it's parent's and then it's owns\n",
    "\n",
    "print(\"\\n\")\n",
    "pr.breath() # moves to parent super(employee)\n",
    "            # there is also a super so it moves to grandfather (person)\n",
    "            # prints persons's, then employees, then it's own"
   ]
  },
  {
   "cell_type": "markdown",
   "id": "4f663257-6b43-4926-bd2a-470fe380c206",
   "metadata": {},
   "source": [
    "# Super With constructor"
   ]
  },
  {
   "cell_type": "code",
   "execution_count": 33,
   "id": "50a84778-57ca-4066-aa14-76e0529b0741",
   "metadata": {},
   "outputs": [
    {
     "name": "stdout",
     "output_type": "stream",
     "text": [
      "initializing person \n",
      "\n",
      "\n",
      "\n",
      "@@@@@@@@@@@@\n",
      "initializing person \n",
      "\n",
      "initializing employee \n",
      "\n",
      "\n",
      "\n",
      "initializing person \n",
      "\n",
      "initializing employee \n",
      "\n",
      "initializing Programmer \n",
      "\n"
     ]
    }
   ],
   "source": [
    "'''super method is used to access the methods of super class in derived class for multi level inheritance'''\"mULTI LEVEL INHERITANCE\"\n",
    "\n",
    "\n",
    "class Person:\n",
    "    def __init__(self):\n",
    "        print(\"initializing person \\n\")\n",
    "\n",
    "\n",
    "# child class of employee\n",
    "class Employee(Person):\n",
    "\n",
    "    def __init__(self):\n",
    "        super().__init__() # run's person constructor as well\n",
    "        print(\"initializing employee \\n\")\n",
    "\n",
    "\n",
    "# child's child\n",
    "class Programmer(Employee):\n",
    "    def __init__(self):\n",
    "        super().__init__() # run's employee constructor as well and as well as person's because that's inherited by employee\n",
    "        print(\"initializing Programmer \\n\")\n",
    "   \n",
    "\n",
    "'''objects'''\n",
    "p=Person()\n",
    "print(\"\\n\")\n",
    "\n",
    "print(\"@@@@@@@@@@@@\")\n",
    "e=Employee() # firstly comes for person and then employee\n",
    "print(\"\\n\")\n",
    "\n",
    "\n",
    "pr=Programmer()\n",
    "\n",
    "\n"
   ]
  },
  {
   "cell_type": "code",
   "execution_count": null,
   "id": "f3349cbe-c735-4d64-b97a-08bf68673dda",
   "metadata": {},
   "outputs": [],
   "source": []
  }
 ],
 "metadata": {
  "kernelspec": {
   "display_name": "Python 3 (ipykernel)",
   "language": "python",
   "name": "python3"
  },
  "language_info": {
   "codemirror_mode": {
    "name": "ipython",
    "version": 3
   },
   "file_extension": ".py",
   "mimetype": "text/x-python",
   "name": "python",
   "nbconvert_exporter": "python",
   "pygments_lexer": "ipython3",
   "version": "3.12.7"
  }
 },
 "nbformat": 4,
 "nbformat_minor": 5
}
