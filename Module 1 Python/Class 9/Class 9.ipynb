{
 "cells": [
  {
   "cell_type": "markdown",
   "id": "902d7888-adb0-4b45-be66-3f561a70c379",
   "metadata": {},
   "source": [
    "# Function\n"
   ]
  },
  {
   "cell_type": "markdown",
   "id": "8c100c88-4e84-4f19-a1b1-087f2aab80b9",
   "metadata": {},
   "source": [
    "- open functions >> print, type input, len, range, id,\n",
    "- class functions >> list function, dic, set tuple , string,\n",
    "- user defined functions. "
   ]
  },
  {
   "cell_type": "code",
   "execution_count": 3,
   "id": "d4c941bc-4ff8-4c15-86fe-e5f5e71c6e53",
   "metadata": {},
   "outputs": [],
   "source": [
    "def greeteveryone():\n",
    "    print(\"WELCOME\")"
   ]
  },
  {
   "cell_type": "code",
   "execution_count": 5,
   "id": "94566f8e-2f23-4335-a4e3-89b775c8b0bb",
   "metadata": {},
   "outputs": [
    {
     "name": "stdout",
     "output_type": "stream",
     "text": [
      "WELCOME\n"
     ]
    }
   ],
   "source": [
    "greeteveryone()"
   ]
  },
  {
   "cell_type": "code",
   "execution_count": 7,
   "id": "6cf94fe9-f7c8-4963-bd9f-5faa0cb1500f",
   "metadata": {},
   "outputs": [],
   "source": [
    "def add():\n",
    "    a=10\n",
    "    b=12\n",
    "    print(a+b)"
   ]
  },
  {
   "cell_type": "code",
   "execution_count": 9,
   "id": "b03d5d9f-1693-4022-b082-f92dd7a68ead",
   "metadata": {},
   "outputs": [
    {
     "name": "stdout",
     "output_type": "stream",
     "text": [
      "22\n"
     ]
    }
   ],
   "source": [
    "add()"
   ]
  },
  {
   "cell_type": "code",
   "execution_count": 11,
   "id": "6ed65cf6-a7dc-4213-bf1d-bf4a55e76b23",
   "metadata": {},
   "outputs": [],
   "source": [
    "def greet(name):  #parameter\n",
    "    print(\"Welcome!\",name)"
   ]
  },
  {
   "cell_type": "code",
   "execution_count": null,
   "id": "921439e3-fb0c-4e0b-b4e3-1ef2ff78821e",
   "metadata": {},
   "outputs": [],
   "source": [
    "greet(\"Shayan\") # argument"
   ]
  },
  {
   "cell_type": "code",
   "execution_count": 9,
   "id": "5f99bdbd-b929-4586-9e7e-b0d465d04947",
   "metadata": {},
   "outputs": [],
   "source": [
    "# parameter less function\n",
    "# parameterised function\n",
    "def greeteveryone(name):##parameter\n",
    "    print(f\"Welcome Mr.{name}!\")"
   ]
  },
  {
   "cell_type": "code",
   "execution_count": 11,
   "id": "59678990-45ba-4b3d-b342-6a7b67433e5f",
   "metadata": {},
   "outputs": [
    {
     "ename": "TypeError",
     "evalue": "greeteveryone() missing 1 required positional argument: 'name'",
     "output_type": "error",
     "traceback": [
      "\u001b[1;31m---------------------------------------------------------------------------\u001b[0m",
      "\u001b[1;31mTypeError\u001b[0m                                 Traceback (most recent call last)",
      "Cell \u001b[1;32mIn[11], line 1\u001b[0m\n\u001b[1;32m----> 1\u001b[0m greeteveryone()\n",
      "\u001b[1;31mTypeError\u001b[0m: greeteveryone() missing 1 required positional argument: 'name'"
     ]
    }
   ],
   "source": [
    "greeteveryone()"
   ]
  },
  {
   "cell_type": "code",
   "execution_count": 13,
   "id": "3b28d873-b6ec-4faa-bfb2-aeebc968dde9",
   "metadata": {},
   "outputs": [
    {
     "name": "stdout",
     "output_type": "stream",
     "text": [
      "Welcome Mr.Bilal!\n"
     ]
    }
   ],
   "source": [
    "greeteveryone(\"Bilal\")"
   ]
  },
  {
   "cell_type": "code",
   "execution_count": 47,
   "id": "0ea6a211-869c-4416-a937-e5feeafafbd0",
   "metadata": {},
   "outputs": [],
   "source": [
    "def add(a=0,b=0,c=0,d=0):# positional argument\n",
    "    print(a,b,c,d)\n",
    "    print(a+b+c+d)"
   ]
  },
  {
   "cell_type": "code",
   "execution_count": 53,
   "id": "7172ad12-a841-40c1-bb80-bb39ee276ce6",
   "metadata": {},
   "outputs": [
    {
     "name": "stdout",
     "output_type": "stream",
     "text": [
      "1 3 0 0\n",
      "4\n"
     ]
    }
   ],
   "source": [
    "add(1,3) #can only pass 2 as well"
   ]
  },
  {
   "cell_type": "code",
   "execution_count": 21,
   "id": "320ba1d6-c6a9-4f8c-9641-4501bd1df28a",
   "metadata": {},
   "outputs": [],
   "source": [
    "def add(a,b):\n",
    "    print(a+b)"
   ]
  },
  {
   "cell_type": "code",
   "execution_count": 23,
   "id": "4136e6a2-07d1-4537-ba0a-d214df27bf70",
   "metadata": {},
   "outputs": [
    {
     "ename": "TypeError",
     "evalue": "add() missing 1 required positional argument: 'b'",
     "output_type": "error",
     "traceback": [
      "\u001b[1;31m---------------------------------------------------------------------------\u001b[0m",
      "\u001b[1;31mTypeError\u001b[0m                                 Traceback (most recent call last)",
      "Cell \u001b[1;32mIn[23], line 1\u001b[0m\n\u001b[1;32m----> 1\u001b[0m add(\u001b[38;5;241m3\u001b[39m)\n",
      "\u001b[1;31mTypeError\u001b[0m: add() missing 1 required positional argument: 'b'"
     ]
    }
   ],
   "source": [
    "add(3) # error as no pre value given in parameters. "
   ]
  },
  {
   "cell_type": "code",
   "execution_count": 27,
   "id": "1afdeb82-829c-49c9-8753-f4afe2e87a48",
   "metadata": {},
   "outputs": [
    {
     "ename": "SyntaxError",
     "evalue": "parameter without a default follows parameter with a default (355541444.py, line 1)",
     "output_type": "error",
     "traceback": [
      "\u001b[1;36m  Cell \u001b[1;32mIn[27], line 1\u001b[1;36m\u001b[0m\n\u001b[1;33m    def add(a,b=5,c):\u001b[0m\n\u001b[1;37m                  ^\u001b[0m\n\u001b[1;31mSyntaxError\u001b[0m\u001b[1;31m:\u001b[0m parameter without a default follows parameter with a default\n"
     ]
    }
   ],
   "source": [
    "# if you are given a value to parameters then it should follow left to right\n",
    "\n",
    "def add(a,b=5,c):\n",
    "    print(a+b)\n",
    "add(4)"
   ]
  },
  {
   "cell_type": "code",
   "execution_count": 41,
   "id": "dd9f138d-6b8f-4d00-b8bb-b4d6b3233e32",
   "metadata": {},
   "outputs": [
    {
     "name": "stdout",
     "output_type": "stream",
     "text": [
      "17\n"
     ]
    }
   ],
   "source": [
    "def add(a,b,c=8):\n",
    "    print(a+b+c)\n",
    "add(4,5)"
   ]
  },
  {
   "cell_type": "code",
   "execution_count": 43,
   "id": "fad0a861-8fd9-4aaf-96e9-820670192f90",
   "metadata": {},
   "outputs": [
    {
     "ename": "SyntaxError",
     "evalue": "parameter without a default follows parameter with a default (2561110595.py, line 1)",
     "output_type": "error",
     "traceback": [
      "\u001b[1;36m  Cell \u001b[1;32mIn[43], line 1\u001b[1;36m\u001b[0m\n\u001b[1;33m    def add(a=5,b,c=8):\u001b[0m\n\u001b[1;37m                ^\u001b[0m\n\u001b[1;31mSyntaxError\u001b[0m\u001b[1;31m:\u001b[0m parameter without a default follows parameter with a default\n"
     ]
    }
   ],
   "source": [
    "# rember left to right\n",
    "def add(a=5,b,c=8):\n",
    "    print(a+b+c)\n",
    "add(4,5)"
   ]
  },
  {
   "cell_type": "markdown",
   "id": "13d27656-9a42-47e5-a577-4681a6a9ebf2",
   "metadata": {},
   "source": [
    "# Keyword Arguments"
   ]
  },
  {
   "cell_type": "code",
   "execution_count": 56,
   "id": "e188a416-ad40-42f6-a855-ca114c46be56",
   "metadata": {},
   "outputs": [],
   "source": [
    "def generate_profile(name, age, qual, prof, gender):\n",
    "    profile={'name':name, 'age':age, \"qualification\":qual, 'profession':prof,\n",
    "            'gender':gender}\n",
    "    print(profile)"
   ]
  },
  {
   "cell_type": "code",
   "execution_count": 62,
   "id": "20e06fc7-f032-4461-90a9-dff9ca743072",
   "metadata": {},
   "outputs": [
    {
     "name": "stdout",
     "output_type": "stream",
     "text": [
      "{'name': 'Shabana', 'age': '23', 'qualification': 'MBBS', 'profession': 'Doctor', 'gender': 'Female'}\n"
     ]
    }
   ],
   "source": [
    "generate_profile(age='23',prof=\"Doctor\",gender='Female', name=\"Shabana\",\n",
    "                qual=\"MBBS\")"
   ]
  },
  {
   "cell_type": "code",
   "execution_count": 64,
   "id": "fc77ab33-be8e-4c67-ac9c-f96087ab7861",
   "metadata": {},
   "outputs": [
    {
     "ename": "TypeError",
     "evalue": "generate_profile() got multiple values for argument 'age'",
     "output_type": "error",
     "traceback": [
      "\u001b[1;31m---------------------------------------------------------------------------\u001b[0m",
      "\u001b[1;31mTypeError\u001b[0m                                 Traceback (most recent call last)",
      "Cell \u001b[1;32mIn[64], line 1\u001b[0m\n\u001b[1;32m----> 1\u001b[0m generate_profile(\u001b[38;5;124m'\u001b[39m\u001b[38;5;124mbilal\u001b[39m\u001b[38;5;124m'\u001b[39m, \u001b[38;5;124m\"\u001b[39m\u001b[38;5;124mMatric\u001b[39m\u001b[38;5;124m\"\u001b[39m, \u001b[38;5;124m'\u001b[39m\u001b[38;5;124mPythonDev\u001b[39m\u001b[38;5;124m'\u001b[39m, gender\u001b[38;5;241m=\u001b[39m\u001b[38;5;124m'\u001b[39m\u001b[38;5;124mmale\u001b[39m\u001b[38;5;124m'\u001b[39m,age\u001b[38;5;241m=\u001b[39m\u001b[38;5;241m23\u001b[39m)\n",
      "\u001b[1;31mTypeError\u001b[0m: generate_profile() got multiple values for argument 'age'"
     ]
    }
   ],
   "source": [
    "generate_profile('bilal', \"Matric\", 'PythonDev', gender='male',age=23)"
   ]
  },
  {
   "cell_type": "code",
   "execution_count": 70,
   "id": "aa0ec39e-0d62-4665-ab28-c748e6e87154",
   "metadata": {},
   "outputs": [
    {
     "name": "stdout",
     "output_type": "stream",
     "text": [
      "{'name': 23, 'age': 'Pythondev', 'qualification': 'male', 'profession': 'Matric', 'gender': 'bilal'}\n"
     ]
    }
   ],
   "source": [
    "generate_profile(23, \"Pythondev\", 'male',\"Matric\", 'bilal',  )  # arguments should be arrnaged as parameters\n"
   ]
  },
  {
   "cell_type": "markdown",
   "id": "f64a1a76-b2d7-4ea6-9b29-14fbbac66ae4",
   "metadata": {},
   "source": [
    "# Arbitrary Arguments\n",
    "- for a lot of arguments /  giving a lot of arguments\n"
   ]
  },
  {
   "cell_type": "code",
   "execution_count": 43,
   "id": "3fe75919-a909-4467-a46e-2ab05662e7d5",
   "metadata": {},
   "outputs": [],
   "source": [
    "def add(a,b=0, *other):\n",
    "    print(a)\n",
    "    print(b)\n",
    "    print(other)\n",
    "    print(a+b+sum(other)) #other is tuple so taking its sum "
   ]
  },
  {
   "cell_type": "code",
   "execution_count": 45,
   "id": "79f8293b-c6ab-494e-997f-ab8674c875be",
   "metadata": {},
   "outputs": [
    {
     "name": "stdout",
     "output_type": "stream",
     "text": [
      "1\n",
      "0\n",
      "()\n",
      "1\n"
     ]
    }
   ],
   "source": [
    "add(1)"
   ]
  },
  {
   "cell_type": "code",
   "execution_count": 47,
   "id": "da13c29b-1aa3-46fe-bd88-76bcf427034d",
   "metadata": {},
   "outputs": [
    {
     "name": "stdout",
     "output_type": "stream",
     "text": [
      "1\n",
      "2\n",
      "(3, 4, 5, 6, 7, 7)\n",
      "35\n"
     ]
    }
   ],
   "source": [
    "add(1,2,3,4,5,6,7,7)"
   ]
  },
  {
   "cell_type": "code",
   "execution_count": 81,
   "id": "86b53238-2b75-4bd1-96fb-db8afcfd87a9",
   "metadata": {},
   "outputs": [],
   "source": [
    "def profile_builder(name, age, qualification, income, *other_info):\n",
    "    profile = {}\n",
    "    profile['name'] = name\n",
    "    profile['age'] = age\n",
    "    profile['qualification'] = qualification\n",
    "    profile['income'] = income\n",
    "    profile['other_info'] = other_info\n",
    "\n",
    "    print(profile)"
   ]
  },
  {
   "cell_type": "code",
   "execution_count": 83,
   "id": "d8f95c3c-64cf-4556-ae1c-5f678629cd34",
   "metadata": {},
   "outputs": [
    {
     "name": "stdout",
     "output_type": "stream",
     "text": [
      "{'name': 'arish', 'age': 24, 'qualification': 'Graduate', 'income': 40000, 'other_info': ('karachi', '5.8\"', 'Fair', 'datascientsit')}\n"
     ]
    }
   ],
   "source": [
    "profile_builder('arish',24,'Graduate', 40000, 'karachi', '5.8\"', 'Fair', 'datascientsit')"
   ]
  },
  {
   "cell_type": "code",
   "execution_count": 99,
   "id": "7db09814-7ff0-426e-99bc-c583271ad744",
   "metadata": {},
   "outputs": [],
   "source": [
    "def profile_builder(name, age, qualification, income, **other_info):\n",
    "    profile = {}\n",
    "    profile['name'] = name\n",
    "    profile['age'] = age\n",
    "    profile['qualification'] = qualification\n",
    "    profile['income'] = income\n",
    "    profile['other_info'] = other_info\n",
    "\n",
    "    print(profile)"
   ]
  },
  {
   "cell_type": "code",
   "execution_count": 103,
   "id": "542473bd-4fb9-45f6-893c-f9c8054171ff",
   "metadata": {},
   "outputs": [
    {
     "name": "stdout",
     "output_type": "stream",
     "text": [
      "{'name': 'arish', 'age': 24, 'qualification': 'Graduate', 'income': 40000, 'other_info': {'city': 'karachi', 'height': '5.8\"', 'complexion': 'Fair', 'profession': 'datascientsit'}}\n"
     ]
    }
   ],
   "source": [
    "profile_builder('arish',24,'Graduate', 40000, city='karachi', height='5.8\"', complexion='Fair', profession='datascientsit')"
   ]
  },
  {
   "cell_type": "code",
   "execution_count": 109,
   "id": "9fcf86c7-f3ad-40a3-a627-bb3d187d3946",
   "metadata": {},
   "outputs": [],
   "source": [
    "# taken whoe items as dictionary. **other makes a dictionary (disctionary within dictionary)\n",
    "\n",
    "# but we just want external dictionary so use update function. "
   ]
  },
  {
   "cell_type": "code",
   "execution_count": 93,
   "id": "d0b3e5b2-1a06-43f2-86b6-9d765ea3b847",
   "metadata": {},
   "outputs": [],
   "source": [
    "def profile_builder(name, age, qualification, income, **other_info):\n",
    "    profile = {}\n",
    "    profile['name'] = name\n",
    "    profile['age'] = age\n",
    "    profile['qualification'] = qualification\n",
    "    profile['income'] = income\n",
    "    # profile['city'] = other_info['city']\n",
    "    profile.update(other_info)\n",
    "    # profile['other'] = other_info\n",
    "\n",
    "    print(profile)"
   ]
  },
  {
   "cell_type": "code",
   "execution_count": 95,
   "id": "1b240437-0ef5-42b3-bdd6-5261183a1da6",
   "metadata": {},
   "outputs": [
    {
     "name": "stdout",
     "output_type": "stream",
     "text": [
      "{'name': 'arish', 'age': 24, 'qualification': 'Graduate', 'income': 40000, 'city': 'karachi', 'height': '5.8\"', 'complexion': 'Fair', 'profession': 'datascientsit'}\n"
     ]
    }
   ],
   "source": [
    "profile_builder('arish',24,'Graduate', 40000, city='karachi', height='5.8\"', complexion='Fair', profession='datascientsit')"
   ]
  },
  {
   "cell_type": "code",
   "execution_count": null,
   "id": "688fe845-125e-44da-894c-6df73ea35b25",
   "metadata": {},
   "outputs": [],
   "source": []
  }
 ],
 "metadata": {
  "kernelspec": {
   "display_name": "Python 3 (ipykernel)",
   "language": "python",
   "name": "python3"
  },
  "language_info": {
   "codemirror_mode": {
    "name": "ipython",
    "version": 3
   },
   "file_extension": ".py",
   "mimetype": "text/x-python",
   "name": "python",
   "nbconvert_exporter": "python",
   "pygments_lexer": "ipython3",
   "version": "3.12.7"
  }
 },
 "nbformat": 4,
 "nbformat_minor": 5
}
