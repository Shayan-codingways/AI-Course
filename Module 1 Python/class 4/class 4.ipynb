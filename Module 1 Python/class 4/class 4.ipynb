{
 "cells": [
  {
   "cell_type": "code",
   "execution_count": 10,
   "id": "25eb7382-9ef6-4406-aa97-a4a200e9bd92",
   "metadata": {},
   "outputs": [
    {
     "name": "stdout",
     "output_type": "stream",
     "text": [
      "hello\n"
     ]
    }
   ],
   "source": [
    "print('hello')"
   ]
  },
  {
   "cell_type": "code",
   "execution_count": 12,
   "id": "36ffd513-0734-48d7-a075-f518d8d74538",
   "metadata": {},
   "outputs": [],
   "source": [
    "# print = 'hello'\n",
    "# print  \n",
    "\n",
    "# not a reserved keyword as print has been overwritten and now print() won't work"
   ]
  },
  {
   "cell_type": "code",
   "execution_count": 14,
   "id": "2db71dcd-c865-49b6-8b41-06c55473e592",
   "metadata": {},
   "outputs": [
    {
     "data": {
      "text/plain": [
       "'tan'"
      ]
     },
     "execution_count": 14,
     "metadata": {},
     "output_type": "execute_result"
    }
   ],
   "source": [
    "a='Pakistan'\n",
    "a[5:10] \n",
    "# length an exceed actual length"
   ]
  },
  {
   "cell_type": "code",
   "execution_count": 15,
   "id": "1dce433c-29db-4404-bee4-479040f5a20a",
   "metadata": {},
   "outputs": [
    {
     "data": {
      "text/plain": [
       "'python'"
      ]
     },
     "execution_count": 15,
     "metadata": {},
     "output_type": "execute_result"
    }
   ],
   "source": [
    "'Python'.lower()"
   ]
  },
  {
   "cell_type": "code",
   "execution_count": 18,
   "id": "f8e7292e-d408-4b3c-90ad-04eaa2ca9a11",
   "metadata": {},
   "outputs": [],
   "source": [
    "#  / --> Divison is a float function \n",
    "#  // --> integer division. "
   ]
  },
  {
   "cell_type": "markdown",
   "id": "e4ff5f9a-2455-40ce-bafb-9e91e2c8c3be",
   "metadata": {},
   "source": [
    "# List Functions and Methods\n",
    "List is mutable changes due functions"
   ]
  },
  {
   "cell_type": "code",
   "execution_count": 20,
   "id": "e837bc11-55e5-4a73-9e41-2d846dd732f3",
   "metadata": {},
   "outputs": [],
   "source": [
    "students = ['Ali','Basit','Kaleem','Shayan','Abdul','Mustufa' ]\n"
   ]
  },
  {
   "cell_type": "markdown",
   "id": "aed52bd9-7f0e-4a5d-872b-b0de5487c6a2",
   "metadata": {},
   "source": [
    "## Adding members\n",
    "- append() : appends at last\n",
    "- Insert() : insert at given index\n",
    "- extend() : adds a collection to a list\n",
    "- '+ ': concats"
   ]
  },
  {
   "cell_type": "code",
   "execution_count": 24,
   "id": "183e0f02-51ea-4b8e-95a8-abbb09bf0e83",
   "metadata": {},
   "outputs": [
    {
     "ename": "SyntaxError",
     "evalue": "invalid syntax (4069528247.py, line 3)",
     "output_type": "error",
     "traceback": [
      "\u001b[1;36m  Cell \u001b[1;32mIn[24], line 3\u001b[1;36m\u001b[0m\n\u001b[1;33m    students -# ->ertugrul ghazi\u001b[0m\n\u001b[1;37m              ^\u001b[0m\n\u001b[1;31mSyntaxError\u001b[0m\u001b[1;31m:\u001b[0m invalid syntax\n"
     ]
    }
   ],
   "source": [
    "# just adds a single member to a list \n",
    "students.append('Rashid')\n",
    "students -# ->ertugrul ghazi"
   ]
  },
  {
   "cell_type": "code",
   "execution_count": 26,
   "id": "132e129f-7ad2-4b0a-8848-e45530f0b3be",
   "metadata": {},
   "outputs": [
    {
     "data": {
      "text/plain": [
       "['Ali', 'Basit', 'Kaleem', 'Majid', 'Shayan', 'Abdul', 'Mustufa']"
      ]
     },
     "execution_count": 26,
     "metadata": {},
     "output_type": "execute_result"
    }
   ],
   "source": [
    "students.insert(3,'Majid')\n",
    "students"
   ]
  },
  {
   "cell_type": "code",
   "execution_count": 27,
   "id": "2e7b7d7a-2d87-4322-92f1-977f7120300a",
   "metadata": {},
   "outputs": [],
   "source": [
    "# ends at the last index\n",
    "students.insert(100,'GUl')"
   ]
  },
  {
   "cell_type": "code",
   "execution_count": 28,
   "id": "496f7f94-30b8-45e3-85f8-18573ecd5ac7",
   "metadata": {},
   "outputs": [
    {
     "data": {
      "text/plain": [
       "['Ali', 'Basit', 'Kaleem', 'Majid', 'Shayan', 'Abdul', 'Mustufa', 'GUl']"
      ]
     },
     "execution_count": 28,
     "metadata": {},
     "output_type": "execute_result"
    }
   ],
   "source": [
    "students"
   ]
  },
  {
   "cell_type": "code",
   "execution_count": 32,
   "id": "6dd83480-c5dc-4f9a-8764-2c9959173680",
   "metadata": {},
   "outputs": [],
   "source": [
    "staff = ['wahid','kami','sjsj']\n",
    "students.append(staff)"
   ]
  },
  {
   "cell_type": "code",
   "execution_count": 33,
   "id": "b5cbd3b7-017f-4c89-acfd-62437008239a",
   "metadata": {},
   "outputs": [
    {
     "data": {
      "text/plain": [
       "['Ali',\n",
       " 'Basit',\n",
       " 'Kaleem',\n",
       " 'Majid',\n",
       " 'Shayan',\n",
       " 'Abdul',\n",
       " 'Mustufa',\n",
       " 'GUl',\n",
       " ['wahid', 'kami', 'sjsj']]"
      ]
     },
     "execution_count": 33,
     "metadata": {},
     "output_type": "execute_result"
    }
   ],
   "source": [
    "students \n",
    "# would add full string to the stduents list"
   ]
  },
  {
   "cell_type": "code",
   "execution_count": 36,
   "id": "40208f82-fa72-4242-8b98-46dd8a46ff7b",
   "metadata": {},
   "outputs": [],
   "source": [
    "# extend adds every element from other list separately\n",
    "students.extend(staff)"
   ]
  },
  {
   "cell_type": "code",
   "execution_count": 37,
   "id": "0888e183-2ca4-40a6-a327-43058244fbad",
   "metadata": {},
   "outputs": [
    {
     "data": {
      "text/plain": [
       "['Ali',\n",
       " 'Basit',\n",
       " 'Kaleem',\n",
       " 'Majid',\n",
       " 'Shayan',\n",
       " 'Abdul',\n",
       " 'Mustufa',\n",
       " 'GUl',\n",
       " ['wahid', 'kami', 'sjsj'],\n",
       " 'wahid',\n",
       " 'kami',\n",
       " 'sjsj']"
      ]
     },
     "execution_count": 37,
     "metadata": {},
     "output_type": "execute_result"
    }
   ],
   "source": [
    "students"
   ]
  },
  {
   "cell_type": "code",
   "execution_count": 40,
   "id": "69cf2ee7-7103-47d6-91ea-014fa1eb2898",
   "metadata": {},
   "outputs": [
    {
     "data": {
      "text/plain": [
       "['Ali',\n",
       " 'Basit',\n",
       " 'Kaleem',\n",
       " 'Majid',\n",
       " 'Shayan',\n",
       " 'Abdul',\n",
       " 'Mustufa',\n",
       " 'GUl',\n",
       " ['wahid', 'kami', 'sjsj'],\n",
       " 'wahid',\n",
       " 'kami',\n",
       " 'sjsj',\n",
       " 'H',\n",
       " 'e',\n",
       " 'l',\n",
       " 'l',\n",
       " 'o']"
      ]
     },
     "execution_count": 40,
     "metadata": {},
     "output_type": "execute_result"
    }
   ],
   "source": [
    "students.extend('Hello') # string is collection value can be iterated and extended. \n",
    "students"
   ]
  },
  {
   "cell_type": "code",
   "execution_count": 41,
   "id": "465e3234-c64a-4430-a973-10138a3df250",
   "metadata": {},
   "outputs": [
    {
     "ename": "TypeError",
     "evalue": "'int' object is not iterable",
     "output_type": "error",
     "traceback": [
      "\u001b[1;31m---------------------------------------------------------------------------\u001b[0m",
      "\u001b[1;31mTypeError\u001b[0m                                 Traceback (most recent call last)",
      "Cell \u001b[1;32mIn[41], line 1\u001b[0m\n\u001b[1;32m----> 1\u001b[0m students\u001b[38;5;241m.\u001b[39mextend(\u001b[38;5;241m100\u001b[39m) \u001b[38;5;66;03m# integer is not a collection of values, isn't iterable\u001b[39;00m\n\u001b[0;32m      2\u001b[0m students\n",
      "\u001b[1;31mTypeError\u001b[0m: 'int' object is not iterable"
     ]
    }
   ],
   "source": [
    "students.extend(100) # integer is not a collection of values, isn't iterable\n",
    "students"
   ]
  },
  {
   "cell_type": "code",
   "execution_count": null,
   "id": "0edebdc0-9597-48c9-b1ed-01e81a06a799",
   "metadata": {},
   "outputs": [],
   "source": [
    "students + staff # just like extend \n",
    "# none of students and staff changes"
   ]
  },
  {
   "cell_type": "markdown",
   "id": "480a80cd-8ade-40fa-aa5a-ce39fa06d563",
   "metadata": {},
   "source": [
    "## Deleting members from List\n",
    "- del statement has nothing to do with the list is all with python (del via index) (removes list/var)\n",
    "- remove() : deletes permanently via value\n",
    "- pop() : deletes from last index. can delete a member from givem index\n",
    "          it returns deleted value\n",
    "- clear() : poori list ko khalli kardega (doesn't remove just empties it)\n"
   ]
  },
  {
   "cell_type": "code",
   "execution_count": null,
   "id": "85f570ca-63f9-4398-88db-aca9e660a52f",
   "metadata": {},
   "outputs": [],
   "source": [
    "name='hello'\n",
    "name"
   ]
  },
  {
   "cell_type": "code",
   "execution_count": null,
   "id": "735c09c6-5dbd-41f8-8389-2779b71c76db",
   "metadata": {},
   "outputs": [],
   "source": [
    "# no list/var exist now\n",
    "del name"
   ]
  },
  {
   "cell_type": "code",
   "execution_count": null,
   "id": "3d41ba4c-a24c-4aaf-911e-9d246e9f8491",
   "metadata": {},
   "outputs": [],
   "source": [
    "name"
   ]
  },
  {
   "cell_type": "code",
   "execution_count": null,
   "id": "54bdb712-d6cc-4401-9730-19455d86cda6",
   "metadata": {},
   "outputs": [],
   "source": [
    "del students[2]\n",
    "students"
   ]
  },
  {
   "cell_type": "code",
   "execution_count": null,
   "id": "13050294-ca38-4b32-9f38-624edca3ec19",
   "metadata": {},
   "outputs": [],
   "source": [
    "students.remove('O')\n",
    "students\n",
    "# can't find 0 s error"
   ]
  },
  {
   "cell_type": "code",
   "execution_count": null,
   "id": "081eda5b-b36b-4c02-854d-f368001741e5",
   "metadata": {},
   "outputs": [],
   "source": [
    "students.remove('Hello')\n",
    "students\n",
    "\n",
    "# can find Hello"
   ]
  },
  {
   "cell_type": "code",
   "execution_count": null,
   "id": "2980c5fe-b1ed-4cc2-952d-5aa508e8c005",
   "metadata": {},
   "outputs": [],
   "source": [
    "students.remove('e')"
   ]
  },
  {
   "cell_type": "code",
   "execution_count": null,
   "id": "3c703213-86f4-4a0c-a3ca-705df915717e",
   "metadata": {},
   "outputs": [],
   "source": [
    "students"
   ]
  },
  {
   "cell_type": "code",
   "execution_count": null,
   "id": "0caedc51-0dac-4e93-ac85-77f8e75b8354",
   "metadata": {},
   "outputs": [],
   "source": [
    "a=students.pop()\n",
    "a\n",
    "students"
   ]
  },
  {
   "cell_type": "code",
   "execution_count": null,
   "id": "fa8a0df0-d577-4ece-8a72-f9ae3ad7879c",
   "metadata": {},
   "outputs": [],
   "source": [
    "deleted = students.pop()"
   ]
  },
  {
   "cell_type": "code",
   "execution_count": null,
   "id": "4592575a-d58d-43ac-99db-5ef8542fd11b",
   "metadata": {},
   "outputs": [],
   "source": [
    "deleted"
   ]
  },
  {
   "cell_type": "code",
   "execution_count": null,
   "id": "254b256b-e32e-4887-9e4f-556e456b224b",
   "metadata": {},
   "outputs": [],
   "source": [
    "students"
   ]
  },
  {
   "cell_type": "code",
   "execution_count": null,
   "id": "f5fc5206-8ea5-41ce-b9b1-d69f0f8399ec",
   "metadata": {},
   "outputs": [],
   "source": [
    "# delete with slice\n",
    "del students[3:6]"
   ]
  },
  {
   "cell_type": "code",
   "execution_count": null,
   "id": "fb763420-714e-4b35-9fe1-fcd50d2faa15",
   "metadata": {},
   "outputs": [],
   "source": [
    "students"
   ]
  },
  {
   "cell_type": "code",
   "execution_count": null,
   "id": "7bb73efd-cd29-445a-a1c5-c3358ec3768b",
   "metadata": {},
   "outputs": [],
   "source": [
    "students.clear()\n",
    "students"
   ]
  },
  {
   "cell_type": "code",
   "execution_count": null,
   "id": "3e0d8512-7171-43eb-b44a-437e50f405bf",
   "metadata": {},
   "outputs": [],
   "source": [
    "students.index('amir')"
   ]
  },
  {
   "cell_type": "code",
   "execution_count": 94,
   "id": "44a4c190-14a9-45b0-844d-90351edf1646",
   "metadata": {},
   "outputs": [
    {
     "data": {
      "text/plain": [
       "3"
      ]
     },
     "execution_count": 94,
     "metadata": {},
     "output_type": "execute_result"
    }
   ],
   "source": [
    "a=[3,4,5,6,7,87]\n",
    "a.index(6)"
   ]
  },
  {
   "cell_type": "code",
   "execution_count": 96,
   "id": "1cfd6144-3c0f-4655-8d54-159ae1f140d6",
   "metadata": {},
   "outputs": [
    {
     "data": {
      "text/plain": [
       "[3, 4, 5, 6, 7, 87]"
      ]
     },
     "execution_count": 96,
     "metadata": {},
     "output_type": "execute_result"
    }
   ],
   "source": [
    "a.sort()\n",
    "a\n",
    "\n",
    "# sort on ascii code"
   ]
  },
  {
   "cell_type": "code",
   "execution_count": 98,
   "id": "cfb87fbe-2c3c-46ae-bbfa-b5c79cf2015c",
   "metadata": {},
   "outputs": [
    {
     "data": {
      "text/plain": [
       "[87, 7, 6, 5, 4, 3]"
      ]
     },
     "execution_count": 98,
     "metadata": {},
     "output_type": "execute_result"
    }
   ],
   "source": [
    "a.reverse()\n",
    "a"
   ]
  },
  {
   "cell_type": "code",
   "execution_count": 100,
   "id": "1f4e4f4e-1d00-480a-9d1e-a49c0779b829",
   "metadata": {},
   "outputs": [],
   "source": [
    "a.extend(['a',3,'z','b'])"
   ]
  },
  {
   "cell_type": "code",
   "execution_count": 102,
   "id": "c6b7930d-a3fa-47ea-9c4d-36e578f3d170",
   "metadata": {},
   "outputs": [
    {
     "data": {
      "text/plain": [
       "[87, 7, 6, 5, 4, 3, 'a', 3, 'z', 'b']"
      ]
     },
     "execution_count": 102,
     "metadata": {},
     "output_type": "execute_result"
    }
   ],
   "source": [
    "a"
   ]
  },
  {
   "cell_type": "code",
   "execution_count": 104,
   "id": "f3422ccf-f6fe-4d79-b227-f5ac973fc8ab",
   "metadata": {},
   "outputs": [
    {
     "ename": "TypeError",
     "evalue": "'<' not supported between instances of 'str' and 'int'",
     "output_type": "error",
     "traceback": [
      "\u001b[1;31m---------------------------------------------------------------------------\u001b[0m",
      "\u001b[1;31mTypeError\u001b[0m                                 Traceback (most recent call last)",
      "Cell \u001b[1;32mIn[104], line 1\u001b[0m\n\u001b[1;32m----> 1\u001b[0m a\u001b[38;5;241m.\u001b[39msort()\n\u001b[0;32m      2\u001b[0m a\n",
      "\u001b[1;31mTypeError\u001b[0m: '<' not supported between instances of 'str' and 'int'"
     ]
    }
   ],
   "source": [
    "a.sort()\n",
    "a\n",
    "\n",
    "# won't sort on different data types"
   ]
  },
  {
   "cell_type": "code",
   "execution_count": 106,
   "id": "d2497000-fe83-48ae-8b4e-13c47d0a09b0",
   "metadata": {},
   "outputs": [
    {
     "data": {
      "text/plain": [
       "1"
      ]
     },
     "execution_count": 106,
     "metadata": {},
     "output_type": "execute_result"
    }
   ],
   "source": [
    "a.count('a')"
   ]
  },
  {
   "cell_type": "code",
   "execution_count": 108,
   "id": "2e8ff251-a351-49f6-98fa-f60c7605f894",
   "metadata": {},
   "outputs": [
    {
     "data": {
      "text/plain": [
       "'c'"
      ]
     },
     "execution_count": 108,
     "metadata": {},
     "output_type": "execute_result"
    }
   ],
   "source": [
    "chr(99) # finding on ascii code"
   ]
  },
  {
   "cell_type": "code",
   "execution_count": 110,
   "id": "817a7444-786f-474c-b92d-184fb4aa7650",
   "metadata": {},
   "outputs": [
    {
     "data": {
      "text/plain": [
       "99"
      ]
     },
     "execution_count": 110,
     "metadata": {},
     "output_type": "execute_result"
    }
   ],
   "source": [
    "ord('c') # finding ascii"
   ]
  },
  {
   "cell_type": "markdown",
   "id": "ac5bf3e1-8ee1-4f4c-8241-85ad965c7254",
   "metadata": {},
   "source": [
    "# Pass by Value and Pass by Refrence [Deep and Shallow Copy]"
   ]
  },
  {
   "cell_type": "code",
   "execution_count": 114,
   "id": "4e2210e8-d5de-4037-9c92-642ef1329d0d",
   "metadata": {},
   "outputs": [
    {
     "data": {
      "text/plain": [
       "[87, 7, 6, 5, 4, 3, 'a', 3, 'z', 'b']"
      ]
     },
     "execution_count": 114,
     "metadata": {},
     "output_type": "execute_result"
    }
   ],
   "source": [
    "d=a.copy()\n",
    "d"
   ]
  },
  {
   "cell_type": "code",
   "execution_count": 116,
   "id": "95b6de08-eb6d-4db6-83d7-eef380778b69",
   "metadata": {},
   "outputs": [
    {
     "data": {
      "text/plain": [
       "[87, 7, 6, 5, 4, 3, 'a', 3, 'z', 'b']"
      ]
     },
     "execution_count": 116,
     "metadata": {},
     "output_type": "execute_result"
    }
   ],
   "source": [
    "a"
   ]
  },
  {
   "cell_type": "code",
   "execution_count": 118,
   "id": "e3698ab9-f3e5-4a18-89c9-d63f138a2e80",
   "metadata": {},
   "outputs": [
    {
     "data": {
      "text/plain": [
       "[87, 7, 6, 4, 3, 'a', 3, 'z', 'b']"
      ]
     },
     "execution_count": 118,
     "metadata": {},
     "output_type": "execute_result"
    }
   ],
   "source": [
    "del a[3]\n",
    "a"
   ]
  },
  {
   "cell_type": "code",
   "execution_count": 120,
   "id": "b0d11ae1-d150-4bf8-953b-d39cded4b592",
   "metadata": {},
   "outputs": [
    {
     "data": {
      "text/plain": [
       "[87, 7, 6, 5, 4, 3, 'a', 3, 'z', 'b']"
      ]
     },
     "execution_count": 120,
     "metadata": {},
     "output_type": "execute_result"
    }
   ],
   "source": [
    "d "
   ]
  },
  {
   "cell_type": "markdown",
   "id": "303ea72a-76a8-4a33-a723-3fb7e0177fbf",
   "metadata": {},
   "source": [
    "## Deep Copy --> pass by refrence new identifier 'c' points 'a'\n"
   ]
  },
  {
   "cell_type": "code",
   "execution_count": 66,
   "id": "1e96ed5d-e505-47d8-9ac7-406b34990de7",
   "metadata": {},
   "outputs": [],
   "source": [
    "c=a # deep copy (just gets address of actual a, c now points a)\n",
    "# changes in a reflects in c as well"
   ]
  },
  {
   "cell_type": "code",
   "execution_count": 67,
   "id": "17ca50cb-b0cc-4375-85ea-fd51dc49bf8a",
   "metadata": {},
   "outputs": [
    {
     "data": {
      "text/plain": [
       "'Pakistan'"
      ]
     },
     "execution_count": 67,
     "metadata": {},
     "output_type": "execute_result"
    }
   ],
   "source": [
    "c\n"
   ]
  },
  {
   "cell_type": "code",
   "execution_count": 70,
   "id": "9f1bbd96-18cb-4675-9612-913e9815ac26",
   "metadata": {},
   "outputs": [
    {
     "data": {
      "text/plain": [
       "'Pakistan'"
      ]
     },
     "execution_count": 70,
     "metadata": {},
     "output_type": "execute_result"
    }
   ],
   "source": [
    "a"
   ]
  },
  {
   "cell_type": "code",
   "execution_count": 72,
   "id": "181c66ac-8032-4348-bb51-6ee507859d94",
   "metadata": {},
   "outputs": [
    {
     "ename": "TypeError",
     "evalue": "'str' object doesn't support item deletion",
     "output_type": "error",
     "traceback": [
      "\u001b[1;31m---------------------------------------------------------------------------\u001b[0m",
      "\u001b[1;31mTypeError\u001b[0m                                 Traceback (most recent call last)",
      "Cell \u001b[1;32mIn[72], line 1\u001b[0m\n\u001b[1;32m----> 1\u001b[0m \u001b[38;5;28;01mdel\u001b[39;00m a[\u001b[38;5;241m4\u001b[39m]\n",
      "\u001b[1;31mTypeError\u001b[0m: 'str' object doesn't support item deletion"
     ]
    }
   ],
   "source": [
    "del a[4]"
   ]
  },
  {
   "cell_type": "code",
   "execution_count": 73,
   "id": "7140c172-fd71-443a-bbc6-a060a570ad23",
   "metadata": {},
   "outputs": [
    {
     "data": {
      "text/plain": [
       "'Pakistan'"
      ]
     },
     "execution_count": 73,
     "metadata": {},
     "output_type": "execute_result"
    }
   ],
   "source": [
    "a"
   ]
  },
  {
   "cell_type": "code",
   "execution_count": 76,
   "id": "c17aa930-5f9e-4e74-b083-b8033f75a616",
   "metadata": {},
   "outputs": [
    {
     "data": {
      "text/plain": [
       "'Pakistan'"
      ]
     },
     "execution_count": 76,
     "metadata": {},
     "output_type": "execute_result"
    }
   ],
   "source": [
    "c"
   ]
  },
  {
   "cell_type": "markdown",
   "id": "a2420d6a-6311-49d8-a045-0c45d3f9959a",
   "metadata": {},
   "source": [
    "## Shallow Copy --> pass by value 'd' new block having same values as a"
   ]
  },
  {
   "cell_type": "code",
   "execution_count": 122,
   "id": "7c1adbe3-08a0-4d33-98c5-16717ceb8f28",
   "metadata": {},
   "outputs": [
    {
     "data": {
      "text/plain": [
       "[87, 7, 6, 4, 3, 'a', 3, 'z', 'b']"
      ]
     },
     "execution_count": 122,
     "metadata": {},
     "output_type": "execute_result"
    }
   ],
   "source": [
    "d=a.copy() # shallow copy (cretaes new instance/new block in shallow copy)\n",
    "d  \n",
    "\n",
    "# d and a are different so chanegs in a won't reflect on d"
   ]
  },
  {
   "cell_type": "code",
   "execution_count": 124,
   "id": "14725f37-382e-46a9-ab97-c7ac577570b8",
   "metadata": {},
   "outputs": [],
   "source": [
    "a.append(5)"
   ]
  },
  {
   "cell_type": "code",
   "execution_count": 126,
   "id": "811d2aff-1e2e-4fe0-96a6-d27a2338f90e",
   "metadata": {},
   "outputs": [
    {
     "data": {
      "text/plain": [
       "[87, 7, 6, 4, 3, 'a', 3, 'z', 'b', 5]"
      ]
     },
     "execution_count": 126,
     "metadata": {},
     "output_type": "execute_result"
    }
   ],
   "source": [
    "a"
   ]
  },
  {
   "cell_type": "code",
   "execution_count": 128,
   "id": "ec7f682f-5448-4b22-9ff2-e7d08872c38d",
   "metadata": {},
   "outputs": [
    {
     "data": {
      "text/plain": [
       "[87, 7, 6, 4, 3, 'a', 3, 'z', 'b']"
      ]
     },
     "execution_count": 128,
     "metadata": {},
     "output_type": "execute_result"
    }
   ],
   "source": [
    "d"
   ]
  },
  {
   "cell_type": "code",
   "execution_count": null,
   "id": "3bcfaee4-9b59-4b70-9686-a1baa5cd9488",
   "metadata": {},
   "outputs": [],
   "source": []
  },
  {
   "cell_type": "code",
   "execution_count": null,
   "id": "61aaf195-c4d7-4a08-b12a-e69973e45952",
   "metadata": {},
   "outputs": [],
   "source": []
  },
  {
   "cell_type": "code",
   "execution_count": 152,
   "id": "f421e301-b67f-4336-bd8e-abeab3042647",
   "metadata": {},
   "outputs": [],
   "source": [
    "a = 5  "
   ]
  },
  {
   "cell_type": "code",
   "execution_count": 154,
   "id": "abceda1a-77c9-4ba1-b893-abe8b23c8cc9",
   "metadata": {},
   "outputs": [
    {
     "name": "stdout",
     "output_type": "stream",
     "text": [
      "140720245320248\n"
     ]
    }
   ],
   "source": [
    "print(id(a))"
   ]
  },
  {
   "cell_type": "code",
   "execution_count": 156,
   "id": "9825f592-de03-4e6d-82b8-aa8f5de94932",
   "metadata": {},
   "outputs": [],
   "source": [
    "b = a"
   ]
  },
  {
   "cell_type": "code",
   "execution_count": 158,
   "id": "2f4812e1-46f1-421c-b66c-887928761704",
   "metadata": {},
   "outputs": [
    {
     "data": {
      "text/plain": [
       "5"
      ]
     },
     "execution_count": 158,
     "metadata": {},
     "output_type": "execute_result"
    }
   ],
   "source": [
    "b"
   ]
  },
  {
   "cell_type": "code",
   "execution_count": 160,
   "id": "79486051-f4c9-43e9-856f-21aec1a34436",
   "metadata": {},
   "outputs": [
    {
     "data": {
      "text/plain": [
       "140720245320248"
      ]
     },
     "execution_count": 160,
     "metadata": {},
     "output_type": "execute_result"
    }
   ],
   "source": [
    "id(b) # the address shows that it is pass by refrence deep copy"
   ]
  },
  {
   "cell_type": "code",
   "execution_count": 162,
   "id": "93779270-2356-44b9-94ac-e6a84a07fe5a",
   "metadata": {},
   "outputs": [],
   "source": [
    "a = 9 "
   ]
  },
  {
   "cell_type": "code",
   "execution_count": 164,
   "id": "91a03713-b09a-4f9e-8c90-eb527553999f",
   "metadata": {},
   "outputs": [
    {
     "data": {
      "text/plain": [
       "9"
      ]
     },
     "execution_count": 164,
     "metadata": {},
     "output_type": "execute_result"
    }
   ],
   "source": [
    "a"
   ]
  },
  {
   "cell_type": "code",
   "execution_count": 166,
   "id": "e825529c-c8aa-4a77-a679-90307929c513",
   "metadata": {},
   "outputs": [
    {
     "name": "stdout",
     "output_type": "stream",
     "text": [
      "140720245320376\n"
     ]
    }
   ],
   "source": [
    "print(id(a))"
   ]
  },
  {
   "cell_type": "code",
   "execution_count": 168,
   "id": "59fc642d-2c0e-477e-a3cf-fc765b025dc6",
   "metadata": {},
   "outputs": [
    {
     "data": {
      "text/plain": [
       "5"
      ]
     },
     "execution_count": 168,
     "metadata": {},
     "output_type": "execute_result"
    }
   ],
   "source": [
    "b"
   ]
  },
  {
   "cell_type": "code",
   "execution_count": 172,
   "id": "2d0097d2-d4d6-4fb2-895b-d14b21512165",
   "metadata": {},
   "outputs": [
    {
     "name": "stdout",
     "output_type": "stream",
     "text": [
      "140720245320248\n"
     ]
    }
   ],
   "source": [
    "print(id(b))"
   ]
  },
  {
   "cell_type": "code",
   "execution_count": null,
   "id": "2025907d-c14d-4973-a46a-8da4dec315f4",
   "metadata": {},
   "outputs": [],
   "source": [
    "## final results shows that due integers"
   ]
  }
 ],
 "metadata": {
  "kernelspec": {
   "display_name": "Python 3 (ipykernel)",
   "language": "python",
   "name": "python3"
  },
  "language_info": {
   "codemirror_mode": {
    "name": "ipython",
    "version": 3
   },
   "file_extension": ".py",
   "mimetype": "text/x-python",
   "name": "python",
   "nbconvert_exporter": "python",
   "pygments_lexer": "ipython3",
   "version": "3.12.7"
  }
 },
 "nbformat": 4,
 "nbformat_minor": 5
}
