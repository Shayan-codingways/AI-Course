{
 "cells": [
  {
   "cell_type": "markdown",
   "id": "f292cc65-4f1a-4fce-81ac-f34bf80bbba4",
   "metadata": {},
   "source": [
    "# Dictionary\n",
    "- mutable\n",
    "- iterable\n",
    "- more discriptive than list"
   ]
  },
  {
   "cell_type": "code",
   "execution_count": 2,
   "id": "cf309fe0-e817-47c4-aa6f-084f649841ea",
   "metadata": {},
   "outputs": [],
   "source": [
    "profile = {}"
   ]
  },
  {
   "cell_type": "code",
   "execution_count": 3,
   "id": "06ba01f0-50fe-4e8c-938e-3d36004170f3",
   "metadata": {},
   "outputs": [
    {
     "data": {
      "text/plain": [
       "dict"
      ]
     },
     "execution_count": 3,
     "metadata": {},
     "output_type": "execute_result"
    }
   ],
   "source": [
    "type(profile)"
   ]
  },
  {
   "cell_type": "code",
   "execution_count": 4,
   "id": "b0fca43d-8840-4b40-861b-80761c119ce5",
   "metadata": {},
   "outputs": [
    {
     "data": {
      "text/plain": [
       "0"
      ]
     },
     "execution_count": 4,
     "metadata": {},
     "output_type": "execute_result"
    }
   ],
   "source": [
    "len(profile)"
   ]
  },
  {
   "cell_type": "code",
   "execution_count": 5,
   "id": "182929f9-98b6-4389-8c49-9fb9a49a60ab",
   "metadata": {},
   "outputs": [],
   "source": [
    "profile = {\n",
    "    'name': 'Ali',\n",
    "    'name' : 'ALI',\n",
    "    'age' : 15,\n",
    "    'height' : 5.8,\n",
    "    'weight' : 60,\n",
    "    'qualification' : 'Graduate'\n",
    "}\n",
    "\n",
    "# keys can be strings/integere/ every type that is immutable can be keys --> even tuple can be\n",
    "# values can be anything. \n",
    "\n",
    "# key can't be duplicate takes recent value"
   ]
  },
  {
   "cell_type": "code",
   "execution_count": 6,
   "id": "7bd0d5c3-d150-4fec-99eb-2719f975b444",
   "metadata": {},
   "outputs": [
    {
     "data": {
      "text/plain": [
       "5"
      ]
     },
     "execution_count": 6,
     "metadata": {},
     "output_type": "execute_result"
    }
   ],
   "source": [
    "len(profile)"
   ]
  },
  {
   "cell_type": "markdown",
   "id": "e2b46fb5-3cde-40d8-9bbd-5d418edec541",
   "metadata": {},
   "source": [
    "## Accessing Members in a dictionary"
   ]
  },
  {
   "cell_type": "code",
   "execution_count": 13,
   "id": "4b400cb4-ddee-4d2d-8209-ab059ce821ce",
   "metadata": {},
   "outputs": [
    {
     "data": {
      "text/plain": [
       "15"
      ]
     },
     "execution_count": 13,
     "metadata": {},
     "output_type": "execute_result"
    }
   ],
   "source": [
    "profile['age']"
   ]
  },
  {
   "cell_type": "code",
   "execution_count": 15,
   "id": "fb785a90-b73e-4cd5-9cb9-20a33758e030",
   "metadata": {},
   "outputs": [
    {
     "data": {
      "text/plain": [
       "'ALI'"
      ]
     },
     "execution_count": 15,
     "metadata": {},
     "output_type": "execute_result"
    }
   ],
   "source": [
    "profile['name']"
   ]
  },
  {
   "cell_type": "markdown",
   "id": "aba7ead4-47b0-4b68-b5e0-b2f41540d8b2",
   "metadata": {},
   "source": [
    "## adding members in existing dictionary"
   ]
  },
  {
   "cell_type": "code",
   "execution_count": 18,
   "id": "fa961767-532e-4ab8-8ec0-082fc8e2cd30",
   "metadata": {},
   "outputs": [],
   "source": [
    "profile['email_id'] = 'ali@gmail.com'"
   ]
  },
  {
   "cell_type": "code",
   "execution_count": 20,
   "id": "6c32b21f-bb70-44dc-95c9-7965f71a2dea",
   "metadata": {},
   "outputs": [
    {
     "data": {
      "text/plain": [
       "{'name': 'ALI',\n",
       " 'age': 15,\n",
       " 'height': 5.8,\n",
       " 'weight': 60,\n",
       " 'qualification': 'Graduate',\n",
       " 'email_id': 'ali@gmail.com'}"
      ]
     },
     "execution_count": 20,
     "metadata": {},
     "output_type": "execute_result"
    }
   ],
   "source": [
    "profile"
   ]
  },
  {
   "cell_type": "code",
   "execution_count": 37,
   "id": "47d67d34-680f-4371-ad11-4ca5ff2cc2f7",
   "metadata": {},
   "outputs": [
    {
     "data": {
      "text/plain": [
       "dict_keys(['name', 'age', 'height', 'weight', 'qualification'])"
      ]
     },
     "execution_count": 37,
     "metadata": {},
     "output_type": "execute_result"
    }
   ],
   "source": [
    "profile.keys() "
   ]
  },
  {
   "cell_type": "code",
   "execution_count": 39,
   "id": "cf1b33f2-664a-4801-b077-9075acf632c7",
   "metadata": {},
   "outputs": [
    {
     "data": {
      "text/plain": [
       "dict_values(['ALI', 15, 5.8, 60, 'Graduate'])"
      ]
     },
     "execution_count": 39,
     "metadata": {},
     "output_type": "execute_result"
    }
   ],
   "source": [
    "profile.values()"
   ]
  },
  {
   "cell_type": "code",
   "execution_count": 41,
   "id": "465f24de-b3e0-48c2-a508-a69fdfd398da",
   "metadata": {},
   "outputs": [
    {
     "data": {
      "text/plain": [
       "dict_items([('name', 'ALI'), ('age', 15), ('height', 5.8), ('weight', 60), ('qualification', 'Graduate')])"
      ]
     },
     "execution_count": 41,
     "metadata": {},
     "output_type": "execute_result"
    }
   ],
   "source": [
    "profile.items()"
   ]
  },
  {
   "cell_type": "code",
   "execution_count": 55,
   "id": "c60aa000-0d5a-4906-a00b-2d8b2e7d0c6e",
   "metadata": {},
   "outputs": [
    {
     "data": {
      "text/plain": [
       "60"
      ]
     },
     "execution_count": 55,
     "metadata": {},
     "output_type": "execute_result"
    }
   ],
   "source": [
    "profile.pop('weight')\n",
    "# takes oe argument return value"
   ]
  },
  {
   "cell_type": "code",
   "execution_count": 57,
   "id": "66c60d62-7f7c-472c-aa9b-5783e0fa0b7d",
   "metadata": {},
   "outputs": [
    {
     "data": {
      "text/plain": [
       "('qualification', 'Graduate')"
      ]
     },
     "execution_count": 57,
     "metadata": {},
     "output_type": "execute_result"
    }
   ],
   "source": [
    "profile.popitem() \n",
    "# remove and return a key value pair \n",
    "#(removes last one LIFO --> Last In First Out)"
   ]
  },
  {
   "cell_type": "code",
   "execution_count": 59,
   "id": "fd83117d-640a-4249-ad58-a2a8cc03bef7",
   "metadata": {},
   "outputs": [
    {
     "data": {
      "text/plain": [
       "('height', 5.8)"
      ]
     },
     "execution_count": 59,
     "metadata": {},
     "output_type": "execute_result"
    }
   ],
   "source": [
    "profile.popitem() "
   ]
  },
  {
   "cell_type": "code",
   "execution_count": 22,
   "id": "461de0dd-19d0-458c-813f-dc0e0f3df512",
   "metadata": {},
   "outputs": [],
   "source": [
    "# dictionary in dictionary\n",
    "research_areas = {'CompSci' : 'Ali', 'Phys' :  'QuantumTheory'}"
   ]
  },
  {
   "cell_type": "code",
   "execution_count": 24,
   "id": "7eb00fde-d23e-4133-96ef-0667d90c317e",
   "metadata": {},
   "outputs": [],
   "source": [
    "profile['research'] = research_areas "
   ]
  },
  {
   "cell_type": "code",
   "execution_count": 26,
   "id": "356da805-13cf-4eaa-85e3-7f43df829eb2",
   "metadata": {},
   "outputs": [
    {
     "data": {
      "text/plain": [
       "{'name': 'ALI',\n",
       " 'age': 15,\n",
       " 'height': 5.8,\n",
       " 'weight': 60,\n",
       " 'qualification': 'Graduate',\n",
       " 'email_id': 'ali@gmail.com',\n",
       " 'research': {'CompSci': 'Ali', 'Phys': 'QuantumTheory'}}"
      ]
     },
     "execution_count": 26,
     "metadata": {},
     "output_type": "execute_result"
    }
   ],
   "source": [
    "profile"
   ]
  },
  {
   "cell_type": "code",
   "execution_count": 28,
   "id": "04101c17-986b-4b37-ab8b-30b014a1b794",
   "metadata": {},
   "outputs": [],
   "source": [
    "# adding key value pair \n",
    "profile.update(research_areas) \n",
    "\n",
    "# it like list extend, it adds the components of other dictionary to the dictionary"
   ]
  },
  {
   "cell_type": "code",
   "execution_count": 30,
   "id": "7a76ea80-aa1b-4670-bca8-662f79c78159",
   "metadata": {},
   "outputs": [
    {
     "data": {
      "text/plain": [
       "{'name': 'ALI',\n",
       " 'age': 15,\n",
       " 'height': 5.8,\n",
       " 'weight': 60,\n",
       " 'qualification': 'Graduate',\n",
       " 'email_id': 'ali@gmail.com',\n",
       " 'research': {'CompSci': 'Ali', 'Phys': 'QuantumTheory'},\n",
       " 'CompSci': 'Ali',\n",
       " 'Phys': 'QuantumTheory'}"
      ]
     },
     "execution_count": 30,
     "metadata": {},
     "output_type": "execute_result"
    }
   ],
   "source": [
    "profile"
   ]
  },
  {
   "cell_type": "code",
   "execution_count": 32,
   "id": "1b122919-4fd1-4012-9eac-a762b23dceac",
   "metadata": {},
   "outputs": [],
   "source": [
    "del profile['research']"
   ]
  },
  {
   "cell_type": "code",
   "execution_count": 34,
   "id": "1487f545-b855-4db5-8f3e-bf2e3749b912",
   "metadata": {},
   "outputs": [
    {
     "data": {
      "text/plain": [
       "{'name': 'ALI',\n",
       " 'age': 15,\n",
       " 'height': 5.8,\n",
       " 'weight': 60,\n",
       " 'qualification': 'Graduate',\n",
       " 'email_id': 'ali@gmail.com',\n",
       " 'CompSci': 'Ali',\n",
       " 'Phys': 'QuantumTheory'}"
      ]
     },
     "execution_count": 34,
     "metadata": {},
     "output_type": "execute_result"
    }
   ],
   "source": [
    "profile"
   ]
  },
  {
   "cell_type": "markdown",
   "id": "0b049817-c4cb-41f2-b014-fcde8a3aaac8",
   "metadata": {},
   "source": [
    "# List in a Dictionary or Vice Versa "
   ]
  },
  {
   "cell_type": "code",
   "execution_count": 85,
   "id": "aec5ee6b-eae4-4679-9741-ce939d0e0975",
   "metadata": {},
   "outputs": [],
   "source": [
    "report = {'name': ['Ali','Shayan','Abdul','Ghaffar','Ghulam'],\n",
    "           'roll': [1,2,3,4,5],\n",
    "          'course' : ['python','stats','algebra','maths','phys'],\n",
    "          'marks' : [34,56,78.9,67,34]\n",
    "         }"
   ]
  },
  {
   "cell_type": "code",
   "execution_count": 91,
   "id": "aa7f2603-aea2-4969-b437-f71ee3d18fa8",
   "metadata": {},
   "outputs": [
    {
     "data": {
      "text/plain": [
       "'algebra'"
      ]
     },
     "execution_count": 91,
     "metadata": {},
     "output_type": "execute_result"
    }
   ],
   "source": [
    "report['course'][2] # finding 2nd course from report, course list"
   ]
  },
  {
   "cell_type": "code",
   "execution_count": 93,
   "id": "7c3572cb-8738-4b90-bc48-9d67a38e1a06",
   "metadata": {},
   "outputs": [
    {
     "data": {
      "text/plain": [
       "'Shayan'"
      ]
     },
     "execution_count": 93,
     "metadata": {},
     "output_type": "execute_result"
    }
   ],
   "source": [
    "report['name'][1]"
   ]
  },
  {
   "cell_type": "code",
   "execution_count": 95,
   "id": "2f68f4e8-f529-43c8-96a8-0a495be27f56",
   "metadata": {},
   "outputs": [],
   "source": [
    "# dictionary in a list\n",
    "students = [\n",
    "            {'name':'ali', 'roll_no' : 234, 'course' : 'Python'},\n",
    "            {'name' : 'SDd', 'roll_no' : 233, 'course': 'Algebra'},\n",
    "            {'name' : 'asd', 'roll_no' : 233, 'course': 'Algebra'},\n",
    "            {'name' : 'fg', 'roll_no' : 233, 'course': 'Algebra'}\n",
    "           ]"
   ]
  },
  {
   "cell_type": "code",
   "execution_count": 97,
   "id": "192a7dad-29e5-4ed1-a3dc-975aa18c0f16",
   "metadata": {},
   "outputs": [
    {
     "data": {
      "text/plain": [
       "4"
      ]
     },
     "execution_count": 97,
     "metadata": {},
     "output_type": "execute_result"
    }
   ],
   "source": [
    "len(students)"
   ]
  },
  {
   "cell_type": "code",
   "execution_count": 101,
   "id": "a21b6374-632c-43a9-91cb-14182fc1e248",
   "metadata": {},
   "outputs": [
    {
     "data": {
      "text/plain": [
       "3"
      ]
     },
     "execution_count": 101,
     "metadata": {},
     "output_type": "execute_result"
    }
   ],
   "source": [
    "len(students[1])"
   ]
  },
  {
   "cell_type": "code",
   "execution_count": 107,
   "id": "895906c8-5ff9-4304-a6f1-cdab49aeb8fc",
   "metadata": {},
   "outputs": [
    {
     "data": {
      "text/plain": [
       "'fg'"
      ]
     },
     "execution_count": 107,
     "metadata": {},
     "output_type": "execute_result"
    }
   ],
   "source": [
    "students[3]['name']  \n",
    "# students[3] acess 3rd dictionary in the list and then extract name from that dictionary by [name]"
   ]
  },
  {
   "cell_type": "code",
   "execution_count": 109,
   "id": "e81b5840-be77-4586-bc7b-1ae1f5f98a97",
   "metadata": {},
   "outputs": [],
   "source": [
    "# dictionary in dictionary\n",
    "students = {\n",
    "   'names' : {'first_name':'Shayan', 'last_name' : 'Anwar'},\n",
    "   'course': {'enrolled' : 'python'},\n",
    "   'emails': {'current' : 'abs', 'prev_email' : 'ddjjd'}\n",
    "}"
   ]
  },
  {
   "cell_type": "code",
   "execution_count": 111,
   "id": "844234c6-2ee7-4e73-abc9-a1385a854c11",
   "metadata": {},
   "outputs": [
    {
     "data": {
      "text/plain": [
       "3"
      ]
     },
     "execution_count": 111,
     "metadata": {},
     "output_type": "execute_result"
    }
   ],
   "source": [
    "len(students)"
   ]
  },
  {
   "cell_type": "code",
   "execution_count": 117,
   "id": "f8e29700-554a-448c-8416-8ee3c79d3f12",
   "metadata": {},
   "outputs": [
    {
     "data": {
      "text/plain": [
       "'ddjjd'"
      ]
     },
     "execution_count": 117,
     "metadata": {},
     "output_type": "execute_result"
    }
   ],
   "source": [
    "students['emails']['prev_email']"
   ]
  },
  {
   "cell_type": "markdown",
   "id": "d426389a-3dc2-41d1-a498-bdfa10d2fd3e",
   "metadata": {},
   "source": [
    "# Operators \n",
    "- in : membership checking operator\n",
    "- is : identity check operator\n",
    "- not : negation operator\n",
    "- or : logical\n",
    "- and :logical"
   ]
  },
  {
   "cell_type": "code",
   "execution_count": 123,
   "id": "73c0ff1d-c8d5-4ee9-9ea1-0345119a85c9",
   "metadata": {},
   "outputs": [],
   "source": [
    "name = ['anas','abdul','shayan','Way']"
   ]
  },
  {
   "cell_type": "code",
   "execution_count": 125,
   "id": "59949bb9-8787-40b7-a190-7c0d4f29a272",
   "metadata": {},
   "outputs": [
    {
     "data": {
      "text/plain": [
       "False"
      ]
     },
     "execution_count": 125,
     "metadata": {},
     "output_type": "execute_result"
    }
   ],
   "source": [
    "'Anas' in name"
   ]
  },
  {
   "cell_type": "code",
   "execution_count": 127,
   "id": "173af5de-1e3f-43b7-9e66-8640ecc3738f",
   "metadata": {},
   "outputs": [
    {
     "data": {
      "text/plain": [
       "True"
      ]
     },
     "execution_count": 127,
     "metadata": {},
     "output_type": "execute_result"
    }
   ],
   "source": [
    "'Anas'.lower() in name"
   ]
  },
  {
   "cell_type": "code",
   "execution_count": 129,
   "id": "24419c0e-ad76-4833-9106-b540e2420929",
   "metadata": {},
   "outputs": [
    {
     "data": {
      "text/plain": [
       "True"
      ]
     },
     "execution_count": 129,
     "metadata": {},
     "output_type": "execute_result"
    }
   ],
   "source": [
    "'Anas' not in name"
   ]
  },
  {
   "cell_type": "code",
   "execution_count": 133,
   "id": "4d832116-c75a-4e4c-96c4-2fa7643d3b1f",
   "metadata": {},
   "outputs": [
    {
     "data": {
      "text/plain": [
       "False"
      ]
     },
     "execution_count": 133,
     "metadata": {},
     "output_type": "execute_result"
    }
   ],
   "source": [
    "'Anas'.lower() not in name"
   ]
  },
  {
   "cell_type": "code",
   "execution_count": 135,
   "id": "fca302e1-d4a8-4036-996e-86b623d85bbe",
   "metadata": {},
   "outputs": [
    {
     "data": {
      "text/plain": [
       "True"
      ]
     },
     "execution_count": 135,
     "metadata": {},
     "output_type": "execute_result"
    }
   ],
   "source": [
    "'a'in name[3]"
   ]
  },
  {
   "cell_type": "code",
   "execution_count": 137,
   "id": "2ffe0533-deae-4014-8f2c-e5a00ab99133",
   "metadata": {},
   "outputs": [
    {
     "data": {
      "text/plain": [
       "False"
      ]
     },
     "execution_count": 137,
     "metadata": {},
     "output_type": "execute_result"
    }
   ],
   "source": [
    "'b'in name[2]"
   ]
  },
  {
   "cell_type": "code",
   "execution_count": 139,
   "id": "a1f0d51d-4365-497b-b503-36a02d8a9362",
   "metadata": {},
   "outputs": [],
   "source": [
    "students = {\n",
    "   'names' : {'first_name':'Shayan', 'last_name' : 'Anwar'},\n",
    "   'course': {'enrolled' : 'python'},\n",
    "   'emails': {'current' : 'abs', 'prev_email' : 'ddjjd'}\n",
    "}\n"
   ]
  },
  {
   "cell_type": "code",
   "execution_count": 141,
   "id": "2df91eb4-e85d-403e-abda-e2800d8f40a8",
   "metadata": {},
   "outputs": [
    {
     "data": {
      "text/plain": [
       "True"
      ]
     },
     "execution_count": 141,
     "metadata": {},
     "output_type": "execute_result"
    }
   ],
   "source": [
    "'emails' in students\n",
    "# just operated on keys in dictionary"
   ]
  },
  {
   "cell_type": "code",
   "execution_count": 143,
   "id": "18f1a979-05b8-41c4-8e08-9207db30e487",
   "metadata": {},
   "outputs": [
    {
     "data": {
      "text/plain": [
       "False"
      ]
     },
     "execution_count": 143,
     "metadata": {},
     "output_type": "execute_result"
    }
   ],
   "source": [
    "'enrolled' in students"
   ]
  },
  {
   "cell_type": "code",
   "execution_count": 153,
   "id": "9ec2fcab-bb4a-43b7-bc18-7118640cb2f8",
   "metadata": {},
   "outputs": [],
   "source": [
    "a = 10\n",
    "b = 20\n",
    "c = 10\n",
    "\n"
   ]
  },
  {
   "cell_type": "code",
   "execution_count": 151,
   "id": "601e4bdb-c265-48b6-ad85-5a0c15a86c4f",
   "metadata": {},
   "outputs": [
    {
     "data": {
      "text/plain": [
       "False"
      ]
     },
     "execution_count": 151,
     "metadata": {},
     "output_type": "execute_result"
    }
   ],
   "source": [
    "a is b \n",
    "# false due difefrnt addresses"
   ]
  },
  {
   "cell_type": "code",
   "execution_count": 155,
   "id": "83623df4-af75-4ba6-afa5-04e1c947e118",
   "metadata": {},
   "outputs": [
    {
     "data": {
      "text/plain": [
       "True"
      ]
     },
     "execution_count": 155,
     "metadata": {},
     "output_type": "execute_result"
    }
   ],
   "source": [
    "a is c1\n",
    "\n",
    "# python points to same a or c due same value, keeps 1 memory, doesn't forms new blocks for same value, just poinst "
   ]
  },
  {
   "cell_type": "markdown",
   "id": "e117fb08-ae72-442a-a174-c86ebc42b16e",
   "metadata": {},
   "source": [
    "## python points to same a or c due same value, keeps 1 memory, doesn't forms new blocks for same value, just points "
   ]
  },
  {
   "cell_type": "code",
   "execution_count": 163,
   "id": "1eaa8bbf-9c6c-422d-acdf-2573b86f64a8",
   "metadata": {},
   "outputs": [],
   "source": [
    "b=a # a also points to b\n",
    "# deep copy, both of them point at 1 memory"
   ]
  },
  {
   "cell_type": "code",
   "execution_count": 165,
   "id": "498962c7-8167-403d-860f-d4cece86dfab",
   "metadata": {},
   "outputs": [
    {
     "data": {
      "text/plain": [
       "True"
      ]
     },
     "execution_count": 165,
     "metadata": {},
     "output_type": "execute_result"
    }
   ],
   "source": [
    "b is a"
   ]
  },
  {
   "cell_type": "code",
   "execution_count": 161,
   "id": "c1a81bbe-a4c9-4775-a1a6-dfc22269cfcd",
   "metadata": {},
   "outputs": [
    {
     "data": {
      "text/plain": [
       "True"
      ]
     },
     "execution_count": 161,
     "metadata": {},
     "output_type": "execute_result"
    }
   ],
   "source": [
    "a is b"
   ]
  },
  {
   "cell_type": "code",
   "execution_count": 175,
   "id": "25b85903-e045-4f30-a634-89262376615d",
   "metadata": {},
   "outputs": [],
   "source": [
    "d=9\n",
    "c=d  # deep copy c points to d"
   ]
  },
  {
   "cell_type": "code",
   "execution_count": 173,
   "id": "beb9e387-3341-4d91-bf7c-a59c88d166e0",
   "metadata": {},
   "outputs": [],
   "source": [
    "d=10"
   ]
  },
  {
   "cell_type": "code",
   "execution_count": 177,
   "id": "b7f41cfc-8bda-4a2d-8704-ed73f48a4d8b",
   "metadata": {},
   "outputs": [
    {
     "data": {
      "text/plain": [
       "9"
      ]
     },
     "execution_count": 177,
     "metadata": {},
     "output_type": "execute_result"
    }
   ],
   "source": [
    "c # c doesn't gets updated if both of them has same addresses"
   ]
  },
  {
   "cell_type": "code",
   "execution_count": 181,
   "id": "1e29c812-992e-495b-a855-ca214d169882",
   "metadata": {},
   "outputs": [
    {
     "data": {
      "text/plain": [
       "140730653420216"
      ]
     },
     "execution_count": 181,
     "metadata": {},
     "output_type": "execute_result"
    }
   ],
   "source": [
    "id(d)"
   ]
  },
  {
   "cell_type": "code",
   "execution_count": 183,
   "id": "20d939d8-e1b5-4fee-bb80-1e7ece2deff7",
   "metadata": {},
   "outputs": [
    {
     "data": {
      "text/plain": [
       "140730653420216"
      ]
     },
     "execution_count": 183,
     "metadata": {},
     "output_type": "execute_result"
    }
   ],
   "source": [
    "id(c)"
   ]
  },
  {
   "cell_type": "code",
   "execution_count": 186,
   "id": "2a0ef4df-7ab2-457e-9ddf-3282bb3cefa2",
   "metadata": {},
   "outputs": [
    {
     "data": {
      "text/plain": [
       "False"
      ]
     },
     "execution_count": 186,
     "metadata": {},
     "output_type": "execute_result"
    }
   ],
   "source": [
    "a<b or a>b"
   ]
  },
  {
   "cell_type": "code",
   "execution_count": 201,
   "id": "460ba753-a423-438c-9531-4b3966ccf51c",
   "metadata": {},
   "outputs": [
    {
     "data": {
      "text/plain": [
       "12"
      ]
     },
     "execution_count": 201,
     "metadata": {},
     "output_type": "execute_result"
    }
   ],
   "source": [
    "12 or 50 or 23"
   ]
  },
  {
   "cell_type": "markdown",
   "id": "d6b8240a-926e-4f34-9d22-74d91c65c939",
   "metadata": {},
   "source": [
    "# Truthy\n",
    "every 'value' has truthy value "
   ]
  },
  {
   "cell_type": "code",
   "execution_count": 206,
   "id": "b0fac5c9-92ec-4e91-86b3-9c0d891a3b40",
   "metadata": {},
   "outputs": [
    {
     "data": {
      "text/plain": [
       "'hello'"
      ]
     },
     "execution_count": 206,
     "metadata": {},
     "output_type": "execute_result"
    }
   ],
   "source": [
    "'hello'"
   ]
  },
  {
   "cell_type": "code",
   "execution_count": 208,
   "id": "a7863990-b423-4938-9a20-e03cb7ba00a0",
   "metadata": {},
   "outputs": [
    {
     "data": {
      "text/plain": [
       "True"
      ]
     },
     "execution_count": 208,
     "metadata": {},
     "output_type": "execute_result"
    }
   ],
   "source": [
    "bool('hello')"
   ]
  },
  {
   "cell_type": "code",
   "execution_count": 210,
   "id": "7d98f854-367f-43e7-93e3-337ca871f122",
   "metadata": {},
   "outputs": [
    {
     "data": {
      "text/plain": [
       "False"
      ]
     },
     "execution_count": 210,
     "metadata": {},
     "output_type": "execute_result"
    }
   ],
   "source": [
    "bool(\"\") # no value even not space"
   ]
  },
  {
   "cell_type": "code",
   "execution_count": 212,
   "id": "78f115b3-bf66-4e20-9256-35b32caa938c",
   "metadata": {},
   "outputs": [
    {
     "data": {
      "text/plain": [
       "False"
      ]
     },
     "execution_count": 212,
     "metadata": {},
     "output_type": "execute_result"
    }
   ],
   "source": [
    "bool(0)"
   ]
  },
  {
   "cell_type": "code",
   "execution_count": 214,
   "id": "ff0634f1-e26d-4618-9982-2bbe5bdc81e5",
   "metadata": {},
   "outputs": [
    {
     "data": {
      "text/plain": [
       "True"
      ]
     },
     "execution_count": 214,
     "metadata": {},
     "output_type": "execute_result"
    }
   ],
   "source": [
    "bool(1)"
   ]
  },
  {
   "cell_type": "code",
   "execution_count": 217,
   "id": "cce4127d-5bed-406b-9d1e-ea1bd52b0607",
   "metadata": {},
   "outputs": [
    {
     "data": {
      "text/plain": [
       "False"
      ]
     },
     "execution_count": 217,
     "metadata": {},
     "output_type": "execute_result"
    }
   ],
   "source": [
    "bool([])"
   ]
  },
  {
   "cell_type": "code",
   "execution_count": 219,
   "id": "5584abbb-ed91-4c11-8537-c18ada597845",
   "metadata": {},
   "outputs": [
    {
     "data": {
      "text/plain": [
       "True"
      ]
     },
     "execution_count": 219,
     "metadata": {},
     "output_type": "execute_result"
    }
   ],
   "source": [
    "bool([1,2])"
   ]
  },
  {
   "cell_type": "code",
   "execution_count": 223,
   "id": "42988fbb-7694-40e8-97e6-81dc37c5a363",
   "metadata": {},
   "outputs": [
    {
     "data": {
      "text/plain": [
       "12"
      ]
     },
     "execution_count": 223,
     "metadata": {},
     "output_type": "execute_result"
    }
   ],
   "source": [
    "12 or 50 or 45\n",
    "# every value has truthy value"
   ]
  },
  {
   "cell_type": "code",
   "execution_count": 227,
   "id": "4ca04e42-01c6-4707-b983-394841fd20b3",
   "metadata": {},
   "outputs": [
    {
     "data": {
      "text/plain": [
       "50"
      ]
     },
     "execution_count": 227,
     "metadata": {},
     "output_type": "execute_result"
    }
   ],
   "source": [
    "12 and 50 or 45"
   ]
  },
  {
   "cell_type": "code",
   "execution_count": 229,
   "id": "f38e876c-1201-4891-ab7b-0b8637b88624",
   "metadata": {},
   "outputs": [
    {
     "data": {
      "text/plain": [
       "56"
      ]
     },
     "execution_count": 229,
     "metadata": {},
     "output_type": "execute_result"
    }
   ],
   "source": [
    "12 and 34 and 56"
   ]
  },
  {
   "cell_type": "code",
   "execution_count": 233,
   "id": "e96ddb4e-9cb0-4675-a2e0-7440c5f18057",
   "metadata": {},
   "outputs": [],
   "source": [
    "# why only 1st value? \n",
    "# 'or' finds 1st value as anyone fulfills the condition so it take [first one]. \n",
    "# 'and' operates till end as all values must be true thus outputs [final value]"
   ]
  },
  {
   "cell_type": "markdown",
   "id": "520c8ea8-5938-457e-af04-733e3653e0bd",
   "metadata": {},
   "source": [
    "# Yes, in certain cases, Python optimizes memory usage by reusing memory locations for variables with the same immutable values. This behavior is part of Python's memory management system, often called object interning.\n",
    "\n",
    "# For Immutable Data Types\n",
    "Python attempts to optimize memory for immutable objects like integers, strings, and some tuples:\n",
    "\n",
    "Small Integers: Python preallocates and reuses memory for integers typically in the range of -5 to 256 (this range can vary with implementations).\n",
    "\n",
    "Strings: Short strings or those conforming to specific patterns (e.g., alphanumeric without special characters) may also be interned.\n",
    "\n"
   ]
  },
  {
   "cell_type": "code",
   "execution_count": 249,
   "id": "1edf3f3f-73dc-4061-8802-69a6669f814d",
   "metadata": {},
   "outputs": [
    {
     "name": "stdout",
     "output_type": "stream",
     "text": [
      "True\n",
      "True\n"
     ]
    }
   ],
   "source": [
    "a = 100\n",
    "b = 100\n",
    "print(a is b)  # True, as the same memory is used\n",
    "\n",
    "\n",
    "x = \"hello\"\n",
    "y = \"hello\"\n",
    "\n",
    "print(x is y)  # True, memory reused\n"
   ]
  },
  {
   "cell_type": "code",
   "execution_count": 251,
   "id": "bdd31deb-faa0-4f0f-b156-30b05fd910ec",
   "metadata": {},
   "outputs": [
    {
     "name": "stdout",
     "output_type": "stream",
     "text": [
      "140730653423128\n",
      "140730653423128\n"
     ]
    }
   ],
   "source": [
    "print(id(a))\n",
    "print(id(b))"
   ]
  },
  {
   "cell_type": "markdown",
   "id": "7340ce33-e19f-457b-bafd-397553ad718a",
   "metadata": {},
   "source": [
    "# For Mutable Data Types\n",
    "For mutable objects like lists, dictionaries, or sets, Python does not reuse memory because changes to one object would affect all references.\n",
    "\n",
    "\n"
   ]
  },
  {
   "cell_type": "code",
   "execution_count": 194,
   "id": "93774ddf-4c9d-459d-b13c-83ff72ab9f3d",
   "metadata": {},
   "outputs": [
    {
     "name": "stdout",
     "output_type": "stream",
     "text": [
      "False\n"
     ]
    }
   ],
   "source": [
    "lst1 = [1, 2, 3]\n",
    "lst2 = [1, 2, 3]\n",
    "print(lst1 is lst2)  # False, different memory locations\n"
   ]
  },
  {
   "cell_type": "markdown",
   "id": "f4e0d508-4725-415c-b2da-f450c7132ee6",
   "metadata": {},
   "source": [
    "# Why Doesn’t It Always Reuse Memory?\n",
    "Performance Trade-offs: Reusing memory for every value would require constant checks, which might slow down execution.\n",
    "Special Cases: Larger or complex objects aren’t interned because the benefits of reusing memory decrease with size."
   ]
  },
  {
   "cell_type": "code",
   "execution_count": 245,
   "id": "51253c95-5b50-4b4f-8fe0-1e144005d27c",
   "metadata": {},
   "outputs": [
    {
     "name": "stdout",
     "output_type": "stream",
     "text": [
      "False\n"
     ]
    }
   ],
   "source": [
    "a = 1000\n",
    "b = 1000\n",
    "print(id(a) == id(b))  # False, as large integers are not interned\n"
   ]
  },
  {
   "cell_type": "code",
   "execution_count": 243,
   "id": "ca45fd0e-01ea-4c01-b036-403249668133",
   "metadata": {},
   "outputs": [
    {
     "name": "stdout",
     "output_type": "stream",
     "text": [
      "140730653423096\n",
      "1750099872560\n"
     ]
    }
   ],
   "source": [
    "print(id(a))\n",
    "print(id(b))"
   ]
  },
  {
   "cell_type": "code",
   "execution_count": 237,
   "id": "c94bc220-9e9c-4840-a522-346bef03936d",
   "metadata": {},
   "outputs": [
    {
     "name": "stdout",
     "output_type": "stream",
     "text": [
      "140730653420248\n",
      "140730653420280\n"
     ]
    }
   ],
   "source": [
    "x = 10\n",
    "print(id(x))  # ID of the object holding the value 10\n",
    "x += 1\n",
    "print(id(x))  # ID changes because a new integer object (11) is created\n"
   ]
  },
  {
   "cell_type": "markdown",
   "id": "545ca36a-6bd0-4202-a643-99a2c6cee711",
   "metadata": {},
   "source": [
    "## When we say integers are immutable, it means that their value cannot be changed. If you perform an operation on an integer, a new integer object is created in memory rather than modifying the original one"
   ]
  },
  {
   "cell_type": "code",
   "execution_count": 240,
   "id": "c087dcb9-7b6c-43cb-8a62-1bbe44df55cf",
   "metadata": {},
   "outputs": [
    {
     "name": "stdout",
     "output_type": "stream",
     "text": [
      "42\n",
      "99\n"
     ]
    }
   ],
   "source": [
    "a = 42\n",
    "print(a)  # 42\n",
    "a = 99    # The label 'a' now refers to a different integer object\n",
    "print(a)  # 99\n"
   ]
  },
  {
   "cell_type": "code",
   "execution_count": 253,
   "id": "dd4ce852-ce0f-4ea3-994c-eade410dccae",
   "metadata": {},
   "outputs": [],
   "source": [
    "x=10\n",
    "y=20"
   ]
  },
  {
   "cell_type": "code",
   "execution_count": 255,
   "id": "ca289560-33a2-4469-93df-925eb19ab28f",
   "metadata": {},
   "outputs": [
    {
     "data": {
      "text/plain": [
       "False"
      ]
     },
     "execution_count": 255,
     "metadata": {},
     "output_type": "execute_result"
    }
   ],
   "source": [
    "x is y"
   ]
  },
  {
   "cell_type": "code",
   "execution_count": 259,
   "id": "f7171537-5b88-433e-8110-0a7a1f8a2a19",
   "metadata": {},
   "outputs": [
    {
     "data": {
      "text/plain": [
       "True"
      ]
     },
     "execution_count": 259,
     "metadata": {},
     "output_type": "execute_result"
    }
   ],
   "source": [
    "x = y\n",
    "x is y"
   ]
  },
  {
   "cell_type": "code",
   "execution_count": 261,
   "id": "31d1d043-ec0b-445c-84ee-cc49afc83a11",
   "metadata": {},
   "outputs": [],
   "source": [
    "y = 15"
   ]
  },
  {
   "cell_type": "code",
   "execution_count": 263,
   "id": "b96099bb-6b2e-4941-a456-d68aacf6cb10",
   "metadata": {},
   "outputs": [
    {
     "data": {
      "text/plain": [
       "20"
      ]
     },
     "execution_count": 263,
     "metadata": {},
     "output_type": "execute_result"
    }
   ],
   "source": [
    "x"
   ]
  },
  {
   "cell_type": "code",
   "execution_count": 265,
   "id": "90f7d403-ce55-40a9-9268-df1488fe8bfc",
   "metadata": {},
   "outputs": [
    {
     "data": {
      "text/plain": [
       "False"
      ]
     },
     "execution_count": 265,
     "metadata": {},
     "output_type": "execute_result"
    }
   ],
   "source": [
    "x is y"
   ]
  },
  {
   "cell_type": "markdown",
   "id": "69096328-2cec-4a47-9664-2b09a295f140",
   "metadata": {},
   "source": [
    "# Integer Immutable \n",
    "- overwritten also doesn't change the integer."
   ]
  },
  {
   "cell_type": "code",
   "execution_count": 1,
   "id": "353fc76d-ff00-4325-80bb-5f58455cac31",
   "metadata": {},
   "outputs": [
    {
     "data": {
      "text/plain": [
       "140730901277240"
      ]
     },
     "execution_count": 1,
     "metadata": {},
     "output_type": "execute_result"
    }
   ],
   "source": [
    "x=5\n",
    "id(x)"
   ]
  },
  {
   "cell_type": "code",
   "execution_count": 3,
   "id": "22d9e043-5dc4-406d-a0f5-b13d340722da",
   "metadata": {},
   "outputs": [
    {
     "data": {
      "text/plain": [
       "140730901277272"
      ]
     },
     "execution_count": 3,
     "metadata": {},
     "output_type": "execute_result"
    }
   ],
   "source": [
    "x=6\n",
    "id(x)"
   ]
  }
 ],
 "metadata": {
  "kernelspec": {
   "display_name": "Python 3 (ipykernel)",
   "language": "python",
   "name": "python3"
  },
  "language_info": {
   "codemirror_mode": {
    "name": "ipython",
    "version": 3
   },
   "file_extension": ".py",
   "mimetype": "text/x-python",
   "name": "python",
   "nbconvert_exporter": "python",
   "pygments_lexer": "ipython3",
   "version": "3.12.7"
  }
 },
 "nbformat": 4,
 "nbformat_minor": 5
}
