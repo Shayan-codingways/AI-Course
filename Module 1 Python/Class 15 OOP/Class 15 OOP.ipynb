{
 "cells": [
  {
   "cell_type": "code",
   "execution_count": 3,
   "id": "b38586e4-ac23-41b3-846a-cb08f6f9a3ee",
   "metadata": {},
   "outputs": [],
   "source": [
    "class Car():\n",
    "\n",
    "  def __init__(self,model,make,year,color):\n",
    "    self.model = model\n",
    "    self.make = make\n",
    "    self.year = year\n",
    "    self.color = color\n",
    "    self.odometer_reading = 0\n",
    "      \n",
    "  def describe_car(self):\n",
    "    long_name = f\"{self.year} {self.make} {self.model}\"\n",
    "    return long_name\n",
    "\n",
    "  def fill_gas_tank(self):\n",
    "    return \"This car needs a gas tank!\""
   ]
  },
  {
   "cell_type": "code",
   "execution_count": 5,
   "id": "e3d6a310-40da-4de9-820c-5380269b53df",
   "metadata": {},
   "outputs": [
    {
     "name": "stdout",
     "output_type": "stream",
     "text": [
      "2019 Honda Civic\n",
      "This car needs a gas tank!\n"
     ]
    }
   ],
   "source": [
    "c1 = Car('Civic','Honda',2019,'Black')\n",
    "\n",
    "print(c1.describe_car())\n",
    "print(c1.fill_gas_tank())"
   ]
  },
  {
   "cell_type": "code",
   "execution_count": 17,
   "id": "d0a8a1b1-ddc6-467c-94b8-57c56001e5d7",
   "metadata": {},
   "outputs": [],
   "source": [
    "class ElectricCar(Car):\n",
    "\n",
    "  def __init__(self,model,make,year,color,seats,ac,solar):\n",
    "    super().__init__(model,make,year,color)\n",
    "\n",
    "    self.battery_size = 70\n",
    "    self.seats = seats\n",
    "    self.ac = ac\n",
    "    self.solar = solar\n",
    "\n",
    "  def describe_battery(self):\n",
    "    print(f\"This car has a {self.battery_size}-kWh battery.\")\n",
    "      \n",
    "  def fill_gas_tank(self):\n",
    "    print(\"This car doesn't need a gas tank!\")"
   ]
  },
  {
   "cell_type": "code",
   "execution_count": 19,
   "id": "90c8a80e-67f7-4f95-ac39-65ae7ed3b1b2",
   "metadata": {},
   "outputs": [],
   "source": [
    "ec1 = ElectricCar('Civic','Honda',2019,'Black',6,'yes','yes')"
   ]
  },
  {
   "cell_type": "code",
   "execution_count": 27,
   "id": "49ea48b8-f2a6-4d67-a529-546032f558d5",
   "metadata": {},
   "outputs": [
    {
     "data": {
      "text/plain": [
       "'2019 Honda Civic'"
      ]
     },
     "execution_count": 27,
     "metadata": {},
     "output_type": "execute_result"
    }
   ],
   "source": [
    "ec1.describe_car()"
   ]
  },
  {
   "cell_type": "code",
   "execution_count": 29,
   "id": "51c08dc1-c43d-4607-9cee-afffc08724f0",
   "metadata": {},
   "outputs": [
    {
     "name": "stdout",
     "output_type": "stream",
     "text": [
      "This car has a 70-kWh battery.\n"
     ]
    }
   ],
   "source": [
    "ec1.describe_battery()"
   ]
  },
  {
   "cell_type": "code",
   "execution_count": 35,
   "id": "031393b6-7eb9-4751-8156-9a19f60a23f8",
   "metadata": {},
   "outputs": [],
   "source": [
    "class Battery():\n",
    "  def __init__(self,manuf, price, model, year, plates, btype, backup, battery_size=170):\n",
    "    self.manuf = manuf\n",
    "    self.price = price\n",
    "    self.model = model\n",
    "    self.year = year\n",
    "    self.plates = plates\n",
    "    self.btype = btype\n",
    "    self.backup = backup\n",
    "    self.battery_size = battery_size\n",
    "      \n",
    "  def describe_battery(self):\n",
    "    print(f\"This car has a {self.battery_size}-kWh battery.\")"
   ]
  },
  {
   "cell_type": "code",
   "execution_count": 37,
   "id": "ef20e8ba-e5c3-482d-bf01-adf15957a7fa",
   "metadata": {},
   "outputs": [],
   "source": [
    "class Car():\n",
    "    \n",
    "  def __init__(self,model,make,year,color):\n",
    "    self.model = model\n",
    "    self.make = make\n",
    "    self.year = year\n",
    "    self.color = color\n",
    "    self.odometer_reading = 0\n",
    "  \n",
    "  def describe_car(self):\n",
    "    long_name = f\"{self.year} {self.make} {self.model}\"\n",
    "    return long_name\n",
    "\n",
    "  def fill_gas_tank(self):\n",
    "    return \"This car needs a gas tank!\""
   ]
  },
  {
   "cell_type": "code",
   "execution_count": 39,
   "id": "991fa8a7-c335-4f50-8843-6a90fca5b31a",
   "metadata": {},
   "outputs": [],
   "source": [
    "class ElectricCar(Car):\n",
    "\n",
    "  def __init__(self,model,make,year,color,seats,ac,solar):\n",
    "    super().__init__(model,make,year,color)\n",
    "    self.seats = seats\n",
    "    self.ac = ac\n",
    "    self.solar = solar\n",
    "      \n",
    "    self.battery = Battery('Osaka', 10000, \"Tublar\",2025, 14, 'dry', 10)\n",
    "    # object used as an attribute\n",
    "\n",
    "  def describe_car(self):\n",
    "    print(f\"This car has a {self.battery.battery_size}-kWh battery.\")\n",
    "    print(f\"This car has {self.seats} seats.\")\n",
    "    print(f\"This car has AC: {self.ac}.\")\n",
    "    print(f\"This car has solar: {self.solar}.\")\n",
    "  \n",
    "  def fill_gas_tank(self):\n",
    "    print(\"This car doesn't need a gas tank!\")"
   ]
  },
  {
   "cell_type": "code",
   "execution_count": 41,
   "id": "15411cb9-e7dd-4172-962f-9c2269ee02f6",
   "metadata": {},
   "outputs": [],
   "source": [
    "ec3 = ElectricCar('Tesla','Hoda',2025,'Black',6,'yes','yes')"
   ]
  },
  {
   "cell_type": "code",
   "execution_count": 43,
   "id": "175ad130-77dc-4c4f-ada9-38876b50b90b",
   "metadata": {},
   "outputs": [
    {
     "name": "stdout",
     "output_type": "stream",
     "text": [
      "This car has a 170-kWh battery.\n"
     ]
    }
   ],
   "source": [
    "ec3.battery.describe_battery()"
   ]
  },
  {
   "cell_type": "code",
   "execution_count": 45,
   "id": "1b3f73b9-b463-4952-8ec6-8fdbbd18aeac",
   "metadata": {},
   "outputs": [
    {
     "data": {
      "text/plain": [
       "14"
      ]
     },
     "execution_count": 45,
     "metadata": {},
     "output_type": "execute_result"
    }
   ],
   "source": [
    "ec3.battery.plates"
   ]
  },
  {
   "cell_type": "code",
   "execution_count": 47,
   "id": "0d08133c-5a6e-475a-a385-78444ce630ae",
   "metadata": {},
   "outputs": [
    {
     "name": "stdout",
     "output_type": "stream",
     "text": [
      "This car has a 170-kWh battery.\n",
      "This car has 6 seats.\n",
      "This car has AC: yes.\n",
      "This car has solar: yes.\n"
     ]
    }
   ],
   "source": [
    "ec3.describe_car()"
   ]
  },
  {
   "cell_type": "code",
   "execution_count": null,
   "id": "5bbd9236-1fe6-4132-862e-07c5cc5db203",
   "metadata": {},
   "outputs": [],
   "source": []
  }
 ],
 "metadata": {
  "kernelspec": {
   "display_name": "Python 3 (ipykernel)",
   "language": "python",
   "name": "python3"
  },
  "language_info": {
   "codemirror_mode": {
    "name": "ipython",
    "version": 3
   },
   "file_extension": ".py",
   "mimetype": "text/x-python",
   "name": "python",
   "nbconvert_exporter": "python",
   "pygments_lexer": "ipython3",
   "version": "3.12.7"
  }
 },
 "nbformat": 4,
 "nbformat_minor": 5
}
