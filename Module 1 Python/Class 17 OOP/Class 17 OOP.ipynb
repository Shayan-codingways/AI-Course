{
 "cells": [
  {
   "cell_type": "markdown",
   "id": "c648ee12-e644-4e4e-8d73-56f5803c7849",
   "metadata": {},
   "source": [
    "# Class Variables and Instance Variables"
   ]
  },
  {
   "cell_type": "code",
   "execution_count": 1,
   "id": "78e12795-4996-4b45-9635-007d037602b0",
   "metadata": {},
   "outputs": [],
   "source": [
    "class Car():\n",
    "    # class level variable /static variable\n",
    "    # can be used using class name\n",
    "    # same value for all objects\n",
    "    # like a watch on a wall in glass\n",
    "    wheel = 4\n",
    "\n",
    "    def __init__(self):\n",
    "        # non static / instance variable\n",
    "        # can be updated using object name\n",
    "        # within initializer\n",
    "        # like separate wrist watches\n",
    "        self.mileage = 10\n",
    "        self.company = \"BMW\"\n",
    "    "
   ]
  },
  {
   "cell_type": "code",
   "execution_count": 5,
   "id": "52e5414e-b991-4e2a-8943-d3a21c1edd9f",
   "metadata": {},
   "outputs": [],
   "source": [
    "c1 = Car()"
   ]
  },
  {
   "cell_type": "code",
   "execution_count": 11,
   "id": "dca84fa2-da51-493a-ad0a-21432a9d96b2",
   "metadata": {},
   "outputs": [],
   "source": [
    "c2 = Car()"
   ]
  },
  {
   "cell_type": "code",
   "execution_count": 15,
   "id": "6597e366-aef0-4afd-893c-be319834b337",
   "metadata": {},
   "outputs": [
    {
     "name": "stdout",
     "output_type": "stream",
     "text": [
      "4\n",
      "4\n"
     ]
    }
   ],
   "source": [
    "# wheel is a class level variable can be accessed using class name. \n",
    "print(Car.wheel)\n",
    "print(c1.wheel)"
   ]
  },
  {
   "cell_type": "code",
   "execution_count": 17,
   "id": "a9f3c066-b96d-471a-b548-65b1ea9cac08",
   "metadata": {},
   "outputs": [
    {
     "name": "stdout",
     "output_type": "stream",
     "text": [
      "10\n"
     ]
    }
   ],
   "source": [
    "print(c1.mileage)"
   ]
  },
  {
   "cell_type": "code",
   "execution_count": 19,
   "id": "2d2a5bc1-9836-4aea-94f0-f965c1155122",
   "metadata": {},
   "outputs": [
    {
     "ename": "AttributeError",
     "evalue": "type object 'Car' has no attribute 'mileage'",
     "output_type": "error",
     "traceback": [
      "\u001b[1;31m---------------------------------------------------------------------------\u001b[0m",
      "\u001b[1;31mAttributeError\u001b[0m                            Traceback (most recent call last)",
      "Cell \u001b[1;32mIn[19], line 1\u001b[0m\n\u001b[1;32m----> 1\u001b[0m \u001b[38;5;28mprint\u001b[39m(Car\u001b[38;5;241m.\u001b[39mmileage)\n",
      "\u001b[1;31mAttributeError\u001b[0m: type object 'Car' has no attribute 'mileage'"
     ]
    }
   ],
   "source": [
    "# mileage is not a class level variable.  # not accessible by class\n",
    "print(Car.mileage)"
   ]
  },
  {
   "cell_type": "code",
   "execution_count": 21,
   "id": "c6a460c0-afb4-4aac-b94b-5baee4f83752",
   "metadata": {},
   "outputs": [
    {
     "name": "stdout",
     "output_type": "stream",
     "text": [
      "5\n",
      "5\n"
     ]
    }
   ],
   "source": [
    "Car.wheel = 5\n",
    "print(Car.wheel)\n",
    "print(c1.wheel)"
   ]
  },
  {
   "cell_type": "code",
   "execution_count": 25,
   "id": "1b127448-3f99-4200-bc77-301138d8b105",
   "metadata": {},
   "outputs": [],
   "source": [
    "# changing in instance variable\n",
    "c1.wheel = 6  # not hitting class attriute instead creates a new wheels variable overwriting actual one for object\n",
    "# ends the already existing class wheel variable in the copy/object and createsd it own.\n",
    "\n",
    "c1.colors = \"Red\" # new variable for this object only\n"
   ]
  },
  {
   "cell_type": "code",
   "execution_count": 33,
   "id": "d66e9ce7-8781-44cd-8027-6bc4588a05eb",
   "metadata": {},
   "outputs": [
    {
     "data": {
      "text/plain": [
       "(5, 6, 5, 'Red')"
      ]
     },
     "execution_count": 33,
     "metadata": {},
     "output_type": "execute_result"
    }
   ],
   "source": [
    "Car.wheel, c1.wheel, c2.wheel, c1.colors"
   ]
  },
  {
   "cell_type": "code",
   "execution_count": 35,
   "id": "8c77973a-fbd6-450b-aa05-5e02160eef95",
   "metadata": {},
   "outputs": [],
   "source": [
    "class Car():\n",
    "    # class level variable /static variable\n",
    "    # can be used using class name\n",
    "    # same value for all objects\n",
    "    # like a watch on a wall in glass\n",
    "    wheel = 4\n",
    "    doors = 4\n",
    "    def __init__(self):\n",
    "        # non static / instance variable\n",
    "        # can be updated using object name\n",
    "        # within initializer\n",
    "        # like separate wrist watches\n",
    "        self.mileage = 10\n",
    "        self.company = \"BMW\"\n",
    "    "
   ]
  },
  {
   "cell_type": "markdown",
   "id": "eb642dc9-ecfa-4253-bebe-f840081b5809",
   "metadata": {},
   "source": [
    "# Class Methods, Instance Methods, Static Methods"
   ]
  },
  {
   "cell_type": "code",
   "execution_count": 38,
   "id": "6a94f7e9-83b8-452c-9bfd-2821dfc5d852",
   "metadata": {},
   "outputs": [],
   "source": [
    "# class and static methods are not same"
   ]
  },
  {
   "cell_type": "markdown",
   "id": "6b390355-e1bb-40f1-8359-c5e2b4031325",
   "metadata": {},
   "source": [
    "## Instance Methods"
   ]
  },
  {
   "cell_type": "code",
   "execution_count": 40,
   "id": "46dd0ae7-47da-4d14-9934-570634dd0de4",
   "metadata": {},
   "outputs": [],
   "source": [
    "class Student():\n",
    "    school = \"SSUET\"\n",
    "\n",
    "    def __init__(self, m1, m2, m3):\n",
    "        self.m1 = m1\n",
    "        self.m2 = m2\n",
    "        self.m3 = m3\n",
    "\n",
    "    # instance methods --> bcz they need instance/object/self to be called\n",
    "    def avg(self):\n",
    "        return (self.m1+self.m2+self.m3)/3\n",
    "\n",
    "    def information(self):\n",
    "        return self.school"
   ]
  },
  {
   "cell_type": "code",
   "execution_count": 42,
   "id": "6b3a0295-ffe7-4074-927d-297c6610e624",
   "metadata": {},
   "outputs": [],
   "source": [
    "s1 = Student(20,30,40)\n",
    "s2 = Student (23,57,90)"
   ]
  },
  {
   "cell_type": "code",
   "execution_count": 46,
   "id": "df34a032-6c45-49f9-915c-aabba32ce3e8",
   "metadata": {},
   "outputs": [
    {
     "name": "stdout",
     "output_type": "stream",
     "text": [
      "30.0\n",
      "56.666666666666664\n"
     ]
    }
   ],
   "source": [
    "# instance method called using instance s1\n",
    "print(s1.avg())\n",
    "\n",
    "# instance method called using instance s2\n",
    "print(s2.avg())"
   ]
  },
  {
   "cell_type": "code",
   "execution_count": 48,
   "id": "7560c385-fbf0-4b65-b68c-3e407e34fff9",
   "metadata": {},
   "outputs": [
    {
     "ename": "TypeError",
     "evalue": "Student.avg() missing 1 required positional argument: 'self'",
     "output_type": "error",
     "traceback": [
      "\u001b[1;31m---------------------------------------------------------------------------\u001b[0m",
      "\u001b[1;31mTypeError\u001b[0m                                 Traceback (most recent call last)",
      "Cell \u001b[1;32mIn[48], line 1\u001b[0m\n\u001b[1;32m----> 1\u001b[0m Student\u001b[38;5;241m.\u001b[39mavg()\n",
      "\u001b[1;31mTypeError\u001b[0m: Student.avg() missing 1 required positional argument: 'self'"
     ]
    }
   ],
   "source": [
    "Student.avg()  # instance / self missing --> not passed as argument"
   ]
  },
  {
   "cell_type": "code",
   "execution_count": 54,
   "id": "4c08d974-18c4-43ce-839f-122451f282f5",
   "metadata": {},
   "outputs": [
    {
     "name": "stdout",
     "output_type": "stream",
     "text": [
      "30.0\n",
      "56.666666666666664\n"
     ]
    }
   ],
   "source": [
    "# instance method called using class name but instance 's1' is passed\n",
    "print(Student.avg(s1))\n",
    "\n",
    "# instance method called using class name but instance 's2' is passed\n",
    "print(Student.avg(s2))"
   ]
  },
  {
   "cell_type": "markdown",
   "id": "2882d096-6b1c-4163-9d54-25e87461d4c6",
   "metadata": {},
   "source": [
    "## Class Methods"
   ]
  },
  {
   "cell_type": "code",
   "execution_count": 81,
   "id": "24d85cca-2656-4823-aeff-5178800c34bf",
   "metadata": {},
   "outputs": [],
   "source": [
    "class Student():\n",
    "    school = \"SSUET\"\n",
    "\n",
    "    def __init__(self, m1, m2, m3):\n",
    "        self.m1 = m1\n",
    "        self.m2 = m2\n",
    "        self.m3 = m3\n",
    "\n",
    "    # instance method --> bcz it need instance/object/self to be called\n",
    "    def avg(self):\n",
    "        return (self.m1+self.m2+self.m3)/3\n",
    "\n",
    "    @classmethod  # --> decorator\n",
    "    def information(cls):\n",
    "        return cls.school\n",
    "\n",
    "    # in cls, when object calls the method then object goes, else class goes\n",
    "    # functions in a class are called methods"
   ]
  },
  {
   "cell_type": "code",
   "execution_count": 83,
   "id": "715bf597-55fd-4e54-a316-26d59b96a6ce",
   "metadata": {},
   "outputs": [
    {
     "name": "stdout",
     "output_type": "stream",
     "text": [
      "30.0\n",
      "56.666666666666664\n"
     ]
    }
   ],
   "source": [
    "s1 = Student(20,30,40)\n",
    "s2 = Student (23,57,90)\n",
    "\n",
    "# instance method called using instance s1\n",
    "print(s1.avg())\n",
    "\n",
    "# instance method called using instance s2\n",
    "print(s2.avg())"
   ]
  },
  {
   "cell_type": "code",
   "execution_count": 84,
   "id": "b36243de-774d-44bd-bc7e-6cd9d58092d4",
   "metadata": {},
   "outputs": [
    {
     "name": "stdout",
     "output_type": "stream",
     "text": [
      "SSUET\n",
      "SSUET\n",
      "\n",
      "\n",
      "SSUET\n",
      "SSUET\n",
      "\n",
      "\n"
     ]
    },
    {
     "ename": "TypeError",
     "evalue": "Student.avg() missing 1 required positional argument: 'self'",
     "output_type": "error",
     "traceback": [
      "\u001b[1;31m---------------------------------------------------------------------------\u001b[0m",
      "\u001b[1;31mTypeError\u001b[0m                                 Traceback (most recent call last)",
      "Cell \u001b[1;32mIn[84], line 16\u001b[0m\n\u001b[0;32m     13\u001b[0m \u001b[38;5;28mprint\u001b[39m(\u001b[38;5;124m\"\u001b[39m\u001b[38;5;130;01m\\n\u001b[39;00m\u001b[38;5;124m\"\u001b[39m)\n\u001b[0;32m     15\u001b[0m \u001b[38;5;66;03m# calling by class name the instance method\u001b[39;00m\n\u001b[1;32m---> 16\u001b[0m \u001b[38;5;28mprint\u001b[39m(Student\u001b[38;5;241m.\u001b[39mavg())\n",
      "\u001b[1;31mTypeError\u001b[0m: Student.avg() missing 1 required positional argument: 'self'"
     ]
    }
   ],
   "source": [
    "##### class method can be called using class as well as instance #####\n",
    "\n",
    "# calling by instance\n",
    "print(s1.information())\n",
    "print(s2.information())\n",
    "\n",
    "print(\"\\n\")\n",
    "\n",
    "# calling by class name\n",
    "print(Student.information())\n",
    "print(Student.information())\n",
    "\n",
    "print(\"\\n\")\n",
    "\n",
    "# calling by class name the instance method\n",
    "print(Student.avg())\n",
    "\n"
   ]
  },
  {
   "cell_type": "markdown",
   "id": "bcafb3d5-1eb4-4436-987e-c7ec74ac5c19",
   "metadata": {},
   "source": [
    "## Static Methods\n",
    "- Are methods that don't require any instance or class"
   ]
  },
  {
   "cell_type": "code",
   "execution_count": 96,
   "id": "6e437a54-281a-4131-90a0-89021c91a791",
   "metadata": {},
   "outputs": [],
   "source": [
    "class Student():\n",
    "    school = \"SSUET\"\n",
    "\n",
    "    def __init__(self, m1, m2, m3):\n",
    "        self.m1 = m1\n",
    "        self.m2 = m2\n",
    "        self.m3 = m3\n",
    "\n",
    "    # instance method --> bcz it need instance/object/self to be called\n",
    "    def avg(self):\n",
    "        return (self.m1+self.m2+self.m3)/3\n",
    "\n",
    "    @classmethod  # --> decorator\n",
    "    def information(cls):\n",
    "        return cls.school\n",
    "\n",
    "    # in cls, when object calls the method then object goes, else class goes\n",
    "    # functions in a class are called methods\n",
    "\n",
    "    @staticmethod\n",
    "    def hello():\n",
    "        return \"I am Static\"\n",
    "        # need no class or object"
   ]
  },
  {
   "cell_type": "code",
   "execution_count": 98,
   "id": "7f9f3e28-a7a9-41ac-99f7-80e87e579f19",
   "metadata": {},
   "outputs": [],
   "source": [
    "s4 = Student(12,35,99)"
   ]
  },
  {
   "cell_type": "code",
   "execution_count": 100,
   "id": "92c4705f-9cd6-45db-8343-63d6501ef02a",
   "metadata": {},
   "outputs": [
    {
     "data": {
      "text/plain": [
       "'I am Static'"
      ]
     },
     "execution_count": 100,
     "metadata": {},
     "output_type": "execute_result"
    }
   ],
   "source": [
    "s4.hello() # i am sending instance here as well but if i forget to write self for example in avg then it willthrow error"
   ]
  },
  {
   "cell_type": "code",
   "execution_count": 102,
   "id": "84e7ed35-337e-4047-8ddd-ee9ceef5872d",
   "metadata": {},
   "outputs": [
    {
     "data": {
      "text/plain": [
       "'I am Static'"
      ]
     },
     "execution_count": 102,
     "metadata": {},
     "output_type": "execute_result"
    }
   ],
   "source": [
    "Student.hello()"
   ]
  },
  {
   "cell_type": "code",
   "execution_count": 104,
   "id": "d2236ea9-d537-4858-99cb-a1b15acc4988",
   "metadata": {},
   "outputs": [],
   "source": [
    "class Student():\n",
    "    school = \"SSUET\"\n",
    "\n",
    "    def __init__(self, m1, m2, m3):\n",
    "        self.m1 = m1\n",
    "        self.m2 = m2\n",
    "        self.m3 = m3\n",
    "\n",
    "    # instance method --> bcz it need instance/object/self to be called\n",
    "    def avg():\n",
    "        return (self.m1+self.m2+self.m3)/3\n",
    "\n",
    "    @classmethod  # --> decorator\n",
    "    def information(cls):\n",
    "        return cls.school\n",
    "\n",
    "    # in cls, when object calls the method then object goes, else class goes\n",
    "    # functions in a class are called methods\n",
    "\n",
    "    @staticmethod\n",
    "    def hello():\n",
    "        return \"I am Static\"\n",
    "        # need no class or object"
   ]
  },
  {
   "cell_type": "code",
   "execution_count": 106,
   "id": "35f83cb0-ea8f-4146-95a8-6b92cfb343c5",
   "metadata": {},
   "outputs": [],
   "source": [
    "s4 = Student(12,35,99)"
   ]
  },
  {
   "cell_type": "code",
   "execution_count": 110,
   "id": "6d7d932b-8410-48a4-b8d9-185467eb896f",
   "metadata": {},
   "outputs": [
    {
     "name": "stdout",
     "output_type": "stream",
     "text": [
      "I am Static\n"
     ]
    },
    {
     "ename": "TypeError",
     "evalue": "Student.avg() takes 0 positional arguments but 1 was given",
     "output_type": "error",
     "traceback": [
      "\u001b[1;31m---------------------------------------------------------------------------\u001b[0m",
      "\u001b[1;31mTypeError\u001b[0m                                 Traceback (most recent call last)",
      "Cell \u001b[1;32mIn[110], line 2\u001b[0m\n\u001b[0;32m      1\u001b[0m \u001b[38;5;28mprint\u001b[39m(s4\u001b[38;5;241m.\u001b[39mhello())\n\u001b[1;32m----> 2\u001b[0m s4\u001b[38;5;241m.\u001b[39mavg()\n",
      "\u001b[1;31mTypeError\u001b[0m: Student.avg() takes 0 positional arguments but 1 was given"
     ]
    }
   ],
   "source": [
    "print(s4.hello())\n",
    "s4.avg() # missing self"
   ]
  },
  {
   "cell_type": "code",
   "execution_count": 126,
   "id": "0ba4a26d-6cf3-4885-9d6d-17ab3cce487c",
   "metadata": {},
   "outputs": [],
   "source": [
    "class Battery():\n",
    "    def __init__(self, manuf, cell, weight, amp, watt, price):\n",
    "        self.manuf = manuf\n",
    "        self.cell = cell\n",
    "        self.weight = weight\n",
    "        self.amp = amp\n",
    "        self.watt = watt\n",
    "        self. price = price\n",
    "\n",
    "# this class can be used by differnt classes as an instance attribute\n",
    "    "
   ]
  },
  {
   "cell_type": "code",
   "execution_count": 137,
   "id": "e825b863-249e-4812-9be9-e209a582392d",
   "metadata": {},
   "outputs": [],
   "source": [
    "class Eleccar():\n",
    "    def __init__(self, make, model, year, engine):\n",
    "        self.make = make\n",
    "        self.modle = model\n",
    "        self.year = year\n",
    "        self.engine = engine\n",
    "\n",
    "        # instance used as attributes\n",
    "        self.battery = Battery(\"OSaka\", 27,60,200,12,60000)   # can't be inherited as its a different entity\n",
    "        \n",
    "    def carruns(self):\n",
    "        pass\n",
    "    def carstop(self):\n",
    "        pass\n"
   ]
  },
  {
   "cell_type": "code",
   "execution_count": 143,
   "id": "5f8949f3-cbde-41bf-9748-903f2157c897",
   "metadata": {},
   "outputs": [
    {
     "data": {
      "text/plain": [
       "60000"
      ]
     },
     "execution_count": 143,
     "metadata": {},
     "output_type": "execute_result"
    }
   ],
   "source": [
    "e=Eleccar(\"Honda\",2024,2024,2000)\n",
    "e.battery.price"
   ]
  },
  {
   "cell_type": "markdown",
   "id": "82de1d62-87c4-449b-b381-bc82253166ac",
   "metadata": {},
   "source": [
    "# Inner Classes\n",
    "- Class inside a class is called an inner class"
   ]
  },
  {
   "cell_type": "code",
   "execution_count": 150,
   "id": "5fe386f4-6bc4-4c8d-9f12-3d376d5b59c1",
   "metadata": {},
   "outputs": [
    {
     "name": "stdout",
     "output_type": "stream",
     "text": [
      "Shayan has rollno: 2\n",
      "Nasir has rollno: 5\n"
     ]
    }
   ],
   "source": [
    "class student():\n",
    "    def __init__(self, name, rollno):\n",
    "        self.name = name\n",
    "        self.rollno = rollno\n",
    "    def show(self):\n",
    "        print(f\"{self.name} has rollno: {self.rollno}\")\n",
    "\n",
    "s1 = student(\"Shayan\",2)\n",
    "s2 = student(\"Nasir\", 5) \n",
    "\n",
    "s1.show()\n",
    "s2.show()"
   ]
  },
  {
   "cell_type": "raw",
   "id": "8a1ed106-a446-40d4-a6ed-7549261d9ca4",
   "metadata": {},
   "source": [
    "Case : A student in IT class Must have a laptop\n",
    "so there is an attribute of laptop for student"
   ]
  },
  {
   "cell_type": "code",
   "execution_count": 152,
   "id": "19c43fe1-6b2f-4079-93b5-b0a4065e6612",
   "metadata": {},
   "outputs": [
    {
     "name": "stdout",
     "output_type": "stream",
     "text": [
      "Shayan has rollno: 2 || HP\n",
      "Nasir has rollno: 5 || Lenovo\n"
     ]
    }
   ],
   "source": [
    "class student():\n",
    "    def __init__(self, name, rollno, laptop):\n",
    "        self.name = name\n",
    "        self.rollno = rollno\n",
    "        self.laptop = laptop\n",
    "    def show(self):\n",
    "        print(f\"{self.name} has rollno: {self.rollno} || {self.laptop}\")\n",
    "\n",
    "s1 = student(\"Shayan\",2, \"HP\")\n",
    "s2 = student(\"Nasir\", 5, \"Lenovo\") \n",
    "\n",
    "s1.show()\n",
    "s2.show()"
   ]
  },
  {
   "cell_type": "raw",
   "id": "29a9470b-a9d6-4d73-bcd0-1002748aaa24",
   "metadata": {},
   "source": [
    "Now i need to add more details of laptop\n",
    "\n",
    "should add details in init\n",
    "\n",
    "or should i create other laptop class and pass it as attribute\n",
    "\n",
    "or class within class"
   ]
  },
  {
   "cell_type": "markdown",
   "id": "94fc14cf-68ec-4de2-9b59-21fab49a7753",
   "metadata": {},
   "source": [
    "### Instance as Attribute"
   ]
  },
  {
   "cell_type": "code",
   "execution_count": 163,
   "id": "74082819-de80-4c4f-a976-38107aac54f7",
   "metadata": {},
   "outputs": [],
   "source": [
    "class Laptop():\n",
    "    def __init__(self, brand, cpu, ram):\n",
    "        self.brand = brand\n",
    "        self.cpu = cpu\n",
    "        self.ram = ram\n",
    "    def show(self):\n",
    "        print(self.brand,self.cpu,self.ram)"
   ]
  },
  {
   "cell_type": "code",
   "execution_count": 177,
   "id": "e6c7d8cd-9c23-46e8-bda1-4e266e04a205",
   "metadata": {},
   "outputs": [
    {
     "name": "stdout",
     "output_type": "stream",
     "text": [
      "Shayan has rollno: 2\n",
      "HP Core i7 16\n",
      "Nasir has rollno: 5\n",
      "HP Core i7 16\n"
     ]
    }
   ],
   "source": [
    "class student():\n",
    "    def __init__(self, name, rollno):\n",
    "        self.name = name\n",
    "        self.rollno = rollno\n",
    "        self.laptop = Laptop(\"HP\",\"Core i7\", \"16\")\n",
    "        \n",
    "    def show(self):\n",
    "        print(f\"{self.name} has rollno: {self.rollno}\")\n",
    "        self.laptop.show()\n",
    "\n",
    "s1 = student(\"Shayan\",2)\n",
    "s2 = student(\"Nasir\", 5) \n",
    "\n",
    "s1.show()\n",
    "s2.show()"
   ]
  },
  {
   "cell_type": "markdown",
   "id": "255d7894-3b2f-44d4-be99-94bcde949f23",
   "metadata": {},
   "source": [
    "### Inner Class"
   ]
  },
  {
   "cell_type": "code",
   "execution_count": 182,
   "id": "ace346ac-7e26-4cf4-b53e-68df075f895a",
   "metadata": {},
   "outputs": [
    {
     "name": "stdout",
     "output_type": "stream",
     "text": [
      "Shayan has rollno: 2\n",
      "HP Core i7 16\n",
      "Nasir has rollno: 5\n",
      "HP Core i7 16\n"
     ]
    }
   ],
   "source": [
    "class student():\n",
    "    def __init__(self, name, rollno):\n",
    "        self.name = name\n",
    "        self.rollno = rollno\n",
    "        self.laptop = self.Laptop(\"HP\",\"Core i7\", \"16\")\n",
    "        \n",
    "    def show(self):\n",
    "        print(f\"{self.name} has rollno: {self.rollno}\")\n",
    "        self.laptop.show()\n",
    "\n",
    "    \"\"\" inner class \"\"\" \n",
    "    class Laptop():\n",
    "        def __init__(self, brand, cpu, ram):\n",
    "            self.brand = brand\n",
    "            self.cpu = cpu\n",
    "            self.ram = ram\n",
    "        def show(self):\n",
    "            print(self.brand,self.cpu,self.ram)\n",
    "\n",
    "\n",
    "s1 = student(\"Shayan\",2)\n",
    "s2 = student(\"Nasir\", 5) \n",
    "\n",
    "s1.show()\n",
    "s2.show()"
   ]
  },
  {
   "cell_type": "markdown",
   "id": "76036dc0-60ba-46ab-832f-2e77042a00e5",
   "metadata": {},
   "source": [
    "# Inheritance"
   ]
  },
  {
   "cell_type": "code",
   "execution_count": 1,
   "id": "a99d4667-f849-4130-91bf-a3b95abeff90",
   "metadata": {},
   "outputs": [
    {
     "name": "stdout",
     "output_type": "stream",
     "text": [
      "feature 1 is working\n",
      "feature 2 is working\n"
     ]
    }
   ],
   "source": [
    "class A():\n",
    "    def feature1(self):\n",
    "        print(\"feature 1 is working\")\n",
    "    def feature2(self):\n",
    "        print(\"feature 2 is working\") \n",
    "a1 = A()\n",
    "a1.feature1()\n",
    "a1.feature2()"
   ]
  },
  {
   "cell_type": "markdown",
   "id": "0fa96924-7778-49da-9e71-02fa2b44988a",
   "metadata": {},
   "source": [
    "# Single Inhertance"
   ]
  },
  {
   "cell_type": "code",
   "execution_count": 4,
   "id": "20dc659d-2c2c-4146-a599-b48910782f08",
   "metadata": {},
   "outputs": [
    {
     "name": "stdout",
     "output_type": "stream",
     "text": [
      "feature 1 is working\n",
      "feature 3 is working\n"
     ]
    }
   ],
   "source": [
    "class B(A):\n",
    "    def feature3(self):\n",
    "        print(\"feature 3 is working\")\n",
    "    def feature4(self):\n",
    "        print(\"feature 4 is working\") \n",
    "\n",
    "b1 = B()\n",
    "b1.feature1()\n",
    "b1.feature3()"
   ]
  },
  {
   "cell_type": "markdown",
   "id": "33af06a3-ef8e-4cd3-9e92-7046e49747c3",
   "metadata": {},
   "source": [
    "# Multilevel Inheritance"
   ]
  },
  {
   "cell_type": "code",
   "execution_count": 7,
   "id": "d257609b-4843-40ae-9337-032db02b4ca8",
   "metadata": {},
   "outputs": [
    {
     "name": "stdout",
     "output_type": "stream",
     "text": [
      "feature 1 is working\n",
      "feature 3 is working\n",
      "feature 6 is working\n"
     ]
    }
   ],
   "source": [
    "class C(B):\n",
    "    def feature5(self):\n",
    "        print(\"feature 5 is working\")\n",
    "    def feature6(self):\n",
    "        print(\"feature 6 is working\") \n",
    "\n",
    "c1 = C()\n",
    "c1.feature1()\n",
    "c1.feature3()\n",
    "c1.feature6()"
   ]
  },
  {
   "cell_type": "markdown",
   "id": "b921e493-52e5-4345-ae9b-cdb95824a9e4",
   "metadata": {},
   "source": [
    "# Multiple Inheritance"
   ]
  },
  {
   "cell_type": "code",
   "execution_count": 10,
   "id": "82380f12-7e5c-4144-9a14-f1d60009b0ec",
   "metadata": {},
   "outputs": [
    {
     "name": "stdout",
     "output_type": "stream",
     "text": [
      "feature 1 is working\n",
      "feature 2 is working\n"
     ]
    }
   ],
   "source": [
    "class A():\n",
    "    def feature1(self):\n",
    "        print(\"feature 1 is working\")\n",
    "    def feature2(self):\n",
    "        print(\"feature 2 is working\") \n",
    "a1 = A()\n",
    "a1.feature1()\n",
    "a1.feature2()"
   ]
  },
  {
   "cell_type": "code",
   "execution_count": 14,
   "id": "db326b84-9eda-4a3d-9dcc-ccd24adc3ca2",
   "metadata": {},
   "outputs": [
    {
     "name": "stdout",
     "output_type": "stream",
     "text": [
      "feature 3 is working\n",
      "feature 4 is working\n"
     ]
    }
   ],
   "source": [
    "class B():\n",
    "    def feature3(self):\n",
    "        print(\"feature 3 is working\")\n",
    "    def feature4(self):\n",
    "        print(\"feature 4 is working\") \n",
    "\n",
    "b1 = B()\n",
    "b1.feature3()\n",
    "b1.feature4()"
   ]
  },
  {
   "cell_type": "code",
   "execution_count": 16,
   "id": "2ff5727b-1d48-4b04-b16b-3cdfe560e085",
   "metadata": {},
   "outputs": [
    {
     "name": "stdout",
     "output_type": "stream",
     "text": [
      "feature 1 is working\n",
      "feature 3 is working\n",
      "feature 5 is working\n"
     ]
    }
   ],
   "source": [
    "class C(A,B):\n",
    "    def feature5(self):\n",
    "        print(\"feature 5 is working\")\n",
    "c1 = C()\n",
    "c1.feature1()\n",
    "c1.feature3()\n",
    "c1.feature5()"
   ]
  },
  {
   "cell_type": "markdown",
   "id": "cb93e9cc-02d4-4f85-a669-5b36288acdb9",
   "metadata": {},
   "source": [
    "# Constructor in Inheritance and Method Resolution Order"
   ]
  },
  {
   "cell_type": "code",
   "execution_count": 73,
   "id": "7b918ce5-c8a5-4810-b460-0e910d5b97a3",
   "metadata": {},
   "outputs": [
    {
     "name": "stdout",
     "output_type": "stream",
     "text": [
      "In Initializer of A\n",
      "In Initializer of A\n"
     ]
    }
   ],
   "source": [
    "class A():\n",
    "    def __init__(self):\n",
    "        print(\"In Initializer of A\")\n",
    "    \n",
    "    def feature1(self):\n",
    "        print(\"feature 1 is working\")\n",
    "    def feature2(self):\n",
    "        print(\"feature 2 is working\") \n",
    "\n",
    "class B(A):\n",
    "    def feature3(self):\n",
    "        print(\"feature 3 is working\")\n",
    "    def feature4(self):\n",
    "        print(\"feature 4 is working\") \n",
    "\n",
    "a1 = A()\n",
    "b1 = B()\n",
    "\n",
    "# constructor of A will be called on calling upon instance of B since B doesn't have its own initaizalizer"
   ]
  },
  {
   "cell_type": "code",
   "execution_count": 75,
   "id": "0e7ee8d2-cd61-4d14-8ee7-e22621b31b72",
   "metadata": {},
   "outputs": [
    {
     "name": "stdout",
     "output_type": "stream",
     "text": [
      "In Initializer of A\n",
      "In Initializer of B\n"
     ]
    }
   ],
   "source": [
    "class A():\n",
    "    def __init__(self):\n",
    "        print(\"In Initializer of A\")\n",
    "    \n",
    "    def feature1(self):\n",
    "        print(\"feature 1 is working\")\n",
    "    def feature2(self):\n",
    "        print(\"feature 2 is working\") \n",
    "\n",
    "class B(A):\n",
    "    def __init__(self):\n",
    "        print(\"In Initializer of B\")\n",
    "    \n",
    "    def feature3(self):\n",
    "        print(\"feature 3 is working\")\n",
    "    def feature4(self):\n",
    "        print(\"feature 4 is working\") \n",
    "\n",
    "a1 = A()\n",
    "b1 = B()\n",
    "\n",
    "# init of B will be called this time"
   ]
  },
  {
   "cell_type": "code",
   "execution_count": 77,
   "id": "41e39bf8-58c5-441e-8081-d58e153a1bf0",
   "metadata": {},
   "outputs": [
    {
     "name": "stdout",
     "output_type": "stream",
     "text": [
      "In Initializer of A\n",
      "In Initializer of B\n",
      "In Initializer of A\n"
     ]
    }
   ],
   "source": [
    "class A():\n",
    "    def __init__(self):\n",
    "        print(\"In Initializer of A\")\n",
    "    \n",
    "    def feature1(self):\n",
    "        print(\"feature 1 is working\")\n",
    "    def feature2(self):\n",
    "        print(\"feature 2 is working\") \n",
    "\n",
    "class B(A):\n",
    "    def __init__(self):\n",
    "        print(\"In Initializer of B\")\n",
    "        super().__init__()\n",
    "    \n",
    "    def feature3(self):\n",
    "        print(\"feature 3 is working\")\n",
    "    def feature4(self):\n",
    "        print(\"feature 4 is working\") \n",
    "\n",
    "a1 = A()\n",
    "b1 = B()\n",
    "\n",
    "# init of B will we called and super will invoke parent initializer"
   ]
  },
  {
   "cell_type": "code",
   "execution_count": 79,
   "id": "d0bff22e-71db-40e4-ada8-5a9358a897f2",
   "metadata": {},
   "outputs": [],
   "source": [
    "class A():\n",
    "    def __init__(self):\n",
    "        print(\"In Initializer of A\")\n",
    "    \n",
    "    def feature1(self):\n",
    "        print(\"feature 1 is working\")\n",
    "    def feature2(self):\n",
    "        print(\"feature 2 is working\") \n",
    "\n",
    "    def show(self):\n",
    "        print(\"Showing Class A\")\n",
    "    "
   ]
  },
  {
   "cell_type": "code",
   "execution_count": 87,
   "id": "600e519e-cbcc-4bb5-b1a3-e5105efc69ee",
   "metadata": {},
   "outputs": [],
   "source": [
    "class B():\n",
    "    def __init__(self):\n",
    "        print(\"In Initializer of B\")\n",
    "    \n",
    "    def feature3(self):\n",
    "        print(\"feature 3 is working\")\n",
    "    def feature4(self):\n",
    "        print(\"feature 4 is working\") \n",
    "\n",
    "    def show(self):\n",
    "        print(\"Showing Class B\")"
   ]
  },
  {
   "cell_type": "code",
   "execution_count": 89,
   "id": "579adf58-c3d4-473c-9a0e-fd27bf05b8b1",
   "metadata": {},
   "outputs": [
    {
     "name": "stdout",
     "output_type": "stream",
     "text": [
      "init of C\n",
      "In Initializer of A\n"
     ]
    }
   ],
   "source": [
    "class C(A,B): # multiple inheritance\n",
    "    def __init__(self):\n",
    "        print(\"init of C\")\n",
    "        super().__init__()\n",
    "        # now we have 2 parent classes! super will call init of?\n",
    "        # There is a term called MRO (method resolution order) Left to Right\n",
    "        # init of A will be called\n",
    "    def feature5(self):\n",
    "        print(\"feature 5 is working\")\n",
    "c1 = C()\n"
   ]
  },
  {
   "cell_type": "code",
   "execution_count": 91,
   "id": "bb84f767-6760-41b9-a6ed-51b0c692d9e1",
   "metadata": {},
   "outputs": [
    {
     "name": "stdout",
     "output_type": "stream",
     "text": [
      "Showing Class A\n"
     ]
    }
   ],
   "source": [
    "c1.show() # showing of left class"
   ]
  },
  {
   "cell_type": "code",
   "execution_count": 93,
   "id": "3fd2879e-9e1a-4cf4-b4c7-1802f60723f6",
   "metadata": {},
   "outputs": [
    {
     "name": "stdout",
     "output_type": "stream",
     "text": [
      "init of C\n",
      "In Initializer of B\n",
      "Showing Class B\n"
     ]
    }
   ],
   "source": [
    "class C(B,A): # multiple inheritance\n",
    "    def __init__(self):\n",
    "        print(\"init of C\")\n",
    "        super().__init__()\n",
    "        # now we have 2 parent classes! super will call init of?\n",
    "        # There is a term called MRO (method resolution order) Left to Right\n",
    "        # init of A will be called\n",
    "    def feature5(self):\n",
    "        print(\"feature 5 is working\")\n",
    "c1 = C()\n",
    "c1.show()\n"
   ]
  },
  {
   "cell_type": "code",
   "execution_count": 111,
   "id": "f94eb022-f5c2-403d-a90f-02f9cbe6a324",
   "metadata": {},
   "outputs": [],
   "source": [
    "class A():\n",
    "    def __init__(self):\n",
    "        print(\"In Initializer of A\")\n",
    "    \n",
    "   \n",
    "    def feature2(self):\n",
    "        print(\"In A\") \n",
    "\n",
    "    def show(self):\n",
    "        print(\"Showing Class A\")\n",
    "    "
   ]
  },
  {
   "cell_type": "code",
   "execution_count": 113,
   "id": "b49e604f-bebd-4832-b280-28cddc848454",
   "metadata": {},
   "outputs": [],
   "source": [
    "class B():\n",
    "    def __init__(self):\n",
    "        print(\"In Initializer of B\")\n",
    "    \n",
    "    def feature2(self):\n",
    "        print(\"In B\")\n",
    "        \n",
    "    def show(self):\n",
    "        print(\"Showing Class B\")"
   ]
  },
  {
   "cell_type": "code",
   "execution_count": 115,
   "id": "3242965e-55f7-4c9d-96c4-faf3120c11c4",
   "metadata": {},
   "outputs": [
    {
     "name": "stdout",
     "output_type": "stream",
     "text": [
      "init of C\n",
      "In Initializer of A\n",
      "Showing Class A\n",
      "In A\n"
     ]
    }
   ],
   "source": [
    "class C(A,B): # multiple inheritance\n",
    "    def __init__(self):\n",
    "        print(\"init of C\")\n",
    "        super().__init__()\n",
    "        super().show() # show of A\n",
    "       \n",
    "    def feature2(self):\n",
    "        print(\"I am in C\")\n",
    "\n",
    "    def feat(self):\n",
    "        super().feature2()\n",
    "c1 = C()\n",
    "c1.feat()  # A will be called even though feature 2 is in all classes.\n"
   ]
  },
  {
   "cell_type": "markdown",
   "id": "da6c2772-b53c-472d-af6a-c72cc94ec61d",
   "metadata": {},
   "source": [
    "# Polymorphism"
   ]
  },
  {
   "cell_type": "markdown",
   "id": "6e5d191f-f2fa-4d54-a160-9aac09695e74",
   "metadata": {},
   "source": [
    "Can be implemented in following ways:\n",
    "- Duck Typing\n",
    "- Operator Overloading\n",
    "- Method Overloading  # not in python\n",
    "- Method Overriding"
   ]
  },
  {
   "cell_type": "markdown",
   "id": "c77508ae-5261-40ef-9bcf-c0f3f5f2c87f",
   "metadata": {},
   "source": [
    "## Duck Typing\n",
    "If there a bird which is:\n",
    "    - walking like a duck\n",
    "    - which is quaking like a duck\n",
    "    - which is swimming like a duck\n",
    "          then it is a duck\n",
    "          \n",
    "Means its behaviour is just like a duck although it not a duck"
   ]
  },
  {
   "cell_type": "markdown",
   "id": "b941eed1-8d05-4fc0-8542-996f60aa60e8",
   "metadata": {},
   "source": [
    "### Key Idea:\n",
    "In duck typing, an object's suitability is determined by the presence of certain methods and properties, rather than the actual type of the object. This allows for more flexible and dynamic code."
   ]
  },
  {
   "cell_type": "code",
   "execution_count": 7,
   "id": "3067597b-9fff-4b14-a0ef-682bce743f70",
   "metadata": {},
   "outputs": [
    {
     "name": "stdout",
     "output_type": "stream",
     "text": [
      "Quack!\n",
      "I'm pretending to be a duck!\n"
     ]
    }
   ],
   "source": [
    "class Duck:\n",
    "    def quack(self):\n",
    "        print(\"Quack!\")\n",
    "\n",
    "class Person:\n",
    "    def quack(self):\n",
    "        print(\"I'm pretending to be a duck!\")\n",
    "\n",
    "def make_it_quack(duck):\n",
    "    duck.quack()\n",
    "\n",
    "# Both objects have a `quack` method, so both will work\n",
    "duck = Duck()\n",
    "person = Person()\n",
    "\n",
    "make_it_quack(duck)   # Output: Quack!\n",
    "make_it_quack(person) # Output: I'm pretending to be a duck!\n"
   ]
  },
  {
   "cell_type": "code",
   "execution_count": 3,
   "id": "73c00987-68e9-4ea4-8531-ae1c6248f423",
   "metadata": {},
   "outputs": [
    {
     "name": "stdout",
     "output_type": "stream",
     "text": [
      "Reading Books\n",
      "Making Notes\n",
      "\n",
      "\n",
      "Reading Books\n",
      "Making Notes\n",
      "Prepare Question Paper\n"
     ]
    }
   ],
   "source": [
    "class Student:\n",
    "    def useLibrary(self):\n",
    "        print(\"Reading Books\")\n",
    "        print(\"Making Notes\")\n",
    "\n",
    "s1 = Student()\n",
    "################################\n",
    "\n",
    "class Teacher:\n",
    "    def useLibrary(self):\n",
    "        print(\"Reading Books\")\n",
    "        print(\"Making Notes\")\n",
    "        print(\"Prepare Question Paper\")\n",
    "\n",
    "t1 = Teacher()\n",
    "#####################################\n",
    "\n",
    "class Library:\n",
    "    def welcome(self, obj):\n",
    "        obj.useLibrary()\n",
    "\n",
    "\n",
    "lib = Library()\n",
    "#####################################\n",
    "\n",
    "\n",
    "\n",
    "lib.welcome(s1)\n",
    "print(\"\\n\")\n",
    "lib.welcome(t1)\n",
    "\n",
    "# no inheritance no overriding, same methods but called from differnt class ducktyping"
   ]
  },
  {
   "cell_type": "code",
   "execution_count": 12,
   "id": "2ca5df29-c387-4283-8eb7-957def1d1a26",
   "metadata": {},
   "outputs": [
    {
     "name": "stdout",
     "output_type": "stream",
     "text": [
      "Compiling\n",
      "Running\n",
      "\n",
      "\n",
      "Grammar Checking\n",
      "Spell checking\n",
      "Compiling\n",
      "Running\n"
     ]
    }
   ],
   "source": [
    "class PyCharm:\n",
    "    def execute(self):\n",
    "        print(\"Compiling\")\n",
    "        print(\"Running\")\n",
    "        \n",
    "ide1 = PyCharm()\n",
    "#################\n",
    "\n",
    "\n",
    "class VsCode:\n",
    "    def execute(self):\n",
    "        print(\"Grammar Checking\")\n",
    "        print(\"Spell checking\")\n",
    "        print(\"Compiling\")\n",
    "        print(\"Running\")\n",
    "        \n",
    "ide2 = VsCode()\n",
    "#############################\n",
    "\n",
    "class Laptop:\n",
    "    def code(self,ide):\n",
    "        ide.execute()\n",
    "\n",
    "lap1 = Laptop()\n",
    "\n",
    "lap1.code(ide1)\n",
    "print(\"\\n\")\n",
    "lap1.code(ide2)\n",
    "\n",
    "# it matters not what class is but it must have a method execute\n",
    "# like if it has a behaviour like a duck than it is a duc"
   ]
  },
  {
   "cell_type": "markdown",
   "id": "b8e12846-ce6e-4915-9d2b-4630c43fc9ef",
   "metadata": {},
   "source": [
    "# Operator Overloading"
   ]
  },
  {
   "cell_type": "code",
   "execution_count": 29,
   "id": "f9c8125e-8d42-4c21-804a-cfcac364aa29",
   "metadata": {},
   "outputs": [
    {
     "name": "stdout",
     "output_type": "stream",
     "text": [
      "<class '__main__.Merainteger'> \n",
      "\n",
      "hello\n",
      "<class 'str'> \n",
      "\n",
      "<__main__.Merainteger object at 0x000001C7F3F82450>\n"
     ]
    }
   ],
   "source": [
    "a = \"hello\" \n",
    "\n",
    "class Merainteger:\n",
    "    pass\n",
    "\n",
    "mera_int1 = Merainteger()\n",
    "\n",
    "print(type(mera_int1),\"\\n\")\n",
    "print(a)\n",
    "print(type(a),\"\\n\")\n",
    "print(mera_int1)\n"
   ]
  },
  {
   "cell_type": "code",
   "execution_count": 35,
   "id": "c041fd9a-664a-4975-9dfb-d0861445a216",
   "metadata": {},
   "outputs": [
    {
     "name": "stdout",
     "output_type": "stream",
     "text": [
      "30\n",
      "\n",
      "\n",
      "30\n"
     ]
    }
   ],
   "source": [
    "a = 10\n",
    "b = 20\n",
    "\n",
    "print(a + b)\n",
    "# when we use a + operator, in backend it calls add method of int class(that sums)\n",
    "# because both the supplied operands are of type(class) integers \\\n",
    "# or we can say that both are objects of int class\n",
    "print(\"\\n\")\n",
    "print(int.__add__(a,b))  # int class add method  # adding 2 objects"
   ]
  },
  {
   "cell_type": "code",
   "execution_count": 19,
   "id": "b82778e9-1820-4cc3-876d-09847742dc38",
   "metadata": {},
   "outputs": [
    {
     "data": {
      "text/plain": [
       "50"
      ]
     },
     "execution_count": 19,
     "metadata": {},
     "output_type": "execute_result"
    }
   ],
   "source": [
    "int.__add__(10,40)"
   ]
  },
  {
   "cell_type": "code",
   "execution_count": 39,
   "id": "8b777ab8-a56e-48e1-bb0e-76e98bf7dee8",
   "metadata": {},
   "outputs": [
    {
     "data": {
      "text/plain": [
       "10"
      ]
     },
     "execution_count": 39,
     "metadata": {},
     "output_type": "execute_result"
    }
   ],
   "source": [
    "int.__ceil__(a)"
   ]
  },
  {
   "attachments": {
    "95ef4e4e-1ae1-4856-b61a-c4f7a6b2738e.png": {
     "image/png": "[encoded data removed]"
    }
   },
   "cell_type": "markdown",
   "id": "541931aa-7d6d-4ccc-8c8b-eb9a6f04946a",
   "metadata": {},
   "source": [
    "![image.png](attachment:95ef4e4e-1ae1-4856-b61a-c4f7a6b2738e.png)"
   ]
  },
  {
   "cell_type": "code",
   "execution_count": 37,
   "id": "42a271a2-d9c4-46a9-9f63-13dded9a27f8",
   "metadata": {},
   "outputs": [
    {
     "name": "stdout",
     "output_type": "stream",
     "text": [
      "Help on class int in module builtins:\n",
      "\n",
      "class int(object)\n",
      " |  int([x]) -> integer\n",
      " |  int(x, base=10) -> integer\n",
      " |\n",
      " |  Convert a number or string to an integer, or return 0 if no arguments\n",
      " |  are given.  If x is a number, return x.__int__().  For floating-point\n",
      " |  numbers, this truncates towards zero.\n",
      " |\n",
      " |  If x is not a number or if base is given, then x must be a string,\n",
      " |  bytes, or bytearray instance representing an integer literal in the\n",
      " |  given base.  The literal can be preceded by '+' or '-' and be surrounded\n",
      " |  by whitespace.  The base defaults to 10.  Valid bases are 0 and 2-36.\n",
      " |  Base 0 means to interpret the base from the string as an integer literal.\n",
      " |  >>> int('0b100', base=0)\n",
      " |  4\n",
      " |\n",
      " |  Built-in subclasses:\n",
      " |      bool\n",
      " |\n",
      " |  Methods defined here:\n",
      " |\n",
      " |  __abs__(self, /)\n",
      " |      abs(self)\n",
      " |\n",
      " |  __add__(self, value, /)\n",
      " |      Return self+value.\n",
      " |\n",
      " |  __and__(self, value, /)\n",
      " |      Return self&value.\n",
      " |\n",
      " |  __bool__(self, /)\n",
      " |      True if self else False\n",
      " |\n",
      " |  __ceil__(...)\n",
      " |      Ceiling of an Integral returns itself.\n",
      " |\n",
      " |  __divmod__(self, value, /)\n",
      " |      Return divmod(self, value).\n",
      " |\n",
      " |  __eq__(self, value, /)\n",
      " |      Return self==value.\n",
      " |\n",
      " |  __float__(self, /)\n",
      " |      float(self)\n",
      " |\n",
      " |  __floor__(...)\n",
      " |      Flooring an Integral returns itself.\n",
      " |\n",
      " |  __floordiv__(self, value, /)\n",
      " |      Return self//value.\n",
      " |\n",
      " |  __format__(self, format_spec, /)\n",
      " |      Convert to a string according to format_spec.\n",
      " |\n",
      " |  __ge__(self, value, /)\n",
      " |      Return self>=value.\n",
      " |\n",
      " |  __getattribute__(self, name, /)\n",
      " |      Return getattr(self, name).\n",
      " |\n",
      " |  __getnewargs__(self, /)\n",
      " |\n",
      " |  __gt__(self, value, /)\n",
      " |      Return self>value.\n",
      " |\n",
      " |  __hash__(self, /)\n",
      " |      Return hash(self).\n",
      " |\n",
      " |  __index__(self, /)\n",
      " |      Return self converted to an integer, if self is suitable for use as an index into a list.\n",
      " |\n",
      " |  __int__(self, /)\n",
      " |      int(self)\n",
      " |\n",
      " |  __invert__(self, /)\n",
      " |      ~self\n",
      " |\n",
      " |  __le__(self, value, /)\n",
      " |      Return self<=value.\n",
      " |\n",
      " |  __lshift__(self, value, /)\n",
      " |      Return self<<value.\n",
      " |\n",
      " |  __lt__(self, value, /)\n",
      " |      Return self<value.\n",
      " |\n",
      " |  __mod__(self, value, /)\n",
      " |      Return self%value.\n",
      " |\n",
      " |  __mul__(self, value, /)\n",
      " |      Return self*value.\n",
      " |\n",
      " |  __ne__(self, value, /)\n",
      " |      Return self!=value.\n",
      " |\n",
      " |  __neg__(self, /)\n",
      " |      -self\n",
      " |\n",
      " |  __or__(self, value, /)\n",
      " |      Return self|value.\n",
      " |\n",
      " |  __pos__(self, /)\n",
      " |      +self\n",
      " |\n",
      " |  __pow__(self, value, mod=None, /)\n",
      " |      Return pow(self, value, mod).\n",
      " |\n",
      " |  __radd__(self, value, /)\n",
      " |      Return value+self.\n",
      " |\n",
      " |  __rand__(self, value, /)\n",
      " |      Return value&self.\n",
      " |\n",
      " |  __rdivmod__(self, value, /)\n",
      " |      Return divmod(value, self).\n",
      " |\n",
      " |  __repr__(self, /)\n",
      " |      Return repr(self).\n",
      " |\n",
      " |  __rfloordiv__(self, value, /)\n",
      " |      Return value//self.\n",
      " |\n",
      " |  __rlshift__(self, value, /)\n",
      " |      Return value<<self.\n",
      " |\n",
      " |  __rmod__(self, value, /)\n",
      " |      Return value%self.\n",
      " |\n",
      " |  __rmul__(self, value, /)\n",
      " |      Return value*self.\n",
      " |\n",
      " |  __ror__(self, value, /)\n",
      " |      Return value|self.\n",
      " |\n",
      " |  __round__(...)\n",
      " |      Rounding an Integral returns itself.\n",
      " |\n",
      " |      Rounding with an ndigits argument also returns an integer.\n",
      " |\n",
      " |  __rpow__(self, value, mod=None, /)\n",
      " |      Return pow(value, self, mod).\n",
      " |\n",
      " |  __rrshift__(self, value, /)\n",
      " |      Return value>>self.\n",
      " |\n",
      " |  __rshift__(self, value, /)\n",
      " |      Return self>>value.\n",
      " |\n",
      " |  __rsub__(self, value, /)\n",
      " |      Return value-self.\n",
      " |\n",
      " |  __rtruediv__(self, value, /)\n",
      " |      Return value/self.\n",
      " |\n",
      " |  __rxor__(self, value, /)\n",
      " |      Return value^self.\n",
      " |\n",
      " |  __sizeof__(self, /)\n",
      " |      Returns size in memory, in bytes.\n",
      " |\n",
      " |  __sub__(self, value, /)\n",
      " |      Return self-value.\n",
      " |\n",
      " |  __truediv__(self, value, /)\n",
      " |      Return self/value.\n",
      " |\n",
      " |  __trunc__(...)\n",
      " |      Truncating an Integral returns itself.\n",
      " |\n",
      " |  __xor__(self, value, /)\n",
      " |      Return self^value.\n",
      " |\n",
      " |  as_integer_ratio(self, /)\n",
      " |      Return a pair of integers, whose ratio is equal to the original int.\n",
      " |\n",
      " |      The ratio is in lowest terms and has a positive denominator.\n",
      " |\n",
      " |      >>> (10).as_integer_ratio()\n",
      " |      (10, 1)\n",
      " |      >>> (-10).as_integer_ratio()\n",
      " |      (-10, 1)\n",
      " |      >>> (0).as_integer_ratio()\n",
      " |      (0, 1)\n",
      " |\n",
      " |  bit_count(self, /)\n",
      " |      Number of ones in the binary representation of the absolute value of self.\n",
      " |\n",
      " |      Also known as the population count.\n",
      " |\n",
      " |      >>> bin(13)\n",
      " |      '0b1101'\n",
      " |      >>> (13).bit_count()\n",
      " |      3\n",
      " |\n",
      " |  bit_length(self, /)\n",
      " |      Number of bits necessary to represent self in binary.\n",
      " |\n",
      " |      >>> bin(37)\n",
      " |      '0b100101'\n",
      " |      >>> (37).bit_length()\n",
      " |      6\n",
      " |\n",
      " |  conjugate(...)\n",
      " |      Returns self, the complex conjugate of any int.\n",
      " |\n",
      " |  is_integer(self, /)\n",
      " |      Returns True. Exists for duck type compatibility with float.is_integer.\n",
      " |\n",
      " |  to_bytes(self, /, length=1, byteorder='big', *, signed=False)\n",
      " |      Return an array of bytes representing an integer.\n",
      " |\n",
      " |      length\n",
      " |        Length of bytes object to use.  An OverflowError is raised if the\n",
      " |        integer is not representable with the given number of bytes.  Default\n",
      " |        is length 1.\n",
      " |      byteorder\n",
      " |        The byte order used to represent the integer.  If byteorder is 'big',\n",
      " |        the most significant byte is at the beginning of the byte array.  If\n",
      " |        byteorder is 'little', the most significant byte is at the end of the\n",
      " |        byte array.  To request the native byte order of the host system, use\n",
      " |        `sys.byteorder' as the byte order value.  Default is to use 'big'.\n",
      " |      signed\n",
      " |        Determines whether two's complement is used to represent the integer.\n",
      " |        If signed is False and a negative integer is given, an OverflowError\n",
      " |        is raised.\n",
      " |\n",
      " |  ----------------------------------------------------------------------\n",
      " |  Class methods defined here:\n",
      " |\n",
      " |  from_bytes(bytes, byteorder='big', *, signed=False)\n",
      " |      Return the integer represented by the given array of bytes.\n",
      " |\n",
      " |      bytes\n",
      " |        Holds the array of bytes to convert.  The argument must either\n",
      " |        support the buffer protocol or be an iterable object producing bytes.\n",
      " |        Bytes and bytearray are examples of built-in objects that support the\n",
      " |        buffer protocol.\n",
      " |      byteorder\n",
      " |        The byte order used to represent the integer.  If byteorder is 'big',\n",
      " |        the most significant byte is at the beginning of the byte array.  If\n",
      " |        byteorder is 'little', the most significant byte is at the end of the\n",
      " |        byte array.  To request the native byte order of the host system, use\n",
      " |        `sys.byteorder' as the byte order value.  Default is to use 'big'.\n",
      " |      signed\n",
      " |        Indicates whether two's complement is used to represent the integer.\n",
      " |\n",
      " |  ----------------------------------------------------------------------\n",
      " |  Static methods defined here:\n",
      " |\n",
      " |  __new__(*args, **kwargs)\n",
      " |      Create and return a new object.  See help(type) for accurate signature.\n",
      " |\n",
      " |  ----------------------------------------------------------------------\n",
      " |  Data descriptors defined here:\n",
      " |\n",
      " |  denominator\n",
      " |      the denominator of a rational number in lowest terms\n",
      " |\n",
      " |  imag\n",
      " |      the imaginary part of a complex number\n",
      " |\n",
      " |  numerator\n",
      " |      the numerator of a rational number in lowest terms\n",
      " |\n",
      " |  real\n",
      " |      the real part of a complex number\n",
      "\n"
     ]
    }
   ],
   "source": [
    "help(int)  # shows int class"
   ]
  },
  {
   "cell_type": "code",
   "execution_count": 23,
   "id": "bde3bd2d-7309-4a06-93bd-f67bbfd8a0a1",
   "metadata": {},
   "outputs": [
    {
     "name": "stdout",
     "output_type": "stream",
     "text": [
      "1020 \n",
      "1020 \n"
     ]
    }
   ],
   "source": [
    "a = \"10\"\n",
    "b = \"20 \"\n",
    "\n",
    "print(a + b)\n",
    "# when we use a + operator, in backend it calls add method of str class(that concatenates)\n",
    "# because both the supplied operands are of type(class) string\n",
    "# or we can say that both are objects of string class\n",
    "print(str.__add__(a,b))"
   ]
  },
  {
   "cell_type": "code",
   "execution_count": 42,
   "id": "3d76961b-a059-49e0-9a00-c7a3c5b7328e",
   "metadata": {},
   "outputs": [
    {
     "name": "stdout",
     "output_type": "stream",
     "text": [
      "Help on class str in module builtins:\n",
      "\n",
      "class str(object)\n",
      " |  str(object='') -> str\n",
      " |  str(bytes_or_buffer[, encoding[, errors]]) -> str\n",
      " |\n",
      " |  Create a new string object from the given object. If encoding or\n",
      " |  errors is specified, then the object must expose a data buffer\n",
      " |  that will be decoded using the given encoding and error handler.\n",
      " |  Otherwise, returns the result of object.__str__() (if defined)\n",
      " |  or repr(object).\n",
      " |  encoding defaults to sys.getdefaultencoding().\n",
      " |  errors defaults to 'strict'.\n",
      " |\n",
      " |  Methods defined here:\n",
      " |\n",
      " |  __add__(self, value, /)\n",
      " |      Return self+value.\n",
      " |\n",
      " |  __contains__(self, key, /)\n",
      " |      Return bool(key in self).\n",
      " |\n",
      " |  __eq__(self, value, /)\n",
      " |      Return self==value.\n",
      " |\n",
      " |  __format__(self, format_spec, /)\n",
      " |      Return a formatted version of the string as described by format_spec.\n",
      " |\n",
      " |  __ge__(self, value, /)\n",
      " |      Return self>=value.\n",
      " |\n",
      " |  __getitem__(self, key, /)\n",
      " |      Return self[key].\n",
      " |\n",
      " |  __getnewargs__(...)\n",
      " |\n",
      " |  __gt__(self, value, /)\n",
      " |      Return self>value.\n",
      " |\n",
      " |  __hash__(self, /)\n",
      " |      Return hash(self).\n",
      " |\n",
      " |  __iter__(self, /)\n",
      " |      Implement iter(self).\n",
      " |\n",
      " |  __le__(self, value, /)\n",
      " |      Return self<=value.\n",
      " |\n",
      " |  __len__(self, /)\n",
      " |      Return len(self).\n",
      " |\n",
      " |  __lt__(self, value, /)\n",
      " |      Return self<value.\n",
      " |\n",
      " |  __mod__(self, value, /)\n",
      " |      Return self%value.\n",
      " |\n",
      " |  __mul__(self, value, /)\n",
      " |      Return self*value.\n",
      " |\n",
      " |  __ne__(self, value, /)\n",
      " |      Return self!=value.\n",
      " |\n",
      " |  __repr__(self, /)\n",
      " |      Return repr(self).\n",
      " |\n",
      " |  __rmod__(self, value, /)\n",
      " |      Return value%self.\n",
      " |\n",
      " |  __rmul__(self, value, /)\n",
      " |      Return value*self.\n",
      " |\n",
      " |  __sizeof__(self, /)\n",
      " |      Return the size of the string in memory, in bytes.\n",
      " |\n",
      " |  __str__(self, /)\n",
      " |      Return str(self).\n",
      " |\n",
      " |  capitalize(self, /)\n",
      " |      Return a capitalized version of the string.\n",
      " |\n",
      " |      More specifically, make the first character have upper case and the rest lower\n",
      " |      case.\n",
      " |\n",
      " |  casefold(self, /)\n",
      " |      Return a version of the string suitable for caseless comparisons.\n",
      " |\n",
      " |  center(self, width, fillchar=' ', /)\n",
      " |      Return a centered string of length width.\n",
      " |\n",
      " |      Padding is done using the specified fill character (default is a space).\n",
      " |\n",
      " |  count(...)\n",
      " |      S.count(sub[, start[, end]]) -> int\n",
      " |\n",
      " |      Return the number of non-overlapping occurrences of substring sub in\n",
      " |      string S[start:end].  Optional arguments start and end are\n",
      " |      interpreted as in slice notation.\n",
      " |\n",
      " |  encode(self, /, encoding='utf-8', errors='strict')\n",
      " |      Encode the string using the codec registered for encoding.\n",
      " |\n",
      " |      encoding\n",
      " |        The encoding in which to encode the string.\n",
      " |      errors\n",
      " |        The error handling scheme to use for encoding errors.\n",
      " |        The default is 'strict' meaning that encoding errors raise a\n",
      " |        UnicodeEncodeError.  Other possible values are 'ignore', 'replace' and\n",
      " |        'xmlcharrefreplace' as well as any other name registered with\n",
      " |        codecs.register_error that can handle UnicodeEncodeErrors.\n",
      " |\n",
      " |  endswith(...)\n",
      " |      S.endswith(suffix[, start[, end]]) -> bool\n",
      " |\n",
      " |      Return True if S ends with the specified suffix, False otherwise.\n",
      " |      With optional start, test S beginning at that position.\n",
      " |      With optional end, stop comparing S at that position.\n",
      " |      suffix can also be a tuple of strings to try.\n",
      " |\n",
      " |  expandtabs(self, /, tabsize=8)\n",
      " |      Return a copy where all tab characters are expanded using spaces.\n",
      " |\n",
      " |      If tabsize is not given, a tab size of 8 characters is assumed.\n",
      " |\n",
      " |  find(...)\n",
      " |      S.find(sub[, start[, end]]) -> int\n",
      " |\n",
      " |      Return the lowest index in S where substring sub is found,\n",
      " |      such that sub is contained within S[start:end].  Optional\n",
      " |      arguments start and end are interpreted as in slice notation.\n",
      " |\n",
      " |      Return -1 on failure.\n",
      " |\n",
      " |  format(...)\n",
      " |      S.format(*args, **kwargs) -> str\n",
      " |\n",
      " |      Return a formatted version of S, using substitutions from args and kwargs.\n",
      " |      The substitutions are identified by braces ('{' and '}').\n",
      " |\n",
      " |  format_map(...)\n",
      " |      S.format_map(mapping) -> str\n",
      " |\n",
      " |      Return a formatted version of S, using substitutions from mapping.\n",
      " |      The substitutions are identified by braces ('{' and '}').\n",
      " |\n",
      " |  index(...)\n",
      " |      S.index(sub[, start[, end]]) -> int\n",
      " |\n",
      " |      Return the lowest index in S where substring sub is found,\n",
      " |      such that sub is contained within S[start:end].  Optional\n",
      " |      arguments start and end are interpreted as in slice notation.\n",
      " |\n",
      " |      Raises ValueError when the substring is not found.\n",
      " |\n",
      " |  isalnum(self, /)\n",
      " |      Return True if the string is an alpha-numeric string, False otherwise.\n",
      " |\n",
      " |      A string is alpha-numeric if all characters in the string are alpha-numeric and\n",
      " |      there is at least one character in the string.\n",
      " |\n",
      " |  isalpha(self, /)\n",
      " |      Return True if the string is an alphabetic string, False otherwise.\n",
      " |\n",
      " |      A string is alphabetic if all characters in the string are alphabetic and there\n",
      " |      is at least one character in the string.\n",
      " |\n",
      " |  isascii(self, /)\n",
      " |      Return True if all characters in the string are ASCII, False otherwise.\n",
      " |\n",
      " |      ASCII characters have code points in the range U+0000-U+007F.\n",
      " |      Empty string is ASCII too.\n",
      " |\n",
      " |  isdecimal(self, /)\n",
      " |      Return True if the string is a decimal string, False otherwise.\n",
      " |\n",
      " |      A string is a decimal string if all characters in the string are decimal and\n",
      " |      there is at least one character in the string.\n",
      " |\n",
      " |  isdigit(self, /)\n",
      " |      Return True if the string is a digit string, False otherwise.\n",
      " |\n",
      " |      A string is a digit string if all characters in the string are digits and there\n",
      " |      is at least one character in the string.\n",
      " |\n",
      " |  isidentifier(self, /)\n",
      " |      Return True if the string is a valid Python identifier, False otherwise.\n",
      " |\n",
      " |      Call keyword.iskeyword(s) to test whether string s is a reserved identifier,\n",
      " |      such as \"def\" or \"class\".\n",
      " |\n",
      " |  islower(self, /)\n",
      " |      Return True if the string is a lowercase string, False otherwise.\n",
      " |\n",
      " |      A string is lowercase if all cased characters in the string are lowercase and\n",
      " |      there is at least one cased character in the string.\n",
      " |\n",
      " |  isnumeric(self, /)\n",
      " |      Return True if the string is a numeric string, False otherwise.\n",
      " |\n",
      " |      A string is numeric if all characters in the string are numeric and there is at\n",
      " |      least one character in the string.\n",
      " |\n",
      " |  isprintable(self, /)\n",
      " |      Return True if the string is printable, False otherwise.\n",
      " |\n",
      " |      A string is printable if all of its characters are considered printable in\n",
      " |      repr() or if it is empty.\n",
      " |\n",
      " |  isspace(self, /)\n",
      " |      Return True if the string is a whitespace string, False otherwise.\n",
      " |\n",
      " |      A string is whitespace if all characters in the string are whitespace and there\n",
      " |      is at least one character in the string.\n",
      " |\n",
      " |  istitle(self, /)\n",
      " |      Return True if the string is a title-cased string, False otherwise.\n",
      " |\n",
      " |      In a title-cased string, upper- and title-case characters may only\n",
      " |      follow uncased characters and lowercase characters only cased ones.\n",
      " |\n",
      " |  isupper(self, /)\n",
      " |      Return True if the string is an uppercase string, False otherwise.\n",
      " |\n",
      " |      A string is uppercase if all cased characters in the string are uppercase and\n",
      " |      there is at least one cased character in the string.\n",
      " |\n",
      " |  join(self, iterable, /)\n",
      " |      Concatenate any number of strings.\n",
      " |\n",
      " |      The string whose method is called is inserted in between each given string.\n",
      " |      The result is returned as a new string.\n",
      " |\n",
      " |      Example: '.'.join(['ab', 'pq', 'rs']) -> 'ab.pq.rs'\n",
      " |\n",
      " |  ljust(self, width, fillchar=' ', /)\n",
      " |      Return a left-justified string of length width.\n",
      " |\n",
      " |      Padding is done using the specified fill character (default is a space).\n",
      " |\n",
      " |  lower(self, /)\n",
      " |      Return a copy of the string converted to lowercase.\n",
      " |\n",
      " |  lstrip(self, chars=None, /)\n",
      " |      Return a copy of the string with leading whitespace removed.\n",
      " |\n",
      " |      If chars is given and not None, remove characters in chars instead.\n",
      " |\n",
      " |  partition(self, sep, /)\n",
      " |      Partition the string into three parts using the given separator.\n",
      " |\n",
      " |      This will search for the separator in the string.  If the separator is found,\n",
      " |      returns a 3-tuple containing the part before the separator, the separator\n",
      " |      itself, and the part after it.\n",
      " |\n",
      " |      If the separator is not found, returns a 3-tuple containing the original string\n",
      " |      and two empty strings.\n",
      " |\n",
      " |  removeprefix(self, prefix, /)\n",
      " |      Return a str with the given prefix string removed if present.\n",
      " |\n",
      " |      If the string starts with the prefix string, return string[len(prefix):].\n",
      " |      Otherwise, return a copy of the original string.\n",
      " |\n",
      " |  removesuffix(self, suffix, /)\n",
      " |      Return a str with the given suffix string removed if present.\n",
      " |\n",
      " |      If the string ends with the suffix string and that suffix is not empty,\n",
      " |      return string[:-len(suffix)]. Otherwise, return a copy of the original\n",
      " |      string.\n",
      " |\n",
      " |  replace(self, old, new, count=-1, /)\n",
      " |      Return a copy with all occurrences of substring old replaced by new.\n",
      " |\n",
      " |        count\n",
      " |          Maximum number of occurrences to replace.\n",
      " |          -1 (the default value) means replace all occurrences.\n",
      " |\n",
      " |      If the optional argument count is given, only the first count occurrences are\n",
      " |      replaced.\n",
      " |\n",
      " |  rfind(...)\n",
      " |      S.rfind(sub[, start[, end]]) -> int\n",
      " |\n",
      " |      Return the highest index in S where substring sub is found,\n",
      " |      such that sub is contained within S[start:end].  Optional\n",
      " |      arguments start and end are interpreted as in slice notation.\n",
      " |\n",
      " |      Return -1 on failure.\n",
      " |\n",
      " |  rindex(...)\n",
      " |      S.rindex(sub[, start[, end]]) -> int\n",
      " |\n",
      " |      Return the highest index in S where substring sub is found,\n",
      " |      such that sub is contained within S[start:end].  Optional\n",
      " |      arguments start and end are interpreted as in slice notation.\n",
      " |\n",
      " |      Raises ValueError when the substring is not found.\n",
      " |\n",
      " |  rjust(self, width, fillchar=' ', /)\n",
      " |      Return a right-justified string of length width.\n",
      " |\n",
      " |      Padding is done using the specified fill character (default is a space).\n",
      " |\n",
      " |  rpartition(self, sep, /)\n",
      " |      Partition the string into three parts using the given separator.\n",
      " |\n",
      " |      This will search for the separator in the string, starting at the end. If\n",
      " |      the separator is found, returns a 3-tuple containing the part before the\n",
      " |      separator, the separator itself, and the part after it.\n",
      " |\n",
      " |      If the separator is not found, returns a 3-tuple containing two empty strings\n",
      " |      and the original string.\n",
      " |\n",
      " |  rsplit(self, /, sep=None, maxsplit=-1)\n",
      " |      Return a list of the substrings in the string, using sep as the separator string.\n",
      " |\n",
      " |        sep\n",
      " |          The separator used to split the string.\n",
      " |\n",
      " |          When set to None (the default value), will split on any whitespace\n",
      " |          character (including \\n \\r \\t \\f and spaces) and will discard\n",
      " |          empty strings from the result.\n",
      " |        maxsplit\n",
      " |          Maximum number of splits.\n",
      " |          -1 (the default value) means no limit.\n",
      " |\n",
      " |      Splitting starts at the end of the string and works to the front.\n",
      " |\n",
      " |  rstrip(self, chars=None, /)\n",
      " |      Return a copy of the string with trailing whitespace removed.\n",
      " |\n",
      " |      If chars is given and not None, remove characters in chars instead.\n",
      " |\n",
      " |  split(self, /, sep=None, maxsplit=-1)\n",
      " |      Return a list of the substrings in the string, using sep as the separator string.\n",
      " |\n",
      " |        sep\n",
      " |          The separator used to split the string.\n",
      " |\n",
      " |          When set to None (the default value), will split on any whitespace\n",
      " |          character (including \\n \\r \\t \\f and spaces) and will discard\n",
      " |          empty strings from the result.\n",
      " |        maxsplit\n",
      " |          Maximum number of splits.\n",
      " |          -1 (the default value) means no limit.\n",
      " |\n",
      " |      Splitting starts at the front of the string and works to the end.\n",
      " |\n",
      " |      Note, str.split() is mainly useful for data that has been intentionally\n",
      " |      delimited.  With natural text that includes punctuation, consider using\n",
      " |      the regular expression module.\n",
      " |\n",
      " |  splitlines(self, /, keepends=False)\n",
      " |      Return a list of the lines in the string, breaking at line boundaries.\n",
      " |\n",
      " |      Line breaks are not included in the resulting list unless keepends is given and\n",
      " |      true.\n",
      " |\n",
      " |  startswith(...)\n",
      " |      S.startswith(prefix[, start[, end]]) -> bool\n",
      " |\n",
      " |      Return True if S starts with the specified prefix, False otherwise.\n",
      " |      With optional start, test S beginning at that position.\n",
      " |      With optional end, stop comparing S at that position.\n",
      " |      prefix can also be a tuple of strings to try.\n",
      " |\n",
      " |  strip(self, chars=None, /)\n",
      " |      Return a copy of the string with leading and trailing whitespace removed.\n",
      " |\n",
      " |      If chars is given and not None, remove characters in chars instead.\n",
      " |\n",
      " |  swapcase(self, /)\n",
      " |      Convert uppercase characters to lowercase and lowercase characters to uppercase.\n",
      " |\n",
      " |  title(self, /)\n",
      " |      Return a version of the string where each word is titlecased.\n",
      " |\n",
      " |      More specifically, words start with uppercased characters and all remaining\n",
      " |      cased characters have lower case.\n",
      " |\n",
      " |  translate(self, table, /)\n",
      " |      Replace each character in the string using the given translation table.\n",
      " |\n",
      " |        table\n",
      " |          Translation table, which must be a mapping of Unicode ordinals to\n",
      " |          Unicode ordinals, strings, or None.\n",
      " |\n",
      " |      The table must implement lookup/indexing via __getitem__, for instance a\n",
      " |      dictionary or list.  If this operation raises LookupError, the character is\n",
      " |      left untouched.  Characters mapped to None are deleted.\n",
      " |\n",
      " |  upper(self, /)\n",
      " |      Return a copy of the string converted to uppercase.\n",
      " |\n",
      " |  zfill(self, width, /)\n",
      " |      Pad a numeric string with zeros on the left, to fill a field of the given width.\n",
      " |\n",
      " |      The string is never truncated.\n",
      " |\n",
      " |  ----------------------------------------------------------------------\n",
      " |  Static methods defined here:\n",
      " |\n",
      " |  __new__(*args, **kwargs)\n",
      " |      Create and return a new object.  See help(type) for accurate signature.\n",
      " |\n",
      " |  maketrans(...)\n",
      " |      Return a translation table usable for str.translate().\n",
      " |\n",
      " |      If there is only one argument, it must be a dictionary mapping Unicode\n",
      " |      ordinals (integers) or characters to Unicode ordinals, strings or None.\n",
      " |      Character keys will be then converted to ordinals.\n",
      " |      If there are two arguments, they must be strings of equal length, and\n",
      " |      in the resulting dictionary, each character in x will be mapped to the\n",
      " |      character at the same position in y. If there is a third argument, it\n",
      " |      must be a string, whose characters will be mapped to None in the result.\n",
      "\n"
     ]
    }
   ],
   "source": [
    "help(str)"
   ]
  },
  {
   "cell_type": "markdown",
   "id": "3cc17981-d2c1-4027-831f-4c1cbbb3de6a",
   "metadata": {},
   "source": [
    "No, **double underscore methods** (like `__add__`, `__str__`, etc.) are **not private** in Python. They are **special or magic methods** that are publicly accessible but have a specific role in Python's internal mechanics. They are designed to be invoked indirectly by built-in operations or functions.\n",
    "\n",
    "For example:\n",
    "- `obj.__len__()` can be called directly, but it's usually invoked through `len(obj)`.\n",
    "- `obj.__add__(10)` can be called directly, but it is invoked implicitly with `obj + 10`.\n",
    "\n",
    "### Difference Between \"Double Underscore\" and Private Methods:\n",
    "1. **Special (Magic) Methods**:\n",
    "   - Double underscores before and after (`__method__`).\n",
    "   - Publicly accessible and designed for Python's internal operations.\n",
    "   - Not intended to be private, but rather part of Python's object model.\n",
    "\n",
    "2. **Private Methods**:\n",
    "   - Use **single leading underscore** (e.g., `_method`) or **double leading underscores without a trailing one** (e.g., `__method`).\n",
    "   - Indicate internal use within a class and discourage external access.\n",
    "   - Example of private methods:\n",
    "     ```python\n",
    "     class MyClass:\n",
    "         def _private_method(self):\n",
    "             print(\"This is a private method.\")\n",
    "\n",
    "         def __very_private_method(self):\n",
    "             print(\"This is name-mangled to discourage access.\")\n",
    "\n",
    "     obj = MyClass()\n",
    "     obj._private_method()  # Works but not recommended.\n",
    "     obj.__very_private_method()  # Throws an AttributeError.\n",
    "     ```\n",
    "\n",
    "     To access `__very_private_method`, you would need to use name-mangling like this:\n",
    "     ```python\n",
    "     obj._MyClass__very_private_method()\n",
    "     ```\n",
    "\n",
    "### Why Aren't Magic Methods Private?\n",
    "Magic methods are not private because they are an essential part of Python's design, allowing developers to override or extend built-in behaviors (e.g., custom addition, comparisons, string representations, etc.). Their double underscore format simply signals that they are special methods that should not typically be called directly."
   ]
  },
  {
   "cell_type": "code",
   "execution_count": 91,
   "id": "9ee3e988-f8d2-42d3-8742-ac3ef68a4666",
   "metadata": {},
   "outputs": [
    {
     "name": "stdout",
     "output_type": "stream",
     "text": [
      "This is a private method.\n",
      "This is name-mangled to discourage access.\n",
      "10\n"
     ]
    },
    {
     "ename": "AttributeError",
     "evalue": "'MyClass' object has no attribute '__very_private_method'",
     "output_type": "error",
     "traceback": [
      "\u001b[1;31m---------------------------------------------------------------------------\u001b[0m",
      "\u001b[1;31mAttributeError\u001b[0m                            Traceback (most recent call last)",
      "Cell \u001b[1;32mIn[91], line 24\u001b[0m\n\u001b[0;32m     21\u001b[0m \u001b[38;5;28mprint\u001b[39m(obj\u001b[38;5;241m.\u001b[39m_MyClass__num)  \u001b[38;5;66;03m# Output: 10\u001b[39;00m\n\u001b[0;32m     23\u001b[0m \u001b[38;5;66;03m# This raises an AttributeError because __very_private_method is name-mangled.\u001b[39;00m\n\u001b[1;32m---> 24\u001b[0m obj\u001b[38;5;241m.\u001b[39m__very_private_method()  \u001b[38;5;66;03m# AttributeError\u001b[39;00m\n\u001b[0;32m     26\u001b[0m \u001b[38;5;66;03m# Raises AttributeError because __num is name-mangled.\u001b[39;00m\n\u001b[0;32m     27\u001b[0m \u001b[38;5;28mprint\u001b[39m(obj\u001b[38;5;241m.\u001b[39m__num)\n",
      "\u001b[1;31mAttributeError\u001b[0m: 'MyClass' object has no attribute '__very_private_method'"
     ]
    }
   ],
   "source": [
    "class MyClass:\n",
    "    def __init__(self, num):\n",
    "        self.__num = num  # This is name-mangled to _MyClass__num internally\n",
    "        \n",
    "    def _private_method(self):\n",
    "        print(\"This is a private method.\")  # Single underscore means \"for internal use\"\n",
    "\n",
    "    def __very_private_method(self):\n",
    "        print(\"This is name-mangled to discourage access.\")  # Name mangled to _MyClass__very_private_method\n",
    "\n",
    "obj = MyClass(10)\n",
    "\n",
    "# This works because a single underscore is just a convention and doesn't enforce privacy.\n",
    "obj._private_method()\n",
    "\n",
    "# Name-mangled access to __very_private_method works.\n",
    "obj._MyClass__very_private_method()  # Output: \"This is name-mangled to discourage access.\"\n",
    "\n",
    "\n",
    "# Name-mangled access to __num works.\n",
    "print(obj._MyClass__num)  # Output: 10\n",
    "\n",
    "# This raises an AttributeError because __very_private_method is name-mangled.\n",
    "obj.__very_private_method()  # AttributeError\n",
    "\n",
    "# Raises AttributeError because __num is name-mangled.\n",
    "print(obj.__num)  # AttributeError: 'MyClass' object has no attribute '__num'\n"
   ]
  },
  {
   "cell_type": "code",
   "execution_count": 97,
   "id": "ee701521-78ff-4bd8-9c4e-514b28e69d97",
   "metadata": {},
   "outputs": [],
   "source": [
    "class Student:\n",
    "    def __init__(self, m1,m2):\n",
    "        self.m1 = m1\n",
    "        self.m2 = m2\n",
    "s1 = Student(80,90)\n",
    "s2 = Student(70,90)"
   ]
  },
  {
   "cell_type": "code",
   "execution_count": 99,
   "id": "f5e0ba0f-5d37-4788-a8d6-97d23929f466",
   "metadata": {},
   "outputs": [
    {
     "ename": "TypeError",
     "evalue": "unsupported operand type(s) for +: 'Student' and 'Student'",
     "output_type": "error",
     "traceback": [
      "\u001b[1;31m---------------------------------------------------------------------------\u001b[0m",
      "\u001b[1;31mTypeError\u001b[0m                                 Traceback (most recent call last)",
      "Cell \u001b[1;32mIn[99], line 2\u001b[0m\n\u001b[0;32m      1\u001b[0m \u001b[38;5;66;03m# Can we add objects of Student class ?????\u001b[39;00m\n\u001b[1;32m----> 2\u001b[0m s1 \u001b[38;5;241m+\u001b[39m s2\n",
      "\u001b[1;31mTypeError\u001b[0m: unsupported operand type(s) for +: 'Student' and 'Student'"
     ]
    }
   ],
   "source": [
    "# Can we add objects of Student class ?????\n",
    "s1 + s2  \n",
    "\n",
    "# can't add as the class doesn't have add function"
   ]
  },
  {
   "cell_type": "raw",
   "id": "668f5eff-5299-4121-ada5-89a77c8dceea",
   "metadata": {},
   "source": [
    "# Since we have not defined any add function in student class that can add s1 and s2\n",
    "# We will over load add method in our student class also"
   ]
  },
  {
   "cell_type": "code",
   "execution_count": 159,
   "id": "c11c16d6-e526-419a-b658-767773fd3e53",
   "metadata": {},
   "outputs": [],
   "source": [
    "class Student:\n",
    "    def __init__(self, m1,m2):\n",
    "        self.m1 = m1\n",
    "        self.m2 = m2\n",
    "\n",
    "    def __add__(self,other):\n",
    "        m1 = self.m1 + other.m1 # 2 differnt objects\n",
    "        m2 = self.m2 + other.m2\n",
    "\n",
    "        return Student(m1,m2)  \n",
    "        # return object and not number like int+int returns an integer. \n",
    "\n",
    "\n",
    "    def __gt__(self,other):\n",
    "        sum_s1 = other.m1 + other.m2\n",
    "        sum_s2 = self.m1 + self.m2\n",
    "        if sum_s1 > sum_s2:return True\n",
    "        else:return False\n",
    "\n",
    "\n",
    "s1 = Student(80,90)\n",
    "s2 = Student(70,70)"
   ]
  },
  {
   "cell_type": "code",
   "execution_count": 161,
   "id": "9cf07761-2119-45b8-8175-03d16eef4779",
   "metadata": {},
   "outputs": [],
   "source": [
    "s3 = s1 + s2  "
   ]
  },
  {
   "cell_type": "code",
   "execution_count": 163,
   "id": "8472d9c6-b3bb-4d55-b5a1-019b8a3d1607",
   "metadata": {},
   "outputs": [
    {
     "name": "stdout",
     "output_type": "stream",
     "text": [
      "<__main__.Student object at 0x000001C7F6B95A00>\n"
     ]
    }
   ],
   "source": [
    "print(s3)\n",
    "# it will print the address of the object\n",
    "# if we want to print the value\n",
    "# we need to override a function __str__  \n",
    "# __str__(self):\n",
    "#     return(self)   returns values from objects "
   ]
  },
  {
   "cell_type": "code",
   "execution_count": 165,
   "id": "01f6862d-c09b-4a5f-adf9-13518670a362",
   "metadata": {},
   "outputs": [
    {
     "data": {
      "text/plain": [
       "(150, 160)"
      ]
     },
     "execution_count": 165,
     "metadata": {},
     "output_type": "execute_result"
    }
   ],
   "source": [
    "s3.m1,s3.m2"
   ]
  },
  {
   "cell_type": "code",
   "execution_count": 166,
   "id": "450cc622-79b8-4519-a69a-6b3423c90f19",
   "metadata": {},
   "outputs": [
    {
     "name": "stdout",
     "output_type": "stream",
     "text": [
      "100\n"
     ]
    }
   ],
   "source": [
    "a=100\n",
    "print(a)\n",
    "# should also give me object address but it isn't due __str__function in int class"
   ]
  },
  {
   "cell_type": "code",
   "execution_count": 168,
   "id": "6142ad0e-4dfd-47a4-9d94-17558b9b674c",
   "metadata": {},
   "outputs": [],
   "source": [
    "class Student:\n",
    "    def __init__(self, m1,m2):\n",
    "        self.m1 = m1\n",
    "        self.m2 = m2\n",
    "\n",
    "    def __add__(self,other):\n",
    "        m1 = self.m1 + other.m1\n",
    "        m2 = self.m2 + other.m2\n",
    "        \n",
    "        newObj = Student(m1,m2)\n",
    "        \n",
    "        return newObj\n",
    "\n",
    "    def __str__(self):\n",
    "        return f\" Hello I am a student: {self.m1} {self.m2}\"\n",
    "\n",
    "    def __gt__(self,other):\n",
    "        sum_s1 = other.m1 + other.m2\n",
    "        sum_s2 = self.m1 + self.m2\n",
    "        \n",
    "        if sum_s1 > sum_s2:\n",
    "            return True\n",
    "        else :\n",
    "            return False\n",
    "\n",
    "\n",
    "\n",
    "s1 = Student(80,90)\n",
    "s2 = Student(70,60)"
   ]
  },
  {
   "cell_type": "code",
   "execution_count": 170,
   "id": "26d3c12d-29e5-4973-a00b-e68764c836ec",
   "metadata": {},
   "outputs": [],
   "source": [
    "s4 = s1 + s2 # overwritten + operator by __add__ function"
   ]
  },
  {
   "cell_type": "code",
   "execution_count": 173,
   "id": "ed92b867-b1ce-41ad-a66f-48b033a1f25f",
   "metadata": {},
   "outputs": [
    {
     "name": "stdout",
     "output_type": "stream",
     "text": [
      " Hello I am a student: 150 150\n",
      " Hello I am a student: 80 90\n",
      " Hello I am a student: 70 60\n"
     ]
    }
   ],
   "source": [
    "print(s4)\n",
    "print(s1)\n",
    "print(s2)"
   ]
  },
  {
   "cell_type": "raw",
   "id": "fa51352f-ec7b-4a12-a912-5676c04435fe",
   "metadata": {},
   "source": [
    "# __str__ Method:\n",
    "\n",
    "If an object defines a __str__ method, print() will use it to convert the object into a human-readable string."
   ]
  },
  {
   "cell_type": "code",
   "execution_count": 175,
   "id": "1be224ad-b377-410e-983e-410d0c224104",
   "metadata": {},
   "outputs": [
    {
     "data": {
      "text/plain": [
       "False"
      ]
     },
     "execution_count": 175,
     "metadata": {},
     "output_type": "execute_result"
    }
   ],
   "source": [
    "s1>s2"
   ]
  },
  {
   "cell_type": "code",
   "execution_count": 177,
   "id": "501839d0-8fa0-43f8-9b9f-43e6dd72f32c",
   "metadata": {},
   "outputs": [],
   "source": [
    "class Student:\n",
    "    def __init__(self, m):\n",
    "        self.m = m\n",
    "\n",
    "    def __add__(self,other):\n",
    "        new_m = self.m + other.m\n",
    "        #130       60      70\n",
    "\n",
    "        newObj = Student(new_m)#130\n",
    "        return newObj\n",
    "\n",
    "    def __str__(self):\n",
    "        return f\"{self.m}\"\n",
    "\n",
    "\n",
    "    def __gt__(self,other):   # overloaded __gt__ function # can be find using help(str) / help(int)\n",
    "        other = other.m\n",
    "        self = self.m\n",
    "        \n",
    "        if self > other:\n",
    "            return True\n",
    "        else:\n",
    "            return False\n",
    "\n",
    "\n",
    "s1 = Student(60)\n",
    "s2 = Student(70)"
   ]
  },
  {
   "cell_type": "code",
   "execution_count": 179,
   "id": "8a135b08-c778-4435-9598-b1ea3f9dc5a9",
   "metadata": {},
   "outputs": [],
   "source": [
    "s3 = s1+s2"
   ]
  },
  {
   "cell_type": "code",
   "execution_count": 181,
   "id": "b6ae6901-035d-4e5c-9d26-2a0693d8e91f",
   "metadata": {},
   "outputs": [
    {
     "name": "stdout",
     "output_type": "stream",
     "text": [
      "130\n"
     ]
    }
   ],
   "source": [
    "print(s3)"
   ]
  },
  {
   "cell_type": "code",
   "execution_count": 183,
   "id": "0c9de557-874b-44b3-a817-39a51575db5d",
   "metadata": {},
   "outputs": [
    {
     "data": {
      "text/plain": [
       "False"
      ]
     },
     "execution_count": 183,
     "metadata": {},
     "output_type": "execute_result"
    }
   ],
   "source": [
    "s1 > s2"
   ]
  },
  {
   "cell_type": "code",
   "execution_count": 185,
   "id": "aa17e53e-44d1-4472-b219-74fb74bef48f",
   "metadata": {},
   "outputs": [
    {
     "data": {
      "text/plain": [
       "True"
      ]
     },
     "execution_count": 185,
     "metadata": {},
     "output_type": "execute_result"
    }
   ],
   "source": [
    "s2 > s1"
   ]
  },
  {
   "cell_type": "code",
   "execution_count": 189,
   "id": "9a4819f7-000b-4061-b87e-a39854ac4513",
   "metadata": {},
   "outputs": [
    {
     "name": "stdout",
     "output_type": "stream",
     "text": [
      "lets add 4 to 6\n",
      "lets * 6 to 4\n",
      "10\n",
      "24\n"
     ]
    },
    {
     "data": {
      "text/plain": [
       "'\\nfirst of all n1 and n2 has 4 and 6 recorded as self.num\\n\\non n1+n2, add dunder called\\n__add__(self,seelf)\\n__add__(n1,n2)\\n\\nsum = self.num+seelf.num \\n'"
      ]
     },
     "execution_count": 189,
     "metadata": {},
     "output_type": "execute_result"
    }
   ],
   "source": [
    "'''Operators'''\n",
    "\n",
    "#dunder methods are methods that allow instances of a class to interact with the built-in functions \n",
    "# and operators of the language.\n",
    "\n",
    "class Number:\n",
    "    def __init__(self,num): # num = 4\n",
    "        self.num=num\n",
    "        \n",
    "    '''these aren't functions'''\n",
    "    # add method (set method)\n",
    "    def __add__(self,seelf):  # Number.__add__(4,6)  (n1.num,n2.num)\n",
    "        print(f\"lets add {self.num} to {seelf.num}\") # n1.num, n2.num\n",
    "        return self.num+seelf.num\n",
    "    \n",
    "    # mul method (set method)\n",
    "    def __mul__(self,num2):  # Number.__mul__(4,6)\n",
    "        print(f\"lets * {num2.num} to {self.num}\")\n",
    "        return self.num*num2.num\n",
    "\n",
    "n1=Number(4)  # n1.num=4 \n",
    "n2=Number(6)  # n2.num=6\n",
    "\n",
    "# operator overload\n",
    "sum=n1 + n2 # (calls add method) Number.__add__(n1,n2)\n",
    "mul=n1 * n2 # (calls mul method) Number.__mul__(n1,n2)\n",
    "print(sum)\n",
    "print(mul)\n",
    "\n",
    "\n",
    "'''\n",
    "first of all n1 and n2 has 4 and 6 recorded as self.num\n",
    "\n",
    "on n1+n2, add dunder called\n",
    "__add__(self,seelf)\n",
    "__add__(n1,n2)\n",
    "\n",
    "sum = self.num+seelf.num \n",
    "'''"
   ]
  },
  {
   "cell_type": "code",
   "execution_count": 197,
   "id": "62fb3676-3f5b-4e7d-8de1-0ca05644fbd1",
   "metadata": {},
   "outputs": [
    {
     "name": "stdout",
     "output_type": "stream",
     "text": [
      "Decimal number : 9\n",
      "1\n"
     ]
    }
   ],
   "source": [
    "'''magical str dunder method --> directly printing objects '''\n",
    "\n",
    "class Number:\n",
    "    def __init__(self,num):\n",
    "        self.num=num\n",
    "\n",
    "    '''these aren't functions'''\n",
    "    # add method (set method)\n",
    "    def __str__(self) :\n",
    "        return f\"Decimal number : {self.num}\"  # (returned fstring)\n",
    "    \n",
    "    def __len__(self):\n",
    "       return 1\n",
    "\n",
    "n=Number(9)\n",
    "\n",
    "print(n) # number object at memory location(000x0003993443>) (if def str method not applied)\n",
    "print(len(n)) # len function "
   ]
  },
  {
   "cell_type": "code",
   "execution_count": 199,
   "id": "d436b6f9-a88f-44ca-ba71-585ff34ba174",
   "metadata": {},
   "outputs": [
    {
     "name": "stdout",
     "output_type": "stream",
     "text": [
      " 1a0 + 4a1 + 4a2 + 5a3 + 5a4 + 6a5 + 8a6 \n",
      " 1a0 + 6a1 + 4a2 + 5a3 + 5a4 + 8a5 \n",
      "7\n",
      "6\n"
     ]
    }
   ],
   "source": [
    "\"n dimensional vector\"\n",
    "\n",
    "class vector:\n",
    "    def __init__(self,vec):\n",
    "        self.vec=vec\n",
    "\n",
    "    # works for printr\n",
    "    def __str__(self):\n",
    "\n",
    "        str1=\"\" # initially string is empty\n",
    "        index=0\n",
    "\n",
    "        for i in self.vec:\n",
    "            str1 += f\" {i}a{index} +\" # adding in string\n",
    "            index +=1\n",
    "\n",
    "        return str1[:-1] # won't return last (+) sign as slicing is till n-1\n",
    "   \n",
    "   \n",
    "    def __len__(self):\n",
    "        return len(self.vec)\n",
    "\n",
    "\n",
    "v1=vector([1,4,4,5,5,6,8])\n",
    "print(v1)\n",
    "    \n",
    "'''overloading part'''\n",
    "v2=vector([1,6,4,5,5,8])\n",
    "print(v2)\n",
    "\n",
    "'''task 7'''\n",
    "\n",
    "print(len(v1))\n",
    "print(len(v2))"
   ]
  },
  {
   "cell_type": "code",
   "execution_count": null,
   "id": "e351d6d0-fe95-46f7-ae27-164fb74027e3",
   "metadata": {},
   "outputs": [],
   "source": [
    " "
   ]
  },
  {
   "cell_type": "code",
   "execution_count": null,
   "id": "22c3b1b5-4b95-4217-87d2-c94b5636fc5f",
   "metadata": {},
   "outputs": [],
   "source": []
  },
  {
   "cell_type": "markdown",
   "id": "80fc2294-4788-4c22-8619-e907c0955c6d",
   "metadata": {},
   "source": [
    "# Abstraction"
   ]
  },
  {
   "cell_type": "markdown",
   "id": "1b42611a-c324-4212-8344-8b0240487d67",
   "metadata": {},
   "source": [
    "#### Abstract Class and Methods in Python\n",
    " - Python does not support Abstraction\n",
    " - we will use a module ABC for abstraction\n",
    " - ABC means Abstract Base Classes"
   ]
  },
  {
   "cell_type": "markdown",
   "id": "74990089-f238-4308-966e-f472e6cb90e3",
   "metadata": {},
   "source": [
    "### Key Points:\n",
    "#### Focus on What, Not How: Abstraction focuses on what an object does rather than how it achieves it. \n",
    "\n",
    "- Achieved Through:\n",
    "    * Abstract classes\n",
    "    * Interfaces\n",
    "- Purpose:\n",
    "    * Simplifies code understanding and usage. \n",
    "    * Promotes reusability and maintainability."
   ]
  },
  {
   "cell_type": "raw",
   "id": "2654ff50-7d48-4fe8-acb7-e8a611565404",
   "metadata": {},
   "source": [
    "Abstract classes and interfaces can define common behavior for multiple subclasses, reducing code duplication and promoting code reuse.\n",
    "Example: Abstract class Animal defines a method speak, which different subclasses implement differently (e.g., Dog, Cat)"
   ]
  },
  {
   "cell_type": "raw",
   "id": "7e932000-dd4f-4b94-8402-c76ffbc27dc0",
   "metadata": {},
   "source": [
    "Through abstraction we can provide a user an interface that only show the behaviour not the implmetation of that behaviour\n",
    "Like we show a user a computer that runs process and user can only see the name of behavoiur but there is no implementation in it.\n",
    "Implementation is done in child class"
   ]
  },
  {
   "cell_type": "code",
   "execution_count": 1,
   "id": "bd57406b-29ed-4e08-892b-7f857caa7e1b",
   "metadata": {},
   "outputs": [],
   "source": [
    "# A normal class and a normal method\n",
    "class computer:\n",
    "    def process(self):\n",
    "        print(\"Running\")"
   ]
  },
  {
   "cell_type": "code",
   "execution_count": 5,
   "id": "df2aeef1-2f46-41f0-85b2-cf06e54f6d51",
   "metadata": {},
   "outputs": [],
   "source": [
    "# A class and a method with nothing in its body\n",
    "class computer:\n",
    "    def process(self):\n",
    "        pass\n",
    "\n",
    "# A class having a method with nothing in its body is called an 'Abstract Class'\n",
    "# Also abstract classes objects aren't made!"
   ]
  },
  {
   "cell_type": "raw",
   "id": "fa020336-e5ed-4ff2-a6b4-d3237cbb86c5",
   "metadata": {},
   "source": [
    "** Hiding an implementation of object is called abstraction.\n",
    "** We can't create an object of abstract class"
   ]
  },
  {
   "cell_type": "code",
   "execution_count": 13,
   "id": "8b50cfb9-596c-4b5f-9440-51ac515ab1a8",
   "metadata": {},
   "outputs": [],
   "source": [
    "# creating object of this class\n",
    "com = computer()\n",
    "com.process()\n",
    "\n",
    "# no ERROR! \n",
    "# object is created so this means in PYTHON the Abstract class isn't what we it actually is.\n",
    "# so the upper class isn't an abtract class and the method is not an abstract method. "
   ]
  },
  {
   "cell_type": "code",
   "execution_count": 17,
   "id": "8500df61-173e-44ea-af1b-3dd6f98f9f4a",
   "metadata": {},
   "outputs": [],
   "source": [
    "from abc import ABC "
   ]
  },
  {
   "cell_type": "code",
   "execution_count": 32,
   "id": "c259b8ab-6d91-4dbc-b951-9e5972f1c939",
   "metadata": {},
   "outputs": [],
   "source": [
    "class computer(ABC):    \n",
    "    \n",
    "    @abstractmethod\n",
    "    def process(self):\n",
    "        pass\n",
    "        \n",
    "    @abstractmethod\n",
    "    def greet(self):\n",
    "        print(\"HEllo\")\n",
    "    '''No, the greet method in your code is not an abstract method, despite being decorated with @abstractmethod. \n",
    "       This is because it has a concrete implementation (i.e., it includes a print statement).                    '''    \n",
    "\n",
    "#  To make a class Abstract \n",
    "#  --  it must inherit ABC class from abc module\n",
    "#  --  it must have atleast an abstract method which is defined using a decorator"
   ]
  },
  {
   "cell_type": "code",
   "execution_count": 34,
   "id": "a9a24bf7-d98f-455d-ba02-3a4381ca6acb",
   "metadata": {},
   "outputs": [
    {
     "ename": "TypeError",
     "evalue": "Can't instantiate abstract class computer without an implementation for abstract methods 'greet', 'process'",
     "output_type": "error",
     "traceback": [
      "\u001b[1;31m---------------------------------------------------------------------------\u001b[0m",
      "\u001b[1;31mTypeError\u001b[0m                                 Traceback (most recent call last)",
      "Cell \u001b[1;32mIn[34], line 1\u001b[0m\n\u001b[1;32m----> 1\u001b[0m com \u001b[38;5;241m=\u001b[39m computer()\n",
      "\u001b[1;31mTypeError\u001b[0m: Can't instantiate abstract class computer without an implementation for abstract methods 'greet', 'process'"
     ]
    }
   ],
   "source": [
    "com = computer()  # abstract"
   ]
  },
  {
   "cell_type": "raw",
   "id": "a3470801-1119-49f5-8112-702c535a74f4",
   "metadata": {},
   "source": [
    "# Abstract class is inherited and then child classes object is created to get link with abstract class"
   ]
  },
  {
   "cell_type": "code",
   "execution_count": 39,
   "id": "ee56cdc5-9ccc-4e19-8945-4c1d49224216",
   "metadata": {},
   "outputs": [
    {
     "ename": "TypeError",
     "evalue": "Can't instantiate abstract class Laptop without an implementation for abstract method 'greet'",
     "output_type": "error",
     "traceback": [
      "\u001b[1;31m---------------------------------------------------------------------------\u001b[0m",
      "\u001b[1;31mTypeError\u001b[0m                                 Traceback (most recent call last)",
      "Cell \u001b[1;32mIn[39], line 6\u001b[0m\n\u001b[0;32m      3\u001b[0m     \u001b[38;5;28;01mdef\u001b[39;00m \u001b[38;5;21mprocess\u001b[39m(\u001b[38;5;28mself\u001b[39m):\n\u001b[0;32m      4\u001b[0m         \u001b[38;5;28mprint\u001b[39m(\u001b[38;5;124m\"\u001b[39m\u001b[38;5;124mIt is running\u001b[39m\u001b[38;5;124m\"\u001b[39m)\n\u001b[1;32m----> 6\u001b[0m lap1 \u001b[38;5;241m=\u001b[39m Laptop()\n",
      "\u001b[1;31mTypeError\u001b[0m: Can't instantiate abstract class Laptop without an implementation for abstract method 'greet'"
     ]
    }
   ],
   "source": [
    "class Laptop(computer):\n",
    "\n",
    "    def process(self):\n",
    "        print(\"It is running\")\n",
    "        \n",
    "#     def greet(self):\n",
    "#         print(\"Salam\") \n",
    "\n",
    "lap1 = Laptop()"
   ]
  },
  {
   "cell_type": "markdown",
   "id": "34c13653-5690-4fc3-89d8-a655e7cc81db",
   "metadata": {},
   "source": [
    "The reason why lap1 = Laptop() raises an error is that greet is still marked as an abstract method using the @abstractmethod decorator. Regardless of whether it has a concrete implementation, Python treats any method decorated with @abstractmethod as abstract, meaning that subclasses must override it.\n",
    "\n",
    "Key Points:\n",
    " Abstract Methods Must Be Overridden:\n",
    "In your code, both process and greet are marked as abstract methods in the computer abstract base class.\n",
    "For a subclass (Laptop) to be instantiated, it must provide implementations for all abstract methods defined in the parent class.\n",
    "Concrete Implementation in greet Doesn't Remove Abstractness:\n",
    "Even though greet has a concrete implementation (print(\"HEllo\")), the @abstractmethod decorator enforces that it must be overridden by any subclass.\n",
    "This is a specific behavior in Python's abc module.\n"
   ]
  },
  {
   "cell_type": "code",
   "execution_count": 56,
   "id": "6192c808-9df0-4b20-ba64-75b340aec310",
   "metadata": {},
   "outputs": [],
   "source": [
    "# If we want to instantiate a drive class we must have to supply the implememtation of all the abstract methods of the abstract class.|"
   ]
  },
  {
   "cell_type": "markdown",
   "id": "bfee88ec-9495-4b8a-80bf-4218f75dd357",
   "metadata": {},
   "source": [
    "#### QS: Why we need to override abstract functions in abstract class's subclass?\n",
    "\n",
    "- Abstract methods define a \"contract\" that all subclasses must fulfill. By overriding these methods, subclasses ensure they implement the specific behavior required by the abstract base class.\n",
    "\n",
    "  Reason: Without overriding, the abstract base class cannot guarantee that the subclass adheres to the intended behavior. So purpose of abstraction      won't be achieved\n",
    "\n",
    "- Abstract methods provide a blueprint for behavior, but their actual implementation depends on the specific subclass. This allows different subclasses to provide custom implementations tailored to their needs.\n",
    "\n",
    "- Abstract classes are designed to be incomplete by themselves. They cannot be instantiated and exist solely to be extended by concrete subclasses. If subclasses do not override abstract methods, they are also considered abstract and cannot be instantiated.\n",
    "\n",
    "- Overriding abstract methods is essential for polymorphism, where the same interface can be used to work with different types of objects.\n",
    "\n",
    "  Why It's Needed: If abstract methods were not overridden, polymorphic behavior would break because the parent class does not provide a concrete     i   implementation.\n"
   ]
  },
  {
   "cell_type": "code",
   "execution_count": 60,
   "id": "ef7ca23f-0a4c-4e6e-9947-96de05017ba7",
   "metadata": {},
   "outputs": [
    {
     "name": "stdout",
     "output_type": "stream",
     "text": [
      "The mileage is 30kmph\n",
      "The mileage is 27kmph \n",
      "The mileage is 25kmph \n",
      "The mileage is 24kmph \n"
     ]
    }
   ],
   "source": [
    "from abc import ABC, abstractmethod\n",
    "class Car(ABC):\n",
    "    @abstractmethod\n",
    "    def mileage(self):\n",
    "        pass\n",
    "        \n",
    "class Tesla(Car):\n",
    "    def mileage(self):\n",
    "        print(\"The mileage is 30kmph\")\n",
    "class Suzuki(Car):\n",
    "    def mileage(self):\n",
    "        print(\"The mileage is 25kmph \")\n",
    "class Duster(Car):\n",
    "     def mileage(self):\n",
    "        print(\"The mileage is 24kmph \")\n",
    "     def show(self):\n",
    "         print(\"yes\")\n",
    "class Renault(Car):\n",
    "    def mileage(self):\n",
    "            print(\"The mileage is 27kmph \")\n",
    "        \n",
    "# Driver code\n",
    "t = Tesla ()\n",
    "t.mileage()\n",
    "\n",
    "r = Renault()\n",
    "r.mileage()\n",
    "\n",
    "s = Suzuki()\n",
    "s.mileage()\n",
    "\n",
    "d = Duster()\n",
    "d.mileage()"
   ]
  },
  {
   "cell_type": "markdown",
   "id": "21065fe0-df4c-4d27-901b-64649ac3b5ac",
   "metadata": {},
   "source": [
    "#  Enforces a Common Interface\n",
    "By using the Car abstract class, you ensure that all subclasses (Tesla, Suzuki, Duster, Renault) implement the mileage method. This guarantees consistency in how different car types handle mileage.\n",
    "\n",
    "- Advantage: Any new type of car added to the system must implement the mileage method, making the design predictable and extensible.\n",
    "- Example: If a new Honda class is created, Python will raise an error unless the mileage method is defined."
   ]
  },
  {
   "cell_type": "code",
   "execution_count": 63,
   "id": "22431e8a-79b6-4695-8c09-61cdf6ba7da4",
   "metadata": {},
   "outputs": [
    {
     "name": "stdout",
     "output_type": "stream",
     "text": [
      "Triangle has 3 sides\n",
      "I have 4 sides\n",
      "Pentagon has 5 sides\n",
      "Hexagon has 6 sides\n"
     ]
    }
   ],
   "source": [
    "# Python program to define\n",
    "# abstract class\n",
    "\n",
    "from abc import ABC\n",
    "class Polygon(ABC):\n",
    "    # abstract method\n",
    "    def sides(self):\n",
    "        pass\n",
    "\n",
    "class Triangle(Polygon):\n",
    "    def sides(self):print(\"Triangle has 3 sides\")\n",
    "class Pentagon(Polygon):\n",
    "    def sides(self):print(\"Pentagon has 5 sides\")\n",
    "class Hexagon(Polygon):\n",
    "    def sides(self):print(\"Hexagon has 6 sides\")\n",
    "class square(Polygon):\n",
    "    def sides(self):print(\"I have 4 sides\")\n",
    "\n",
    "\n",
    "# Driver code\n",
    "t = Triangle()\n",
    "t.sides()\n",
    "\n",
    "s = square()\n",
    "s.sides()\n",
    "\n",
    "p = Pentagon()\n",
    "p.sides()\n",
    "\n",
    "k = Hexagon()\n",
    "k.sides()"
   ]
  },
  {
   "cell_type": "code",
   "execution_count": 24,
   "id": "7ae1a422-6f57-45e0-90da-4cb97a25f6f2",
   "metadata": {},
   "outputs": [
    {
     "name": "stdout",
     "output_type": "stream",
     "text": [
      "Area: 200\n",
      "Perimeter: 60\n"
     ]
    }
   ],
   "source": [
    "from abc import ABC, abstractmethod\n",
    "\n",
    "# Abstract class\n",
    "class Shape(ABC):\n",
    "    @abstractmethod\n",
    "    def area(self):\n",
    "        pass\n",
    "\n",
    "    @abstractmethod\n",
    "    def perimeter(self):\n",
    "        pass\n",
    "\n",
    "# Concrete class\n",
    "class Rectangle(Shape):\n",
    "    def __init__(self, width, height):\n",
    "        self.width = width\n",
    "        self.height = height\n",
    "\n",
    "    def area(self):\n",
    "        return self.width * self.height\n",
    "\n",
    "    def perimeter(self):\n",
    "        return 2 * (self.width + self.height)\n",
    "\n",
    "# Usage\n",
    "rect = Rectangle(10, 20)\n",
    "print(\"Area:\", rect.area())          # Outputs: Area: 200\n",
    "print(\"Perimeter:\", rect.perimeter())  # Outputs: Perimeter: 60\n"
   ]
  },
  {
   "cell_type": "code",
   "execution_count": null,
   "id": "dd2be789-9cfe-4e38-b1c0-a2916312cdcc",
   "metadata": {},
   "outputs": [],
   "source": []
  },
  {
   "cell_type": "code",
   "execution_count": null,
   "id": "23a32083-39cb-4102-a6d1-0d32c6022f6c",
   "metadata": {},
   "outputs": [],
   "source": []
  },
  {
   "cell_type": "markdown",
   "id": "ae8423a8-b102-41d4-a974-689bfa4865d4",
   "metadata": {},
   "source": [
    "# Python OOPs Public, Protected and Private"
   ]
  },
  {
   "cell_type": "raw",
   "id": "d6d7832a-9732-4693-af87-10b05e530ec2",
   "metadata": {},
   "source": [
    "Public private and protected functionalities are highly restricted (strongly typed) in most of the typed languages\n",
    "But in python you will not be restricted to access public private and protected variables, they can be overridden."
   ]
  },
  {
   "cell_type": "code",
   "execution_count": 73,
   "id": "9177d62c-5c1f-457a-bdd5-464be8c65bee",
   "metadata": {},
   "outputs": [],
   "source": [
    "# All class ariables are public by defualt\n",
    "# All instance variables are public by default\n",
    "class Car():\n",
    "    \n",
    "    # public class variable can be accessed from any where\n",
    "    wheels = 4\n",
    "    \n",
    "    def __init__(self,windows, doors, enginetype):\n",
    "\n",
    "        #Public instance Variable can be acceesed from anywhere\n",
    "        self.windows = windows\n",
    "        self.doors = doors\n",
    "        self.enginetype = enginetype"
   ]
  },
  {
   "cell_type": "code",
   "execution_count": 75,
   "id": "4c55195d-b1c2-4a63-a4d0-0f498752f818",
   "metadata": {},
   "outputs": [
    {
     "data": {
      "text/plain": [
       "['__class__',\n",
       " '__delattr__',\n",
       " '__dict__',\n",
       " '__dir__',\n",
       " '__doc__',\n",
       " '__eq__',\n",
       " '__format__',\n",
       " '__ge__',\n",
       " '__getattribute__',\n",
       " '__getstate__',\n",
       " '__gt__',\n",
       " '__hash__',\n",
       " '__init__',\n",
       " '__init_subclass__',\n",
       " '__le__',\n",
       " '__lt__',\n",
       " '__module__',\n",
       " '__ne__',\n",
       " '__new__',\n",
       " '__reduce__',\n",
       " '__reduce_ex__',\n",
       " '__repr__',\n",
       " '__setattr__',\n",
       " '__sizeof__',\n",
       " '__str__',\n",
       " '__subclasshook__',\n",
       " '__weakref__',\n",
       " 'doors',\n",
       " 'enginetype',\n",
       " 'wheels',\n",
       " 'windows']"
      ]
     },
     "execution_count": 75,
     "metadata": {},
     "output_type": "execute_result"
    }
   ],
   "source": [
    "audi = Car(4,5,\"Diesel\")\n",
    "\n",
    "# you can view the dir of audi object to check the aceessible item to it\n",
    "# you will notice all three instance vairbbles are present in the list\n",
    "dir(audi)"
   ]
  },
  {
   "cell_type": "code",
   "execution_count": 77,
   "id": "eb069645-f2ca-4757-84ff-5e3f9287581e",
   "metadata": {},
   "outputs": [
    {
     "data": {
      "text/plain": [
       "['__class__',\n",
       " '__delattr__',\n",
       " '__dict__',\n",
       " '__dir__',\n",
       " '__doc__',\n",
       " '__eq__',\n",
       " '__format__',\n",
       " '__ge__',\n",
       " '__getattribute__',\n",
       " '__getstate__',\n",
       " '__gt__',\n",
       " '__hash__',\n",
       " '__init__',\n",
       " '__init_subclass__',\n",
       " '__le__',\n",
       " '__lt__',\n",
       " '__module__',\n",
       " '__ne__',\n",
       " '__new__',\n",
       " '__reduce__',\n",
       " '__reduce_ex__',\n",
       " '__repr__',\n",
       " '__setattr__',\n",
       " '__sizeof__',\n",
       " '__str__',\n",
       " '__subclasshook__',\n",
       " '__weakref__',\n",
       " 'doors',\n",
       " 'enginetype',\n",
       " 'hp',\n",
       " 'wheels',\n",
       " 'windows']"
      ]
     },
     "execution_count": 77,
     "metadata": {},
     "output_type": "execute_result"
    }
   ],
   "source": [
    "class Suzuki(Car):\n",
    "    \n",
    "    def __init__(self,windows,doors,enginetype, hp):\n",
    "        super().__init__(windows,doors,enginetype)\n",
    "        self.hp = hp\n",
    "        \n",
    "suz = Suzuki(4,4,\"Petrol\",\"1600\")\n",
    "\n",
    "# you will notice public variables are all accessible to child class also\n",
    "dir(suz)"
   ]
  },
  {
   "cell_type": "code",
   "execution_count": 79,
   "id": "cc27da1b-6f99-4186-9f3a-c30ba1eb386d",
   "metadata": {},
   "outputs": [
    {
     "name": "stdout",
     "output_type": "stream",
     "text": [
      "4\n",
      "6\n"
     ]
    }
   ],
   "source": [
    "# public variable can be accessed\n",
    "print(audi.windows)\n",
    "\n",
    "# public variable can be modified\n",
    "audi.windows= 6\n",
    "\n",
    "# accessing modified value\n",
    "print(audi.windows)"
   ]
  },
  {
   "cell_type": "code",
   "execution_count": 83,
   "id": "3a399ad2-6a86-4955-9a3c-ce8f607cb3fa",
   "metadata": {},
   "outputs": [
    {
     "data": {
      "text/plain": [
       "['__class__',\n",
       " '__delattr__',\n",
       " '__dict__',\n",
       " '__dir__',\n",
       " '__doc__',\n",
       " '__eq__',\n",
       " '__format__',\n",
       " '__ge__',\n",
       " '__getattribute__',\n",
       " '__getstate__',\n",
       " '__gt__',\n",
       " '__hash__',\n",
       " '__init__',\n",
       " '__init_subclass__',\n",
       " '__le__',\n",
       " '__lt__',\n",
       " '__module__',\n",
       " '__ne__',\n",
       " '__new__',\n",
       " '__reduce__',\n",
       " '__reduce_ex__',\n",
       " '__repr__',\n",
       " '__setattr__',\n",
       " '__sizeof__',\n",
       " '__str__',\n",
       " '__subclasshook__',\n",
       " '__weakref__',\n",
       " '_doors',\n",
       " '_enginetype',\n",
       " '_windows',\n",
       " 'hello']"
      ]
     },
     "execution_count": 83,
     "metadata": {},
     "output_type": "execute_result"
    }
   ],
   "source": [
    "# to make a variable protected use a single underscore before a variable name like _name = \"Asad\"\n",
    "class Car():\n",
    "    def __init__(self,windows, doors, enginetype):\n",
    "\n",
    "        #Protected variables: should be acceesed from a sub class only by definition but python has no restriction it can also be accessed from any where\n",
    "        # but python dont restrict actually\n",
    "        self._windows = windows\n",
    "        self._doors = doors\n",
    "        self._enginetype = enginetype\n",
    "        self.hello = \"heooooooo\"\n",
    "\n",
    "\n",
    "audi = Car(4,5,\"Diesel\")\n",
    "dir(audi)\n",
    "\n"
   ]
  },
  {
   "cell_type": "code",
   "execution_count": null,
   "id": "f32c23eb-e92b-4e34-b7f6-fdd3c0736305",
   "metadata": {},
   "outputs": [],
   "source": [
    "audi.hello  # only hello is accessible"
   ]
  },
  {
   "attachments": {
    "2a9a3940-264c-4996-a594-f0a1aae22f96.png": {
     "image/png": "[encoded data removed]"
    }
   },
   "cell_type": "markdown",
   "id": "9c4fbea3-495c-40e6-a6da-4709cc336a6e",
   "metadata": {},
   "source": [
    "![image.png](attachment:2a9a3940-264c-4996-a594-f0a1aae22f96.png)"
   ]
  },
  {
   "cell_type": "code",
   "execution_count": 89,
   "id": "d8f46552-5125-42d7-bdfe-d9096c13bff1",
   "metadata": {},
   "outputs": [
    {
     "name": "stdout",
     "output_type": "stream",
     "text": [
      "4\n",
      "10\n"
     ]
    }
   ],
   "source": [
    "print(audi._windows)\n",
    "\n",
    "audi._windows = 10\n",
    "\n",
    "print(audi._windows)"
   ]
  },
  {
   "cell_type": "code",
   "execution_count": 91,
   "id": "aa23dfab-a138-4f38-aa0e-509a9b85e258",
   "metadata": {},
   "outputs": [],
   "source": [
    "# although we won't know the name if we make a module but if we know name then we can access and change the protected variable. "
   ]
  },
  {
   "cell_type": "code",
   "execution_count": 96,
   "id": "8f3cd586-5b22-4a92-ae10-c9aa35026e55",
   "metadata": {},
   "outputs": [
    {
     "data": {
      "text/plain": [
       "['__class__',\n",
       " '__delattr__',\n",
       " '__dict__',\n",
       " '__dir__',\n",
       " '__doc__',\n",
       " '__eq__',\n",
       " '__format__',\n",
       " '__ge__',\n",
       " '__getattribute__',\n",
       " '__getstate__',\n",
       " '__gt__',\n",
       " '__hash__',\n",
       " '__init__',\n",
       " '__init_subclass__',\n",
       " '__le__',\n",
       " '__lt__',\n",
       " '__module__',\n",
       " '__ne__',\n",
       " '__new__',\n",
       " '__reduce__',\n",
       " '__reduce_ex__',\n",
       " '__repr__',\n",
       " '__setattr__',\n",
       " '__sizeof__',\n",
       " '__str__',\n",
       " '__subclasshook__',\n",
       " '__weakref__',\n",
       " '_doors',\n",
       " '_enginetype',\n",
       " '_windows',\n",
       " 'hello',\n",
       " 'hp']"
      ]
     },
     "execution_count": 96,
     "metadata": {},
     "output_type": "execute_result"
    }
   ],
   "source": [
    "class Suzuki(Car):\n",
    "    \n",
    "    def __init__(self,windows,doors,enginetype, hp):\n",
    "        super().__init__(windows,doors,enginetype)\n",
    "        self.hp = hp\n",
    "        \n",
    "suz = Suzuki(4,4,\"Petrol\",\"1600\")\n",
    "\n",
    "dir(suz)"
   ]
  },
  {
   "cell_type": "code",
   "execution_count": 93,
   "id": "1ae9a024-28b4-4151-a190-012b16685a9c",
   "metadata": {},
   "outputs": [
    {
     "name": "stdout",
     "output_type": "stream",
     "text": [
      "Accessing: 42 and This is a protected method\n"
     ]
    }
   ],
   "source": [
    "class Parent:\n",
    "    def __init__(self):\n",
    "        self._protected_var = 42  # Protected attribute\n",
    "\n",
    "    def _protected_method(self):\n",
    "        return \"This is a protected method\"\n",
    "\n",
    "class Child(Parent):\n",
    "    def access_protected(self):\n",
    "        return f\"Accessing: {self._protected_var} and {self._protected_method()}\"\n",
    "\n",
    "child = Child()\n",
    "print(child.access_protected())  # Accessing: 42 and This is a protected method\n",
    "\n",
    "child."
   ]
  },
  {
   "attachments": {
    "a63541ee-ccd0-4bd9-8ad3-cf58a1cac5a0.png": {
     "image/png": "[encoded data removed]"
    }
   },
   "cell_type": "markdown",
   "id": "6e91c7b4-6c3c-472f-8efd-ff7a52624664",
   "metadata": {},
   "source": [
    "but --> \n",
    "![image.png](attachment:a63541ee-ccd0-4bd9-8ad3-cf58a1cac5a0.png)"
   ]
  },
  {
   "cell_type": "code",
   "execution_count": 100,
   "id": "e3c24a29-8eb5-4285-90f8-885855ee35de",
   "metadata": {},
   "outputs": [],
   "source": [
    "class Car():\n",
    "    def __init__(self,windows, doors, enginetype):\n",
    "\n",
    "        #Private Variable can not be acceesed from anywhere\n",
    "        self.__windows =windows\n",
    "        self.__doors =doors\n",
    "        self.__enginetype =enginetype\n",
    "#         self.name = \"Nasir\"\n",
    "audi = Car(4,5,\"Diesel\")"
   ]
  },
  {
   "cell_type": "code",
   "execution_count": 102,
   "id": "759ab1af-b836-45b6-965c-f7835ae34cb9",
   "metadata": {},
   "outputs": [
    {
     "ename": "AttributeError",
     "evalue": "'Car' object has no attribute '__windows'",
     "output_type": "error",
     "traceback": [
      "\u001b[1;31m---------------------------------------------------------------------------\u001b[0m",
      "\u001b[1;31mAttributeError\u001b[0m                            Traceback (most recent call last)",
      "Cell \u001b[1;32mIn[102], line 1\u001b[0m\n\u001b[1;32m----> 1\u001b[0m audi\u001b[38;5;241m.\u001b[39m__windows\n",
      "\u001b[1;31mAttributeError\u001b[0m: 'Car' object has no attribute '__windows'"
     ]
    }
   ],
   "source": [
    "audi.__windows"
   ]
  },
  {
   "cell_type": "code",
   "execution_count": null,
   "id": "d29b9fa1-7b31-4ee9-9d59-657ef3f80e24",
   "metadata": {},
   "outputs": [],
   "source": []
  }
 ],
 "metadata": {
  "kernelspec": {
   "display_name": "Python 3 (ipykernel)",
   "language": "python",
   "name": "python3"
  },
  "language_info": {
   "codemirror_mode": {
    "name": "ipython",
    "version": 3
   },
   "file_extension": ".py",
   "mimetype": "text/x-python",
   "name": "python",
   "nbconvert_exporter": "python",
   "pygments_lexer": "ipython3",
   "version": "3.12.7"
  }
 },
 "nbformat": 4,
 "nbformat_minor": 5
}
