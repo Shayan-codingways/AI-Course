{
 "cells": [
  {
   "cell_type": "markdown",
   "id": "455bd8b1-5ac1-4316-ae23-a2f2f461d19c",
   "metadata": {},
   "source": [
    "# Loops \n",
    "- For Loop --> runs on collection not on condition (string, list, dictionary, set, tuple)(iterables) \n",
    "- While Loop --> works on condition"
   ]
  },
  {
   "cell_type": "code",
   "execution_count": 3,
   "id": "265f621f-5fe9-4821-8828-9f1e4f7049dc",
   "metadata": {},
   "outputs": [
    {
     "name": "stdout",
     "output_type": "stream",
     "text": [
      "H\n",
      "E\n",
      "L\n",
      "L\n",
      "O\n"
     ]
    }
   ],
   "source": [
    "for a in \"hello\":\n",
    "    print(a.upper())"
   ]
  },
  {
   "cell_type": "code",
   "execution_count": 7,
   "id": "3afb5349-b74f-495a-89cb-2ec38b948b7e",
   "metadata": {},
   "outputs": [
    {
     "data": {
      "text/plain": [
       "range(0, 10)"
      ]
     },
     "execution_count": 7,
     "metadata": {},
     "output_type": "execute_result"
    }
   ],
   "source": [
    "range(10)\n",
    "# 0- 9"
   ]
  },
  {
   "cell_type": "code",
   "execution_count": 11,
   "id": "6f64e26d-326f-4f88-8ff5-80160d55efce",
   "metadata": {},
   "outputs": [
    {
     "data": {
      "text/plain": [
       "[0, 1, 2, 3, 4, 5, 6, 7, 8, 9]"
      ]
     },
     "execution_count": 11,
     "metadata": {},
     "output_type": "execute_result"
    }
   ],
   "source": [
    "list(range(10))"
   ]
  },
  {
   "cell_type": "code",
   "execution_count": 15,
   "id": "de03015c-b2da-40c0-a48b-f8aa877250c4",
   "metadata": {},
   "outputs": [
    {
     "name": "stdout",
     "output_type": "stream",
     "text": [
      "num square cube\n",
      "0 0 0\n",
      "1 1 1\n",
      "2 4 8\n",
      "3 9 27\n",
      "4 16 64\n",
      "5 25 125\n",
      "6 36 216\n",
      "7 49 343\n",
      "8 64 512\n",
      "9 81 729\n"
     ]
    }
   ],
   "source": [
    "print(\"num\",\"square\",\"cube\")\n",
    "for num in range(0,10):\n",
    "     print(num, num**2,num**3)"
   ]
  },
  {
   "cell_type": "code",
   "execution_count": 17,
   "id": "8c1e9882-4bae-46a0-9db3-2ae0c405a814",
   "metadata": {},
   "outputs": [
    {
     "name": "stdout",
     "output_type": "stream",
     "text": [
      "1\n",
      "3\n",
      "5\n",
      "7\n",
      "9\n"
     ]
    }
   ],
   "source": [
    "for a in range(1,11,2):\n",
    "    print(a)"
   ]
  },
  {
   "cell_type": "code",
   "execution_count": 27,
   "id": "39917d8a-5596-445b-be0f-f216d18c46e8",
   "metadata": {},
   "outputs": [
    {
     "name": "stdout",
     "output_type": "stream",
     "text": [
      "a\n",
      "b\n",
      "c\n"
     ]
    }
   ],
   "source": [
    "dict={'a':45,'b':23,'c':24}\n",
    "for d in dict:\n",
    "   print(d)\n",
    "\n",
    "# only prints keys  by default"
   ]
  },
  {
   "cell_type": "code",
   "execution_count": 31,
   "id": "cd2dc99f-9ae1-415b-8a2a-255cce47066c",
   "metadata": {},
   "outputs": [
    {
     "data": {
      "text/plain": [
       "dict_keys(['a', 'b', 'c'])"
      ]
     },
     "execution_count": 31,
     "metadata": {},
     "output_type": "execute_result"
    }
   ],
   "source": [
    "dict.keys()"
   ]
  },
  {
   "cell_type": "code",
   "execution_count": 33,
   "id": "dca2c547-9899-4985-aae8-aa3c13df7730",
   "metadata": {},
   "outputs": [
    {
     "name": "stdout",
     "output_type": "stream",
     "text": [
      "a\n",
      "b\n",
      "c\n"
     ]
    }
   ],
   "source": [
    "for i in dict.keys():\n",
    "    print(i)"
   ]
  },
  {
   "cell_type": "code",
   "execution_count": 35,
   "id": "7d2dd965-a12a-4cbe-a3cc-07ba73df3d32",
   "metadata": {},
   "outputs": [
    {
     "data": {
      "text/plain": [
       "dict_values([45, 23, 24])"
      ]
     },
     "execution_count": 35,
     "metadata": {},
     "output_type": "execute_result"
    }
   ],
   "source": [
    "dict.values()"
   ]
  },
  {
   "cell_type": "code",
   "execution_count": 37,
   "id": "4f4d4286-b11c-4a95-b16f-a19d7ce145ae",
   "metadata": {},
   "outputs": [
    {
     "name": "stdout",
     "output_type": "stream",
     "text": [
      "45\n",
      "23\n",
      "24\n"
     ]
    }
   ],
   "source": [
    "for i in dict.values():\n",
    "    print(i)"
   ]
  },
  {
   "cell_type": "code",
   "execution_count": 41,
   "id": "05562a67-4f2f-4b51-aa5a-63677fffeb42",
   "metadata": {},
   "outputs": [
    {
     "data": {
      "text/plain": [
       "dict_items([('a', 45), ('b', 23), ('c', 24)])"
      ]
     },
     "execution_count": 41,
     "metadata": {},
     "output_type": "execute_result"
    }
   ],
   "source": [
    "dict.items()"
   ]
  },
  {
   "cell_type": "code",
   "execution_count": 43,
   "id": "30027f59-dc21-4a2e-a9cb-6e808999de17",
   "metadata": {},
   "outputs": [
    {
     "name": "stdout",
     "output_type": "stream",
     "text": [
      "('a', 45)\n",
      "('b', 23)\n",
      "('c', 24)\n"
     ]
    }
   ],
   "source": [
    "for i in dict.items():\n",
    "    print(i)"
   ]
  },
  {
   "cell_type": "markdown",
   "id": "03235dd5-e35b-499d-9f2f-f7412447fcf9",
   "metadata": {},
   "source": [
    "# Packing and Unpacking"
   ]
  },
  {
   "cell_type": "code",
   "execution_count": 50,
   "id": "fc2dfd02-f9aa-4928-93dd-a72c324f014d",
   "metadata": {},
   "outputs": [],
   "source": [
    "# packing\n",
    "alist = [12, 24,34,23]\n"
   ]
  },
  {
   "cell_type": "code",
   "execution_count": 52,
   "id": "4cf5747f-0c1d-4e58-8bc2-0d2aa64835b8",
   "metadata": {},
   "outputs": [],
   "source": [
    "# unpack\n",
    "mangoes,oranges, apples,cherries = alist"
   ]
  },
  {
   "cell_type": "code",
   "execution_count": 54,
   "id": "c5e33b62-e730-43fe-a284-dfdb8edb75ee",
   "metadata": {},
   "outputs": [
    {
     "data": {
      "text/plain": [
       "12"
      ]
     },
     "execution_count": 54,
     "metadata": {},
     "output_type": "execute_result"
    }
   ],
   "source": [
    "mangoes"
   ]
  },
  {
   "cell_type": "code",
   "execution_count": 58,
   "id": "c10f2df5-f194-42dc-8b22-bf359f611297",
   "metadata": {},
   "outputs": [
    {
     "name": "stdout",
     "output_type": "stream",
     "text": [
      "a 45\n",
      "b 23\n",
      "c 24\n"
     ]
    }
   ],
   "source": [
    "for i, j in dict.items():  # unpack tuple\n",
    "    print(i,j)"
   ]
  },
  {
   "cell_type": "code",
   "execution_count": 66,
   "id": "bf312198-3d27-46c0-a89e-a90098c110ec",
   "metadata": {},
   "outputs": [
    {
     "name": "stdout",
     "output_type": "stream",
     "text": [
      "12\n",
      "24\n",
      "HELLO\n",
      "23\n"
     ]
    }
   ],
   "source": [
    "for num in alist:\n",
    "    if num == 34:\n",
    "        print(\"HELLO\")\n",
    "    else: \n",
    "        print(num)"
   ]
  },
  {
   "cell_type": "code",
   "execution_count": 90,
   "id": "0b6a1ffb-1904-4a1f-85c0-daa7d324e2da",
   "metadata": {},
   "outputs": [
    {
     "name": "stdout",
     "output_type": "stream",
     "text": [
      "Yes\n",
      "Yes\n",
      "SDD\n",
      "Yes\n"
     ]
    }
   ],
   "source": [
    "a=['aass','assddd','SDD',\"Asd\"]\n",
    "for i in a:\n",
    "    if i.startswith('a') or i.startswith('A'):\n",
    "        print(\"Yes\")\n",
    "    else: \n",
    "        print(i)\n",
    "    "
   ]
  },
  {
   "cell_type": "code",
   "execution_count": 94,
   "id": "256bb36c-2b4c-4c64-b929-82614e4732d9",
   "metadata": {},
   "outputs": [
    {
     "name": "stdout",
     "output_type": "stream",
     "text": [
      "Yes\n",
      "Yes\n"
     ]
    }
   ],
   "source": [
    "a=['aass','assddd','SDD',\"Asd\"]\n",
    "for i in a:\n",
    "    if i.startswith('a' or \"A\" ):\n",
    "        print(\"Yes\")\n"
   ]
  },
  {
   "cell_type": "code",
   "execution_count": 98,
   "id": "a1fc58f4-8747-4234-b314-6d39e63b470b",
   "metadata": {},
   "outputs": [
    {
     "name": "stdout",
     "output_type": "stream",
     "text": [
      "Yes\n",
      "Yes\n",
      "SDD\n",
      "Asd\n"
     ]
    }
   ],
   "source": [
    "a=['aass','assddd','SDD',\"Asd\"]\n",
    "for i in a:\n",
    "    if i.startswith('a' or 'A'):\n",
    "        print(\"Yes\")\n",
    "    else: \n",
    "       print(i)"
   ]
  },
  {
   "cell_type": "code",
   "execution_count": 102,
   "id": "80592fd7-0f3f-48d0-a2ec-90d42ed6493a",
   "metadata": {},
   "outputs": [
    {
     "name": "stdout",
     "output_type": "stream",
     "text": [
      "aass\n",
      "assddd\n",
      "SDD\n",
      "Yes\n"
     ]
    }
   ],
   "source": [
    "a=['aass','assddd','SDD',\"Asd\"]\n",
    "for i in a:\n",
    "    if i.startswith('A' or 'a'):\n",
    "        print(\"Yes\")\n",
    "    else: \n",
    "       print(i)\n",
    "\n",
    "# 'A' or 'a' will give a boolean value and that can't be a argument here thus, not correct\n",
    "        "
   ]
  },
  {
   "cell_type": "code",
   "execution_count": 106,
   "id": "7da8e291-d13a-4720-9fb3-c5a262418366",
   "metadata": {},
   "outputs": [
    {
     "name": "stdout",
     "output_type": "stream",
     "text": [
      "Yes\n",
      "Yes\n",
      "SDD\n",
      "Yes\n"
     ]
    }
   ],
   "source": [
    "# solution\n",
    "a=['aass','assddd','SDD',\"Asd\"]\n",
    "for i in a:\n",
    "    if i.startswith(('A' ,'a')):\n",
    "        print(\"Yes\")\n",
    "    else: \n",
    "       print(i)"
   ]
  },
  {
   "cell_type": "code",
   "execution_count": 127,
   "id": "326347e7-1cf0-4d3e-982d-cb7097911142",
   "metadata": {},
   "outputs": [
    {
     "name": "stdout",
     "output_type": "stream",
     "text": [
      "10\n",
      "20\n",
      "30\n",
      "40\n",
      "50\n",
      "60\n",
      "70\n",
      "80\n",
      "90\n",
      "\n",
      " 9\n"
     ]
    }
   ],
   "source": [
    "age = 10\n",
    "count=0\n",
    "while age < 100: \n",
    "   print(age)\n",
    "   count += 1\n",
    "   age += 10   # if missed then will run unlimited times!\n",
    "\n",
    "print(\"\\n\" ,count)"
   ]
  },
  {
   "cell_type": "markdown",
   "id": "5f518905-8d20-4c0d-8b3d-bf8d6626e78a",
   "metadata": {},
   "source": [
    "# Break And Continue"
   ]
  },
  {
   "cell_type": "code",
   "execution_count": 130,
   "id": "04c524e5-53f6-401a-8058-25362ffb31d0",
   "metadata": {},
   "outputs": [
    {
     "name": "stdout",
     "output_type": "stream",
     "text": [
      "0\n",
      "1\n",
      "2\n",
      "3\n",
      "4\n"
     ]
    }
   ],
   "source": [
    "for a in range(10):\n",
    "    if a == 5:\n",
    "        break\n",
    "    else: \n",
    "        print(a)"
   ]
  },
  {
   "cell_type": "code",
   "execution_count": 138,
   "id": "1a0bb1ef-abf1-406b-adf9-829dc9535cc4",
   "metadata": {},
   "outputs": [
    {
     "name": "stdout",
     "output_type": "stream",
     "text": [
      "0\n",
      "1\n",
      "2\n",
      "4\n",
      "5\n",
      "7\n",
      "8\n"
     ]
    }
   ],
   "source": [
    "for a in range(10):\n",
    "    if a == 3 or a == 6 or a == 9 :\n",
    "        continue  # skips a value\n",
    "    else: \n",
    "        print(a)"
   ]
  },
  {
   "cell_type": "code",
   "execution_count": 140,
   "id": "aad54a0b-15b3-4bcb-ba65-7f132d6fb683",
   "metadata": {},
   "outputs": [
    {
     "name": "stdout",
     "output_type": "stream",
     "text": [
      "0\n",
      "1\n",
      "2\n",
      "4\n",
      "5\n",
      "7\n",
      "8\n"
     ]
    }
   ],
   "source": [
    "for a in range(10):\n",
    "    if a == 3 or a == 6 or a == 9 :\n",
    "        pass  # skips a value\n",
    "    else: \n",
    "        print(a)"
   ]
  }
 ],
 "metadata": {
  "kernelspec": {
   "display_name": "Python 3 (ipykernel)",
   "language": "python",
   "name": "python3"
  },
  "language_info": {
   "codemirror_mode": {
    "name": "ipython",
    "version": 3
   },
   "file_extension": ".py",
   "mimetype": "text/x-python",
   "name": "python",
   "nbconvert_exporter": "python",
   "pygments_lexer": "ipython3",
   "version": "3.12.7"
  }
 },
 "nbformat": 4,
 "nbformat_minor": 5
}
